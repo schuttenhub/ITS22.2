{
 "cells": [
  {
   "cell_type": "markdown",
   "metadata": {},
   "source": [
    "Aufgabe 1 a)"
   ]
  },
  {
   "cell_type": "code",
   "execution_count": 1,
   "metadata": {},
   "outputs": [
    {
     "data": {
      "text/plain": [
       "12000"
      ]
     },
     "execution_count": 1,
     "metadata": {},
     "output_type": "execute_result"
    }
   ],
   "source": [
    "1000 * 12"
   ]
  },
  {
   "cell_type": "markdown",
   "metadata": {},
   "source": [
    "Aufgabe 1 b)"
   ]
  },
  {
   "cell_type": "code",
   "execution_count": 2,
   "metadata": {},
   "outputs": [
    {
     "data": {
      "text/plain": [
       "12992"
      ]
     },
     "execution_count": 2,
     "metadata": {},
     "output_type": "execute_result"
    }
   ],
   "source": [
    "2 * (8921 - 2348 + 123) - 400"
   ]
  },
  {
   "cell_type": "markdown",
   "metadata": {},
   "source": [
    "Aufgabe 1 c)"
   ]
  },
  {
   "cell_type": "code",
   "execution_count": 3,
   "metadata": {},
   "outputs": [
    {
     "data": {
      "text/plain": [
       "99250068772098856700831462057469632637295940819886900519816298881382867104749399077921128661426144638055424236936271872492800352741649902118143819672601569998100120790496759517636465445895625741609866209900500198407153244604778968016963028050310261417615914468729918240685487878617645976939063464357986165711730976399478507649228686341466967167910126653342134942744851463899927487092486610977146112763567101672645953132196481439339873017088140414661271198500333255713096142335151414630651683065518784081203678487703002802082091236603519026256880624499681781387227574035484831271515683123742149095569260463609655977700938844580611931246495166208695540313698140011638027322566252689780838136351828795314272162111222231170901715612355701347552371530013693855379834865667060014643302459100429783653966913783002290784283455628283355470529932956051484477129333881159930212758687602795088579230431661696010232187390436601614145603241902386663442520160735566561"
      ]
     },
     "execution_count": 3,
     "metadata": {},
     "output_type": "execute_result"
    }
   ],
   "source": [
    "123**456"
   ]
  },
  {
   "cell_type": "markdown",
   "metadata": {},
   "source": [
    "Aufgabe 1 d)"
   ]
  },
  {
   "cell_type": "code",
   "execution_count": 1,
   "metadata": {},
   "outputs": [
    {
     "data": {
      "text/plain": [
       "123.06299200003224"
      ]
     },
     "execution_count": 1,
     "metadata": {},
     "output_type": "execute_result"
    }
   ],
   "source": [
    "((12**3+13**4)**(1/2)) / ((2)**(1/2))"
   ]
  },
  {
   "cell_type": "markdown",
   "metadata": {},
   "source": [
    "Aufgabe 1 e)"
   ]
  },
  {
   "cell_type": "code",
   "execution_count": null,
   "metadata": {},
   "outputs": [],
   "source": [
    "2**(2**17)\n",
    "#Exceeds the limit (4300) for integer string conversion"
   ]
  },
  {
   "cell_type": "markdown",
   "metadata": {},
   "source": [
    "Aufgabe 1 f)"
   ]
  },
  {
   "cell_type": "code",
   "execution_count": null,
   "metadata": {},
   "outputs": [],
   "source": [
    "len(str(2**(2**17)))"
   ]
  },
  {
   "cell_type": "markdown",
   "metadata": {},
   "source": [
    "Aufgabe 1 g)"
   ]
  },
  {
   "cell_type": "code",
   "execution_count": 19,
   "metadata": {},
   "outputs": [
    {
     "data": {
      "text/plain": [
       "'6'"
      ]
     },
     "execution_count": 19,
     "metadata": {},
     "output_type": "execute_result"
    }
   ],
   "source": [
    "str(2**10000)[41]"
   ]
  },
  {
   "cell_type": "markdown",
   "metadata": {},
   "source": [
    "Aufgabe 1 h)"
   ]
  },
  {
   "cell_type": "code",
   "execution_count": 23,
   "metadata": {},
   "outputs": [
    {
     "data": {
      "text/plain": [
       "292"
      ]
     },
     "execution_count": 23,
     "metadata": {},
     "output_type": "execute_result"
    }
   ],
   "source": [
    "str(2**10000).count(\"4\")\n"
   ]
  },
  {
   "cell_type": "markdown",
   "metadata": {},
   "source": [
    "Aufgabe 1 i)"
   ]
  },
  {
   "cell_type": "code",
   "execution_count": null,
   "metadata": {},
   "outputs": [],
   "source": [
    "var = str(2**10000)[999]\n",
    "if var == \"1\" or var == \"3\": \n",
    "    print(var)\n",
    "    print(\"Ist eine 1 oder eine 3\")\n",
    "else:\n",
    "    print(var)\n",
    "    print(\"Ist keine 1 oder eine 3\") "
   ]
  },
  {
   "cell_type": "markdown",
   "metadata": {},
   "source": [
    "Aufgabe 1 j)"
   ]
  },
  {
   "cell_type": "code",
   "execution_count": 67,
   "metadata": {},
   "outputs": [
    {
     "name": "stdout",
     "output_type": "stream",
     "text": [
      "6 7\n",
      "Ist keine 1 oder eine 3\n"
     ]
    }
   ],
   "source": [
    "var1000 = str(2**10000)[999]\n",
    "var2000 = str(2**10000)[1999]\n",
    "\n",
    "if (var1000 == 1) or (var1000 == 3) and (var2000 == 1) or (var2000 == 3):\n",
    "    print(var1000, var2000)\n",
    "    print(\"Ist eine 1 oder eine 3\")\n",
    "else:\n",
    "    print(var1000, var2000)\n",
    "    print(\"Ist keine 1 oder eine 3\") "
   ]
  },
  {
   "cell_type": "markdown",
   "metadata": {},
   "source": [
    "Aufgabe 1 k)"
   ]
  },
  {
   "cell_type": "code",
   "execution_count": 3,
   "metadata": {},
   "outputs": [
    {
     "name": "stdout",
     "output_type": "stream",
     "text": [
      "(-0.009786278952990838+0.014115672821230931j)\n"
     ]
    }
   ],
   "source": [
    "import cmath\n",
    "\n",
    "#komplexe Zahl 1\n",
    "z1 = complex(2,5) #Realteil, Imaginärteil\n",
    "\n",
    "#komplexe Zahl 2\n",
    "z2 = complex(-1,2)\n",
    "\n",
    "print (z1**z2) #Realteil, Imaginärteil\n",
    "# nur mit Hilfe von Google möglich gewesen ;)\n",
    "# Man könnte mit z1.real und z1.imag noch Realteil und Imaginärteil einzeln ausgeben\n"
   ]
  },
  {
   "cell_type": "markdown",
   "metadata": {},
   "source": [
    "Aufgabe 1 l)"
   ]
  },
  {
   "cell_type": "code",
   "execution_count": 37,
   "metadata": {},
   "outputs": [
    {
     "data": {
      "text/plain": [
       "(0.20787957635076193+0j)"
      ]
     },
     "execution_count": 37,
     "metadata": {},
     "output_type": "execute_result"
    }
   ],
   "source": [
    "import cmath\n",
    "complex(0,1)**(complex(0,1)) #i = realteil 0 imagteil = 1 also i**i"
   ]
  },
  {
   "cell_type": "markdown",
   "metadata": {},
   "source": [
    "Aufgabe 1 m)"
   ]
  },
  {
   "cell_type": "code",
   "execution_count": 7,
   "metadata": {},
   "outputs": [
    {
     "name": "stdout",
     "output_type": "stream",
     "text": [
      "Ist keine Quadratzahl\n"
     ]
    }
   ],
   "source": [
    "from math import sqrt\n",
    "var1 = sqrt(int(input(\"Bitte Zahl eingeben: \")))\n",
    "var2 = int(var1)\n",
    "if var1 == var2: print (\"Ist eine Quadratzahl\")\n",
    "else: print (\"Ist keine Quadratzahl\")\n",
    "\n",
    "#Alternativ der Einzeiler:\n",
    "#if( (345744**(1/2)) == int(345744**(1/2))  ): print(\"Ist eine Quadratzahl\")"
   ]
  },
  {
   "cell_type": "markdown",
   "metadata": {},
   "source": [
    "Aufgabe 1.1"
   ]
  },
  {
   "cell_type": "code",
   "execution_count": 4,
   "metadata": {},
   "outputs": [
    {
     "name": "stdout",
     "output_type": "stream",
     "text": [
      "Zahl1 eingeben: \n",
      "Zahl2 eingeben: \n",
      "Zahl3 eingeben: \n",
      "579\n"
     ]
    }
   ],
   "source": [
    "# Variablen definieren bevor die Funktion erstellt wird\n",
    "x = y = z = 1\n",
    "liste = []\n",
    "\n",
    "# Definition der Funktion \"sortierer\"\n",
    "def sortierer(liste):\n",
    "    sorted(liste)      # Ja... einfach praktisch\n",
    "    len_liste = len(liste)\n",
    "    ergebnis = liste[len_liste-1] + (liste[len_liste-2])\n",
    "    return ergebnis\n",
    "\n",
    "# Zuweisung der Variablen\n",
    "print(\"Zahl1 eingeben: \")\n",
    "x = int(input())\n",
    "print(\"Zahl2 eingeben: \")\n",
    "y = int(input())\n",
    "print(\"Zahl3 eingeben: \")\n",
    "z = int(input())\n",
    "\n",
    "# Variablen in Liste packen\n",
    "liste = [x, y, z]\n",
    "\n",
    "# Funktion aufrufen\n",
    "print(sortierer(liste))"
   ]
  }
 ],
 "metadata": {
  "kernelspec": {
   "display_name": "Python 3.10.7 64-bit",
   "language": "python",
   "name": "python3"
  },
  "language_info": {
   "codemirror_mode": {
    "name": "ipython",
    "version": 3
   },
   "file_extension": ".py",
   "mimetype": "text/x-python",
   "name": "python",
   "nbconvert_exporter": "python",
   "pygments_lexer": "ipython3",
   "version": "3.10.7"
  },
  "orig_nbformat": 4,
  "vscode": {
   "interpreter": {
    "hash": "26de051ba29f2982a8de78e945f0abaf191376122a1563185a90213a26c5da77"
   }
  }
 },
 "nbformat": 4,
 "nbformat_minor": 2
}
