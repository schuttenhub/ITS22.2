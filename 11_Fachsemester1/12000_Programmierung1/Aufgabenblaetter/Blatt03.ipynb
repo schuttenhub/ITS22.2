{
 "cells": [
  {
   "cell_type": "markdown",
   "metadata": {},
   "source": [
    "Aufgabe 3.0\n",
    "Schreiben Sie eine Funktion, die beliebig viele Argumente übergeben bekommt. Nehmen Sie an, dass alle Argumente Zahlen sind. Die Funktion soll die Liste der übergebenen Zahlen zurückliefern."
   ]
  },
  {
   "cell_type": "code",
   "execution_count": 2,
   "metadata": {},
   "outputs": [
    {
     "ename": "IndexError",
     "evalue": "list index out of range",
     "output_type": "error",
     "traceback": [
      "\u001b[1;31m---------------------------------------------------------------------------\u001b[0m",
      "\u001b[1;31mIndexError\u001b[0m                                Traceback (most recent call last)",
      "Cell \u001b[1;32mIn [2], line 12\u001b[0m\n\u001b[0;32m     10\u001b[0m     \u001b[39mlist\u001b[39m\u001b[39m.\u001b[39mappend(list_obj)\n\u001b[0;32m     11\u001b[0m     num \u001b[39m=\u001b[39m num \u001b[39m+\u001b[39m \u001b[39m1\u001b[39m\n\u001b[1;32m---> 12\u001b[0m     var[num] \u001b[39m=\u001b[39m \u001b[39mlist\u001b[39;49m[num]\n\u001b[0;32m     14\u001b[0m \u001b[39mdef\u001b[39;00m \u001b[39mfunc\u001b[39m(\u001b[39m*\u001b[39margs):\n\u001b[0;32m     15\u001b[0m     \u001b[39mprint\u001b[39m(args)\n",
      "\u001b[1;31mIndexError\u001b[0m: list index out of range"
     ]
    }
   ],
   "source": [
    "#!!! Nicht ausführen. Kernel hängt sich auf :/ ich weiß nicht wie ich jedes mal random eine Anzahl von werten an die Funktion übergeben kann...\n",
    "list1 = [0,1,2,3]\n",
    "list2 = [4,5,6,7]\n",
    "\n",
    "def output_list (*list):\n",
    "    return list\n",
    "\n",
    "print(output_list())\n",
    "\n"
   ]
  },
  {
   "cell_type": "markdown",
   "metadata": {},
   "source": [
    "Aufgabe 3.1 a)"
   ]
  },
  {
   "cell_type": "code",
   "execution_count": 2,
   "metadata": {},
   "outputs": [
    {
     "name": "stdout",
     "output_type": "stream",
     "text": [
      "213233 ausgeführte Iterationen.\n",
      "210000 verglichene Änderungen der Nachkommastellen bevor nicht mehr gerechnet wird.\n",
      "1.2020569032 lautet die Zahl.\n"
     ]
    }
   ],
   "source": [
    "#Aufgabe 3.1\n",
    "i = 1\n",
    "zahl = 0.0\n",
    "zahl_vgl = 0\n",
    "i2 = 0\n",
    "def zahl_komma(i, zahl, i2, zahl_vgl):\n",
    "    while True:\n",
    "        zahl = zahl + 1/(i**3)\n",
    "        i += 1\n",
    "        if round(zahl, 10) == zahl_vgl:\n",
    "            i2 += 1\n",
    "            if i2 == 210000:\n",
    "                print((i), \"ausgeführte Iterationen.\")\n",
    "                print(i2, \"verglichene Änderungen der Nachkommastellen bevor nicht mehr gerechnet wird.\")\n",
    "                return(round(zahl, 10))\n",
    "        zahl_vgl = round(zahl, 10)\n",
    "\n",
    "print(zahl_komma(i, zahl, i2, zahl_vgl),\"lautet die Zahl.\")\n",
    "\n",
    "#zuerst habe ich die Schleife 250000 mal laufen lassen und dann die Funktion 206619 mal laufen lassen.\n",
    "# Das war das Minimum für die letzte korrekte Nachkommastelle.\n",
    "# Das Script war allerdings ineffizient und hat sehr langsam +10 Minuten.\n",
    "# Die Zahl als genau genug gerundet auszugeben, wenn sich die Nachkommastelle i2-mal nicht mehr ändert\n",
    "# geht deutlich schneller. So kann ich auch 1Mio Vergleiche innerhalb von wenigen Sekunden ausführen"
   ]
  },
  {
   "cell_type": "markdown",
   "metadata": {},
   "source": [
    "Aufgabe 3.1 b)"
   ]
  },
  {
   "cell_type": "code",
   "execution_count": 15,
   "metadata": {},
   "outputs": [
    {
     "name": "stdout",
     "output_type": "stream",
     "text": [
      "~ 3.141592559\n"
     ]
    }
   ],
   "source": [
    "#3.1 b)\n",
    "from decimal import Decimal\n",
    "from math import sqrt\n",
    "nachkomma = 9\n",
    "vergleiche_mit_pi = 10_000_000\n",
    "# Bei nachkomma = 10 und vergleiche_mit_pi = 15_000_000: Ausführungszeit ~35 Sekunden \n",
    "# Bei nachkomma =  9 und vergleiche_mit_pi = 10_000_000: Ausführungszeit ~24 Sekunden -> 6 korrekte Nachkommastellen\n",
    "\n",
    "def pi_calc(nachkomma, vergleiche_mit_pi):\n",
    "    i = 1\n",
    "    i2 = 0\n",
    "    pi_vgl = Decimal(0)\n",
    "    pi_org = Decimal(0)\n",
    "    while True:\n",
    "        pi_vgl = round(pi_org, nachkomma)\n",
    "        pi_org = pi_org + Decimal(1) / Decimal(i**2)\n",
    "        i += 1\n",
    "        if pi_vgl == round(pi_org, nachkomma):\n",
    "            i2 += 1\n",
    "            if i2 == vergleiche_mit_pi:\n",
    "                return round(Decimal(sqrt(pi_org * Decimal(6))), nachkomma)\n",
    "\n",
    "\n",
    "print(\"~\",pi_calc(nachkomma, vergleiche_mit_pi))\n",
    "#Mehr als 6 oder 7 korrekte Nachkommastellen sind kaum in absehbarer Zeit möglich (+/- 30 Sekunden)"
   ]
  },
  {
   "cell_type": "markdown",
   "metadata": {},
   "source": [
    "Aufgabe 3.2"
   ]
  }
 ],
 "metadata": {
  "kernelspec": {
   "display_name": "Python 3.10.7 64-bit",
   "language": "python",
   "name": "python3"
  },
  "language_info": {
   "codemirror_mode": {
    "name": "ipython",
    "version": 3
   },
   "file_extension": ".py",
   "mimetype": "text/x-python",
   "name": "python",
   "nbconvert_exporter": "python",
   "pygments_lexer": "ipython3",
   "version": "3.10.7"
  },
  "orig_nbformat": 4,
  "vscode": {
   "interpreter": {
    "hash": "26de051ba29f2982a8de78e945f0abaf191376122a1563185a90213a26c5da77"
   }
  }
 },
 "nbformat": 4,
 "nbformat_minor": 2
}
