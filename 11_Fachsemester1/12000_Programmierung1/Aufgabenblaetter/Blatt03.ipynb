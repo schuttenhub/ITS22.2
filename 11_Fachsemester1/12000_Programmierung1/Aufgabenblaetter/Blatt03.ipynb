{
 "cells": [
  {
   "cell_type": "markdown",
   "metadata": {},
   "source": [
    "Aufgabe 3.0\n",
    "Schreiben Sie eine Funktion, die beliebig viele Argumente übergeben bekommt. Nehmen Sie an, dass alle Argumente Zahlen sind. Die Funktion soll die Liste der übergebenen Zahlen zurückliefern."
   ]
  },
  {
   "cell_type": "code",
   "execution_count": 2,
   "metadata": {},
   "outputs": [
    {
     "ename": "IndexError",
     "evalue": "list index out of range",
     "output_type": "error",
     "traceback": [
      "\u001b[1;31m---------------------------------------------------------------------------\u001b[0m",
      "\u001b[1;31mIndexError\u001b[0m                                Traceback (most recent call last)",
      "Cell \u001b[1;32mIn [2], line 12\u001b[0m\n\u001b[0;32m     10\u001b[0m     \u001b[39mlist\u001b[39m\u001b[39m.\u001b[39mappend(list_obj)\n\u001b[0;32m     11\u001b[0m     num \u001b[39m=\u001b[39m num \u001b[39m+\u001b[39m \u001b[39m1\u001b[39m\n\u001b[1;32m---> 12\u001b[0m     var[num] \u001b[39m=\u001b[39m \u001b[39mlist\u001b[39;49m[num]\n\u001b[0;32m     14\u001b[0m \u001b[39mdef\u001b[39;00m \u001b[39mfunc\u001b[39m(\u001b[39m*\u001b[39margs):\n\u001b[0;32m     15\u001b[0m     \u001b[39mprint\u001b[39m(args)\n",
      "\u001b[1;31mIndexError\u001b[0m: list index out of range"
     ]
    }
   ],
   "source": [
    "#!!! Nicht ausführen. Kernel hängt sich auf :/ ich weiß nicht wie ich jedes mal random eine Anzahl von werten an die Funktion übergeben kann...\n",
    "\n",
    "from random import randint\n",
    "input(\"test\")\n",
    "num_of_list_items = randint(0,9)\n",
    "num = 0\n",
    "list = []\n",
    "while num < num_of_list_items:\n",
    "    list_obj = randint(0,99)\n",
    "    list.append(list_obj)\n",
    "    num = num + 1\n",
    "    var[num] = list[num]\n",
    "\n",
    "def func(*args):\n",
    "    print(args)\n",
    "\n",
    "\n",
    "print(func(list))"
   ]
  },
  {
   "cell_type": "markdown",
   "metadata": {},
   "source": [
    "Aufgabe 3.1 a)"
   ]
  },
  {
   "cell_type": "code",
   "execution_count": 3,
   "metadata": {},
   "outputs": [
    {
     "name": "stdout",
     "output_type": "stream",
     "text": [
      "213233 ausgeführte Iterationen.\n",
      "210000 verglichene Änderungen der Nachkommastellen bevor nicht mehr gerechnet wird.\n",
      "1.2020569032 lautet die Zahl.\n"
     ]
    }
   ],
   "source": [
    "#Aufgabe 3.1\n",
    "i = 1\n",
    "zahl = 0.0\n",
    "zahl_vgl = 0\n",
    "i2 = 0\n",
    "def zahl_komma(i, zahl, i2, zahl_vgl):\n",
    "    while True:\n",
    "        zahl = zahl + 1/(i**3)\n",
    "        i += 1\n",
    "        if round(zahl, 10) == zahl_vgl:\n",
    "            i2 += 1\n",
    "            if i2 == 210000:\n",
    "                print((i), \"ausgeführte Iterationen.\")\n",
    "                print(i2, \"verglichene Änderungen der Nachkommastellen bevor nicht mehr gerechnet wird.\")\n",
    "                return(round(zahl, 10))\n",
    "        zahl_vgl = round(zahl, 10)\n",
    "\n",
    "print(zahl_komma(i, zahl, i2, zahl_vgl),\"lautet die Zahl.\")\n",
    "\n",
    "#zuerst habe ich die Schleife 250000 mal laufen lassen und dann die Funktion 206619 mal laufen lassen.\n",
    "# Das war das Minimum für die letzte korrekte Nachkommastelle.\n",
    "# Das Script war allerdings ineffizient und hat sehr langsam +10 Minuten.\n",
    "# Die Zahl als genau genug gerundet auszugeben, wenn sich die Nachkommastelle i2-mal nicht mehr ändert\n",
    "# geht deutlich schneller. So kann ich auch 1Mio Vergleiche innerhalb von wenigen Sekunden ausführen"
   ]
  },
  {
   "cell_type": "markdown",
   "metadata": {},
   "source": [
    "Aufgabe 3.1 b)"
   ]
  },
  {
   "cell_type": "code",
   "execution_count": 13,
   "metadata": {},
   "outputs": [
    {
     "name": "stdout",
     "output_type": "stream",
     "text": [
      "2.361111111111111\n"
     ]
    }
   ],
   "source": []
  }
 ],
 "metadata": {
  "kernelspec": {
   "display_name": "Python 3.10.7 64-bit",
   "language": "python",
   "name": "python3"
  },
  "language_info": {
   "codemirror_mode": {
    "name": "ipython",
    "version": 3
   },
   "file_extension": ".py",
   "mimetype": "text/x-python",
   "name": "python",
   "nbconvert_exporter": "python",
   "pygments_lexer": "ipython3",
   "version": "3.10.7"
  },
  "orig_nbformat": 4,
  "vscode": {
   "interpreter": {
    "hash": "26de051ba29f2982a8de78e945f0abaf191376122a1563185a90213a26c5da77"
   }
  }
 },
 "nbformat": 4,
 "nbformat_minor": 2
}
