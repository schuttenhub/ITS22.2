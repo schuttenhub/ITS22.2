{
 "cells": [
  {
   "cell_type": "markdown",
   "metadata": {},
   "source": [
    "Aufgabe 3.0\n",
    "Schreiben Sie eine Funktion, die beliebig viele Argumente übergeben bekommt. Nehmen Sie an, dass alle Argumente Zahlen sind. Die Funktion soll die Liste der übergebenen Zahlen zurückliefern."
   ]
  },
  {
   "cell_type": "code",
   "execution_count": 1,
   "metadata": {},
   "outputs": [],
   "source": [
    "#!!! Nicht ausführen. Kernel hängt sich auf :/ ich weiß nicht wie ich jedes mal random eine Anzahl von werten an die Funktion übergeben kann...\n",
    "\n",
    "from random import randint\n",
    "input(\"test\")\n",
    "num_of_list_items = randint(0,9)\n",
    "num = 0\n",
    "list = []\n",
    "while num < num_of_list_items:\n",
    "    list_obj = randint(0,99)\n",
    "    list.append(list_obj)\n",
    "    num = num + 1\n",
    "    var[num] = list[num]\n",
    "\n",
    "def func(*args):\n",
    "    print(args)\n",
    "\n",
    "\n",
    "print(func(list))"
   ]
  }
 ],
 "metadata": {
  "kernelspec": {
   "display_name": "Python 3.10.7 64-bit",
   "language": "python",
   "name": "python3"
  },
  "language_info": {
   "codemirror_mode": {
    "name": "ipython",
    "version": 3
   },
   "file_extension": ".py",
   "mimetype": "text/x-python",
   "name": "python",
   "nbconvert_exporter": "python",
   "pygments_lexer": "ipython3",
   "version": "3.10.7"
  },
  "orig_nbformat": 4,
  "vscode": {
   "interpreter": {
    "hash": "26de051ba29f2982a8de78e945f0abaf191376122a1563185a90213a26c5da77"
   }
  }
 },
 "nbformat": 4,
 "nbformat_minor": 2
}
