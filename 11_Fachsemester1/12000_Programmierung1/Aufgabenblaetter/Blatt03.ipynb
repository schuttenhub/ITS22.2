{
 "cells": [
  {
   "cell_type": "markdown",
   "metadata": {},
   "source": [
    "Aufgabe 3.0\n",
    "Schreiben Sie eine Funktion, die beliebig viele Argumente übergeben bekommt. Nehmen Sie an, dass alle Argumente Zahlen sind. Die Funktion soll die Liste der übergebenen Zahlen zurückliefern."
   ]
  },
  {
   "cell_type": "code",
   "execution_count": 7,
   "metadata": {},
   "outputs": [
    {
     "name": "stdout",
     "output_type": "stream",
     "text": [
      "[2, 3, 5, 73]\n"
     ]
    }
   ],
   "source": [
    "zahl_1 = 2\n",
    "zahl_2 = 3\n",
    "zahl_3 = 5\n",
    "zahl_4 = 73\n",
    "\n",
    "def output_list (*args): \n",
    "    args_list = [*args]\n",
    "    return args_list\n",
    "\n",
    "print(output_list(zahl_1, zahl_2, zahl_3, zahl_4))\n",
    "\n"
   ]
  },
  {
   "cell_type": "markdown",
   "metadata": {},
   "source": [
    "Aufgabe 3.1 a)"
   ]
  },
  {
   "cell_type": "code",
   "execution_count": 35,
   "metadata": {},
   "outputs": [
    {
     "name": "stdout",
     "output_type": "stream",
     "text": [
      "93232 ausgeführte Iterationen.\n",
      "90000 verglichene Änderungen der Nachkommastellen bevor nicht mehr gerechnet wird.\n",
      "1.2020569031 lautet die Zahl.\n"
     ]
    }
   ],
   "source": [
    "#Aufgabe 3.1 a)\n",
    "i = 1\n",
    "zahl = 0.0\n",
    "zahl_vgl = 0\n",
    "i2 = 0\n",
    "def zahl_komma(i, zahl, i2, zahl_vgl):\n",
    "    while True:\n",
    "        zahl = zahl + 1/(i**3)\n",
    "        i += 1\n",
    "        zahl_cut = float(str(zahl)[0:12])\n",
    "        if zahl_cut == zahl_vgl:\n",
    "            i2 += 1\n",
    "            if i2 == 90000:\n",
    "                print((i), \"ausgeführte Iterationen.\")\n",
    "                print(i2, \"verglichene Änderungen der Nachkommastellen bevor nicht mehr gerechnet wird.\")\n",
    "                return zahl_cut\n",
    "        zahl_vgl = zahl_cut\n",
    "\n",
    "print(zahl_komma(i, zahl, i2, zahl_vgl),\"lautet die Zahl.\")\n",
    "\n",
    "#zuerst habe ich die Schleife 250000 mal laufen lassen und dann die Funktion 206619 mal aufgerufen.\n",
    "# Das Script war allerdings ineffizient und hat sehr langsam +10 Minuten.\n",
    "\n",
    "# Die Zahl als genau genug gerundet auszugeben, wenn sich die Nachkommastelle i2-mal nicht mehr ändert\n",
    "# geht deutlich schneller. So kann ich auch 1Mio Vergleiche innerhalb von wenigen Sekunden ausführen"
   ]
  },
  {
   "cell_type": "markdown",
   "metadata": {},
   "source": [
    "Aufgabe 3.1 b)"
   ]
  },
  {
   "cell_type": "code",
   "execution_count": 2,
   "metadata": {},
   "outputs": [
    {
     "name": "stdout",
     "output_type": "stream",
     "text": [
      "~ 3.141591755\n"
     ]
    }
   ],
   "source": [
    "#3.1 b)\n",
    "from decimal import Decimal\n",
    "from math import sqrt\n",
    "nachkomma = 9\n",
    "vergleiche_mit_pi = 1_000_000\n",
    "# Bei nachkomma = 10 und vergleiche_mit_pi = 15_000_000: Ausführungszeit ~35 Sekunden \n",
    "# Bei nachkomma =  9 und vergleiche_mit_pi = 10_000_000: Ausführungszeit ~24 Sekunden -> 6 korrekte Nachkommastellen\n",
    "\n",
    "def pi_calc(nachkomma, vergleiche_mit_pi):\n",
    "    i = 1\n",
    "    i2 = 0\n",
    "    pi_vgl = Decimal(0)\n",
    "    pi_org = Decimal(0)\n",
    "    while True:\n",
    "        pi_vgl = round(pi_org, nachkomma)\n",
    "        pi_org = pi_org + Decimal(1) / Decimal(i**2)\n",
    "        i += 1\n",
    "        if pi_vgl == round(pi_org, nachkomma):\n",
    "            i2 += 1\n",
    "            if i2 == vergleiche_mit_pi:\n",
    "                return round(Decimal(sqrt(pi_org * Decimal(6))), nachkomma)\n",
    "\n",
    "\n",
    "print(\"~\",pi_calc(nachkomma, vergleiche_mit_pi))\n",
    "#Mehr als 6 oder 7 korrekte Nachkommastellen sind kaum in absehbarer Zeit möglich (+/- 30 Sekunden)"
   ]
  },
  {
   "cell_type": "code",
   "execution_count": null,
   "metadata": {},
   "outputs": [],
   "source": [
    "#Aufgabe 3.1 b) zweiter Anlauf mit Nilakantha Method\n",
    "\n",
    "\n",
    "def nilakantha_pi():\n",
    "    "
   ]
  },
  {
   "cell_type": "markdown",
   "metadata": {},
   "source": [
    "Aufgabe 3.2"
   ]
  }
 ],
 "metadata": {
  "kernelspec": {
   "display_name": "Python 3.10.7 64-bit",
   "language": "python",
   "name": "python3"
  },
  "language_info": {
   "codemirror_mode": {
    "name": "ipython",
    "version": 3
   },
   "file_extension": ".py",
   "mimetype": "text/x-python",
   "name": "python",
   "nbconvert_exporter": "python",
   "pygments_lexer": "ipython3",
   "version": "3.10.7"
  },
  "orig_nbformat": 4,
  "vscode": {
   "interpreter": {
    "hash": "26de051ba29f2982a8de78e945f0abaf191376122a1563185a90213a26c5da77"
   }
  }
 },
 "nbformat": 4,
 "nbformat_minor": 2
}
