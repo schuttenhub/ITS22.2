{
 "cells": [
  {
   "cell_type": "code",
   "execution_count": 1,
   "metadata": {},
   "outputs": [
    {
     "data": {
      "text/plain": [
       "[0, 1, 2, 3, 4]"
      ]
     },
     "execution_count": 1,
     "metadata": {},
     "output_type": "execute_result"
    }
   ],
   "source": [
    "list(range(5))"
   ]
  },
  {
   "cell_type": "code",
   "execution_count": null,
   "metadata": {},
   "outputs": [],
   "source": [
    "summe = 0\n",
    "for laufvariable in range(5):\n",
    "    summe += laufvariable\n",
    "    print(\"Schleifendurchlauf Nr. , Summe = \", (laufvariable,summe))\n",
    "    print(f\"Schleifendurchlauf Nr. {laufvariable}, Summe = {summe}\")\n",
    "    print(\"Schleigendurchlauf Nr. {}, Summe = {}\".format(laufvariable, summe))\n",
    "print (laufvariable)"
   ]
  },
  {
   "cell_type": "code",
   "execution_count": null,
   "metadata": {},
   "outputs": [],
   "source": [
    "# Continue erklärt\n",
    "\n",
    "summe = 0\n",
    "for i in range(summe):\n",
    "    if i%2==0:\n",
    "        continue\n",
    "    summe += i"
   ]
  },
  {
   "cell_type": "code",
   "execution_count": 4,
   "metadata": {},
   "outputs": [
    {
     "name": "stdout",
     "output_type": "stream",
     "text": [
      "erste while Schleife\n",
      "zweite while Schleife\n"
     ]
    }
   ],
   "source": [
    "while True:\n",
    "    print('erste while Schleife')\n",
    "    while True:\n",
    "        print('zweite while Schleife')\n",
    "        break\n",
    "    break"
   ]
  },
  {
   "cell_type": "code",
   "execution_count": 5,
   "metadata": {},
   "outputs": [
    {
     "name": "stdout",
     "output_type": "stream",
     "text": [
      "Das Passwort ist stark genug. Yeah!\n"
     ]
    }
   ],
   "source": [
    "#Übungsaufgabe: Schreibe eine Funktion password_is_strong, welche einen String übergeben bekommt und prüft,\n",
    "#ob dieser Wert länger als 12 Zeichen ist und mindestens ein Sonderzeichen (string modul - punctuation) enthält.\n",
    "#Die Funktion soll True oder False zurückliefer und Hinweise (zu kurz, kein Sonderzeichen) auf der Konsole ausgeben\n",
    "#wenn das Passwort zu schwach ist\n",
    "import string\n",
    "password = str(input(\"Bitte gib ein Passwort ein: \"))\n",
    "pass_bool = []\n",
    "\n",
    "def password_is_strong(password): #return pass_length, complexity\n",
    "    '''Input Password. Output: pass_length(bool), complexity'''\n",
    "    complexity = False\n",
    "    pass_length = False     #Bedingung 1: Mind. 12 Zeichen\n",
    "    pass_upper = 0          #Bedingung 2: 1 Großbuchstabe\n",
    "    pass_lower = 0          #Bedingung 3: 1 Kleinbuchstabe\n",
    "    pass_number = 0         #Bedingung 4: 1 Zahl\n",
    "    pass_special = 0        #Bedingung 5: 1 Sonderzeichen\n",
    "    pass_expected_length = 12\n",
    "    pass_excpected_complexity = 3\n",
    "\n",
    "    #Bedingung 1\n",
    "    if len(password) <= pass_expected_length:\n",
    "        return pass_length, complexity\n",
    "    else:\n",
    "        pass_length = True\n",
    "    \n",
    "    #Bedingung 2\n",
    "    uppercase = string.ascii_uppercase + 'ÄÖÜ'\n",
    "    for i_upper in uppercase:\n",
    "        if i_upper in password:\n",
    "            pass_upper = 1\n",
    "            break\n",
    "    \n",
    "    #Bedingung 3\n",
    "    lowercase = string.ascii_lowercase + 'äöü'\n",
    "    for i_lower in lowercase:\n",
    "        if i_lower in password:\n",
    "            pass_lower = 1\n",
    "            break\n",
    "    \n",
    "    #Bedingung 4\n",
    "    for i_number in string.digits:\n",
    "        if i_number in password:\n",
    "            pass_number = 1\n",
    "            break\n",
    "\n",
    "    #Bedingung 5\n",
    "    for i_special in string.punctuation:\n",
    "        if i_special in password:\n",
    "            pass_special = 1\n",
    "            break\n",
    "\n",
    "    complexity = (pass_upper + pass_lower + pass_number + pass_special) >= pass_excpected_complexity\n",
    "    return pass_length, complexity\n",
    "\n",
    "pass_length, pass_complexity = password_is_strong(password)\n",
    "\n",
    "if pass_length and pass_complexity:\n",
    "    print(\"Das Passwort ist stark genug. Yeah!\")\n",
    "elif not pass_length:\n",
    "    print(\"Das Passwort ist zu kurz!\")\n",
    "elif pass_length and not pass_complexity:\n",
    "    print(\"Das Passwort ist zwar lang, aber nicht komplex genug!\")\n",
    "\n",
    "\n"
   ]
  },
  {
   "cell_type": "code",
   "execution_count": 13,
   "metadata": {},
   "outputs": [
    {
     "name": "stdout",
     "output_type": "stream",
     "text": [
      "0123456789\n"
     ]
    }
   ],
   "source": [
    "import string\n",
    "uppercase = string.ascii_uppercase\n",
    "print(uppercase)"
   ]
  },
  {
   "cell_type": "code",
   "execution_count": null,
   "metadata": {},
   "outputs": [],
   "source": [
    "help(list.remove)"
   ]
  },
  {
   "cell_type": "code",
   "execution_count": 44,
   "metadata": {},
   "outputs": [
    {
     "data": {
      "text/plain": [
       "list"
      ]
     },
     "execution_count": 44,
     "metadata": {},
     "output_type": "execute_result"
    }
   ],
   "source": [
    "#DICTIONARY\n",
    "zoo = {'gehege_1':'giraffe', 'gehege_2':'tiger', 'insektenhaus':['Ameise', 'Schmetterling', 'Ameise']}\n",
    "zoo['gehege_3'] = 'eisbär'\n"
   ]
  },
  {
   "cell_type": "code",
   "execution_count": 46,
   "metadata": {},
   "outputs": [],
   "source": [
    "zoo['insektenhaus'].append('schnecke')"
   ]
  },
  {
   "cell_type": "code",
   "execution_count": null,
   "metadata": {},
   "outputs": [],
   "source": [
    "zoo['gehege_4'] = 'Loewe'\n",
    "zoo"
   ]
  },
  {
   "cell_type": "code",
   "execution_count": null,
   "metadata": {},
   "outputs": [],
   "source": [
    "for gehege in zoo:\n",
    "    print(f'In {gehege} lebt {zoo[gehege]}')"
   ]
  },
  {
   "cell_type": "code",
   "execution_count": 60,
   "metadata": {},
   "outputs": [
    {
     "name": "stdout",
     "output_type": "stream",
     "text": [
      "1 : a\n",
      "2 : b\n",
      "3 : c\n"
     ]
    }
   ],
   "source": [
    "dict = {1: 'a', 2:'b', 3:'c'}\n",
    "for key in dict:\n",
    "    print(f'{key} : {dict[key]}')"
   ]
  }
 ],
 "metadata": {
  "kernelspec": {
   "display_name": "Python 3.10.7 64-bit",
   "language": "python",
   "name": "python3"
  },
  "language_info": {
   "codemirror_mode": {
    "name": "ipython",
    "version": 3
   },
   "file_extension": ".py",
   "mimetype": "text/x-python",
   "name": "python",
   "nbconvert_exporter": "python",
   "pygments_lexer": "ipython3",
   "version": "3.10.7"
  },
  "orig_nbformat": 4,
  "vscode": {
   "interpreter": {
    "hash": "26de051ba29f2982a8de78e945f0abaf191376122a1563185a90213a26c5da77"
   }
  }
 },
 "nbformat": 4,
 "nbformat_minor": 2
}
