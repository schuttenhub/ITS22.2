{
 "cells": [
  {
   "cell_type": "code",
   "execution_count": null,
   "metadata": {},
   "outputs": [],
   "source": [
    "#Exception: Nicht abfangbar, keine Möglichkeit das Programm weiterhin am laufen zu halten\n",
    "print(1/0)"
   ]
  },
  {
   "cell_type": "code",
   "execution_count": 2,
   "metadata": {},
   "outputs": [
    {
     "ename": "ValueError",
     "evalue": "invalid literal for int() with base 10: 'test'",
     "output_type": "error",
     "traceback": [
      "\u001b[1;31m---------------------------------------------------------------------------\u001b[0m",
      "\u001b[1;31mValueError\u001b[0m                                Traceback (most recent call last)",
      "Cell \u001b[1;32mIn [2], line 1\u001b[0m\n\u001b[1;32m----> 1\u001b[0m \u001b[39mint\u001b[39;49m(\u001b[39minput\u001b[39;49m())\n",
      "\u001b[1;31mValueError\u001b[0m: invalid literal for int() with base 10: 'test'"
     ]
    }
   ],
   "source": [
    "#Exception: Abfangbar. Man kann den Error auch abfangen und das Programm am Laufen halten\n",
    "int(input())"
   ]
  },
  {
   "cell_type": "code",
   "execution_count": 3,
   "metadata": {},
   "outputs": [
    {
     "ename": "Exception",
     "evalue": "Passwort muss mindestens 8 Zeichen lang sein.",
     "output_type": "error",
     "traceback": [
      "\u001b[1;31m---------------------------------------------------------------------------\u001b[0m",
      "\u001b[1;31mException\u001b[0m                                 Traceback (most recent call last)",
      "Cell \u001b[1;32mIn [3], line 3\u001b[0m\n\u001b[0;32m      1\u001b[0m password \u001b[39m=\u001b[39m \u001b[39minput\u001b[39m(\u001b[39m\"\u001b[39m\u001b[39mBitte Passwort eingeben: \u001b[39m\u001b[39m\"\u001b[39m)\n\u001b[0;32m      2\u001b[0m \u001b[39mif\u001b[39;00m \u001b[39mlen\u001b[39m(password) \u001b[39m<\u001b[39m \u001b[39m8\u001b[39m:\n\u001b[1;32m----> 3\u001b[0m     \u001b[39mraise\u001b[39;00m \u001b[39mException\u001b[39;00m(\u001b[39m\"\u001b[39m\u001b[39mPasswort muss mindestens 8 Zeichen lang sein.\u001b[39m\u001b[39m\"\u001b[39m)\n",
      "\u001b[1;31mException\u001b[0m: Passwort muss mindestens 8 Zeichen lang sein."
     ]
    }
   ],
   "source": [
    "password = input(\"Bitte Passwort eingeben: \")\n",
    "if len(password) < 8:\n",
    "    raise Exception(\"Passwort muss mindestens 8 Zeichen lang sein.\")"
   ]
  },
  {
   "cell_type": "code",
   "execution_count": 9,
   "metadata": {},
   "outputs": [
    {
     "name": "stdout",
     "output_type": "stream",
     "text": [
      "Digga, du kannst nicht durch Null teilen\n",
      "finally-Block\n",
      "Value-Error ist aufgetreten\n",
      "finally-Block\n",
      "0.18181818181818182\n",
      "Die Division hat funktioniert.\n",
      "finally-Block\n"
     ]
    }
   ],
   "source": [
    "for i in range(3):\n",
    "    try:\n",
    "        zahl = int(input(\"Bitte Zahl eingeben: \"))\n",
    "        print(10/zahl)\n",
    "    except ValueError:\n",
    "        print(\"Value-Error ist aufgetreten\")\n",
    "    #except WrongPasswordFormat:\n",
    "    #    print(\"Passwort enthaelt falsches Format\")\n",
    "    #    pass #\n",
    "    except ZeroDivisionError:\n",
    "        print(\"Digga, du kannst nicht durch Null teilen\")\n",
    "    except Exception as e:\n",
    "        print(\"EIn unbekannter Fehler ist aufgetreten\")\n",
    "        print(e)\n",
    "    else:\n",
    "        print(\"Die Division hat funktioniert.\")\n",
    "    finally:\n",
    "        print(\"finally-Block\")   \n",
    "    "
   ]
  },
  {
   "cell_type": "code",
   "execution_count": null,
   "metadata": {},
   "outputs": [],
   "source": [
    "class WrongPasswordFormatException(Exception):\n",
    "    pass\n",
    "\n",
    "raise WrongPasswordFormatException(\"Passwort muss laenger sein...\")"
   ]
  },
  {
   "cell_type": "code",
   "execution_count": 23,
   "metadata": {},
   "outputs": [],
   "source": [
    "def check_password_format(password):\n",
    "    if len(password) < 8:\n",
    "        raise WrongPasswordFormatException(\"Passwort zu kurz\")"
   ]
  },
  {
   "cell_type": "code",
   "execution_count": null,
   "metadata": {},
   "outputs": [],
   "source": [
    "#Ohne Exception Handling\n",
    "while True:\n",
    "    password = input(\"Bitte Passwort festlegen: \")\n",
    "    check_password_format(password)\n",
    "    break"
   ]
  },
  {
   "cell_type": "code",
   "execution_count": null,
   "metadata": {},
   "outputs": [],
   "source": [
    "#Mit Exception Handling\n",
    "while True:\n",
    "    try:\n",
    "        password = input(\"Bitte Passwort festlegen: \")\n",
    "        check_password_format(password)\n",
    "    except WrongPasswordFormatException:\n",
    "        print(\"Passwort zu kurz\")\n",
    "        continue\n",
    "    except Exception as e:\n",
    "        print(\"Es ist ein unbekannter Fehler aufgetreten\")\n",
    "        print(e)\n",
    "        break\n",
    "    print(\"Passwort erfuellt die Bedingungen\")\n",
    "    break"
   ]
  }
 ],
 "metadata": {
  "kernelspec": {
   "display_name": "Python 3.10.7 64-bit",
   "language": "python",
   "name": "python3"
  },
  "language_info": {
   "codemirror_mode": {
    "name": "ipython",
    "version": 3
   },
   "file_extension": ".py",
   "mimetype": "text/x-python",
   "name": "python",
   "nbconvert_exporter": "python",
   "pygments_lexer": "ipython3",
   "version": "3.10.7"
  },
  "orig_nbformat": 4,
  "vscode": {
   "interpreter": {
    "hash": "26de051ba29f2982a8de78e945f0abaf191376122a1563185a90213a26c5da77"
   }
  }
 },
 "nbformat": 4,
 "nbformat_minor": 2
}
