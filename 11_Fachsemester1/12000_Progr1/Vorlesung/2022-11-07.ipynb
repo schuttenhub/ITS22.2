{
 "cells": [
  {
   "cell_type": "code",
   "execution_count": null,
   "metadata": {},
   "outputs": [],
   "source": [
    "import matplotlib.pyplot as plt\n",
    "\n",
    "x = [0, 0, 0, 0, 0]\n",
    "y = [1, 2, 3, 4, 5]\n",
    "plt.scatter(x, y)"
   ]
  },
  {
   "cell_type": "code",
   "execution_count": 84,
   "metadata": {},
   "outputs": [],
   "source": [
    "class Tier:\n",
    "    def __init__(self, art, alter, gewicht):\n",
    "        self.art = art\n",
    "        self.alter = alter\n",
    "        self.gewicht = gewicht\n",
    "        self.hungrig = True\n",
    "        self.muede = False\n",
    "    \n",
    "class Maulwurf(Tier):\n",
    "    def __init__(self, alter, gewicht):   #ruft den Konstruktor der Elternklasse auf\n",
    "        super().__init__('Maulwurf', alter, gewicht)\n",
    "\n",
    "\n",
    "        \n",
    "        #self.art = 'Maulwurf'\n",
    "        #self.alter = alter\n",
    "        #self.gewicht = gewicht     Macht man nicht, weil umständlich. Man müsste ja alles doppelt schreiben\n",
    "\n",
    "    def graebt(self):\n",
    "        return f\"{self.art} graebt\"\n",
    "\n",
    "\n",
    "    def __repr__(self): # doublescore-under-method, dunder-, method, magic-method. Alternativ: __str__\n",
    "        return f\"Ich bin ein Tier von der Art {self.art}\"\n",
    "\n",
    "    def wird_aelter(self):\n",
    "        self.alter += 1\n",
    "        print(\"Wurde um ein Jahr aelter\")\n",
    "\n",
    "    def isst(self):\n",
    "        if self.hungrig:\n",
    "            self.hungrig = False\n",
    "            return \"hat gegessen\"\n",
    "        else:\n",
    "            print(f\"{self.art} hat keinen Hunger\")\n",
    "\n",
    "    def schlaeft(self):\n",
    "        if self.muede:\n",
    "            self.muede = False\n",
    "            return f\"{self.art} schlaeft\"\n",
    "            \n",
    "        else:\n",
    "            self.muede = True\n",
    "            return f\"{self.art} ist nicht muede\"\n",
    "\n",
    "    def bewegt_sich(self):\n",
    "        if (not self.hungrig) and (not self.muede):\n",
    "            self.hungrig = True\n",
    "            self.muede = True\n",
    "            return f\"{self.art} hat sich bewegt. Ist jetzt hungrig und muede\"\n",
    "        if self.hungrig:\n",
    "            return f\"{self.art} kann sich nicht bewegen - Hat Hunger\"\n",
    "        if self.muede:\n",
    "            return f\"{self.art} kann sich nicht bewegen - Ist muede\"\n",
    "\n",
    "    def __add__(self, anderesTier):     #pgrgrammiert das Plus-Zeichen für die Klasse Tier\n",
    "        #print(\"__add__-Methode wurde aufgerufen\")\n",
    "        if self.art == anderesTier.art:\n",
    "            return \"Züchtung erfolgreich\"\n",
    "        else:\n",
    "            return \"Züchtung nicht möglich... Junge?! Krank!\"\n",
    "        \n",
    "\n",
    "\n",
    "Igel = Tier('Igel', 3, 0.5)     #Objekt von der Klasse Tier mit 3 Attributen\n",
    "\n",
    "\n"
   ]
  },
  {
   "cell_type": "code",
   "execution_count": 87,
   "metadata": {},
   "outputs": [
    {
     "data": {
      "text/plain": [
       "'Maulwurf graebt'"
      ]
     },
     "execution_count": 87,
     "metadata": {},
     "output_type": "execute_result"
    }
   ],
   "source": [
    "Mauli = Maulwurf(2, 0.3)\n",
    "Mauli.schlaeft()\n",
    "Hase = Tier('Hase', 9, 4)\n",
    "\n",
    "Mauli.graebt()"
   ]
  },
  {
   "cell_type": "code",
   "execution_count": 18,
   "metadata": {},
   "outputs": [
    {
     "name": "stdout",
     "output_type": "stream",
     "text": [
      "Wurde um ein Jahr aelter\n"
     ]
    }
   ],
   "source": [
    "Hase.wird_aelter()"
   ]
  },
  {
   "cell_type": "code",
   "execution_count": 22,
   "metadata": {},
   "outputs": [
    {
     "data": {
      "text/plain": [
       "9"
      ]
     },
     "execution_count": 22,
     "metadata": {},
     "output_type": "execute_result"
    }
   ],
   "source": [
    "Hase.alter #Objekt.Attribut -> Zugriff auf Attribute"
   ]
  },
  {
   "cell_type": "code",
   "execution_count": 19,
   "metadata": {},
   "outputs": [
    {
     "name": "stdout",
     "output_type": "stream",
     "text": [
      "Hase hat keinen Hunger\n"
     ]
    }
   ],
   "source": [
    "#Hase.hungrig #Attribut Zugriff benötigt keine Parameterklammern()\n",
    "Hase.isst()"
   ]
  },
  {
   "cell_type": "code",
   "execution_count": 17,
   "metadata": {},
   "outputs": [
    {
     "data": {
      "text/plain": [
       "'Igel ist nicht muede'"
      ]
     },
     "execution_count": 17,
     "metadata": {},
     "output_type": "execute_result"
    }
   ],
   "source": [
    "Igel.schlaeft()"
   ]
  },
  {
   "cell_type": "code",
   "execution_count": 14,
   "metadata": {},
   "outputs": [
    {
     "data": {
      "text/plain": [
       "'Hase hat sich bewegt. Ist jetzt hungrig und muede'"
      ]
     },
     "execution_count": 14,
     "metadata": {},
     "output_type": "execute_result"
    }
   ],
   "source": [
    "#Hase.isst()\n",
    "#Hase.schlaeft()\n",
    "Hase.bewegt_sich()"
   ]
  },
  {
   "cell_type": "code",
   "execution_count": 50,
   "metadata": {},
   "outputs": [
    {
     "data": {
      "text/plain": [
       "'Züchtung erfolgreich'"
      ]
     },
     "execution_count": 50,
     "metadata": {},
     "output_type": "execute_result"
    }
   ],
   "source": [
    "Igel = Tier('Igel', 3, 0.5)     #Objekt von der Klasse Tier mit 3 Attributen\n",
    "Hase = Tier('Hase', 9, 4.0)\n",
    "Igel2 = Tier('Igel', 2, 0.7)\n",
    "Vogelstrauss = Tier('Vogelstrauss', 6, 60.0)\n",
    "\n",
    "\n",
    "Igel + Igel2"
   ]
  },
  {
   "cell_type": "code",
   "execution_count": 5,
   "metadata": {},
   "outputs": [
    {
     "data": {
      "text/plain": [
       "[1, 2, 3, 4, 5, 6]"
      ]
     },
     "execution_count": 5,
     "metadata": {},
     "output_type": "execute_result"
    }
   ],
   "source": [
    "liste = [1, 2, 3, 4, 5]\n",
    "liste.append(6) #objekt.methodenname\n",
    "liste\n",
    "\n",
    "print(liste) #Funktion (ohne Methode)"
   ]
  },
  {
   "cell_type": "code",
   "execution_count": 7,
   "metadata": {},
   "outputs": [
    {
     "name": "stdout",
     "output_type": "stream",
     "text": [
      "Help on wrapper_descriptor:\n",
      "\n",
      "__add__(self, value, /)\n",
      "    Return self+value.\n",
      "\n"
     ]
    }
   ],
   "source": [
    "'hello ' + 'world'\n",
    "help(str.__add__)"
   ]
  },
  {
   "cell_type": "code",
   "execution_count": 9,
   "metadata": {},
   "outputs": [
    {
     "name": "stdout",
     "output_type": "stream",
     "text": [
      "Help on wrapper_descriptor:\n",
      "\n",
      "__add__(self, value, /)\n",
      "    Return self+value.\n",
      "\n"
     ]
    }
   ],
   "source": [
    "3 + 5\n",
    "help(int.__add__)"
   ]
  },
  {
   "cell_type": "code",
   "execution_count": 10,
   "metadata": {},
   "outputs": [
    {
     "data": {
      "text/plain": [
       "<__main__.Tier at 0x16448dd0220>"
      ]
     },
     "execution_count": 10,
     "metadata": {},
     "output_type": "execute_result"
    }
   ],
   "source": [
    "Igel"
   ]
  }
 ],
 "metadata": {
  "kernelspec": {
   "display_name": "Python 3.10.7 64-bit",
   "language": "python",
   "name": "python3"
  },
  "language_info": {
   "codemirror_mode": {
    "name": "ipython",
    "version": 3
   },
   "file_extension": ".py",
   "mimetype": "text/x-python",
   "name": "python",
   "nbconvert_exporter": "python",
   "pygments_lexer": "ipython3",
   "version": "3.10.7"
  },
  "orig_nbformat": 4,
  "vscode": {
   "interpreter": {
    "hash": "26de051ba29f2982a8de78e945f0abaf191376122a1563185a90213a26c5da77"
   }
  }
 },
 "nbformat": 4,
 "nbformat_minor": 2
}
