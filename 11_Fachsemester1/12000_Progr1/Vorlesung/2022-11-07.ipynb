{
 "cells": [
  {
   "cell_type": "code",
   "execution_count": null,
   "metadata": {},
   "outputs": [],
   "source": [
    "import matplotlib.pyplot as plt\n",
    "\n",
    "x = [0, 0, 0, 0, 0]\n",
    "y = [1, 2, 3, 4, 5]\n",
    "plt.scatter(x, y)"
   ]
  },
  {
   "cell_type": "code",
   "execution_count": 61,
   "metadata": {},
   "outputs": [],
   "source": [
    "class Tier:\n",
    "    def __init__(self, art, alter, gewicht):\n",
    "        self.art = art\n",
    "        self.alter = alter\n",
    "        self.gewicht = gewicht\n",
    "        self.hungrig = True\n",
    "        self.muede = False\n",
    "    \n",
    "    def __repr__(self): # doublescore-under-method, dunder-, method, magic-method. Alternativ: __str__\n",
    "        return f\"Ich bin ein Tier von der Art {self.art}\"\n",
    "\n",
    "    def wird_aelter(self):\n",
    "        self.alter += 1\n",
    "        print(\"Wurde um ein Jahr aelter\")\n",
    "\n",
    "    def isst(self):\n",
    "        if self.hungrig:\n",
    "            self.hungrig = False\n",
    "            return \"hat gegessen\"\n",
    "        else:\n",
    "            print(f\"{self.art} hat keinen Hunger\")\n",
    "\n",
    "    def schlaeft(self):\n",
    "        if self.muede:\n",
    "            self.muede = False\n",
    "            return f\"{self.art} schlaeft\"\n",
    "            \n",
    "        else:\n",
    "            self.muede = True\n",
    "            return f\"{self.art} ist nicht muede\"\n",
    "\n",
    "\n",
    "Igel = Tier('Igel', 3, 0.5)     #Objekt von der Klasse Tier mit 3 Attributen\n",
    "Hase = Tier('Hase', 9, 4)\n",
    "\n"
   ]
  },
  {
   "cell_type": "code",
   "execution_count": 18,
   "metadata": {},
   "outputs": [
    {
     "name": "stdout",
     "output_type": "stream",
     "text": [
      "Wurde um ein Jahr aelter\n"
     ]
    }
   ],
   "source": [
    "Hase.wird_aelter()"
   ]
  },
  {
   "cell_type": "code",
   "execution_count": 22,
   "metadata": {},
   "outputs": [
    {
     "data": {
      "text/plain": [
       "9"
      ]
     },
     "execution_count": 22,
     "metadata": {},
     "output_type": "execute_result"
    }
   ],
   "source": [
    "Hase.alter #Objekt.Attribut -> Zugriff auf Attribute"
   ]
  },
  {
   "cell_type": "code",
   "execution_count": 33,
   "metadata": {},
   "outputs": [
    {
     "data": {
      "text/plain": [
       "'hat gegessen'"
      ]
     },
     "execution_count": 33,
     "metadata": {},
     "output_type": "execute_result"
    }
   ],
   "source": [
    "Hase.hungrig #Attribut Zugriff benötigt keine Parameterklammern()\n",
    "Hase.isst()"
   ]
  },
  {
   "cell_type": "code",
   "execution_count": 59,
   "metadata": {},
   "outputs": [
    {
     "data": {
      "text/plain": [
       "'Igel ist nicht muede'"
      ]
     },
     "execution_count": 59,
     "metadata": {},
     "output_type": "execute_result"
    }
   ],
   "source": [
    "Igel.schlaeft()"
   ]
  },
  {
   "cell_type": "code",
   "execution_count": 5,
   "metadata": {},
   "outputs": [
    {
     "data": {
      "text/plain": [
       "[1, 2, 3, 4, 5, 6]"
      ]
     },
     "execution_count": 5,
     "metadata": {},
     "output_type": "execute_result"
    }
   ],
   "source": [
    "liste = [1, 2, 3, 4, 5]\n",
    "liste.append(6) #objekt.methodenname\n",
    "liste\n",
    "\n",
    "print(liste) #Funktion (ohne Methode)"
   ]
  },
  {
   "cell_type": "code",
   "execution_count": 7,
   "metadata": {},
   "outputs": [
    {
     "name": "stdout",
     "output_type": "stream",
     "text": [
      "Help on wrapper_descriptor:\n",
      "\n",
      "__add__(self, value, /)\n",
      "    Return self+value.\n",
      "\n"
     ]
    }
   ],
   "source": [
    "'hello ' + 'world'\n",
    "help(str.__add__)"
   ]
  },
  {
   "cell_type": "code",
   "execution_count": 9,
   "metadata": {},
   "outputs": [
    {
     "name": "stdout",
     "output_type": "stream",
     "text": [
      "Help on wrapper_descriptor:\n",
      "\n",
      "__add__(self, value, /)\n",
      "    Return self+value.\n",
      "\n"
     ]
    }
   ],
   "source": [
    "3 + 5\n",
    "help(int.__add__)"
   ]
  },
  {
   "cell_type": "code",
   "execution_count": 10,
   "metadata": {},
   "outputs": [
    {
     "data": {
      "text/plain": [
       "<__main__.Tier at 0x16448dd0220>"
      ]
     },
     "execution_count": 10,
     "metadata": {},
     "output_type": "execute_result"
    }
   ],
   "source": [
    "Igel"
   ]
  }
 ],
 "metadata": {
  "kernelspec": {
   "display_name": "Python 3.10.7 64-bit",
   "language": "python",
   "name": "python3"
  },
  "language_info": {
   "codemirror_mode": {
    "name": "ipython",
    "version": 3
   },
   "file_extension": ".py",
   "mimetype": "text/x-python",
   "name": "python",
   "nbconvert_exporter": "python",
   "pygments_lexer": "ipython3",
   "version": "3.10.7"
  },
  "orig_nbformat": 4,
  "vscode": {
   "interpreter": {
    "hash": "26de051ba29f2982a8de78e945f0abaf191376122a1563185a90213a26c5da77"
   }
  }
 },
 "nbformat": 4,
 "nbformat_minor": 2
}
