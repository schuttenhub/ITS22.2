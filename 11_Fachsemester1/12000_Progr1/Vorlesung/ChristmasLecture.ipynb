{
 "cells": [
  {
   "cell_type": "code",
   "execution_count": null,
   "metadata": {},
   "outputs": [],
   "source": [
    "# Gib die genauen Ausgaben der folgenden Ausdrücken an"
   ]
  },
  {
   "cell_type": "code",
   "execution_count": null,
   "metadata": {},
   "outputs": [],
   "source": [
    "(a) ['Rudolph', 'das rotnasige Rentier', 'ist der Liebling der Weihnachtsmann'][1+1]\n",
    "(b) 'Weihnachten' + str(3)\n",
    "(c) 'Weihnachtsmütze' not in ['Weihnachtsbaum', 'Geschenke', 'Plätzchen']\n",
    "(e) [x.endswith('e') for x in 'Weihnachten ist die Zeit für Familie und Freunde'.split()]\n",
    "(f) 'Weihnachtsdekoration'[:9]\n",
    "(g) 'Weihnachtslieder'[-3:]\n",
    "(h) 'Weihnachtsmann Elfe Rentier'.split()[::-1]\n",
    "(i) [1] + ['Weihnachten']\n",
    "(j) 'Merry Christmas'[:6] + 'Weihnachten'\n",
    "(k) [i in ['Weihnachtsbaum', 'Geschenke', 'Plätzchen']for i in range(3)]\n",
    "(l) 'Weihnachtsstimmung' if True else 1/0\n",
    "(m) False and 'Weihnachtsmann'\n",
    "(n) \"Geschenk\" or True"
   ]
  },
  {
   "cell_type": "code",
   "execution_count": 5,
   "metadata": {},
   "outputs": [],
   "source": [
    "# Schreibe eine Funktion, welche die gegebenen Datenstrukturen übergeben bekommt (Geschenksack, Wunschliste und santas_list). \n",
    "#Die Funktion soll durch die Wunschliste durchgehen und prüfen, ob das Kind brav oder böse war. \n",
    "#Wenn das Kind böse war, dann soll ausgegeben werden, dass das Kind kein Geschenk bekommt, weil es böse war. \n",
    "#Wenn das Kind brav war soll geprüft werden, ob das gewünschte Geschenk im Geschenkesack ist. \n",
    "#Wenn es vorhanden ist, dann soll eine entsprechende Ausgabe ausgegeben werden. \n",
    "#Wenn das Geschenk nicht im Sack ist, dann soll ebenfalls ein entsprechender String ausgegeben werden.\n",
    "\n",
    "\n",
    "#Beispielaufruf:\n",
    "#geschenke_verteilen(geschenkesack, wunschliste, santas_liste)\n",
    "\n",
    "#Anna bekommt ein Lego-Set.\n",
    "#Benno bekommt kein PS5, weil es nicht im Geschenkesack ist.\n",
    "#Carlotta bekommt ein Actionfigur.\n",
    "#David bekommt ein Puzzle.\n",
    "#Emma bekommt ein Malbuch.\n",
    "#Finn bekommt ein Bastelset.\n",
    "#Greta bekommt ein Spielzeugauto.\n",
    "#Hannah bekommt kein Geschenk, weil es böse war.\n",
    "#Igor bekommt kein Geschenk, weil es böse war.\n",
    "#Julia bekommt kein Geschenk, weil es böse war."
   ]
  },
  {
   "cell_type": "code",
   "execution_count": 6,
   "metadata": {},
   "outputs": [],
   "source": [
    "geschenkesack = [\"Lego-Set\", \"Puppe\", \"Actionfigur\", \"Puzzle\", \"Malbuch\", \"Bastelset\", \n",
    "                 \"Spielzeugauto\", \"Plüschtier\", \"Musikinstrument\", \"Baukasten\"]\n",
    "\n",
    "wunschliste = {\n",
    "    \"Anna\": \"Lego-Set\",\n",
    "    \"Benno\": \"PS5\",\n",
    "    \"Carlotta\": \"Actionfigur\",\n",
    "    \"David\": \"Puzzle\",\n",
    "    \"Emma\": \"Malbuch\",\n",
    "    \"Finn\": \"Bastelset\",\n",
    "    \"Greta\": \"Spielzeugauto\",\n",
    "    \"Hannah\": \"Plüschtier\",\n",
    "    \"Igor\": \"Musikinstrument\",\n",
    "    \"Julia\": \"Baukasten\"\n",
    "}\n",
    "\n",
    "santas_liste = {\n",
    "    \"Anna\": \"brav\",\n",
    "    \"Benno\": \"brav\",\n",
    "    \"Carlotta\": \"brav\",\n",
    "    \"David\": \"brav\",\n",
    "    \"Emma\": \"brav\",\n",
    "    \"Finn\": \"brav\",\n",
    "    \"Greta\": \"brav\",\n",
    "    \"Hannah\": \"böse\",\n",
    "    \"Igor\": \"böse\",\n",
    "    \"Julia\": \"böse\"\n",
    "}\n"
   ]
  },
  {
   "cell_type": "code",
   "execution_count": 4,
   "metadata": {},
   "outputs": [],
   "source": []
  },
  {
   "cell_type": "code",
   "execution_count": null,
   "metadata": {},
   "outputs": [],
   "source": []
  },
  {
   "cell_type": "code",
   "execution_count": 9,
   "metadata": {},
   "outputs": [],
   "source": [
    "# Schreibe eine Funktion draw_christmas_tree, welche eine Höhe als Integer übergeben bekommt. \n",
    "#Es soll ein Weihnachtsbaum auf der Konsole ausgegeben werden, zusammen mit einem Stamm. (siehe Beispiel)\n",
    "\n",
    "#draw_christmas_tree(5)\n",
    "\n",
    "#    *\n",
    "#   ***\n",
    "#  *****\n",
    "# *******\n",
    "#*********\n",
    "#    ||"
   ]
  },
  {
   "cell_type": "code",
   "execution_count": null,
   "metadata": {},
   "outputs": [],
   "source": []
  },
  {
   "cell_type": "code",
   "execution_count": null,
   "metadata": {},
   "outputs": [],
   "source": [
    "# Erstelle eine Klasse Geschenkliste, welche intern eine Liste enthält. \n",
    "#Implementiere eine Methode, um Geschenke hinzuzufügen und eine Methode, um Geschenke zu entfernen. \n",
    "#Implementiere eine Methode, damit die Klasse wie folgt angezeigt wird:\n",
    "\n",
    "\n",
    "#Beispiel:\n",
    "#print(geschenkliste)\n",
    "\n",
    "#Ausgabe:\n",
    "\n",
    "#1. Spielzeugauto\n",
    "#2. Puppe\n",
    "#3. Baukasten\n"
   ]
  },
  {
   "cell_type": "code",
   "execution_count": null,
   "metadata": {},
   "outputs": [],
   "source": []
  },
  {
   "cell_type": "markdown",
   "metadata": {},
   "source": [
    "### Santas Liste\n",
    "a) Erstelle eine Klasse Santas_Liste, welche intern aus einem Dictionary besteht.\n",
    "\n",
    "b) Erstelle eine Methode, um einen neuen Eintrag hinzuzufügen: Key ist der Name eines Kindes und Value ist entweder \"brav\" oder \"böse\", andere Werte führen zu einer selbst geschriebenen \"UnvalidStatusException\". \n",
    "\n",
    "c) Implementiere außerdem eine weitere Methode, um den Status eines Kindes zu ändern (brav -> böse und umgekehrt) - wenn das Kind nicht in der Liste ist, dann gib eine Entsprechende Ausgabe auf der Konsole aus. Die Methode soll ausgeben, was geändert wurde (\"Der Status von Kind x wurde zu y geändert\")\n",
    "\n",
    "d) Schreibe zwei Methoden alle_kinder_mit_status, welche entweder den String \"brav\" oder \"böse\" übergeben bekommt (ansonsten soll wieder die Status exception geworfen werden) und dann eine Liste zurückgibt mit allen kindern, welche auf der Liste stehen und den entsprechenden Status haben.\n",
    "\n",
    "d) Implementiere die __str__-Methode, sodass folgende Ausgabe zustande kommt:\n",
    "\n",
    "   Santas Liste:\n",
    "   \n",
    "   Brave Kinder: [Name1, Name2, Name 3]\n",
    "   \n",
    "   Böse Kinder: [Name1, Name2, Name3]"
   ]
  },
  {
   "cell_type": "code",
   "execution_count": null,
   "metadata": {},
   "outputs": [],
   "source": []
  }
 ],
 "metadata": {
  "kernelspec": {
   "display_name": "Python 3",
   "language": "python",
   "name": "python3"
  },
  "language_info": {
   "codemirror_mode": {
    "name": "ipython",
    "version": 3
   },
   "file_extension": ".py",
   "mimetype": "text/x-python",
   "name": "python",
   "nbconvert_exporter": "python",
   "pygments_lexer": "ipython3",
   "version": "3.7.3"
  }
 },
 "nbformat": 4,
 "nbformat_minor": 4
}
