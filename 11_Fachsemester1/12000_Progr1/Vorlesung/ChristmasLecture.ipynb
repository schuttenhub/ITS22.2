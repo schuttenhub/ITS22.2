{
 "cells": [
  {
   "cell_type": "code",
   "execution_count": null,
   "metadata": {},
   "outputs": [],
   "source": [
    "# Gib die genauen Ausgaben der folgenden Ausdrücken an"
   ]
  },
  {
   "cell_type": "code",
   "execution_count": null,
   "metadata": {},
   "outputs": [],
   "source": [
    "(a) ['Rudolph', 'das rotnasige Rentier', 'ist der Liebling der Weihnachtsmann'][1+1]\n",
    "(b) 'Weihnachten' + str(3)\n",
    "(c) 'Weihnachtsmütze' not in ['Weihnachtsbaum', 'Geschenke', 'Plätzchen']\n",
    "(e) [x.endswith('e') for x in 'Weihnachten ist die Zeit für Familie und Freunde'.split()]\n",
    "(f) 'Weihnachtsdekoration'[:9]\n",
    "(g) 'Weihnachtslieder'[-3:]\n",
    "(h) 'Weihnachtsmann Elfe Rentier'.split()[::-1]\n",
    "(i) [1] + ['Weihnachten']\n",
    "(j) 'Merry Christmas'[:6] + 'Weihnachten'\n",
    "(k) [i in ['Weihnachtsbaum', 'Geschenke', 'Plätzchen']for i in range(3)]\n",
    "(l) 'Weihnachtsstimmung' if True else 1/0\n",
    "(m) False and 'Weihnachtsmann'\n",
    "(n) \"Geschenk\" or True"
   ]
  },
  {
   "cell_type": "code",
   "execution_count": null,
   "metadata": {},
   "outputs": [],
   "source": [
    "False and 's'"
   ]
  },
  {
   "cell_type": "code",
   "execution_count": null,
   "metadata": {},
   "outputs": [],
   "source": [
    "# Schreibe eine Funktion, welche die gegebenen Datenstrukturen übergeben bekommt (Geschenksack, Wunschliste und santas_list). \n",
    "#Die Funktion soll durch die Wunschliste durchgehen und prüfen, ob das Kind brav oder böse war. \n",
    "#Wenn das Kind böse war, dann soll ausgegeben werden, dass das Kind kein Geschenk bekommt, weil es böse war. \n",
    "#Wenn das Kind brav war soll geprüft werden, ob das gewünschte Geschenk im Geschenkesack ist. \n",
    "#Wenn es vorhanden ist, dann soll eine entsprechende Ausgabe ausgegeben werden. \n",
    "#Wenn das Geschenk nicht im Sack ist, dann soll ebenfalls ein entsprechender String ausgegeben werden.\n",
    "\n",
    "\n",
    "#Beispielaufruf:\n",
    "#geschenke_verteilen(geschenkesack, wunschliste, santas_liste)\n",
    "\n",
    "#Anna bekommt ein Lego-Set.\n",
    "#Benno bekommt kein PS5, weil es nicht im Geschenkesack ist.\n",
    "#Carlotta bekommt ein Actionfigur.\n",
    "#David bekommt ein Puzzle.\n",
    "#Emma bekommt ein Malbuch.\n",
    "#Finn bekommt ein Bastelset.\n",
    "#Greta bekommt ein Spielzeugauto.\n",
    "#Hannah bekommt kein Geschenk, weil es böse war.\n",
    "#Igor bekommt kein Geschenk, weil es böse war.\n",
    "#Julia bekommt kein Geschenk, weil es böse war."
   ]
  },
  {
   "cell_type": "code",
   "execution_count": null,
   "metadata": {},
   "outputs": [],
   "source": [
    "geschenkesack = [\"Lego-Set\", \"Puppe\", \"Actionfigur\", \"Puzzle\", \"Malbuch\", \"Bastelset\", \n",
    "                 \"Spielzeugauto\", \"Plüschtier\", \"Musikinstrument\", \"Baukasten\"]\n",
    "\n",
    "wunschliste = {\n",
    "    \"Anna\": \"Lego-Set\",\n",
    "    \"Benno\": \"PS5\",\n",
    "    \"Carlotta\": \"Actionfigur\",\n",
    "    \"David\": \"Puzzle\",\n",
    "    \"Emma\": \"Malbuch\",\n",
    "    \"Finn\": \"Bastelset\",\n",
    "    \"Greta\": \"Spielzeugauto\",\n",
    "    \"Hannah\": \"Plüschtier\",\n",
    "    \"Igor\": \"Musikinstrument\",\n",
    "    \"Julia\": \"Baukasten\"\n",
    "}\n",
    "\n",
    "santas_liste = {\n",
    "    \"Anna\": \"brav\",\n",
    "    \"Benno\": \"brav\",\n",
    "    \"Carlotta\": \"brav\",\n",
    "    \"David\": \"brav\",\n",
    "    \"Emma\": \"brav\",\n",
    "    \"Finn\": \"brav\",\n",
    "    \"Greta\": \"brav\",\n",
    "    \"Hannah\": \"böse\",\n",
    "    \"Igor\": \"böse\",\n",
    "    \"Julia\": \"böse\"\n",
    "}\n",
    "\n",
    "def geschenke_verteilen(geschenk_sack, wunsch_liste, santas_liste):\n",
    "    for kind,geschenk in wunsch_liste.items():\n",
    "        if santas_liste[kind] == 'brav':\n",
    "            if geschenk in geschenk_sack:\n",
    "                print(f\"{kind} bekommt {geschenk}\")\n",
    "            else:\n",
    "                print(f\"{kind} bekommt kein {geschenk}\")\n",
    "        else:\n",
    "            print(f\"{kind} bekommt bekommt kein Geschenk, weil es böse war\")"
   ]
  },
  {
   "cell_type": "code",
   "execution_count": null,
   "metadata": {},
   "outputs": [],
   "source": [
    "geschenke_verteilen(geschenkesack, wunschliste, santas_liste)"
   ]
  },
  {
   "cell_type": "code",
   "execution_count": null,
   "metadata": {},
   "outputs": [],
   "source": []
  },
  {
   "cell_type": "code",
   "execution_count": null,
   "metadata": {},
   "outputs": [],
   "source": [
    "# Schreibe eine Funktion draw_christmas_tree, welche eine Höhe als Integer übergeben bekommt. \n",
    "#Es soll ein Weihnachtsbaum auf der Konsole ausgegeben werden, zusammen mit einem Stamm. (siehe Beispiel)\n",
    "\n",
    "#draw_christmas_tree(5)\n",
    "\n",
    "#    *\n",
    "#   ***\n",
    "#  *****\n",
    "# *******\n",
    "#*********\n",
    "#    ||\n",
    "\n",
    "def draw_christmas_tree(hoehe):\n",
    "    leerzeichen = hoehe-1\n",
    "    sternchen = 1\n",
    "    for zeilen in range(hoehe):\n",
    "        print(\" \"*leerzeichen,\"*\"*sternchen,\" \"*leerzeichen)\n",
    "        leerzeichen -=1\n",
    "        sternchen += 2\n",
    "    print(\" \"*(hoehe-1) + \"||\")"
   ]
  },
  {
   "cell_type": "code",
   "execution_count": null,
   "metadata": {},
   "outputs": [],
   "source": [
    "draw_christmas_tree(10)"
   ]
  },
  {
   "cell_type": "code",
   "execution_count": null,
   "metadata": {},
   "outputs": [],
   "source": [
    "# Erstelle eine Klasse Geschenkliste, welche intern eine Liste enthält. \n",
    "#Implementiere eine Methode, um Geschenke hinzuzufügen und eine Methode, um Geschenke zu entfernen. \n",
    "#Implementiere eine Methode, damit die Klasse wie folgt angezeigt wird:\n",
    "\n",
    "\n",
    "#Beispiel:\n",
    "#print(geschenkliste)\n",
    "\n",
    "#Ausgabe:\n",
    "\n",
    "#1. Spielzeugauto\n",
    "#2. Puppe\n",
    "#3. Baukasten\n"
   ]
  },
  {
   "cell_type": "code",
   "execution_count": 53,
   "metadata": {},
   "outputs": [],
   "source": [
    "class Geschenkliste:\n",
    "    def __init__(self):\n",
    "        self.geschenk_liste = []\n",
    "    def __repr__(self):\n",
    "        i=1\n",
    "        for geschenk in self.geschenk_liste:\n",
    "            print(f\"{i}. {geschenk}\")\n",
    "            i+=1\n",
    "    def add_geschenk(self, geschenk):\n",
    "        self.geschenk_liste.append(geschenk)\n",
    "    def remove_geschenk(self, geschenk_to_remove):\n",
    "        self.geschenk_liste.pop(geschenk_to_remove)\n",
    "        "
   ]
  },
  {
   "cell_type": "code",
   "execution_count": 56,
   "metadata": {},
   "outputs": [
    {
     "name": "stdout",
     "output_type": "stream",
     "text": [
      "1. PS5\n",
      "2. Lego-Set\n",
      "3. Gaming-PC\n"
     ]
    },
    {
     "ename": "TypeError",
     "evalue": "__str__ returned non-string (type NoneType)",
     "output_type": "error",
     "traceback": [
      "\u001b[1;31m---------------------------------------------------------------------------\u001b[0m",
      "\u001b[1;31mTypeError\u001b[0m                                 Traceback (most recent call last)",
      "Cell \u001b[1;32mIn [56], line 6\u001b[0m\n\u001b[0;32m      3\u001b[0m g_liste\u001b[39m.\u001b[39madd_geschenk(\u001b[39m\"\u001b[39m\u001b[39mLego-Set\u001b[39m\u001b[39m\"\u001b[39m)\n\u001b[0;32m      4\u001b[0m g_liste\u001b[39m.\u001b[39madd_geschenk(\u001b[39m\"\u001b[39m\u001b[39mGaming-PC\u001b[39m\u001b[39m\"\u001b[39m)\n\u001b[1;32m----> 6\u001b[0m \u001b[39mprint\u001b[39;49m(g_liste)\n",
      "\u001b[1;31mTypeError\u001b[0m: __str__ returned non-string (type NoneType)"
     ]
    }
   ],
   "source": [
    "g_liste = Geschenkliste()\n",
    "g_liste.add_geschenk(\"PS5\")\n",
    "g_liste.add_geschenk(\"Lego-Set\")\n",
    "g_liste.add_geschenk(\"Gaming-PC\")\n",
    "\n",
    "print(g_liste)"
   ]
  },
  {
   "cell_type": "markdown",
   "metadata": {},
   "source": [
    "### Santas Liste\n",
    "a) Erstelle eine Klasse Santas_Liste, welche intern aus einem Dictionary besteht.\n",
    "\n",
    "b) Erstelle eine Methode, um einen neuen Eintrag hinzuzufügen: Key ist der Name eines Kindes und Value ist entweder \"brav\" oder \"böse\", andere Werte führen zu einer selbst geschriebenen \"UnvalidStatusException\". \n",
    "\n",
    "c) Implementiere außerdem eine weitere Methode, um den Status eines Kindes zu ändern (brav -> böse und umgekehrt) - wenn das Kind nicht in der Liste ist, dann gib eine Entsprechende Ausgabe auf der Konsole aus. Die Methode soll ausgeben, was geändert wurde (\"Der Status von Kind x wurde zu y geändert\")\n",
    "\n",
    "d) Schreibe zwei Methoden alle_kinder_mit_status, welche entweder den String \"brav\" oder \"böse\" übergeben bekommt (ansonsten soll wieder die Status exception geworfen werden) und dann eine Liste zurückgibt mit allen kindern, welche auf der Liste stehen und den entsprechenden Status haben.\n",
    "\n",
    "d) Implementiere die __str__-Methode, sodass folgende Ausgabe zustande kommt:\n",
    "\n",
    "   Santas Liste:\n",
    "   \n",
    "   Brave Kinder: [Name1, Name2, Name 3]\n",
    "   \n",
    "   Böse Kinder: [Name1, Name2, Name3]"
   ]
  },
  {
   "cell_type": "code",
   "execution_count": null,
   "metadata": {},
   "outputs": [],
   "source": []
  }
 ],
 "metadata": {
  "kernelspec": {
   "display_name": "Python 3",
   "language": "python",
   "name": "python3"
  },
  "language_info": {
   "codemirror_mode": {
    "name": "ipython",
    "version": 3
   },
   "file_extension": ".py",
   "mimetype": "text/x-python",
   "name": "python",
   "nbconvert_exporter": "python",
   "pygments_lexer": "ipython3",
   "version": "3.10.7 (tags/v3.10.7:6cc6b13, Sep  5 2022, 14:08:36) [MSC v.1933 64 bit (AMD64)]"
  },
  "vscode": {
   "interpreter": {
    "hash": "26de051ba29f2982a8de78e945f0abaf191376122a1563185a90213a26c5da77"
   }
  }
 },
 "nbformat": 4,
 "nbformat_minor": 4
}
