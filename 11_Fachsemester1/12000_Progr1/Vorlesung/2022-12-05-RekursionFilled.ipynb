{
 "cells": [
  {
   "cell_type": "markdown",
   "metadata": {},
   "source": [
    "# Rekursion\n",
    "Bei der rekursiven Programmierung ruft sich eine Prozedur, Funktion oder Methode in einem Computerprogramm selbst wieder auf (d. h. enthält eine Rekursion). Auch der gegenseitige Aufruf stellt eine Rekursion dar.\n",
    "\n",
    "Wichtig bei der rekursiven Programmierung ist eine Abbruchbedingung in dieser Funktion, weil sich das rekursive Programm sonst theoretisch unendlich oft selbst aufrufen würde."
   ]
  },
  {
   "cell_type": "markdown",
   "metadata": {},
   "source": [
    "Beispiel: Fakultät"
   ]
  },
  {
   "cell_type": "code",
   "execution_count": 12,
   "metadata": {},
   "outputs": [
    {
     "data": {
      "text/plain": [
       "8222838654177922817725562880000000"
      ]
     },
     "execution_count": 12,
     "metadata": {},
     "output_type": "execute_result"
    }
   ],
   "source": [
    "def fakultaet(n): #iterative loesung\n",
    "    erg = 1\n",
    "    for i in range(1, n+1):\n",
    "        erg *= i\n",
    "    return erg\n",
    "\n",
    "fakultaet(31)"
   ]
  },
  {
   "cell_type": "code",
   "execution_count": 11,
   "metadata": {},
   "outputs": [
    {
     "data": {
      "text/plain": [
       "8222838654177922817725562880000000"
      ]
     },
     "execution_count": 11,
     "metadata": {},
     "output_type": "execute_result"
    }
   ],
   "source": [
    "def fakultaet_rekursiv(n):\n",
    "    if n == 1:\n",
    "        return 1\n",
    "    else:\n",
    "        return n * fakultaet_rekursiv(n-1)\n",
    "    \n",
    "fakultaet_rekursiv(31)\n"
   ]
  },
  {
   "cell_type": "code",
   "execution_count": 13,
   "metadata": {},
   "outputs": [
    {
     "data": {
      "text/plain": [
       "120"
      ]
     },
     "execution_count": 13,
     "metadata": {},
     "output_type": "execute_result"
    }
   ],
   "source": [
    "5 * 4 * 3 * 2 * 1"
   ]
  },
  {
   "cell_type": "code",
   "execution_count": null,
   "metadata": {},
   "outputs": [],
   "source": [
    "5 * fakultaet_rekursiv(4)"
   ]
  },
  {
   "cell_type": "markdown",
   "metadata": {},
   "source": [
    "# Übung Rekursion"
   ]
  },
  {
   "cell_type": "markdown",
   "metadata": {},
   "source": [
    "Es sind Gruppen gegeben. Gruppen haben einen Namen und eine Liste von Mitgliedern. Mitglieder können User oder andere Gruppen sein."
   ]
  },
  {
   "cell_type": "code",
   "execution_count": 15,
   "metadata": {},
   "outputs": [
    {
     "name": "stdout",
     "output_type": "stream",
     "text": [
      "ParentGroup: [Finn, Mila, ChildGroup]\n",
      "ChildGroup: [Lina, LeavesGroup, Ben, EmptyGroup]\n",
      "LeavesGroup: [Emilia, Noah]\n"
     ]
    }
   ],
   "source": [
    "class Group:\n",
    "    def __init__(self, name, members):\n",
    "        self.name = name\n",
    "        self.members = members\n",
    "    \n",
    "    def __repr__(self):\n",
    "        return self.name\n",
    "    \n",
    "class User:\n",
    "    def __init__(self, name):\n",
    "        self.name = name\n",
    "        \n",
    "    def __repr__(self):\n",
    "        return self.name\n",
    "\n",
    "leavesgroup = Group(\"LeavesGroup\", [User(\"Emilia\"), User(\"Noah\")])\n",
    "childgroup = Group(\"ChildGroup\", [User(\"Lina\"), leavesgroup, User(\"Ben\"), Group(\"EmptyGroup\", [])])\n",
    "parent = Group(\"ParentGroup\", [User(\"Finn\"), User(\"Mila\"), childgroup])\n",
    "\n",
    "print(f\"{parent.name}: {parent.members}\")\n",
    "print(f\"{childgroup.name}: {childgroup.members}\")\n",
    "print(f\"{leavesgroup.name}: {leavesgroup.members}\")"
   ]
  },
  {
   "cell_type": "markdown",
   "metadata": {},
   "source": [
    "Ziel: Eine Liste mit allen Gruppen unterhalb einer Rootgroup (Rootgroup incl.) <br>\n",
    "In unserem Fall: **[ParentGroup, Childgroup, LeavesGroup, EmptyGroup]**"
   ]
  },
  {
   "cell_type": "code",
   "execution_count": 16,
   "metadata": {},
   "outputs": [
    {
     "data": {
      "text/plain": [
       "[ParentGroup, ChildGroup, LeavesGroup, EmptyGroup]"
      ]
     },
     "execution_count": 16,
     "metadata": {},
     "output_type": "execute_result"
    }
   ],
   "source": [
    "#iterativer Ansatz:\n",
    "\n",
    "def get_groups_iterative(rootgroup):\n",
    "    groups = [rootgroup]\n",
    "    for member in rootgroup.members:\n",
    "        if isinstance(member, Group):\n",
    "            groups.append(member)\n",
    "            for member2 in member.members:\n",
    "                if isinstance(member2, Group):\n",
    "                    groups.append(member2)\n",
    "                    for member3 in member2.members:\n",
    "                        if isinstance(member3, Group):\n",
    "                            groups.append(member3)\n",
    "    return groups\n",
    "                            \n",
    "get_groups_iterative(parent)"
   ]
  },
  {
   "cell_type": "code",
   "execution_count": 17,
   "metadata": {},
   "outputs": [
    {
     "data": {
      "text/plain": [
       "[ParentGroup, ChildGroup, LeavesGroup, EmptyGroup]"
      ]
     },
     "execution_count": 17,
     "metadata": {},
     "output_type": "execute_result"
    }
   ],
   "source": [
    "#rekursiver Ansatz\n",
    "\n",
    "def get_groups_recursive(rootgroup):\n",
    "    groups = [rootgroup]\n",
    "    for member in rootgroup.members:\n",
    "        if isinstance(member, Group):\n",
    "            groups += get_groups_recursive(member)\n",
    "    return groups\n",
    "\n",
    "get_groups_recursive(parent)"
   ]
  },
  {
   "cell_type": "code",
   "execution_count": 43,
   "metadata": {},
   "outputs": [],
   "source": [
    "#Aufgabe 6 Starship\n",
    "class ShieldsOnlineException(Exception):\n",
    "    def __str__():\n",
    "        return \"Shields Online! You can't beam while shields are online\"\n",
    "\n",
    "\n",
    "class Starship:\n",
    "    '''starship'''\n",
    "    def __init__(self, ship_name, crew_count, id_number):\n",
    "        self.ship_name = ship_name\n",
    "        self.crew_count = crew_count\n",
    "        self.id_number = id_number\n",
    "        self.shields_online = True\n",
    "    \n",
    "    def change_shield_status(self):\n",
    "        if self.shields_online == True:     #Wenn Schilde Online sind\n",
    "            self.shields_online = False\n",
    "            return \"Schilde wurden herunter gefahren\"\n",
    "        else:                               #Wenn Schilde Offline sind\n",
    "            self.shields_online = True\n",
    "            return \"Schilde wurden herunter gefahren\"\n",
    "\n",
    "    def scan(self, other_starship):\n",
    "        if isinstance(other_starship, Starship):\n",
    "            print(\"-\"*30)\n",
    "            print(\"Scan durchgeführt\")\n",
    "            print(f\"{str(other_starship.ship_name)}\\n{str(other_starship.crew_count)}\\n{str(other_starship.id_number)}\")\n",
    "            print(\"-\"*30)\n",
    "        else:\n",
    "            return \"You can only scan other Starships\"\n",
    "    \n",
    "    def attack(self, other_starship):\n",
    "        if other_starship.shields_online:\n",
    "            other_starship.shields_online = False\n",
    "        else:\n",
    "            other_starship.crew_count = other_starship.crew_count // 2\n",
    "        return f\"{other_starship.shields_online}\\n{other_starship.crew_count}\"\n",
    "    \n",
    "    def beam_team_down(self):\n",
    "        if self.shields_online:\n",
    "            raise ShieldsOnlineException\n",
    "        else:\n",
    "            return \"Beam succesfully beamed\"\n",
    "            \n",
    "            \n",
    "            \n",
    "    "
   ]
  },
  {
   "cell_type": "code",
   "execution_count": 46,
   "metadata": {},
   "outputs": [
    {
     "name": "stdout",
     "output_type": "stream",
     "text": [
      "------------------------------\n",
      "Scan durchgeführt\n",
      "U.S.S. Underprice\n",
      "99\n",
      "23681237\n",
      "------------------------------\n"
     ]
    },
    {
     "ename": "TypeError",
     "evalue": "Starship.beam_team_down() takes 1 positional argument but 2 were given",
     "output_type": "error",
     "traceback": [
      "\u001b[1;31m---------------------------------------------------------------------------\u001b[0m",
      "\u001b[1;31mTypeError\u001b[0m                                 Traceback (most recent call last)",
      "Cell \u001b[1;32mIn [46], line 7\u001b[0m\n\u001b[0;32m      4\u001b[0m starship1\u001b[39m.\u001b[39mscan(starship2)\n\u001b[0;32m      5\u001b[0m starship1\u001b[39m.\u001b[39mattack(starship2)\n\u001b[1;32m----> 7\u001b[0m starship1\u001b[39m.\u001b[39;49mbeam_team_down(starship1)\n",
      "\u001b[1;31mTypeError\u001b[0m: Starship.beam_team_down() takes 1 positional argument but 2 were given"
     ]
    }
   ],
   "source": [
    "starship1 = Starship(\"U.S.S. Enterprise\", 100, 62893764)\n",
    "starship2 = Starship(\"U.S.S. Underprice\", 99, 23681237)\n",
    "\n",
    "starship1.scan(starship2)\n",
    "starship1.attack(starship2)\n",
    "\n",
    "starship1.beam_team_down()"
   ]
  }
 ],
 "metadata": {
  "kernelspec": {
   "display_name": "Python 3.10.7 64-bit",
   "language": "python",
   "name": "python3"
  },
  "language_info": {
   "codemirror_mode": {
    "name": "ipython",
    "version": 3
   },
   "file_extension": ".py",
   "mimetype": "text/x-python",
   "name": "python",
   "nbconvert_exporter": "python",
   "pygments_lexer": "ipython3",
   "version": "3.10.7"
  },
  "vscode": {
   "interpreter": {
    "hash": "26de051ba29f2982a8de78e945f0abaf191376122a1563185a90213a26c5da77"
   }
  }
 },
 "nbformat": 4,
 "nbformat_minor": 4
}
