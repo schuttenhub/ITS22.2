{
 "cells": [
  {
   "cell_type": "code",
   "execution_count": null,
   "metadata": {},
   "outputs": [],
   "source": [
    "#lambda Funktionen\n",
    "\n",
    "def add(zahl1, zahl2):\n",
    "    return zahl1 + zahl2\n",
    "\n",
    "add(2,3)\n"
   ]
  },
  {
   "cell_type": "code",
   "execution_count": null,
   "metadata": {},
   "outputs": [],
   "source": [
    "add_lambda = lambda zahl1, zahl2: zahl1+zahl2\n",
    "add_lambda(2,3)"
   ]
  },
  {
   "cell_type": "code",
   "execution_count": null,
   "metadata": {},
   "outputs": [],
   "source": [
    "#schreibe eine lambda FUnktion, die überprüft ob ein Wort ein vokal enthält\n",
    "\n",
    "def containsVowel(word):\n",
    "    return any([True for letter in word if letter.lower() in 'aeiou' ])\n",
    "\n",
    "(lambda wort: any([True for letter in wort if letter.lower() in 'aeiou' ]))('TRETS')"
   ]
  },
  {
   "cell_type": "code",
   "execution_count": null,
   "metadata": {},
   "outputs": [],
   "source": [
    "#schreibe eine lambda funktion, welche zwei Wörter miteinander vergleicht und das längere wort zurück gibt\n",
    "\n",
    "(lambda wort1,wort2: wort1 if len(wort1) > len(wort2) else wort2)('test','testaberlaenger')"
   ]
  },
  {
   "cell_type": "code",
   "execution_count": null,
   "metadata": {},
   "outputs": [],
   "source": [
    "#schreibe eine lambda funkion, welche eine zahl übergeben bekommen kann und eine liste generiert\n",
    "# mit allen zahlen zwischen 0 und der zahl welche durch 3 und 5 teilbar sind\n",
    "\n",
    "(lambda zahl: [number for number in range(zahl+1) if number%3==0 and number%5==0])(35)"
   ]
  },
  {
   "cell_type": "code",
   "execution_count": null,
   "metadata": {},
   "outputs": [],
   "source": [
    "#e\n",
    "#gegeben ist die liste name_age. Wende auf diese Liste die sorted funktion an\n",
    "# und übergib als key eine lambda-funktion damit nach dem alter sortiert wird\n",
    "name_age = [('Jessie',27),('james',28),('Ash',14),('Rocko',19),('Misty',15)]\n",
    "\n",
    "sorted((lambda liste: [age for name,age in name_age])(name_age))\n",
    "\n",
    "#besser\n",
    "sorted(name_age, key=lambda name_age_tuple: name_age_tuple[1])\n"
   ]
  },
  {
   "cell_type": "code",
   "execution_count": null,
   "metadata": {},
   "outputs": [],
   "source": [
    "list(map(int, ['1','5','8']))\n",
    "\n",
    "\n",
    "list(map(add,[1,2,3],[4,5,6,7]))"
   ]
  },
  {
   "cell_type": "code",
   "execution_count": null,
   "metadata": {},
   "outputs": [],
   "source": [
    "from functools import reduce"
   ]
  },
  {
   "cell_type": "code",
   "execution_count": null,
   "metadata": {},
   "outputs": [],
   "source": [
    "#map funktion um zahlen in Liste zu quadrieren\n",
    "liste1 = [1,2,3,4,5,6,7,8,9]\n",
    "list(map(lambda x: x**2, liste1))"
   ]
  },
  {
   "cell_type": "code",
   "execution_count": null,
   "metadata": {},
   "outputs": [],
   "source": [
    "woerter = ['hello','world','test','wort']\n",
    "reduce(lambda x, y: x + y, list(map(len, woerter)))\n",
    "#oder\n",
    "reduce(lambda x,y: x + len(y), woerter, 0)"
   ]
  },
  {
   "cell_type": "code",
   "execution_count": null,
   "metadata": {},
   "outputs": [],
   "source": [
    "reduce(lambda wort1, wort2: wort1 if len(wort1)>=len(wort2) else wort2, woerter)"
   ]
  },
  {
   "cell_type": "code",
   "execution_count": null,
   "metadata": {},
   "outputs": [],
   "source": [
    "#Filter Funktionen\n"
   ]
  }
 ],
 "metadata": {
  "kernelspec": {
   "display_name": "Python 3",
   "language": "python",
   "name": "python3"
  },
  "language_info": {
   "codemirror_mode": {
    "name": "ipython",
    "version": 3
   },
   "file_extension": ".py",
   "mimetype": "text/x-python",
   "name": "python",
   "nbconvert_exporter": "python",
   "pygments_lexer": "ipython3",
   "version": "3.10.7 (tags/v3.10.7:6cc6b13, Sep  5 2022, 14:08:36) [MSC v.1933 64 bit (AMD64)]"
  },
  "orig_nbformat": 4,
  "vscode": {
   "interpreter": {
    "hash": "26de051ba29f2982a8de78e945f0abaf191376122a1563185a90213a26c5da77"
   }
  }
 },
 "nbformat": 4,
 "nbformat_minor": 2
}
