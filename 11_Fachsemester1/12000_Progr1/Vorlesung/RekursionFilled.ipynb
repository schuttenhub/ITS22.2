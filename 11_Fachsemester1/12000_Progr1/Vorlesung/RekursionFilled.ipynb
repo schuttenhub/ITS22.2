{
 "cells": [
  {
   "cell_type": "markdown",
   "metadata": {},
   "source": [
    "# Rekursion\n",
    "Bei der rekursiven Programmierung ruft sich eine Prozedur, Funktion oder Methode in einem Computerprogramm selbst wieder auf (d. h. enthält eine Rekursion). Auch der gegenseitige Aufruf stellt eine Rekursion dar.\n",
    "\n",
    "Wichtig bei der rekursiven Programmierung ist eine Abbruchbedingung in dieser Funktion, weil sich das rekursive Programm sonst theoretisch unendlich oft selbst aufrufen würde."
   ]
  },
  {
   "cell_type": "markdown",
   "metadata": {},
   "source": [
    "Beispiel: Fakultät"
   ]
  },
  {
   "cell_type": "code",
   "execution_count": 4,
   "metadata": {},
   "outputs": [
    {
     "data": {
      "text/plain": [
       "120"
      ]
     },
     "execution_count": 4,
     "metadata": {},
     "output_type": "execute_result"
    }
   ],
   "source": [
    "def fakultaet(n): #iterative loesung\n",
    "    erg = 1\n",
    "    for i in range(1, n+1):\n",
    "        erg *= i\n",
    "    return erg\n",
    "\n",
    "fakultaet(5)"
   ]
  },
  {
   "cell_type": "code",
   "execution_count": 5,
   "metadata": {},
   "outputs": [
    {
     "data": {
      "text/plain": [
       "120"
      ]
     },
     "execution_count": 5,
     "metadata": {},
     "output_type": "execute_result"
    }
   ],
   "source": [
    "def fakultaet_rekursiv(n):\n",
    "    if n == 1:\n",
    "        return 1\n",
    "    else:\n",
    "        return n * fakultaet_rekursiv(n-1)\n",
    "    \n",
    "fakultaet_rekursiv(5)"
   ]
  },
  {
   "cell_type": "code",
   "execution_count": 6,
   "metadata": {},
   "outputs": [
    {
     "data": {
      "text/plain": [
       "120"
      ]
     },
     "execution_count": 6,
     "metadata": {},
     "output_type": "execute_result"
    }
   ],
   "source": [
    "5 * 4 * 3 * 2 * 1"
   ]
  },
  {
   "cell_type": "code",
   "execution_count": null,
   "metadata": {},
   "outputs": [],
   "source": [
    "5 * fakultaet_rekursiv(4)"
   ]
  },
  {
   "cell_type": "markdown",
   "metadata": {},
   "source": [
    "# Übung Rekursion"
   ]
  },
  {
   "cell_type": "markdown",
   "metadata": {},
   "source": [
    "Es sind Gruppen gegeben. Gruppen haben einen Namen und eine Liste von Mitgliedern. Mitglieder können User oder andere Gruppen sein."
   ]
  },
  {
   "cell_type": "code",
   "execution_count": 25,
   "metadata": {},
   "outputs": [
    {
     "name": "stdout",
     "output_type": "stream",
     "text": [
      "ParentGroup: [Finn, Mila, ChildGroup]\n",
      "ChildGroup: [Lina, LeavesGroup, Ben, EmptyGroup]\n",
      "LeavesGroup: [Emilia, Noah]\n"
     ]
    }
   ],
   "source": [
    "class Group:\n",
    "    def __init__(self, name, members):\n",
    "        self.name = name\n",
    "        self.members = members\n",
    "    \n",
    "    def __repr__(self):\n",
    "        return self.name\n",
    "    \n",
    "class User:\n",
    "    def __init__(self, name):\n",
    "        self.name = name\n",
    "        \n",
    "    def __repr__(self):\n",
    "        return self.name\n",
    "\n",
    "leavesgroup = Group(\"LeavesGroup\", [User(\"Emilia\"), User(\"Noah\")])\n",
    "childgroup = Group(\"ChildGroup\", [User(\"Lina\"), leavesgroup, User(\"Ben\"), Group(\"EmptyGroup\", [])])\n",
    "parent = Group(\"ParentGroup\", [User(\"Finn\"), User(\"Mila\"), childgroup])\n",
    "\n",
    "print(f\"{parent.name}: {parent.members}\")\n",
    "print(f\"{childgroup.name}: {childgroup.members}\")\n",
    "print(f\"{leavesgroup.name}: {leavesgroup.members}\")"
   ]
  },
  {
   "cell_type": "markdown",
   "metadata": {},
   "source": [
    "Ziel: Eine Liste mit allen Gruppen unterhalb einer Rootgroup (Rootgroup incl.) <br>\n",
    "In unserem Fall: **[ParentGroup, Childgroup, LeavesGroup, EmptyGroup]**"
   ]
  },
  {
   "cell_type": "code",
   "execution_count": 26,
   "metadata": {},
   "outputs": [
    {
     "data": {
      "text/plain": [
       "[ParentGroup, ChildGroup, LeavesGroup, EmptyGroup]"
      ]
     },
     "execution_count": 26,
     "metadata": {},
     "output_type": "execute_result"
    }
   ],
   "source": [
    "#iterativer Ansatz:\n",
    "\n",
    "def get_groups_iterative(rootgroup):\n",
    "    groups = [rootgroup]\n",
    "    for member in rootgroup.members:\n",
    "        if isinstance(member, Group):\n",
    "            groups.append(member)\n",
    "            for member2 in member.members:\n",
    "                if isinstance(member2, Group):\n",
    "                    groups.append(member2)\n",
    "                    for member3 in member2.members:\n",
    "                        if isinstance(member3, Group):\n",
    "                            groups.append(member3)\n",
    "    return groups\n",
    "                            \n",
    "get_groups_iterative(parent)"
   ]
  },
  {
   "cell_type": "code",
   "execution_count": 27,
   "metadata": {},
   "outputs": [
    {
     "data": {
      "text/plain": [
       "[ParentGroup, ChildGroup, LeavesGroup, EmptyGroup]"
      ]
     },
     "execution_count": 27,
     "metadata": {},
     "output_type": "execute_result"
    }
   ],
   "source": [
    "#rekursiver Ansatz\n",
    "\n",
    "def get_groups_recursive(rootgroup):\n",
    "    groups = [rootgroup]\n",
    "    for member in rootgroup.members:\n",
    "        if isinstance(member, Group):\n",
    "            groups += get_groups_recursive(member)\n",
    "    return groups\n",
    "\n",
    "get_groups_recursive(parent)"
   ]
  },
  {
   "cell_type": "code",
   "execution_count": null,
   "metadata": {},
   "outputs": [],
   "source": []
  }
 ],
 "metadata": {
  "kernelspec": {
   "display_name": "Python 3",
   "language": "python",
   "name": "python3"
  },
  "language_info": {
   "codemirror_mode": {
    "name": "ipython",
    "version": 3
   },
   "file_extension": ".py",
   "mimetype": "text/x-python",
   "name": "python",
   "nbconvert_exporter": "python",
   "pygments_lexer": "ipython3",
   "version": "3.7.3"
  }
 },
 "nbformat": 4,
 "nbformat_minor": 4
}
