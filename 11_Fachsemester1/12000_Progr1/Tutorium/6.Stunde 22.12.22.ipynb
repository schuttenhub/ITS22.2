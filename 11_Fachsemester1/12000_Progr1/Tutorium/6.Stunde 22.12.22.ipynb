{
 "cells": [
  {
   "cell_type": "code",
   "execution_count": 1,
   "metadata": {},
   "outputs": [],
   "source": [
    "def myIntersection(liste1, liste2):\n",
    "    return [i for i in liste1 if i in liste2 ]"
   ]
  },
  {
   "cell_type": "code",
   "execution_count": null,
   "metadata": {},
   "outputs": [],
   "source": [
    "def myIntersection(liste1, liste2):\n",
    "    neueListe = []\n",
    "    for wert in liste1:\n",
    "        if wert in liste2:\n",
    "            neueListe.append(wert)\n",
    "    return neueListe"
   ]
  },
  {
   "cell_type": "code",
   "execution_count": 2,
   "metadata": {},
   "outputs": [
    {
     "data": {
      "text/plain": [
       "[1, 2]"
      ]
     },
     "execution_count": 2,
     "metadata": {},
     "output_type": "execute_result"
    }
   ],
   "source": [
    "def myKeys(d):\n",
    "    return [keys for keys,values in d.items()]\n",
    "\n",
    "\n",
    "d = {1:\"Hallo\",2:\"Welt\"}\n",
    "\n",
    "myKeys(d)"
   ]
  },
  {
   "cell_type": "code",
   "execution_count": 3,
   "metadata": {},
   "outputs": [
    {
     "data": {
      "text/plain": [
       "[1, 2]"
      ]
     },
     "execution_count": 3,
     "metadata": {},
     "output_type": "execute_result"
    }
   ],
   "source": [
    "def myKeys(d):\n",
    "    return [keys for keys in d]\n",
    "\n",
    "\n",
    "d = {1:\"Hallo\",2:\"Welt\"}\n",
    "\n",
    "myKeys(d)"
   ]
  },
  {
   "cell_type": "code",
   "execution_count": 4,
   "metadata": {},
   "outputs": [
    {
     "data": {
      "text/plain": [
       "['Hallo', 'Welt']"
      ]
     },
     "execution_count": 4,
     "metadata": {},
     "output_type": "execute_result"
    }
   ],
   "source": [
    "def myValues(d):\n",
    "    return [d[key] for key in d]\n",
    "\n",
    "d = {1:\"Hallo\",2:\"Welt\"}\n",
    "\n",
    "myValues(d)"
   ]
  },
  {
   "cell_type": "code",
   "execution_count": null,
   "metadata": {},
   "outputs": [],
   "source": [
    "def myCount(seq, element):\n",
    "    return sum([1 for i in seq if i == element])"
   ]
  },
  {
   "cell_type": "code",
   "execution_count": null,
   "metadata": {},
   "outputs": [],
   "source": [
    "def replaceElem(liste, wert, replace):\n",
    "    for i,counter in enumerate(liste):\n",
    "        if i == wert:\n",
    "            liste[counter] = replace"
   ]
  },
  {
   "cell_type": "code",
   "execution_count": null,
   "metadata": {},
   "outputs": [],
   "source": [
    "def unionDicts(dict1,dict2):\n",
    "    return_dict = {}\n",
    "    return_tuple = ()\n",
    "    for key in dict1:\n",
    "        if key in dict2:\n",
    "            return_tuple += (dict1[key],dict2[key])\n",
    "        else:\n",
    "            \n",
    "    return return_tuple"
   ]
  },
  {
   "cell_type": "code",
   "execution_count": 18,
   "metadata": {},
   "outputs": [
    {
     "data": {
      "text/plain": [
       "True"
      ]
     },
     "execution_count": 18,
     "metadata": {},
     "output_type": "execute_result"
    }
   ],
   "source": [
    "def myEndswith(str1, check_str):\n",
    "    if check_str == str1[-len(check_str):]:\n",
    "        return True\n",
    "    else:\n",
    "        return False\n",
    "    \n",
    "    \n",
    "myEndswith(\"Hallo Welt\",\"lt\")\n",
    "        \n",
    "    "
   ]
  }
 ],
 "metadata": {
  "kernelspec": {
   "display_name": "Python 3",
   "language": "python",
   "name": "python3"
  },
  "language_info": {
   "codemirror_mode": {
    "name": "ipython",
    "version": 3
   },
   "file_extension": ".py",
   "mimetype": "text/x-python",
   "name": "python",
   "nbconvert_exporter": "python",
   "pygments_lexer": "ipython3",
   "version": "3.10.7 (tags/v3.10.7:6cc6b13, Sep  5 2022, 14:08:36) [MSC v.1933 64 bit (AMD64)]"
  },
  "orig_nbformat": 4,
  "vscode": {
   "interpreter": {
    "hash": "26de051ba29f2982a8de78e945f0abaf191376122a1563185a90213a26c5da77"
   }
  }
 },
 "nbformat": 4,
 "nbformat_minor": 2
}
