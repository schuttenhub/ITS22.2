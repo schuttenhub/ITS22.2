{
 "cells": [
  {
   "cell_type": "markdown",
   "id": "88114fb6-b4fe-4ed0-b5ad-5e8bdebc848c",
   "metadata": {},
   "source": [
    "# Tutorium 2.Stunde (24.11.2022)"
   ]
  },
  {
   "cell_type": "markdown",
   "id": "472b237d-cfa8-440d-a84a-128e4b579980",
   "metadata": {},
   "source": [
    "# Der `set`-Typ"
   ]
  },
  {
   "cell_type": "markdown",
   "id": "f30a5b48-b005-434e-be28-15f062bdf2b1",
   "metadata": {},
   "source": [
    "Unterschiede zwischen Menge und Python-Listen / Python-Tupel: \n",
    "1. Die Reihenfolge der Elemente spielt bei einem `set`-Typ keine Rolle\n",
    "2. Werte können in einem `set` nur einmal auftreten.\n",
    "3. Es gibt Einschränkungen, welche Typen die Werte in einem Set haben dürfen. Grund dafür liegt in der internen Implementierung der sets, die man als Python-Anwender so kann direkt sieht."
   ]
  },
  {
   "cell_type": "markdown",
   "id": "7b9ae4ff-f731-46a5-938b-78df0967042f",
   "metadata": {},
   "source": [
    "So kann man ein Set erzeugen: Entweder durch den Namen desd Typs (\"Konstruktor\")"
   ]
  },
  {
   "cell_type": "code",
   "execution_count": 122,
   "id": "1b30a8b1-3be7-403c-8c42-401e10aafe9e",
   "metadata": {},
   "outputs": [
    {
     "data": {
      "text/plain": [
       "{1, 2, 3}"
      ]
     },
     "execution_count": 122,
     "metadata": {},
     "output_type": "execute_result"
    }
   ],
   "source": [
    "set([1,2,3])"
   ]
  },
  {
   "cell_type": "markdown",
   "id": "624f700a-dbd9-490a-ad06-28b50279491e",
   "metadata": {},
   "source": [
    "oder indem man die geschweiften Klammern verwendet."
   ]
  },
  {
   "cell_type": "code",
   "execution_count": 123,
   "id": "2206080d-9aaa-4df1-adcd-8c9d0083937d",
   "metadata": {},
   "outputs": [
    {
     "data": {
      "text/plain": [
       "{1, 2, 3, 4}"
      ]
     },
     "execution_count": 123,
     "metadata": {},
     "output_type": "execute_result"
    }
   ],
   "source": [
    "{1,2,3,4}"
   ]
  },
  {
   "cell_type": "code",
   "execution_count": 124,
   "id": "ae231e62-681d-41ea-b5b7-b2c36a046936",
   "metadata": {},
   "outputs": [
    {
     "data": {
      "text/plain": [
       "set"
      ]
     },
     "execution_count": 124,
     "metadata": {},
     "output_type": "execute_result"
    }
   ],
   "source": [
    "type({1,2,3,4})"
   ]
  },
  {
   "cell_type": "markdown",
   "id": "b832158e-d829-420c-b25a-116a1a1e05da",
   "metadata": {},
   "source": [
    "So sieht man, dass ein bestimmter Wert nur einmal vorkommen darf:"
   ]
  },
  {
   "cell_type": "code",
   "execution_count": 125,
   "id": "de082298-eb69-4240-8a0f-42fbc55bfd1b",
   "metadata": {},
   "outputs": [
    {
     "data": {
      "text/plain": [
       "{1, 2, 3, 4}"
      ]
     },
     "execution_count": 125,
     "metadata": {},
     "output_type": "execute_result"
    }
   ],
   "source": [
    "set([1,1,1,2,3,4,3,3,3,3])"
   ]
  },
  {
   "cell_type": "code",
   "execution_count": 54,
   "id": "db3d98a9-c546-4e1e-90cc-a741ca2fc632",
   "metadata": {},
   "outputs": [
    {
     "data": {
      "text/plain": [
       "False"
      ]
     },
     "execution_count": 54,
     "metadata": {},
     "output_type": "execute_result"
    }
   ],
   "source": [
    "(1,4,10)==(1,10,4) #Tuple, die Reihenfolge spielt eine Rolle"
   ]
  },
  {
   "cell_type": "code",
   "execution_count": 55,
   "id": "df7a77cf-0c6b-417e-bd66-560b3ea62182",
   "metadata": {},
   "outputs": [
    {
     "data": {
      "text/plain": [
       "True"
      ]
     },
     "execution_count": 55,
     "metadata": {},
     "output_type": "execute_result"
    }
   ],
   "source": [
    "{1,4,10}=={1,10,4} #set, Die Reihenfolge spielt keine Rolle"
   ]
  },
  {
   "cell_type": "markdown",
   "id": "19f75329-aa03-435a-9c81-813e6e52470f",
   "metadata": {},
   "source": [
    "Der `in`-Operator testet auf Enthaltensein: "
   ]
  },
  {
   "cell_type": "code",
   "execution_count": 56,
   "id": "a0db0f6d-9106-4e79-a335-20e3f392fe84",
   "metadata": {},
   "outputs": [],
   "source": [
    "s = {10,11,20,22,33,44,100,120}"
   ]
  },
  {
   "cell_type": "code",
   "execution_count": 57,
   "id": "01d9a726-484c-4e7d-bda9-292341545327",
   "metadata": {},
   "outputs": [
    {
     "data": {
      "text/plain": [
       "True"
      ]
     },
     "execution_count": 57,
     "metadata": {},
     "output_type": "execute_result"
    }
   ],
   "source": [
    "20 in s"
   ]
  },
  {
   "cell_type": "markdown",
   "id": "aec2231f-6743-40a2-9102-fdce534f3432",
   "metadata": {},
   "source": [
    "### Elemente einfügen und löschen"
   ]
  },
  {
   "cell_type": "code",
   "execution_count": 65,
   "id": "f7f9e621-8186-4ba7-9cca-8965570ca7aa",
   "metadata": {},
   "outputs": [],
   "source": [
    "s.add(111)"
   ]
  },
  {
   "cell_type": "code",
   "execution_count": 66,
   "id": "dad228b7-fb24-4f31-9f5c-604429fa9e56",
   "metadata": {},
   "outputs": [
    {
     "data": {
      "text/plain": [
       "{10, 11, 20, 22, 33, 44, 100, 111, 120}"
      ]
     },
     "execution_count": 66,
     "metadata": {},
     "output_type": "execute_result"
    }
   ],
   "source": [
    "s"
   ]
  },
  {
   "cell_type": "code",
   "execution_count": 68,
   "id": "cee1e123-3881-4ad1-9a6a-55a2cb5d6aa7",
   "metadata": {},
   "outputs": [],
   "source": [
    "s.remove(20)"
   ]
  },
  {
   "cell_type": "code",
   "execution_count": 69,
   "id": "35cdd60a-c963-43ed-8266-668d2922bc8a",
   "metadata": {},
   "outputs": [
    {
     "data": {
      "text/plain": [
       "{10, 11, 22, 33, 44, 100, 111, 120}"
      ]
     },
     "execution_count": 69,
     "metadata": {},
     "output_type": "execute_result"
    }
   ],
   "source": [
    "s"
   ]
  },
  {
   "cell_type": "markdown",
   "id": "fbfc55e7-ebd8-4f15-92a1-db100bfe9942",
   "metadata": {},
   "source": [
    "## der Typ `dict`"
   ]
  },
  {
   "cell_type": "markdown",
   "id": "522f5011-ab4c-4d51-965d-879eba1d94fd",
   "metadata": {},
   "source": [
    "Implementiert die sogenannten \"Dictionary\"-Operationen: \n",
    "- Einfügen eines Schlüssel-Wert-Paares\n",
    "- Abfrage eines Wertes über den Schlüssel\n",
    "- Löschen eines Schlüssel-Wert-Paares\n",
    "Der dict-Typ ist optimiert nach der Suche über einen Schlüssel, d.h. wenn wir den Schlüssel wissen, dann kann sehr schnell der zugehörige Wert gefunden werden; andersrum aber nicht, d.h. über einen Wert kann der zugehörige Schlüssel nicht schnell gefunden werden."
   ]
  },
  {
   "cell_type": "markdown",
   "id": "8d6e82f8-8bfd-4ec3-b9de-cd756dd1ca4c",
   "metadata": {},
   "source": [
    "Beispiel: Telefonbuch. Hier wären die Schlüssel die Namen (denn darüber kann der Schlüssel, d.h. die Telefonnummer) schnell gefunden werden; entsprechend sind dcie Werte die Telefonnummern. "
   ]
  },
  {
   "cell_type": "code",
   "execution_count": 60,
   "id": "4baf1084-cda1-4517-ab56-fce58f4c60a3",
   "metadata": {},
   "outputs": [],
   "source": [
    "telBuch = { \"Theodor Adorno\":1234,\n",
    "           \"Hannah Arendt\":\"+1 9432123\",\n",
    "           \"Michel Foucault\":\"+33 111\", \n",
    "            \"Gregory Bateson\":\"+44 334455\"}"
   ]
  },
  {
   "cell_type": "code",
   "execution_count": 61,
   "id": "3014e5a1-b26d-4b98-9e61-cb70145cfbf8",
   "metadata": {},
   "outputs": [
    {
     "data": {
      "text/plain": [
       "1234"
      ]
     },
     "execution_count": 61,
     "metadata": {},
     "output_type": "execute_result"
    }
   ],
   "source": [
    "telBuch[\"Theodor Adorno\"]"
   ]
  },
  {
   "cell_type": "code",
   "execution_count": 62,
   "id": "ba0907eb-c4a6-4a7a-bb3c-7024b44cbdc9",
   "metadata": {},
   "outputs": [
    {
     "data": {
      "text/plain": [
       "True"
      ]
     },
     "execution_count": 62,
     "metadata": {},
     "output_type": "execute_result"
    }
   ],
   "source": [
    "\"Theodor Adorno\" in telBuch"
   ]
  },
  {
   "cell_type": "markdown",
   "id": "c6f40e71-65a0-4776-83fb-34af4f50521f",
   "metadata": {
    "tags": []
   },
   "source": [
    "Syntax, wie man einfügt, sucht und löscht ist angelehnt an die Indizierungsd-Syntax."
   ]
  },
  {
   "cell_type": "markdown",
   "id": "3ff6b5f1-0ecc-4f16-827e-3629a8e0082d",
   "metadata": {},
   "source": [
    "**Einfügen und löschen**"
   ]
  },
  {
   "cell_type": "code",
   "execution_count": 63,
   "id": "e3757766-8fcf-4904-a96b-617d8a04c82f",
   "metadata": {},
   "outputs": [],
   "source": [
    "telBuch[\"Erich Fromm\"] = \"+4155 00553\""
   ]
  },
  {
   "cell_type": "code",
   "execution_count": 64,
   "id": "3a549ada-0548-4d4f-a6ce-a5dfaab6ec53",
   "metadata": {},
   "outputs": [
    {
     "data": {
      "text/plain": [
       "{'Theodor Adorno': 1234,\n",
       " 'Hannah Arendt': '+1 9432123',\n",
       " 'Michel Foucault': '+33 111',\n",
       " 'Gregory Bateson': '+44 334455',\n",
       " 'Erich Fromm': '+4155 00553'}"
      ]
     },
     "execution_count": 64,
     "metadata": {},
     "output_type": "execute_result"
    }
   ],
   "source": [
    "telBuch"
   ]
  },
  {
   "cell_type": "code",
   "execution_count": 72,
   "id": "3869f2f0-af7d-4a01-9a3c-47cd93965bf2",
   "metadata": {},
   "outputs": [],
   "source": [
    "del(telBuch[\"Theodor Adorno\"])"
   ]
  },
  {
   "cell_type": "code",
   "execution_count": 73,
   "id": "b13e73ce-2d3a-4f7a-9786-84a5609fdeee",
   "metadata": {},
   "outputs": [
    {
     "data": {
      "text/plain": [
       "{'Hannah Arendt': '+1 9432123',\n",
       " 'Michel Foucault': '+33 111',\n",
       " 'Gregory Bateson': '+44 334455',\n",
       " 'Erich Fromm': '+4155 00553'}"
      ]
     },
     "execution_count": 73,
     "metadata": {},
     "output_type": "execute_result"
    }
   ],
   "source": [
    "telBuch"
   ]
  },
  {
   "cell_type": "code",
   "execution_count": 74,
   "id": "edd955ca-6522-4543-aa8a-49322d0fbee2",
   "metadata": {},
   "outputs": [
    {
     "data": {
      "text/plain": [
       "4"
      ]
     },
     "execution_count": 74,
     "metadata": {},
     "output_type": "execute_result"
    }
   ],
   "source": [
    "len(telBuch)"
   ]
  },
  {
   "cell_type": "code",
   "execution_count": 90,
   "id": "736f5ad1-ff3c-4b8c-9dfd-3009a6ab12db",
   "metadata": {},
   "outputs": [
    {
     "data": {
      "text/plain": [
       "{'Hannah Arendt': '+1 9432123',\n",
       " 'Michel Foucault': '+33 111',\n",
       " 'Gregory Bateson': '+44 334455',\n",
       " 'Erich Fromm': '+4155 00553'}"
      ]
     },
     "execution_count": 90,
     "metadata": {},
     "output_type": "execute_result"
    }
   ],
   "source": [
    "telBuch"
   ]
  },
  {
   "cell_type": "markdown",
   "id": "ee2f990b-fd2a-40b3-b33f-eff8bff12b45",
   "metadata": {},
   "source": [
    "**Element aufrufen vom Dict** "
   ]
  },
  {
   "cell_type": "code",
   "execution_count": 91,
   "id": "620489dd-079b-485b-ba70-bfc903f61eda",
   "metadata": {},
   "outputs": [
    {
     "ename": "KeyError",
     "evalue": "'Max Mustermann'",
     "output_type": "error",
     "traceback": [
      "\u001b[1;31m---------------------------------------------------------------------------\u001b[0m",
      "\u001b[1;31mKeyError\u001b[0m                                  Traceback (most recent call last)",
      "\u001b[1;32m<ipython-input-91-0666470b83b3>\u001b[0m in \u001b[0;36m<module>\u001b[1;34m\u001b[0m\n\u001b[1;32m----> 1\u001b[1;33m \u001b[0mprint\u001b[0m\u001b[1;33m(\u001b[0m\u001b[0mtelBuch\u001b[0m\u001b[1;33m[\u001b[0m\u001b[1;34m\"Max Mustermann\"\u001b[0m\u001b[1;33m]\u001b[0m\u001b[1;33m)\u001b[0m\u001b[1;33m\u001b[0m\u001b[1;33m\u001b[0m\u001b[0m\n\u001b[0m",
      "\u001b[1;31mKeyError\u001b[0m: 'Max Mustermann'"
     ]
    }
   ],
   "source": [
    "print(telBuch[\"Max Mustermann\"])"
   ]
  },
  {
   "cell_type": "code",
   "execution_count": 92,
   "id": "21dc8236-6048-4fa3-8122-3b707df73f70",
   "metadata": {},
   "outputs": [
    {
     "name": "stdout",
     "output_type": "stream",
     "text": [
      "None\n"
     ]
    }
   ],
   "source": [
    "print(telBuch.get(\"Max Mustermann\"))"
   ]
  },
  {
   "cell_type": "code",
   "execution_count": 75,
   "id": "43c76c09-f419-4d3e-80c8-3d759b796da1",
   "metadata": {},
   "outputs": [
    {
     "name": "stdout",
     "output_type": "stream",
     "text": [
      "Hannah Arendt\n",
      "Michel Foucault\n",
      "Gregory Bateson\n",
      "Erich Fromm\n"
     ]
    }
   ],
   "source": [
    "for x in telBuch:\n",
    "    print(x)"
   ]
  },
  {
   "cell_type": "code",
   "execution_count": 76,
   "id": "b609c42a-7a09-4dfd-9cf1-84b5ef270962",
   "metadata": {},
   "outputs": [
    {
     "name": "stdout",
     "output_type": "stream",
     "text": [
      "+1 9432123\n",
      "+33 111\n",
      "+44 334455\n",
      "+4155 00553\n"
     ]
    }
   ],
   "source": [
    "for x in telBuch:\n",
    "    print(telBuch[x])"
   ]
  },
  {
   "cell_type": "code",
   "execution_count": 77,
   "id": "f75f4093-13a9-4782-ab8a-4cbf8de3defa",
   "metadata": {},
   "outputs": [
    {
     "name": "stdout",
     "output_type": "stream",
     "text": [
      "['__class__', '__contains__', '__delattr__', '__delitem__', '__dir__', '__doc__', '__eq__', '__format__', '__ge__', '__getattribute__', '__getitem__', '__gt__', '__hash__', '__init__', '__init_subclass__', '__iter__', '__le__', '__len__', '__lt__', '__ne__', '__new__', '__reduce__', '__reduce_ex__', '__repr__', '__reversed__', '__setattr__', '__setitem__', '__sizeof__', '__str__', '__subclasshook__', 'clear', 'copy', 'fromkeys', 'get', 'items', 'keys', 'pop', 'popitem', 'setdefault', 'update', 'values']\n"
     ]
    }
   ],
   "source": [
    "print(dir(dict))"
   ]
  },
  {
   "cell_type": "code",
   "execution_count": 83,
   "id": "f70ec8ae-b6e2-4e07-baa2-a30cd5d78a1c",
   "metadata": {},
   "outputs": [
    {
     "data": {
      "text/plain": [
       "dict_keys(['Hannah Arendt', 'Michel Foucault', 'Gregory Bateson', 'Erich Fromm'])"
      ]
     },
     "execution_count": 83,
     "metadata": {},
     "output_type": "execute_result"
    }
   ],
   "source": [
    "telBuch.keys()"
   ]
  },
  {
   "cell_type": "code",
   "execution_count": 84,
   "id": "cc224fa1-62cd-453c-abcb-dcabaaafc063",
   "metadata": {},
   "outputs": [
    {
     "data": {
      "text/plain": [
       "dict_values(['+1 9432123', '+33 111', '+44 334455', '+4155 00553'])"
      ]
     },
     "execution_count": 84,
     "metadata": {},
     "output_type": "execute_result"
    }
   ],
   "source": [
    "telBuch.values() #vorsicht:Reihenfolge nicht spezifiziert"
   ]
  },
  {
   "cell_type": "code",
   "execution_count": 85,
   "id": "f9af159f-4c36-41b1-8aca-d3e3ed948190",
   "metadata": {},
   "outputs": [
    {
     "data": {
      "text/plain": [
       "dict_items([('Hannah Arendt', '+1 9432123'), ('Michel Foucault', '+33 111'), ('Gregory Bateson', '+44 334455'), ('Erich Fromm', '+4155 00553')])"
      ]
     },
     "execution_count": 85,
     "metadata": {},
     "output_type": "execute_result"
    }
   ],
   "source": [
    "telBuch.items() #Ein Schlüssel-Wert-Paar ist jeweis ein Tupel."
   ]
  },
  {
   "cell_type": "code",
   "execution_count": 89,
   "id": "1e4d71f7-1b26-43bf-8cb2-8d28f1496646",
   "metadata": {},
   "outputs": [
    {
     "name": "stdout",
     "output_type": "stream",
     "text": [
      "('Hannah Arendt', '+1 9432123')\n",
      "('Michel Foucault', '+33 111')\n",
      "('Gregory Bateson', '+44 334455')\n",
      "('Erich Fromm', '+4155 00553')\n"
     ]
    }
   ],
   "source": [
    "for i in telBuch.items():\n",
    "    print(i)"
   ]
  },
  {
   "cell_type": "markdown",
   "id": "35cc7a51-0d7a-48f7-a741-698206b03b63",
   "metadata": {},
   "source": [
    "## Funktionen"
   ]
  },
  {
   "cell_type": "code",
   "execution_count": 1,
   "id": "0522913e-ca1d-41be-b100-714414f224a0",
   "metadata": {},
   "outputs": [],
   "source": [
    "def f():\n",
    "    print(\"Guten Morgen\")\n",
    "    print(\"Hoffe Du hast gut geschlafen\")\n",
    "def g(): \n",
    "    print(\"Guten Abend\")\n",
    "    print(\"Hoffe du hattest einen schönen Tag\")"
   ]
  },
  {
   "cell_type": "code",
   "execution_count": 2,
   "id": "f7b4151d-e0ae-4944-a974-6094fc9e3f79",
   "metadata": {},
   "outputs": [
    {
     "name": "stdout",
     "output_type": "stream",
     "text": [
      "Guten Morgen\n",
      "Hoffe Du hast gut geschlafen\n"
     ]
    }
   ],
   "source": [
    "f()"
   ]
  },
  {
   "cell_type": "code",
   "execution_count": 3,
   "id": "4851f2c0-aaba-49b5-95ae-df0aed1f2f9e",
   "metadata": {},
   "outputs": [
    {
     "name": "stdout",
     "output_type": "stream",
     "text": [
      "Guten Abend\n",
      "Hoffe du hattest einen schönen Tag\n"
     ]
    }
   ],
   "source": [
    "g()"
   ]
  },
  {
   "cell_type": "code",
   "execution_count": 4,
   "id": "531b6c20-32f0-4498-948f-42d8ff9c6758",
   "metadata": {},
   "outputs": [],
   "source": [
    "def gutenMorgen(n): # Fkt hat einen Parameter n \n",
    "    print(\"Guten Morgen \", n, \"!\")\n",
    "    print(\"Hast du gut geschlafen?\")"
   ]
  },
  {
   "cell_type": "code",
   "execution_count": 5,
   "id": "5d561dde-cd75-4499-a028-9efb23ec9a94",
   "metadata": {
    "tags": []
   },
   "outputs": [
    {
     "ename": "TypeError",
     "evalue": "gutenMorgen() missing 1 required positional argument: 'n'",
     "output_type": "error",
     "traceback": [
      "\u001b[1;31m---------------------------------------------------------------------------\u001b[0m",
      "\u001b[1;31mTypeError\u001b[0m                                 Traceback (most recent call last)",
      "\u001b[1;32m<ipython-input-5-b76afa6f2c18>\u001b[0m in \u001b[0;36m<module>\u001b[1;34m\u001b[0m\n\u001b[1;32m----> 1\u001b[1;33m \u001b[0mgutenMorgen\u001b[0m\u001b[1;33m(\u001b[0m\u001b[1;33m)\u001b[0m\u001b[1;33m\u001b[0m\u001b[1;33m\u001b[0m\u001b[0m\n\u001b[0m",
      "\u001b[1;31mTypeError\u001b[0m: gutenMorgen() missing 1 required positional argument: 'n'"
     ]
    }
   ],
   "source": [
    "gutenMorgen()"
   ]
  },
  {
   "cell_type": "code",
   "execution_count": 6,
   "id": "a11f4aa6-47db-4d14-aa47-40238f59fbe3",
   "metadata": {},
   "outputs": [
    {
     "name": "stdout",
     "output_type": "stream",
     "text": [
      "Guten Morgen  Hannah !\n",
      "Hast du gut geschlafen?\n"
     ]
    }
   ],
   "source": [
    "gutenMorgen(\"Hannah\")"
   ]
  },
  {
   "cell_type": "code",
   "execution_count": 9,
   "id": "789fbb6e-d82f-4a51-a1f7-133f764d171e",
   "metadata": {},
   "outputs": [
    {
     "name": "stdin",
     "output_type": "stream",
     "text": [
      "Wie heißt du?  Max\n"
     ]
    },
    {
     "name": "stdout",
     "output_type": "stream",
     "text": [
      "Guten Morgen  Max !\n",
      "Hast du gut geschlafen?\n"
     ]
    }
   ],
   "source": [
    "gutenMorgen(input(\"Wie heißt du? \"))"
   ]
  },
  {
   "cell_type": "code",
   "execution_count": 10,
   "id": "9a1e608b-0a81-4193-b9be-28fef2485ac8",
   "metadata": {},
   "outputs": [],
   "source": [
    "def gutenMorgen(n): # Fkt hat einen Parameter n \n",
    "    return str(\"Guten Morgen \" + n + \"!\")"
   ]
  },
  {
   "cell_type": "code",
   "execution_count": 12,
   "id": "539a1356-923d-4304-ad48-bba747d8cfac",
   "metadata": {},
   "outputs": [
    {
     "data": {
      "text/plain": [
       "'Guten Morgen Max!'"
      ]
     },
     "execution_count": 12,
     "metadata": {},
     "output_type": "execute_result"
    }
   ],
   "source": [
    "gutenMorgen(\"Max\")"
   ]
  },
  {
   "cell_type": "code",
   "execution_count": 13,
   "id": "54cd4e8d-8168-4446-a4f0-f1d93e574354",
   "metadata": {},
   "outputs": [],
   "source": [
    "y=gutenMorgen(\"Max\")"
   ]
  },
  {
   "cell_type": "code",
   "execution_count": 14,
   "id": "9d369074-710f-4bc8-9da9-d67766efa4af",
   "metadata": {},
   "outputs": [
    {
     "data": {
      "text/plain": [
       "'Guten Morgen Max!'"
      ]
     },
     "execution_count": 14,
     "metadata": {},
     "output_type": "execute_result"
    }
   ],
   "source": [
    "y"
   ]
  },
  {
   "cell_type": "code",
   "execution_count": 15,
   "id": "6b832c7c-1132-4902-9a1a-75f92d35c836",
   "metadata": {},
   "outputs": [],
   "source": [
    "def g(n): \n",
    "    erg = 0\n",
    "    for i in range(n): \n",
    "        erg = erg+i\n",
    "        return erg # vorsicht: das steht in der Schleife, d.h. beim ersten Schleifendurchlauf wird Funktion verlassen"
   ]
  },
  {
   "cell_type": "code",
   "execution_count": 19,
   "id": "502403a5-6be4-490b-8b2f-cc2998d7be11",
   "metadata": {},
   "outputs": [
    {
     "data": {
      "text/plain": [
       "0"
      ]
     },
     "execution_count": 19,
     "metadata": {},
     "output_type": "execute_result"
    }
   ],
   "source": [
    "g(3)"
   ]
  },
  {
   "cell_type": "code",
   "execution_count": 20,
   "id": "87b8e45b-bb0b-4ba3-ac89-0ce46870627c",
   "metadata": {},
   "outputs": [],
   "source": [
    "def g(n): \n",
    "    erg = 0\n",
    "    for i in range(n): \n",
    "        erg = erg+i\n",
    "    return erg "
   ]
  },
  {
   "cell_type": "code",
   "execution_count": 21,
   "id": "5702168b-9108-4fa1-8973-b80d4c829227",
   "metadata": {},
   "outputs": [
    {
     "data": {
      "text/plain": [
       "3"
      ]
     },
     "execution_count": 21,
     "metadata": {},
     "output_type": "execute_result"
    }
   ],
   "source": [
    "g(3)"
   ]
  },
  {
   "cell_type": "markdown",
   "id": "b79ce65c-11aa-4c87-8ba0-557d784e42bc",
   "metadata": {},
   "source": [
    "## Typen der Parameter\n"
   ]
  },
  {
   "cell_type": "markdown",
   "id": "1b46eaf8-eab8-4ba3-960b-f044dfc1a4f0",
   "metadata": {},
   "source": [
    "Sowohl Parameter als auch Rückgabewerte können beliebige Typen haben -- alles ist erlaubt."
   ]
  },
  {
   "cell_type": "markdown",
   "id": "17ca3dc8-5031-473d-baf9-3c83b572ea04",
   "metadata": {},
   "source": [
    "Parameter können also sowohl \"einfache Typen\" (`int`, `float`) als auch zusammengesetzte Typen (`str`, `list`, `tuple`, usw.) als auch Funktionstypen haben; gleiches gilt für die Typen der Rückgabewerte"
   ]
  },
  {
   "cell_type": "markdown",
   "id": "ff00a789-2162-44e4-a65d-47540a0f4991",
   "metadata": {},
   "source": [
    "Einige Beispiele: "
   ]
  },
  {
   "cell_type": "code",
   "execution_count": 93,
   "id": "4b8c4e6a-6a87-4827-bfd1-b8c6d162de49",
   "metadata": {},
   "outputs": [],
   "source": [
    "def f(l1,l2,l3): \n",
    "    return l3[::-1] + l2[::-1] + l1[::-1]"
   ]
  },
  {
   "cell_type": "code",
   "execution_count": 94,
   "id": "1e9b6535-53d4-4657-8d6e-0a0e217885e2",
   "metadata": {},
   "outputs": [
    {
     "data": {
      "text/plain": [
       "[200, 100, 30, 20, 10, 3, 2, 1]"
      ]
     },
     "execution_count": 94,
     "metadata": {},
     "output_type": "execute_result"
    }
   ],
   "source": [
    "f([1,2,3], [10,20,30], [100,200])"
   ]
  },
  {
   "cell_type": "code",
   "execution_count": 95,
   "id": "265797de-becf-4ec1-bca5-2019746981b4",
   "metadata": {},
   "outputs": [
    {
     "data": {
      "text/plain": [
       "' YX Hallo Welt'"
      ]
     },
     "execution_count": 95,
     "metadata": {},
     "output_type": "execute_result"
    }
   ],
   "source": [
    "f(\"tleW \", \"ollaH\", \" XY \")"
   ]
  },
  {
   "cell_type": "markdown",
   "id": "5ef1f8ad-ea81-4d7b-8534-ee0a7c786e88",
   "metadata": {},
   "source": [
    "Beispiel für eine Funktion, die Funktionen als Argument bekommt: "
   ]
  },
  {
   "cell_type": "code",
   "execution_count": 97,
   "id": "d8375db9-e917-4504-88a2-96ed50ce31ae",
   "metadata": {},
   "outputs": [],
   "source": [
    "def g(x,y,z): \n",
    "    return x(y) + x(z)"
   ]
  },
  {
   "cell_type": "code",
   "execution_count": 98,
   "id": "c3b911cd-d97a-4d69-9361-0fe34575dadb",
   "metadata": {},
   "outputs": [
    {
     "data": {
      "text/plain": [
       "9"
      ]
     },
     "execution_count": 98,
     "metadata": {},
     "output_type": "execute_result"
    }
   ],
   "source": [
    "g(len, \"Hallo\", \"Welt\")"
   ]
  },
  {
   "cell_type": "code",
   "execution_count": 99,
   "id": "6d30d7ba-672e-4911-97b9-a0fa49ce869d",
   "metadata": {},
   "outputs": [
    {
     "data": {
      "text/plain": [
       "'100200'"
      ]
     },
     "execution_count": 99,
     "metadata": {},
     "output_type": "execute_result"
    }
   ],
   "source": [
    "g(str, 100, 200)"
   ]
  },
  {
   "cell_type": "markdown",
   "id": "c36e9481-3e48-4663-a78c-c456d6ab8e47",
   "metadata": {},
   "source": [
    "`in der Klausur Anführungszeichen mit angeben`"
   ]
  },
  {
   "cell_type": "code",
   "execution_count": 100,
   "id": "3478428d-09ec-4fba-a0a8-d9bc163df4a3",
   "metadata": {},
   "outputs": [
    {
     "data": {
      "text/plain": [
       "300"
      ]
     },
     "execution_count": 100,
     "metadata": {},
     "output_type": "execute_result"
    }
   ],
   "source": [
    "g(int, 100.3, 200.4)"
   ]
  },
  {
   "cell_type": "code",
   "execution_count": 101,
   "id": "a1c5a72e-e2aa-480b-9b3b-84f08fac9b22",
   "metadata": {},
   "outputs": [
    {
     "data": {
      "text/plain": [
       "[0, 1, 2, 0, 1, 2, 3]"
      ]
     },
     "execution_count": 101,
     "metadata": {},
     "output_type": "execute_result"
    }
   ],
   "source": [
    "g(list, range(3), range(4))"
   ]
  },
  {
   "cell_type": "markdown",
   "id": "90708843-a191-4899-bfb6-5e964b4bc2d4",
   "metadata": {},
   "source": [
    "Es ist auch eine Funktion denkbar, die eine Funktion zurückliefert."
   ]
  },
  {
   "cell_type": "code",
   "execution_count": 108,
   "id": "ed6cc788-bd87-432f-b4de-f80c249b202a",
   "metadata": {},
   "outputs": [],
   "source": [
    "def plusX(x):\n",
    "    def f(y):\n",
    "        return y+x\n",
    "    return f"
   ]
  },
  {
   "cell_type": "code",
   "execution_count": 110,
   "id": "b9280dab-207a-4a9e-9423-c4f13acf4bd1",
   "metadata": {},
   "outputs": [
    {
     "data": {
      "text/plain": [
       "function"
      ]
     },
     "execution_count": 110,
     "metadata": {},
     "output_type": "execute_result"
    }
   ],
   "source": [
    "type(plusX(5))"
   ]
  },
  {
   "cell_type": "code",
   "execution_count": 109,
   "id": "9fde47da-1b9b-4aaf-8b0e-29feedcda0b4",
   "metadata": {},
   "outputs": [
    {
     "data": {
      "text/plain": [
       "7"
      ]
     },
     "execution_count": 109,
     "metadata": {},
     "output_type": "execute_result"
    }
   ],
   "source": [
    "plusX(5)(2) ##---> retrun plusX(5)(2)"
   ]
  },
  {
   "cell_type": "code",
   "execution_count": 111,
   "id": "2b91bb55-5342-4bd3-b143-cc2fb3af0ca9",
   "metadata": {},
   "outputs": [],
   "source": [
    "def g(x,y,z): \n",
    "    return x(y) + x(z)"
   ]
  },
  {
   "cell_type": "code",
   "execution_count": 112,
   "id": "c1f88f37-161c-4f0c-a4ed-e5e31af363ff",
   "metadata": {},
   "outputs": [
    {
     "data": {
      "text/plain": [
       "19"
      ]
     },
     "execution_count": 112,
     "metadata": {},
     "output_type": "execute_result"
    }
   ],
   "source": [
    "g(plusX(5),2,7) ##---> return plusX(5)(2) + plusX(5)(7)"
   ]
  },
  {
   "cell_type": "code",
   "execution_count": 119,
   "id": "77807361-d465-4ba9-9e87-7343dac7596f",
   "metadata": {},
   "outputs": [],
   "source": [
    "def h(f):\n",
    "    def ff(y): \n",
    "        return f(f(y))\n",
    "    return ff"
   ]
  },
  {
   "cell_type": "markdown",
   "id": "e183494e-d084-4c80-9383-6e22eb146f4f",
   "metadata": {},
   "source": [
    "Die Funktion `h` macht aus einer Funktion `f` eine Funktion `ff` (die `f` zweimal anwendet)."
   ]
  },
  {
   "cell_type": "markdown",
   "id": "3cc0bc27-6394-43da-9a9b-70d90863326b",
   "metadata": {},
   "source": [
    "### Knobelaufgaben"
   ]
  },
  {
   "cell_type": "markdown",
   "id": "b772cc00-a70b-4355-bc61-ca922d0efcc2",
   "metadata": {},
   "source": [
    "- Was ist `h(plusX(2))(5)`\n",
    "- Was ist `g(h(plusX(5)), 2, 7)`\n",
    "- Was ist `g(plusX(5), 2, g(plusX(1), 7, 9))`"
   ]
  },
  {
   "cell_type": "markdown",
   "id": "e43c77df-852c-4cc6-9aac-990b43d367e7",
   "metadata": {},
   "source": [
    "## Scoping (Sichtbarkeit von Variablen / Namen)"
   ]
  },
  {
   "cell_type": "markdown",
   "id": "d0c16d86-4abd-4b00-ac72-db3b1cd8f748",
   "metadata": {},
   "source": [
    "Die Sichtbarkeit von \"Außen\" der Namen in eienr Funktion und umgekehrt -- wie verhält sich damit."
   ]
  },
  {
   "cell_type": "code",
   "execution_count": 22,
   "id": "d564f642-b0c6-4ca2-be25-3f17058f8dd5",
   "metadata": {},
   "outputs": [],
   "source": [
    "def f(x): \n",
    "    a = 2\n",
    "    return x+a"
   ]
  },
  {
   "cell_type": "code",
   "execution_count": 23,
   "id": "000e128f-f6ab-4e81-9705-eb4975249508",
   "metadata": {},
   "outputs": [
    {
     "data": {
      "text/plain": [
       "12"
      ]
     },
     "execution_count": 23,
     "metadata": {},
     "output_type": "execute_result"
    }
   ],
   "source": [
    "f(10)"
   ]
  },
  {
   "cell_type": "code",
   "execution_count": 25,
   "id": "c927786b-29c5-4496-9087-2fbc9f59f3f6",
   "metadata": {},
   "outputs": [
    {
     "ename": "NameError",
     "evalue": "name 'a' is not defined",
     "output_type": "error",
     "traceback": [
      "\u001b[1;31m---------------------------------------------------------------------------\u001b[0m",
      "\u001b[1;31mNameError\u001b[0m                                 Traceback (most recent call last)",
      "\u001b[1;32m<ipython-input-25-bca0e2660b9f>\u001b[0m in \u001b[0;36m<module>\u001b[1;34m\u001b[0m\n\u001b[1;32m----> 1\u001b[1;33m \u001b[0mprint\u001b[0m\u001b[1;33m(\u001b[0m\u001b[0ma\u001b[0m\u001b[1;33m)\u001b[0m\u001b[1;33m\u001b[0m\u001b[1;33m\u001b[0m\u001b[0m\n\u001b[0m",
      "\u001b[1;31mNameError\u001b[0m: name 'a' is not defined"
     ]
    }
   ],
   "source": [
    "print(a)"
   ]
  },
  {
   "cell_type": "code",
   "execution_count": 29,
   "id": "927a297d-8cb1-4c6e-892b-47bc3c8d9d17",
   "metadata": {},
   "outputs": [],
   "source": [
    "a=1"
   ]
  },
  {
   "cell_type": "code",
   "execution_count": 30,
   "id": "91ab6763-4837-4216-842a-8a12af6d0c2e",
   "metadata": {},
   "outputs": [],
   "source": [
    "def f(x): \n",
    "    a = 2\n",
    "    return x+a"
   ]
  },
  {
   "cell_type": "code",
   "execution_count": 31,
   "id": "f078258d-05d9-4d83-96de-2ea4686265bf",
   "metadata": {},
   "outputs": [
    {
     "data": {
      "text/plain": [
       "12"
      ]
     },
     "execution_count": 31,
     "metadata": {},
     "output_type": "execute_result"
    }
   ],
   "source": [
    "f(10)"
   ]
  },
  {
   "cell_type": "markdown",
   "id": "b8238eff-eaa1-485e-bed6-6ada353855a6",
   "metadata": {},
   "source": [
    "Wass passiert hier: Globale Variable wird in der Fuinktion verwendet:"
   ]
  },
  {
   "cell_type": "code",
   "execution_count": 32,
   "id": "9b920a5e-09bb-4fc6-85af-070e31707c99",
   "metadata": {},
   "outputs": [],
   "source": [
    "def g(x): \n",
    "    return x+a"
   ]
  },
  {
   "cell_type": "code",
   "execution_count": 33,
   "id": "d5ddad8a-ed27-453b-9bf7-2a160bb65e45",
   "metadata": {},
   "outputs": [
    {
     "data": {
      "text/plain": [
       "11"
      ]
     },
     "execution_count": 33,
     "metadata": {},
     "output_type": "execute_result"
    }
   ],
   "source": [
    "g(10)"
   ]
  },
  {
   "cell_type": "markdown",
   "id": "81d1328b-36cb-4584-8a0a-693d4bc6e275",
   "metadata": {},
   "source": [
    "Wenn man eine globale Variable in einer Funktion verändern will, dann:"
   ]
  },
  {
   "cell_type": "code",
   "execution_count": 34,
   "id": "d9cbfc89-b6d8-4ac7-997a-68dc74fe7e81",
   "metadata": {},
   "outputs": [],
   "source": [
    "def h(x):\n",
    "    global a\n",
    "    a = a + 10\n",
    "    return x+a"
   ]
  },
  {
   "cell_type": "code",
   "execution_count": 35,
   "id": "87f3c4c7-3427-402c-a507-5a0954d0eee5",
   "metadata": {},
   "outputs": [
    {
     "data": {
      "text/plain": [
       "13"
      ]
     },
     "execution_count": 35,
     "metadata": {},
     "output_type": "execute_result"
    }
   ],
   "source": [
    "h(2) # 2+11"
   ]
  },
  {
   "cell_type": "code",
   "execution_count": 36,
   "id": "19419e0d-000e-4c33-8bdd-56d195427163",
   "metadata": {},
   "outputs": [
    {
     "data": {
      "text/plain": [
       "21"
      ]
     },
     "execution_count": 36,
     "metadata": {},
     "output_type": "execute_result"
    }
   ],
   "source": [
    "h(0) #a=11 "
   ]
  },
  {
   "cell_type": "code",
   "execution_count": 37,
   "id": "4c2ee3a7-8ff8-4c70-b164-3143e6ec4c27",
   "metadata": {},
   "outputs": [
    {
     "data": {
      "text/plain": [
       "31"
      ]
     },
     "execution_count": 37,
     "metadata": {},
     "output_type": "execute_result"
    }
   ],
   "source": [
    "h(0)"
   ]
  },
  {
   "cell_type": "code",
   "execution_count": 38,
   "id": "4148475d-e2d5-443c-b4dc-55d9bf55db09",
   "metadata": {},
   "outputs": [
    {
     "data": {
      "text/plain": [
       "31"
      ]
     },
     "execution_count": 38,
     "metadata": {},
     "output_type": "execute_result"
    }
   ],
   "source": [
    "a"
   ]
  },
  {
   "cell_type": "code",
   "execution_count": 39,
   "id": "0ecef0a4-a34d-4aa7-982e-72229235f2a7",
   "metadata": {},
   "outputs": [],
   "source": [
    "def f(x): \n",
    "    a = 2\n",
    "    return x+a"
   ]
  },
  {
   "cell_type": "code",
   "execution_count": 40,
   "id": "3b3b2104-bfda-424b-b207-6e66f766c122",
   "metadata": {},
   "outputs": [
    {
     "data": {
      "text/plain": [
       "7"
      ]
     },
     "execution_count": 40,
     "metadata": {},
     "output_type": "execute_result"
    }
   ],
   "source": [
    "f(5)"
   ]
  },
  {
   "cell_type": "code",
   "execution_count": 41,
   "id": "4d9f421a-eff8-4553-ba9e-ea9f15e82dab",
   "metadata": {},
   "outputs": [],
   "source": [
    "def f(x): \n",
    "    global a\n",
    "    return x+a"
   ]
  },
  {
   "cell_type": "code",
   "execution_count": 42,
   "id": "77aaba95-0a1e-40e7-bf0e-e0d2c35fff54",
   "metadata": {},
   "outputs": [
    {
     "data": {
      "text/plain": [
       "33"
      ]
     },
     "execution_count": 42,
     "metadata": {},
     "output_type": "execute_result"
    }
   ],
   "source": [
    "f(2)"
   ]
  },
  {
   "cell_type": "code",
   "execution_count": 43,
   "id": "d6efde10-84a0-4baa-9791-c89a5bc5a2e6",
   "metadata": {},
   "outputs": [],
   "source": [
    "def f(x): \n",
    "    global a\n",
    "    a = 2\n",
    "    return x+a"
   ]
  },
  {
   "cell_type": "code",
   "execution_count": 45,
   "id": "e063f6a6-72e3-49b7-9d98-ce42ca9cbaf3",
   "metadata": {},
   "outputs": [
    {
     "data": {
      "text/plain": [
       "7"
      ]
     },
     "execution_count": 45,
     "metadata": {},
     "output_type": "execute_result"
    }
   ],
   "source": [
    "f(5)"
   ]
  },
  {
   "cell_type": "code",
   "execution_count": 46,
   "id": "595790ed-a2a7-47a5-b407-8c295f7b96e4",
   "metadata": {},
   "outputs": [
    {
     "data": {
      "text/plain": [
       "2"
      ]
     },
     "execution_count": 46,
     "metadata": {},
     "output_type": "execute_result"
    }
   ],
   "source": [
    "a"
   ]
  },
  {
   "cell_type": "markdown",
   "id": "d0b982b3-6406-42fb-9ed6-19e2faf82f71",
   "metadata": {},
   "source": [
    "## Positional vs. Named Parameter"
   ]
  },
  {
   "cell_type": "code",
   "execution_count": 47,
   "id": "9c79d57f-369b-4fd6-937b-7dea854a39a8",
   "metadata": {},
   "outputs": [],
   "source": [
    "def f(x,y,z=0, l=[1,2]): \n",
    "    return x+y+z+len(l)"
   ]
  },
  {
   "cell_type": "markdown",
   "id": "2d909260-bd18-4740-9315-2ffa51eb39ea",
   "metadata": {},
   "source": [
    "`z` und `l` sind sog. named parameter, d.h. man kann sie entweder direkt über ihren Namen übergeben, man kann sie gar nicht übergeben (dann werden default-Werte verwendet). "
   ]
  },
  {
   "cell_type": "code",
   "execution_count": 48,
   "id": "124d48d2-2d7e-4f9d-bb7b-ca0e5602ba6a",
   "metadata": {},
   "outputs": [
    {
     "data": {
      "text/plain": [
       "5"
      ]
     },
     "execution_count": 48,
     "metadata": {},
     "output_type": "execute_result"
    }
   ],
   "source": [
    "f(1,2)"
   ]
  },
  {
   "cell_type": "code",
   "execution_count": 49,
   "id": "b872d89c-f9d9-4b11-b27a-53b747c36778",
   "metadata": {},
   "outputs": [
    {
     "data": {
      "text/plain": [
       "8"
      ]
     },
     "execution_count": 49,
     "metadata": {},
     "output_type": "execute_result"
    }
   ],
   "source": [
    "f(1,2,l=[10,11,12,13,14])"
   ]
  }
 ],
 "metadata": {
  "kernelspec": {
   "display_name": "Python 3",
   "language": "python",
   "name": "python3"
  },
  "language_info": {
   "codemirror_mode": {
    "name": "ipython",
    "version": 3
   },
   "file_extension": ".py",
   "mimetype": "text/x-python",
   "name": "python",
   "nbconvert_exporter": "python",
   "pygments_lexer": "ipython3",
   "version": "3.8.8"
  }
 },
 "nbformat": 4,
 "nbformat_minor": 5
}
