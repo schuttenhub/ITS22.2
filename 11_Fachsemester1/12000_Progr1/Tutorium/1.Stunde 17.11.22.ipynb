{
 "cells": [
  {
   "cell_type": "markdown",
   "id": "1928d968-53d9-4605-8d6d-b257f13a6f96",
   "metadata": {},
   "source": [
    "# Tutorium 1.Stunde (17.11.2022)"
   ]
  },
  {
   "cell_type": "markdown",
   "id": "b4a56f01-39bb-49c5-831c-2e2cfd4416c6",
   "metadata": {},
   "source": [
    "### Keyboard-Shortcuts!\n",
    "- `<shift>-<Enter>`: Führe Zelle aus\n",
    "- `<alt>-<Enter>`: Führe Zelle aus und erzeuge unten gleich eine neue Zelle\n",
    "- `y`: Wechsel Modus in \"Code\"\n",
    "- `m`: Wehcsle Modus in \"Markdown\"\n",
    "- `b`: Füge neue Zelle ein\n",
    "- `c` Kopiere Zelle(n)\n",
    "- `x` schneide Zelle(n) aus\n",
    "- `v` füge ein."
   ]
  },
  {
   "cell_type": "code",
   "execution_count": 9,
   "id": "8886bca6-1a53-485f-9fbd-78ac4d439b39",
   "metadata": {},
   "outputs": [
    {
     "name": "stdout",
     "output_type": "stream",
     "text": [
      "['__add__', '__class__', '__contains__', '__delattr__', '__dir__', '__doc__', '__eq__', '__format__', '__ge__', '__getattribute__', '__getitem__', '__getnewargs__', '__gt__', '__hash__', '__init__', '__init_subclass__', '__iter__', '__le__', '__len__', '__lt__', '__mod__', '__mul__', '__ne__', '__new__', '__reduce__', '__reduce_ex__', '__repr__', '__rmod__', '__rmul__', '__setattr__', '__sizeof__', '__str__', '__subclasshook__', 'capitalize', 'casefold', 'center', 'count', 'encode', 'endswith', 'expandtabs', 'find', 'format', 'format_map', 'index', 'isalnum', 'isalpha', 'isascii', 'isdecimal', 'isdigit', 'isidentifier', 'islower', 'isnumeric', 'isprintable', 'isspace', 'istitle', 'isupper', 'join', 'ljust', 'lower', 'lstrip', 'maketrans', 'partition', 'replace', 'rfind', 'rindex', 'rjust', 'rpartition', 'rsplit', 'rstrip', 'split', 'splitlines', 'startswith', 'strip', 'swapcase', 'title', 'translate', 'upper', 'zfill']\n"
     ]
    }
   ],
   "source": [
    "print(dir(str))"
   ]
  },
  {
   "cell_type": "code",
   "execution_count": 15,
   "id": "33a56b13-f2d7-4d55-8309-9922555795b2",
   "metadata": {},
   "outputs": [
    {
     "name": "stdout",
     "output_type": "stream",
     "text": [
      "Help on method_descriptor:\n",
      "\n",
      "split(self, /, sep=None, maxsplit=-1)\n",
      "    Return a list of the words in the string, using sep as the delimiter string.\n",
      "    \n",
      "    sep\n",
      "      The delimiter according which to split the string.\n",
      "      None (the default value) means split according to any whitespace,\n",
      "      and discard empty strings from the result.\n",
      "    maxsplit\n",
      "      Maximum number of splits to do.\n",
      "      -1 (the default value) means no limit.\n",
      "\n"
     ]
    }
   ],
   "source": [
    "help(str.split)"
   ]
  },
  {
   "cell_type": "code",
   "execution_count": 11,
   "id": "ed618308-5ca6-49ee-87f4-ddc1834ac425",
   "metadata": {},
   "outputs": [
    {
     "name": "stdout",
     "output_type": "stream",
     "text": [
      "Help on method_descriptor:\n",
      "\n",
      "startswith(...)\n",
      "    S.startswith(prefix[, start[, end]]) -> bool\n",
      "    \n",
      "    Return True if S starts with the specified prefix, False otherwise.\n",
      "    With optional start, test S beginning at that position.\n",
      "    With optional end, stop comparing S at that position.\n",
      "    prefix can also be a tuple of strings to try.\n",
      "\n"
     ]
    }
   ],
   "source": [
    "help(str.startswith)"
   ]
  },
  {
   "cell_type": "markdown",
   "id": "704622ed-4691-4397-aa5a-051c3fa5951f",
   "metadata": {},
   "source": [
    "## Der Typ `int`"
   ]
  },
  {
   "cell_type": "code",
   "execution_count": 17,
   "id": "7cc59bc2-16f3-4fc0-9b40-5dbff3b7cca0",
   "metadata": {},
   "outputs": [
    {
     "data": {
      "text/plain": [
       "int"
      ]
     },
     "execution_count": 17,
     "metadata": {},
     "output_type": "execute_result"
    }
   ],
   "source": [
    "type(13)"
   ]
  },
  {
   "cell_type": "code",
   "execution_count": 18,
   "id": "09ffc823-e68a-4a0e-9506-023dac5359b2",
   "metadata": {},
   "outputs": [
    {
     "data": {
      "text/plain": [
       "int"
      ]
     },
     "execution_count": 18,
     "metadata": {},
     "output_type": "execute_result"
    }
   ],
   "source": [
    "type(2**3)"
   ]
  },
  {
   "cell_type": "code",
   "execution_count": 21,
   "id": "433861f0-0b16-4ad7-9f56-e5d296f4af50",
   "metadata": {},
   "outputs": [
    {
     "data": {
      "text/plain": [
       "8"
      ]
     },
     "execution_count": 21,
     "metadata": {},
     "output_type": "execute_result"
    }
   ],
   "source": [
    "100 // 12 #Ganzzahldivision"
   ]
  },
  {
   "cell_type": "code",
   "execution_count": 22,
   "id": "be766272-2994-4743-affe-6ea76bf11685",
   "metadata": {},
   "outputs": [
    {
     "data": {
      "text/plain": [
       "8.333333333333334"
      ]
     },
     "execution_count": 22,
     "metadata": {},
     "output_type": "execute_result"
    }
   ],
   "source": [
    "100 / 12"
   ]
  },
  {
   "cell_type": "code",
   "execution_count": 23,
   "id": "f1a27531-23b6-4ef1-befa-e36ac29e5cf4",
   "metadata": {},
   "outputs": [
    {
     "data": {
      "text/plain": [
       "4"
      ]
     },
     "execution_count": 23,
     "metadata": {},
     "output_type": "execute_result"
    }
   ],
   "source": [
    "100 % 12"
   ]
  },
  {
   "cell_type": "markdown",
   "id": "dd68b575-5db1-4bd8-8d2e-e0767e0eef51",
   "metadata": {},
   "source": [
    "## Der Typ `float` (Kommazahl)"
   ]
  },
  {
   "cell_type": "code",
   "execution_count": 24,
   "id": "f7687dd1-c944-4a00-89db-a2a4439f57d0",
   "metadata": {},
   "outputs": [
    {
     "data": {
      "text/plain": [
       "float"
      ]
     },
     "execution_count": 24,
     "metadata": {},
     "output_type": "execute_result"
    }
   ],
   "source": [
    "type(2.1)"
   ]
  },
  {
   "cell_type": "code",
   "execution_count": 25,
   "id": "b0afba82-b292-4d81-957a-af54e587e5a0",
   "metadata": {},
   "outputs": [
    {
     "data": {
      "text/plain": [
       "20.0"
      ]
     },
     "execution_count": 25,
     "metadata": {},
     "output_type": "execute_result"
    }
   ],
   "source": [
    "2.0*10"
   ]
  },
  {
   "cell_type": "code",
   "execution_count": 27,
   "id": "c227e1ef-9a5d-4e52-9513-23985612f8ed",
   "metadata": {},
   "outputs": [
    {
     "data": {
      "text/plain": [
       "20"
      ]
     },
     "execution_count": 27,
     "metadata": {},
     "output_type": "execute_result"
    }
   ],
   "source": [
    "2*10"
   ]
  },
  {
   "cell_type": "markdown",
   "id": "41bd5d34-bb42-4640-87f1-af1ca9cfe383",
   "metadata": {},
   "source": [
    "## Einschub : Casting"
   ]
  },
  {
   "cell_type": "markdown",
   "id": "c9337ec3-cc8a-4a15-bb5a-63a74c2cad78",
   "metadata": {},
   "source": [
    "Casting heißt Typumweandlung. Man kann einen Wert manchmal umwandeln in eines Wert eines anderen Typs. "
   ]
  },
  {
   "cell_type": "code",
   "execution_count": 30,
   "id": "5541dcca-bc97-40b3-ae90-c7d1030bd5b1",
   "metadata": {},
   "outputs": [
    {
     "data": {
      "text/plain": [
       "20"
      ]
     },
     "execution_count": 30,
     "metadata": {},
     "output_type": "execute_result"
    }
   ],
   "source": [
    "int(2.0*10)"
   ]
  },
  {
   "cell_type": "code",
   "execution_count": 31,
   "id": "3f3d84b2-e5f1-45b6-8a35-6ac4ce609011",
   "metadata": {},
   "outputs": [
    {
     "data": {
      "text/plain": [
       "23"
      ]
     },
     "execution_count": 31,
     "metadata": {},
     "output_type": "execute_result"
    }
   ],
   "source": [
    "int(2.34*10)"
   ]
  },
  {
   "cell_type": "code",
   "execution_count": 5,
   "id": "918f929c-ceec-4eda-971a-7e67cfae5f5d",
   "metadata": {},
   "outputs": [
    {
     "name": "stdin",
     "output_type": "stream",
     "text": [
      "Gib eine int Zahl ein Max\n"
     ]
    },
    {
     "ename": "ValueError",
     "evalue": "invalid literal for int() with base 10: 'Max'",
     "output_type": "error",
     "traceback": [
      "\u001b[1;31m---------------------------------------------------------------------------\u001b[0m",
      "\u001b[1;31mValueError\u001b[0m                                Traceback (most recent call last)",
      "\u001b[1;32m<ipython-input-5-f7e651e183d0>\u001b[0m in \u001b[0;36m<module>\u001b[1;34m\u001b[0m\n\u001b[1;32m----> 1\u001b[1;33m \u001b[0mx\u001b[0m\u001b[1;33m=\u001b[0m\u001b[0mint\u001b[0m\u001b[1;33m(\u001b[0m\u001b[0minput\u001b[0m\u001b[1;33m(\u001b[0m\u001b[1;34m\"Gib eine int Zahl ein\"\u001b[0m\u001b[1;33m)\u001b[0m\u001b[1;33m)\u001b[0m\u001b[1;33m\u001b[0m\u001b[1;33m\u001b[0m\u001b[0m\n\u001b[0m\u001b[0;32m      2\u001b[0m \u001b[0mprint\u001b[0m\u001b[1;33m(\u001b[0m\u001b[0mx\u001b[0m\u001b[1;33m)\u001b[0m\u001b[1;33m\u001b[0m\u001b[1;33m\u001b[0m\u001b[0m\n",
      "\u001b[1;31mValueError\u001b[0m: invalid literal for int() with base 10: 'Max'"
     ]
    }
   ],
   "source": [
    "x=int(input(\"Gib eine int Zahl ein\")) #hier muss eine integer Zahl eingegeben werden\n",
    "print(x)"
   ]
  },
  {
   "cell_type": "code",
   "execution_count": 6,
   "id": "0996ab40-df10-48fc-a779-1588a03dd8bc",
   "metadata": {},
   "outputs": [
    {
     "name": "stdin",
     "output_type": "stream",
     "text": [
      "Gib eine int Zahl ein 23\n"
     ]
    },
    {
     "name": "stdout",
     "output_type": "stream",
     "text": [
      "23\n"
     ]
    }
   ],
   "source": [
    "x=int(input(\"Gib eine int Zahl ein\"))\n",
    "print(x)"
   ]
  },
  {
   "cell_type": "markdown",
   "id": "ea21cebd-9bbe-4e0a-92e3-30b7efe7ad20",
   "metadata": {},
   "source": [
    "## Der Typ `complex`"
   ]
  },
  {
   "cell_type": "markdown",
   "id": "1f02864e-8198-48ec-9da3-b7b7bb9098ad",
   "metadata": {},
   "source": [
    "Ein Wert vom Typ `complex` muss folgende Form haben: \n",
    "```python\n",
    " <zahl> + <zahl> j\n",
    "   z = a + b.j\n",
    "```"
   ]
  },
  {
   "cell_type": "code",
   "execution_count": 7,
   "id": "b72b5562-69d6-4a8e-8d82-8d2cd9def56f",
   "metadata": {},
   "outputs": [
    {
     "data": {
      "text/plain": [
       "complex"
      ]
     },
     "execution_count": 7,
     "metadata": {},
     "output_type": "execute_result"
    }
   ],
   "source": [
    "type(4j+10) # ob reel oder imaginäre Anteil zuerst kommt ist egal"
   ]
  },
  {
   "cell_type": "code",
   "execution_count": 9,
   "id": "8d4d3f4d-5895-4ae4-bf22-b655f8bb3a32",
   "metadata": {},
   "outputs": [
    {
     "data": {
      "text/plain": [
       "complex"
      ]
     },
     "execution_count": 9,
     "metadata": {},
     "output_type": "execute_result"
    }
   ],
   "source": [
    "type(10+4j)"
   ]
  },
  {
   "cell_type": "code",
   "execution_count": 11,
   "id": "5d0e5e1f-1fd1-47e0-b8d5-7750f078d041",
   "metadata": {},
   "outputs": [
    {
     "data": {
      "text/plain": [
       "(8+6j)"
      ]
     },
     "execution_count": 11,
     "metadata": {},
     "output_type": "execute_result"
    }
   ],
   "source": [
    "(3j+4) * 2"
   ]
  },
  {
   "cell_type": "markdown",
   "id": "3487bee7-92f7-416f-969f-84a83af98a17",
   "metadata": {},
   "source": [
    "## Der Typ `bool`"
   ]
  },
  {
   "cell_type": "markdown",
   "id": "efa7086d-0cae-4ba0-a618-1061fe22c7a7",
   "metadata": {},
   "source": [
    "Hat nur zwei Werte: `True` und `False`"
   ]
  },
  {
   "cell_type": "code",
   "execution_count": 18,
   "id": "bc5c889d-c0b5-446a-89e2-38907e65c9db",
   "metadata": {},
   "outputs": [
    {
     "data": {
      "text/plain": [
       "bool"
      ]
     },
     "execution_count": 18,
     "metadata": {},
     "output_type": "execute_result"
    }
   ],
   "source": [
    "type(True)"
   ]
  },
  {
   "cell_type": "markdown",
   "id": "3513b408-6a22-4f08-8c4a-2d251100ec26",
   "metadata": {},
   "source": [
    "### boolesche Operatoren"
   ]
  },
  {
   "cell_type": "markdown",
   "id": "d3422cab-1ddc-4355-a5d4-bdc0e6232a6f",
   "metadata": {},
   "source": [
    "Die `and`, `or` und `not` -Operatoren"
   ]
  },
  {
   "cell_type": "code",
   "execution_count": 20,
   "id": "f0a8f4fb-66d2-4fa0-ad09-f25b73c7a1e8",
   "metadata": {},
   "outputs": [
    {
     "data": {
      "text/plain": [
       "False"
      ]
     },
     "execution_count": 20,
     "metadata": {},
     "output_type": "execute_result"
    }
   ],
   "source": [
    "True and False #Groß- Kleinschreibung ist wichtig"
   ]
  },
  {
   "cell_type": "code",
   "execution_count": 22,
   "id": "a1fad290-2f94-47a1-8cd9-04c2fd0ac9f6",
   "metadata": {},
   "outputs": [
    {
     "data": {
      "text/plain": [
       "True"
      ]
     },
     "execution_count": 22,
     "metadata": {},
     "output_type": "execute_result"
    }
   ],
   "source": [
    "False or True"
   ]
  },
  {
   "cell_type": "markdown",
   "id": "e0c8bfd7-75a9-46e5-98c4-d80685353b13",
   "metadata": {},
   "source": [
    "Diese Ooperatoren haben in Python ein besodneres Verhalten und sie können auch nicht umdefiniert werden. Sie sind **lazy**"
   ]
  },
  {
   "cell_type": "code",
   "execution_count": 23,
   "id": "daf7d70e-f30d-4a8b-ace0-1b9298bb4821",
   "metadata": {},
   "outputs": [
    {
     "data": {
      "text/plain": [
       "False"
      ]
     },
     "execution_count": 23,
     "metadata": {},
     "output_type": "execute_result"
    }
   ],
   "source": [
    "False and (1/0) #Laszy"
   ]
  },
  {
   "cell_type": "code",
   "execution_count": 24,
   "id": "f477cdfc-5b4d-424f-92ca-16a89166a5bd",
   "metadata": {},
   "outputs": [
    {
     "ename": "ZeroDivisionError",
     "evalue": "division by zero",
     "output_type": "error",
     "traceback": [
      "\u001b[1;31m---------------------------------------------------------------------------\u001b[0m",
      "\u001b[1;31mZeroDivisionError\u001b[0m                         Traceback (most recent call last)",
      "\u001b[1;32m<ipython-input-24-a92477b30ec4>\u001b[0m in \u001b[0;36m<module>\u001b[1;34m\u001b[0m\n\u001b[1;32m----> 1\u001b[1;33m \u001b[1;32mTrue\u001b[0m \u001b[1;32mand\u001b[0m \u001b[1;33m(\u001b[0m\u001b[1;36m1\u001b[0m\u001b[1;33m/\u001b[0m\u001b[1;36m0\u001b[0m\u001b[1;33m)\u001b[0m\u001b[1;33m\u001b[0m\u001b[1;33m\u001b[0m\u001b[0m\n\u001b[0m",
      "\u001b[1;31mZeroDivisionError\u001b[0m: division by zero"
     ]
    }
   ],
   "source": [
    "True and (1/0)"
   ]
  },
  {
   "cell_type": "code",
   "execution_count": 25,
   "id": "efc9de33-0850-4308-8a24-0be1341a043f",
   "metadata": {},
   "outputs": [
    {
     "data": {
      "text/plain": [
       "'Blabla'"
      ]
     },
     "execution_count": 25,
     "metadata": {},
     "output_type": "execute_result"
    }
   ],
   "source": [
    "True and \"Blabla\""
   ]
  },
  {
   "cell_type": "markdown",
   "id": "b570c17b-8752-4580-b2d6-80ac40fa861b",
   "metadata": {},
   "source": [
    "Warum kommt da `\"Blabla\"` zurück?\n",
    "Weil gilt: `True and x` ergibt immer `x`"
   ]
  },
  {
   "cell_type": "markdown",
   "id": "119a1710-9a9b-42c7-b4fa-a14e20442f4e",
   "metadata": {},
   "source": [
    "Einige schwere Fragen: Was kommt hier raus?"
   ]
  },
  {
   "cell_type": "code",
   "execution_count": 26,
   "id": "ac0cd1b3-e74f-4a7f-88d4-3731209c42f4",
   "metadata": {},
   "outputs": [
    {
     "data": {
      "text/plain": [
       "bool"
      ]
     },
     "execution_count": 26,
     "metadata": {},
     "output_type": "execute_result"
    }
   ],
   "source": [
    "(True and type)(False and type)"
   ]
  },
  {
   "cell_type": "code",
   "execution_count": 27,
   "id": "2ed60b91-e3f9-4a50-a354-de058ad80e41",
   "metadata": {},
   "outputs": [
    {
     "data": {
      "text/plain": [
       "type"
      ]
     },
     "execution_count": 27,
     "metadata": {},
     "output_type": "execute_result"
    }
   ],
   "source": [
    "(True and type)(True and type)"
   ]
  },
  {
   "cell_type": "markdown",
   "id": "7c57b628-3f79-4ba2-b9d6-5e72a225a0b7",
   "metadata": {},
   "source": [
    "Das Lazy-Verhalten gilt natürlich genauso für `or`"
   ]
  },
  {
   "cell_type": "code",
   "execution_count": 29,
   "id": "9e5234ee-4066-49f1-bb6b-f4f8a04499d8",
   "metadata": {},
   "outputs": [
    {
     "data": {
      "text/plain": [
       "True"
      ]
     },
     "execution_count": 29,
     "metadata": {},
     "output_type": "execute_result"
    }
   ],
   "source": [
    "True or (1/0)"
   ]
  },
  {
   "cell_type": "code",
   "execution_count": 30,
   "id": "593808b8-52ea-4646-8d71-bedaf1cbd3f8",
   "metadata": {},
   "outputs": [
    {
     "ename": "ZeroDivisionError",
     "evalue": "division by zero",
     "output_type": "error",
     "traceback": [
      "\u001b[1;31m---------------------------------------------------------------------------\u001b[0m",
      "\u001b[1;31mZeroDivisionError\u001b[0m                         Traceback (most recent call last)",
      "\u001b[1;32m<ipython-input-30-5c714e1552b4>\u001b[0m in \u001b[0;36m<module>\u001b[1;34m\u001b[0m\n\u001b[1;32m----> 1\u001b[1;33m \u001b[1;32mFalse\u001b[0m \u001b[1;32mor\u001b[0m \u001b[1;33m(\u001b[0m\u001b[1;36m1\u001b[0m\u001b[1;33m/\u001b[0m\u001b[1;36m0\u001b[0m\u001b[1;33m)\u001b[0m\u001b[1;33m\u001b[0m\u001b[1;33m\u001b[0m\u001b[0m\n\u001b[0m",
      "\u001b[1;31mZeroDivisionError\u001b[0m: division by zero"
     ]
    }
   ],
   "source": [
    "False or (1/0)"
   ]
  },
  {
   "cell_type": "code",
   "execution_count": 31,
   "id": "af700ebe-5253-4a8b-931d-93b57fa1b929",
   "metadata": {},
   "outputs": [
    {
     "data": {
      "text/plain": [
       "0"
      ]
     },
     "execution_count": 31,
     "metadata": {},
     "output_type": "execute_result"
    }
   ],
   "source": [
    "(False or (1+2)) * (False and (3*2)) #True wild als 1 und False wird als 0 interpretiert"
   ]
  },
  {
   "cell_type": "code",
   "execution_count": 36,
   "id": "63cad15e-a0fb-41ab-b179-b78f631fe4b2",
   "metadata": {},
   "outputs": [
    {
     "data": {
      "text/plain": [
       "False"
      ]
     },
     "execution_count": 36,
     "metadata": {},
     "output_type": "execute_result"
    }
   ],
   "source": [
    "not True"
   ]
  },
  {
   "cell_type": "code",
   "execution_count": 40,
   "id": "974b7b3a-8942-474f-81af-7845a5486c5e",
   "metadata": {},
   "outputs": [
    {
     "data": {
      "text/plain": [
       "False"
      ]
     },
     "execution_count": 40,
     "metadata": {},
     "output_type": "execute_result"
    }
   ],
   "source": [
    "not 1"
   ]
  },
  {
   "cell_type": "code",
   "execution_count": 41,
   "id": "aab6f88b-b859-440a-8708-fa3ef16a6bed",
   "metadata": {},
   "outputs": [
    {
     "data": {
      "text/plain": [
       "True"
      ]
     },
     "execution_count": 41,
     "metadata": {},
     "output_type": "execute_result"
    }
   ],
   "source": [
    "not 0"
   ]
  },
  {
   "cell_type": "code",
   "execution_count": 42,
   "id": "9478f5f8-4467-401e-ba03-90218ecd33e5",
   "metadata": {},
   "outputs": [
    {
     "data": {
      "text/plain": [
       "False"
      ]
     },
     "execution_count": 42,
     "metadata": {},
     "output_type": "execute_result"
    }
   ],
   "source": [
    "not 3"
   ]
  },
  {
   "cell_type": "markdown",
   "id": "9463c47e-69eb-421f-9c96-19417d132444",
   "metadata": {},
   "source": [
    "### Vergleichsoperatoren"
   ]
  },
  {
   "cell_type": "code",
   "execution_count": 43,
   "id": "a61f0bed-66b4-4599-953e-67562ddf1fbc",
   "metadata": {},
   "outputs": [
    {
     "data": {
      "text/plain": [
       "True"
      ]
     },
     "execution_count": 43,
     "metadata": {},
     "output_type": "execute_result"
    }
   ],
   "source": [
    "23<30"
   ]
  },
  {
   "cell_type": "code",
   "execution_count": 44,
   "id": "4eabdfa4-85c9-4924-8b53-b54c553331ca",
   "metadata": {},
   "outputs": [
    {
     "data": {
      "text/plain": [
       "False"
      ]
     },
     "execution_count": 44,
     "metadata": {},
     "output_type": "execute_result"
    }
   ],
   "source": [
    "13 <= 10"
   ]
  },
  {
   "cell_type": "markdown",
   "id": "1b10d924-d65c-40ed-bd69-6d3d0aa52ebc",
   "metadata": {},
   "source": [
    "Vorsicht: Test auf Gleichheit mit zweei Gleichheitszeichen `==`"
   ]
  },
  {
   "cell_type": "code",
   "execution_count": 45,
   "id": "2f8bcf4d-ebaa-4270-922c-8a55f5d0dffc",
   "metadata": {},
   "outputs": [
    {
     "data": {
      "text/plain": [
       "True"
      ]
     },
     "execution_count": 45,
     "metadata": {},
     "output_type": "execute_result"
    }
   ],
   "source": [
    "(2*4) == 8"
   ]
  },
  {
   "cell_type": "markdown",
   "id": "97ff71e1-d908-4847-a20c-e1e0ebedc1b6",
   "metadata": {},
   "source": [
    "`==` ist kommutativ; `=` ist nicht kommutativ. "
   ]
  },
  {
   "cell_type": "code",
   "execution_count": 48,
   "id": "5b0c08d5-4418-4937-9a8f-ba5d169e128c",
   "metadata": {},
   "outputs": [],
   "source": [
    "x = 6*4 #Zuweisung"
   ]
  },
  {
   "cell_type": "code",
   "execution_count": 49,
   "id": "57152b97-e772-4fcf-bbde-42d44a33cb73",
   "metadata": {},
   "outputs": [
    {
     "ename": "SyntaxError",
     "evalue": "cannot assign to operator (<ipython-input-49-43e4c87058e9>, line 1)",
     "output_type": "error",
     "traceback": [
      "\u001b[1;36m  File \u001b[1;32m\"<ipython-input-49-43e4c87058e9>\"\u001b[1;36m, line \u001b[1;32m1\u001b[0m\n\u001b[1;33m    6*4 = x #Geht nicht\u001b[0m\n\u001b[1;37m    ^\u001b[0m\n\u001b[1;31mSyntaxError\u001b[0m\u001b[1;31m:\u001b[0m cannot assign to operator\n"
     ]
    }
   ],
   "source": [
    "6*4 = x #Geht nicht"
   ]
  },
  {
   "cell_type": "code",
   "execution_count": 50,
   "id": "cb5f8464-b543-4b7b-af28-c22324b9ee4e",
   "metadata": {},
   "outputs": [
    {
     "data": {
      "text/plain": [
       "True"
      ]
     },
     "execution_count": 50,
     "metadata": {},
     "output_type": "execute_result"
    }
   ],
   "source": [
    "x = 24\n",
    "6*4 == x"
   ]
  },
  {
   "cell_type": "markdown",
   "id": "c17671e3-2a40-485b-93ca-26ebd52d4b84",
   "metadata": {},
   "source": [
    "## Der Typ `str` "
   ]
  },
  {
   "cell_type": "markdown",
   "id": "28b5aa71-f116-4a82-af22-a05ad918dfb9",
   "metadata": {},
   "source": [
    "Der Typ der Zeichenketten; eine Zeichenkette besteht aus \"Einzelteilen\" (im Gegensatz zu den bisher behandelten Typen), nämlich Zeichen."
   ]
  },
  {
   "cell_type": "markdown",
   "id": "a7ab16d4-d29d-41b1-82c2-a1b3dff05d7a",
   "metadata": {},
   "source": [
    "Zeichenketten schließt man in Pythoin immer mit `'...'` oder `\"...\"`  ein. "
   ]
  },
  {
   "cell_type": "code",
   "execution_count": 52,
   "id": "f5d87433-a667-4237-bacd-12f171def28e",
   "metadata": {},
   "outputs": [
    {
     "data": {
      "text/plain": [
       "'Hallo Welt'"
      ]
     },
     "execution_count": 52,
     "metadata": {},
     "output_type": "execute_result"
    }
   ],
   "source": [
    "\"Hallo Welt\""
   ]
  },
  {
   "cell_type": "code",
   "execution_count": 53,
   "id": "44e5a064-b83a-41e5-8b86-45dc30b13f1e",
   "metadata": {},
   "outputs": [
    {
     "data": {
      "text/plain": [
       "'Hallo Welt'"
      ]
     },
     "execution_count": 53,
     "metadata": {},
     "output_type": "execute_result"
    }
   ],
   "source": [
    "'Hallo Welt'"
   ]
  },
  {
   "cell_type": "code",
   "execution_count": 54,
   "id": "ecb67cca-ab22-4c12-bacf-3ac0ab531b3a",
   "metadata": {},
   "outputs": [
    {
     "data": {
      "text/plain": [
       "True"
      ]
     },
     "execution_count": 54,
     "metadata": {},
     "output_type": "execute_result"
    }
   ],
   "source": [
    "\"Hallo Welt\" == 'Hallo Welt'"
   ]
  },
  {
   "cell_type": "markdown",
   "id": "65cc5230-c7bb-4712-935e-45300b1baa64",
   "metadata": {},
   "source": [
    "Strings haben eine Länge:"
   ]
  },
  {
   "cell_type": "code",
   "execution_count": 55,
   "id": "c41644e8-21a8-4b8f-a7f1-a899439f832f",
   "metadata": {},
   "outputs": [
    {
     "data": {
      "text/plain": [
       "5"
      ]
     },
     "execution_count": 55,
     "metadata": {},
     "output_type": "execute_result"
    }
   ],
   "source": [
    "len(\"hallo\")"
   ]
  },
  {
   "cell_type": "code",
   "execution_count": 56,
   "id": "e18c65ad-cc99-4343-a01f-b3ccb12c42b6",
   "metadata": {},
   "outputs": [
    {
     "ename": "TypeError",
     "evalue": "object of type 'int' has no len()",
     "output_type": "error",
     "traceback": [
      "\u001b[1;31m---------------------------------------------------------------------------\u001b[0m",
      "\u001b[1;31mTypeError\u001b[0m                                 Traceback (most recent call last)",
      "\u001b[1;32m<ipython-input-56-ec67a52704b7>\u001b[0m in \u001b[0;36m<module>\u001b[1;34m\u001b[0m\n\u001b[1;32m----> 1\u001b[1;33m \u001b[0mlen\u001b[0m\u001b[1;33m(\u001b[0m\u001b[1;36m1234\u001b[0m\u001b[1;33m)\u001b[0m\u001b[1;33m\u001b[0m\u001b[1;33m\u001b[0m\u001b[0m\n\u001b[0m",
      "\u001b[1;31mTypeError\u001b[0m: object of type 'int' has no len()"
     ]
    }
   ],
   "source": [
    "len(1234)"
   ]
  },
  {
   "cell_type": "markdown",
   "id": "e8dc414a-018c-4153-8bbc-c9fb6bad65c2",
   "metadata": {},
   "source": [
    "Was muss man da machen, um die Länge eine Zeichenkette rauszufinden. `Casting`"
   ]
  },
  {
   "cell_type": "code",
   "execution_count": 57,
   "id": "6f93e5fe-a8cb-4826-9e8b-634a902fd4d6",
   "metadata": {},
   "outputs": [
    {
     "data": {
      "text/plain": [
       "4"
      ]
     },
     "execution_count": 57,
     "metadata": {},
     "output_type": "execute_result"
    }
   ],
   "source": [
    "len(str(1234))"
   ]
  },
  {
   "cell_type": "markdown",
   "id": "2c4dfd18-c43b-4984-90c8-7afec32e6286",
   "metadata": {},
   "source": [
    "Ein String kann sonderzeichen enthalten, die man oft mit einem vorangestellten `\\` schreibt: "
   ]
  },
  {
   "cell_type": "code",
   "execution_count": 58,
   "id": "142db1f5-edb4-4db8-a48c-8f09d5aaa618",
   "metadata": {},
   "outputs": [
    {
     "data": {
      "text/plain": [
       "'Hallo\\nWelt'"
      ]
     },
     "execution_count": 58,
     "metadata": {},
     "output_type": "execute_result"
    }
   ],
   "source": [
    "\"Hallo\\nWelt\""
   ]
  },
  {
   "cell_type": "markdown",
   "id": "4857da62-9296-42c2-8a31-3d84d6d50a0b",
   "metadata": {},
   "source": [
    "Das `\\n` für newline sieht man eigentlich erst dann, wenn man diesen String ausdruckt"
   ]
  },
  {
   "cell_type": "code",
   "execution_count": 59,
   "id": "3b84139a-4b60-44c8-b8e4-2819c69f16eb",
   "metadata": {},
   "outputs": [
    {
     "name": "stdout",
     "output_type": "stream",
     "text": [
      "Hallo\n",
      "Welt\n"
     ]
    }
   ],
   "source": [
    "print(\"Hallo\\nWelt\")"
   ]
  },
  {
   "cell_type": "markdown",
   "id": "281fdae9-f52b-4595-bf22-56dccb1e832d",
   "metadata": {},
   "source": [
    "Kann man `print()` in eine Variable zuweisen ?"
   ]
  },
  {
   "cell_type": "code",
   "execution_count": 62,
   "id": "26604bd8-ceaf-4a4e-90eb-4640ad2daf4b",
   "metadata": {},
   "outputs": [
    {
     "name": "stdout",
     "output_type": "stream",
     "text": [
      "Hallo\n"
     ]
    }
   ],
   "source": [
    "x = print(\"Hallo\") #print ist ein Ausdruck kein Kommando"
   ]
  },
  {
   "cell_type": "code",
   "execution_count": 63,
   "id": "c36a174d-ac08-48fe-9613-ac640a6655cc",
   "metadata": {},
   "outputs": [
    {
     "name": "stdout",
     "output_type": "stream",
     "text": [
      "None\n"
     ]
    }
   ],
   "source": [
    "print(x)"
   ]
  },
  {
   "cell_type": "markdown",
   "id": "9da92c9d-44c2-4d12-874c-8506c9cd6927",
   "metadata": {},
   "source": [
    "### String-Operatoren"
   ]
  },
  {
   "cell_type": "markdown",
   "id": "532e240d-3ba9-426a-b3e8-627264cf03f8",
   "metadata": {},
   "source": [
    "Für den Typ str gibt es ganz ähnliche Operatoren, wie für die Zahl-Typen."
   ]
  },
  {
   "cell_type": "code",
   "execution_count": 64,
   "id": "4aa2c7c8-8524-4380-9a24-4de9ab0aa362",
   "metadata": {},
   "outputs": [
    {
     "data": {
      "text/plain": [
       "'HalloWelt'"
      ]
     },
     "execution_count": 64,
     "metadata": {},
     "output_type": "execute_result"
    }
   ],
   "source": [
    "\"Hallo\"+\"Welt\""
   ]
  },
  {
   "cell_type": "markdown",
   "id": "96d08cc5-9fea-43f3-8533-fb8bff9a8cd1",
   "metadata": {},
   "source": [
    "`+` für Strings bedeutet: Konkatenation, d.h. Zusammenfügen von Strings."
   ]
  },
  {
   "cell_type": "code",
   "execution_count": 68,
   "id": "cbe8f72f-a7f6-4c36-97a9-4c4d3716d0a1",
   "metadata": {},
   "outputs": [],
   "source": [
    "x=\"Heute ist\"\n",
    "y=\" Donnerstag\""
   ]
  },
  {
   "cell_type": "code",
   "execution_count": 69,
   "id": "98d3a3d9-495b-4af0-8e91-127f6814281d",
   "metadata": {},
   "outputs": [
    {
     "data": {
      "text/plain": [
       "'Heute ist Donnerstag'"
      ]
     },
     "execution_count": 69,
     "metadata": {},
     "output_type": "execute_result"
    }
   ],
   "source": [
    "x+y"
   ]
  },
  {
   "cell_type": "code",
   "execution_count": 70,
   "id": "b6b5b8ce-6c14-4b99-8d19-e3f1e311b2f3",
   "metadata": {},
   "outputs": [
    {
     "data": {
      "text/plain": [
       "' Donnerstag Donnerstag Donnerstag'"
      ]
     },
     "execution_count": 70,
     "metadata": {},
     "output_type": "execute_result"
    }
   ],
   "source": [
    "y+y+y"
   ]
  },
  {
   "cell_type": "markdown",
   "id": "4d40ed5c-95f4-4faa-81fd-8e42a867253c",
   "metadata": {},
   "source": [
    "Es gibt auch eine Multiplikation"
   ]
  },
  {
   "cell_type": "code",
   "execution_count": 72,
   "id": "d722515d-7066-42da-8234-1b4e5093fec4",
   "metadata": {},
   "outputs": [
    {
     "data": {
      "text/plain": [
       "' Donnerstag Donnerstag Donnerstag'"
      ]
     },
     "execution_count": 72,
     "metadata": {},
     "output_type": "execute_result"
    }
   ],
   "source": [
    "y*3"
   ]
  },
  {
   "cell_type": "code",
   "execution_count": 73,
   "id": "6be524e2-451c-40ad-88bc-8cc10a5c9bc1",
   "metadata": {},
   "outputs": [
    {
     "data": {
      "text/plain": [
       "True"
      ]
     },
     "execution_count": 73,
     "metadata": {},
     "output_type": "execute_result"
    }
   ],
   "source": [
    "y+y+y == y*3"
   ]
  },
  {
   "cell_type": "code",
   "execution_count": 74,
   "id": "d3b6b199-e4f6-4c40-9f95-bbba2de0211d",
   "metadata": {},
   "outputs": [
    {
     "data": {
      "text/plain": [
       "False"
      ]
     },
     "execution_count": 74,
     "metadata": {},
     "output_type": "execute_result"
    }
   ],
   "source": [
    "(x+y)*3 == 3*x + 3*y"
   ]
  },
  {
   "cell_type": "markdown",
   "id": "3f221d48-7196-4103-921a-e82b55e10613",
   "metadata": {},
   "source": [
    "### Weitere Funktionen /  Methoden der Klasse `str`"
   ]
  },
  {
   "cell_type": "code",
   "execution_count": 75,
   "id": "84195750-840c-4c30-be5a-af8932507b4d",
   "metadata": {},
   "outputs": [
    {
     "name": "stdout",
     "output_type": "stream",
     "text": [
      "['__add__', '__class__', '__contains__', '__delattr__', '__dir__', '__doc__', '__eq__', '__format__', '__ge__', '__getattribute__', '__getitem__', '__getnewargs__', '__gt__', '__hash__', '__init__', '__init_subclass__', '__iter__', '__le__', '__len__', '__lt__', '__mod__', '__mul__', '__ne__', '__new__', '__reduce__', '__reduce_ex__', '__repr__', '__rmod__', '__rmul__', '__setattr__', '__sizeof__', '__str__', '__subclasshook__', 'capitalize', 'casefold', 'center', 'count', 'encode', 'endswith', 'expandtabs', 'find', 'format', 'format_map', 'index', 'isalnum', 'isalpha', 'isascii', 'isdecimal', 'isdigit', 'isidentifier', 'islower', 'isnumeric', 'isprintable', 'isspace', 'istitle', 'isupper', 'join', 'ljust', 'lower', 'lstrip', 'maketrans', 'partition', 'replace', 'rfind', 'rindex', 'rjust', 'rpartition', 'rsplit', 'rstrip', 'split', 'splitlines', 'startswith', 'strip', 'swapcase', 'title', 'translate', 'upper', 'zfill']\n"
     ]
    }
   ],
   "source": [
    "print(dir(str))"
   ]
  },
  {
   "cell_type": "code",
   "execution_count": 77,
   "id": "c7a94cc3-7604-4d35-8983-b9ebc8528673",
   "metadata": {},
   "outputs": [],
   "source": [
    "x=\"welt\""
   ]
  },
  {
   "cell_type": "code",
   "execution_count": 80,
   "id": "ec42d426-f427-4aad-9ec0-907a939607f5",
   "metadata": {},
   "outputs": [
    {
     "data": {
      "text/plain": [
       "'Welt'"
      ]
     },
     "execution_count": 80,
     "metadata": {},
     "output_type": "execute_result"
    }
   ],
   "source": [
    "x.capitalize()"
   ]
  },
  {
   "cell_type": "code",
   "execution_count": 81,
   "id": "17a5f1ab-0324-4bb3-a4b9-0100cd516dae",
   "metadata": {},
   "outputs": [
    {
     "data": {
      "text/plain": [
       "True"
      ]
     },
     "execution_count": 81,
     "metadata": {},
     "output_type": "execute_result"
    }
   ],
   "source": [
    "x.startswith(\"we\") and x.endswith(\"lt\")"
   ]
  },
  {
   "cell_type": "markdown",
   "id": "87945b04-3353-4caf-844d-22ba72d72a64",
   "metadata": {},
   "source": [
    "## Der Type `Liste`"
   ]
  },
  {
   "cell_type": "markdown",
   "id": "1fdbb3be-6665-4603-8ad9-7c29d95dcb69",
   "metadata": {},
   "source": [
    "Objekte des Typs `list` beginnen immer mit einer eckigen Klammer `[` und enden mit einer eckigen Klammer `]`"
   ]
  },
  {
   "cell_type": "code",
   "execution_count": 83,
   "id": "3a8c97c5-1bf7-4bf7-b85b-927e129c47d6",
   "metadata": {},
   "outputs": [
    {
     "data": {
      "text/plain": [
       "list"
      ]
     },
     "execution_count": 83,
     "metadata": {},
     "output_type": "execute_result"
    }
   ],
   "source": [
    "type([1,2,3])"
   ]
  },
  {
   "cell_type": "markdown",
   "id": "55a2ebef-630d-43f1-9c89-2dc827b3e6fd",
   "metadata": {},
   "source": [
    "Die Elemente von Listen dürfen beliebigen Typ haben:"
   ]
  },
  {
   "cell_type": "code",
   "execution_count": 84,
   "id": "59687756-3eea-48f6-b7cb-08f5220c9734",
   "metadata": {},
   "outputs": [],
   "source": [
    "l =[1, 2.1, 4j+1, \"Hallo\", [1,2,3], [[\"Hallo\"], [\"Welt\"]], \"Hallo welt hier\".split()]"
   ]
  },
  {
   "cell_type": "code",
   "execution_count": 85,
   "id": "fc999c56-b437-4c70-ae64-cae307b67138",
   "metadata": {},
   "outputs": [
    {
     "data": {
      "text/plain": [
       "7"
      ]
     },
     "execution_count": 85,
     "metadata": {},
     "output_type": "execute_result"
    }
   ],
   "source": [
    "len(l)"
   ]
  },
  {
   "cell_type": "code",
   "execution_count": 86,
   "id": "c9620199-6023-41b2-b6f5-25c09826b745",
   "metadata": {
    "collapsed": true,
    "jupyter": {
     "outputs_hidden": true
    },
    "tags": []
   },
   "outputs": [
    {
     "name": "stdout",
     "output_type": "stream",
     "text": [
      "Help on method_descriptor:\n",
      "\n",
      "split(self, /, sep=None, maxsplit=-1)\n",
      "    Return a list of the words in the string, using sep as the delimiter string.\n",
      "    \n",
      "    sep\n",
      "      The delimiter according which to split the string.\n",
      "      None (the default value) means split according to any whitespace,\n",
      "      and discard empty strings from the result.\n",
      "    maxsplit\n",
      "      Maximum number of splits to do.\n",
      "      -1 (the default value) means no limit.\n",
      "\n"
     ]
    }
   ],
   "source": [
    "help(str.split)"
   ]
  },
  {
   "cell_type": "code",
   "execution_count": 88,
   "id": "1c75b8d7-1c92-43fb-b8ef-925d0c829f5c",
   "metadata": {},
   "outputs": [
    {
     "name": "stdout",
     "output_type": "stream",
     "text": [
      "['__add__', '__class__', '__contains__', '__delattr__', '__delitem__', '__dir__', '__doc__', '__eq__', '__format__', '__ge__', '__getattribute__', '__getitem__', '__gt__', '__hash__', '__iadd__', '__imul__', '__init__', '__init_subclass__', '__iter__', '__le__', '__len__', '__lt__', '__mul__', '__ne__', '__new__', '__reduce__', '__reduce_ex__', '__repr__', '__reversed__', '__rmul__', '__setattr__', '__setitem__', '__sizeof__', '__str__', '__subclasshook__', 'append', 'clear', 'copy', 'count', 'extend', 'index', 'insert', 'pop', 'remove', 'reverse', 'sort']\n"
     ]
    }
   ],
   "source": [
    "print(dir(list))"
   ]
  },
  {
   "cell_type": "code",
   "execution_count": 89,
   "id": "ec17e601-9554-4de5-b51a-8ee0d1a41a83",
   "metadata": {},
   "outputs": [],
   "source": [
    "l.append(100)"
   ]
  },
  {
   "cell_type": "code",
   "execution_count": 93,
   "id": "cae81eca-4fb2-46ff-9e53-fab12ffc3d99",
   "metadata": {
    "tags": []
   },
   "outputs": [
    {
     "data": {
      "text/plain": [
       "[1,\n",
       " 2.1,\n",
       " (1+4j),\n",
       " 'Hallo',\n",
       " [1, 2, 3],\n",
       " [['Hallo'], ['Welt']],\n",
       " ['Hallo', 'welt', 'hier'],\n",
       " 100]"
      ]
     },
     "execution_count": 93,
     "metadata": {},
     "output_type": "execute_result"
    }
   ],
   "source": [
    "l"
   ]
  },
  {
   "cell_type": "code",
   "execution_count": 101,
   "id": "a37f0ba6-ce1a-4c2a-b067-f5d3a2242e08",
   "metadata": {},
   "outputs": [],
   "source": [
    "l[2]=3"
   ]
  },
  {
   "cell_type": "code",
   "execution_count": 102,
   "id": "420765c3-feda-4940-9d84-9f4cc5844a39",
   "metadata": {},
   "outputs": [
    {
     "data": {
      "text/plain": [
       "[1,\n",
       " 2.1,\n",
       " 3,\n",
       " 'Hallo',\n",
       " [1, 2, 3],\n",
       " [['Hallo'], ['Welt']],\n",
       " ['Hallo', 'welt', 'hier'],\n",
       " 100]"
      ]
     },
     "execution_count": 102,
     "metadata": {},
     "output_type": "execute_result"
    }
   ],
   "source": [
    "l"
   ]
  },
  {
   "cell_type": "markdown",
   "id": "3fb047db-6689-49a4-b908-d83dd55f086f",
   "metadata": {},
   "source": [
    "### Vergleichsoperatoren"
   ]
  },
  {
   "cell_type": "code",
   "execution_count": 94,
   "id": "147ffc67-f023-43ed-a0e9-b067a3d6df2a",
   "metadata": {},
   "outputs": [
    {
     "data": {
      "text/plain": [
       "False"
      ]
     },
     "execution_count": 94,
     "metadata": {},
     "output_type": "execute_result"
    }
   ],
   "source": [
    "[1,2,3]<[1,1,1000]"
   ]
  },
  {
   "cell_type": "markdown",
   "id": "b0714e20-52ef-450f-a138-5819bd76fd95",
   "metadata": {},
   "source": [
    "Das ist ein sog. **lexikographischer** Vergleich, von linke nach rechts elemtnweise, solange, bis < oder > einmal \"anschlägt\""
   ]
  },
  {
   "cell_type": "code",
   "execution_count": 95,
   "id": "bc3e0319-15ae-49c9-be54-eecf8aaa5fa1",
   "metadata": {},
   "outputs": [
    {
     "data": {
      "text/plain": [
       "True"
      ]
     },
     "execution_count": 95,
     "metadata": {},
     "output_type": "execute_result"
    }
   ],
   "source": [
    "\"aalen\" < \"albstadt\""
   ]
  },
  {
   "cell_type": "code",
   "execution_count": 96,
   "id": "9187d3fd-c371-4f2c-90ca-eab1356de697",
   "metadata": {},
   "outputs": [],
   "source": [
    "woerter = \"hallo welt hier bin ich und tippe und mache und schreibe\".split()"
   ]
  },
  {
   "cell_type": "code",
   "execution_count": 97,
   "id": "62cb1e17-a12f-4ef6-9e0b-048e3ae5945a",
   "metadata": {},
   "outputs": [],
   "source": [
    "woerter.sort()"
   ]
  },
  {
   "cell_type": "code",
   "execution_count": 98,
   "id": "a6f99b26-c357-4f3b-8d1b-f07dd188df2c",
   "metadata": {},
   "outputs": [
    {
     "data": {
      "text/plain": [
       "['bin',\n",
       " 'hallo',\n",
       " 'hier',\n",
       " 'ich',\n",
       " 'mache',\n",
       " 'schreibe',\n",
       " 'tippe',\n",
       " 'und',\n",
       " 'und',\n",
       " 'und',\n",
       " 'welt']"
      ]
     },
     "execution_count": 98,
     "metadata": {},
     "output_type": "execute_result"
    }
   ],
   "source": [
    "woerter"
   ]
  },
  {
   "cell_type": "code",
   "execution_count": 99,
   "id": "beec1d64-9b79-4e4c-9591-515998f462fc",
   "metadata": {},
   "outputs": [],
   "source": [
    "woerter = woerter.sort() #FEHLER!"
   ]
  },
  {
   "cell_type": "markdown",
   "id": "ec198aad-f72c-43b4-b1b4-4042f9eb945d",
   "metadata": {},
   "source": [
    "## Der Typ `tuple`"
   ]
  },
  {
   "cell_type": "markdown",
   "id": "ef401680-8322-4cbb-9f1d-738ee85c26cd",
   "metadata": {},
   "source": [
    "Tuple-Objekten werden mit runden Klammern geschrieben.\n",
    "Der entscheidende Unterschied zu Listen ist die Unverändlichkeit von Tupel-Objekten.\n",
    "Ein Versuchn eine Stelle eines Tupels zu ändern ist nicht erlaubt."
   ]
  },
  {
   "cell_type": "code",
   "execution_count": 100,
   "id": "0d1b7406-04fa-4ef2-baee-93677bfa52a3",
   "metadata": {},
   "outputs": [
    {
     "ename": "TypeError",
     "evalue": "'tuple' object does not support item assignment",
     "output_type": "error",
     "traceback": [
      "\u001b[1;31m---------------------------------------------------------------------------\u001b[0m",
      "\u001b[1;31mTypeError\u001b[0m                                 Traceback (most recent call last)",
      "\u001b[1;32m<ipython-input-100-4a77ae639bfd>\u001b[0m in \u001b[0;36m<module>\u001b[1;34m\u001b[0m\n\u001b[0;32m      1\u001b[0m \u001b[0mt\u001b[0m\u001b[1;33m=\u001b[0m\u001b[1;33m(\u001b[0m\u001b[1;36m1\u001b[0m\u001b[1;33m,\u001b[0m\u001b[1;36m2\u001b[0m\u001b[1;33m,\u001b[0m\u001b[1;36m3\u001b[0m\u001b[1;33m)\u001b[0m\u001b[1;33m\u001b[0m\u001b[1;33m\u001b[0m\u001b[0m\n\u001b[1;32m----> 2\u001b[1;33m \u001b[0mt\u001b[0m\u001b[1;33m[\u001b[0m\u001b[1;36m1\u001b[0m\u001b[1;33m]\u001b[0m\u001b[1;33m=\u001b[0m\u001b[1;36m2\u001b[0m\u001b[1;33m\u001b[0m\u001b[1;33m\u001b[0m\u001b[0m\n\u001b[0m",
      "\u001b[1;31mTypeError\u001b[0m: 'tuple' object does not support item assignment"
     ]
    }
   ],
   "source": [
    "t=(1,2,3)\n",
    "t[1]=2"
   ]
  },
  {
   "cell_type": "markdown",
   "id": "33d71fa4-e83d-4ab8-a25c-74197eef7d95",
   "metadata": {},
   "source": [
    "### Einschub: Drei Arten von runden Klammern"
   ]
  },
  {
   "cell_type": "markdown",
   "id": "196abf45-d8f0-4bac-bfe0-2c4d16ff2d2a",
   "metadata": {},
   "source": [
    "Arithmetisch:"
   ]
  },
  {
   "cell_type": "code",
   "execution_count": 103,
   "id": "cad5279e-e703-438e-a0bf-1729ca470a4b",
   "metadata": {},
   "outputs": [
    {
     "data": {
      "text/plain": [
       "15"
      ]
     },
     "execution_count": 103,
     "metadata": {},
     "output_type": "execute_result"
    }
   ],
   "source": [
    "(1+2)*5"
   ]
  },
  {
   "cell_type": "markdown",
   "id": "04481cc7-99d8-44e9-854a-65f1d352ec2b",
   "metadata": {},
   "source": [
    "Tuple:"
   ]
  },
  {
   "cell_type": "code",
   "execution_count": 104,
   "id": "e925935c-596d-4102-897d-df495c43f7bd",
   "metadata": {},
   "outputs": [
    {
     "data": {
      "text/plain": [
       "(1, 2, 3)"
      ]
     },
     "execution_count": 104,
     "metadata": {},
     "output_type": "execute_result"
    }
   ],
   "source": [
    "(1,2,3)"
   ]
  },
  {
   "cell_type": "markdown",
   "id": "cc17ade1-0fba-434b-a7d8-cbcb9827585c",
   "metadata": {},
   "source": [
    "Funtionsaufruf:"
   ]
  },
  {
   "cell_type": "code",
   "execution_count": 105,
   "id": "c0886ef4-29ff-4f45-a0df-f6739e633ad5",
   "metadata": {},
   "outputs": [
    {
     "data": {
      "text/plain": [
       "2"
      ]
     },
     "execution_count": 105,
     "metadata": {},
     "output_type": "execute_result"
    }
   ],
   "source": [
    "len([2,45])"
   ]
  },
  {
   "cell_type": "code",
   "execution_count": 106,
   "id": "8195efba-0bd2-49fe-8709-ab8baa516c4b",
   "metadata": {},
   "outputs": [
    {
     "ename": "TypeError",
     "evalue": "len() takes exactly one argument (3 given)",
     "output_type": "error",
     "traceback": [
      "\u001b[1;31m---------------------------------------------------------------------------\u001b[0m",
      "\u001b[1;31mTypeError\u001b[0m                                 Traceback (most recent call last)",
      "\u001b[1;32m<ipython-input-106-350e77fa75be>\u001b[0m in \u001b[0;36m<module>\u001b[1;34m\u001b[0m\n\u001b[1;32m----> 1\u001b[1;33m \u001b[0mlen\u001b[0m\u001b[1;33m(\u001b[0m\u001b[1;36m1\u001b[0m\u001b[1;33m,\u001b[0m\u001b[1;36m2\u001b[0m\u001b[1;33m,\u001b[0m\u001b[1;36m3\u001b[0m\u001b[1;33m)\u001b[0m\u001b[1;33m\u001b[0m\u001b[1;33m\u001b[0m\u001b[0m\n\u001b[0m",
      "\u001b[1;31mTypeError\u001b[0m: len() takes exactly one argument (3 given)"
     ]
    }
   ],
   "source": [
    "len(1,2,3)"
   ]
  },
  {
   "cell_type": "code",
   "execution_count": 107,
   "id": "61463437-2722-4127-ac2e-7c22df56323b",
   "metadata": {},
   "outputs": [
    {
     "data": {
      "text/plain": [
       "3"
      ]
     },
     "execution_count": 107,
     "metadata": {},
     "output_type": "execute_result"
    }
   ],
   "source": [
    "len((1,2,3))"
   ]
  },
  {
   "cell_type": "code",
   "execution_count": 108,
   "id": "fe9c3ec1-6131-49f6-94a6-61629e30fdf5",
   "metadata": {},
   "outputs": [],
   "source": [
    "t = (1,2,3,\"Hall\", \"Wlt\", [0,0,0])"
   ]
  },
  {
   "cell_type": "code",
   "execution_count": 109,
   "id": "54cb5755-4020-4f3c-a36f-6bca1059e713",
   "metadata": {},
   "outputs": [
    {
     "ename": "TypeError",
     "evalue": "'tuple' object does not support item assignment",
     "output_type": "error",
     "traceback": [
      "\u001b[1;31m---------------------------------------------------------------------------\u001b[0m",
      "\u001b[1;31mTypeError\u001b[0m                                 Traceback (most recent call last)",
      "\u001b[1;32m<ipython-input-109-07ce4274e407>\u001b[0m in \u001b[0;36m<module>\u001b[1;34m\u001b[0m\n\u001b[1;32m----> 1\u001b[1;33m \u001b[0mt\u001b[0m\u001b[1;33m[\u001b[0m\u001b[1;36m2\u001b[0m\u001b[1;33m]\u001b[0m \u001b[1;33m=\u001b[0m \u001b[1;36m10\u001b[0m\u001b[1;33m\u001b[0m\u001b[1;33m\u001b[0m\u001b[0m\n\u001b[0m",
      "\u001b[1;31mTypeError\u001b[0m: 'tuple' object does not support item assignment"
     ]
    }
   ],
   "source": [
    "t[2] = 10"
   ]
  },
  {
   "cell_type": "markdown",
   "id": "d6aca92a-a542-41d4-a2ce-99a0dba8dda9",
   "metadata": {},
   "source": [
    "Tupel sind (wie Strings) nicht veränderbar."
   ]
  },
  {
   "cell_type": "markdown",
   "id": "def2ac4f-b71e-43a4-9284-f0d69cc8db41",
   "metadata": {},
   "source": [
    "# Indizierung, Slicing und Extended Slicing"
   ]
  },
  {
   "cell_type": "markdown",
   "id": "635f6c9e-73ac-4ce1-a801-382376d9c5fc",
   "metadata": {},
   "source": [
    "Zugriff auf Teile eines Strings (bzw. einer Liste, eines Tupels, usw):\n",
    "\n",
    "Es gibt mehrere Indizierungsarten: Man kann sich ein einzelnes Element auswählen, man kann sich mehrere Elemente hintereinander auswählen (Slicing) und man kann sich mehrere Elemente mit Schrittweite uswählen (extended slicing)"
   ]
  },
  {
   "cell_type": "code",
   "execution_count": 110,
   "id": "b723eb04-bd02-4ed5-8c83-726d1a6f6a67",
   "metadata": {},
   "outputs": [],
   "source": [
    "c = \"Hallo welt hier bin ich und tippe und tippe ...!\""
   ]
  },
  {
   "cell_type": "markdown",
   "id": "6c3835d9-6428-4d86-850f-52f2c00aed32",
   "metadata": {
    "tags": []
   },
   "source": [
    "### A. Auswahl eines Elements"
   ]
  },
  {
   "cell_type": "markdown",
   "id": "10ad32db-f5ef-4969-8855-c78c7fdf3bb3",
   "metadata": {},
   "source": [
    "Erfolt mit der eckigen Klammer die direkt hinter einem Objekt steht."
   ]
  },
  {
   "cell_type": "code",
   "execution_count": 111,
   "id": "ee6c14b3-1734-48f0-9df2-530c660bbba9",
   "metadata": {},
   "outputs": [
    {
     "data": {
      "text/plain": [
       "'l'"
      ]
     },
     "execution_count": 111,
     "metadata": {},
     "output_type": "execute_result"
    }
   ],
   "source": [
    "\"Hallo Welt hier bin ich\"[2]"
   ]
  },
  {
   "cell_type": "markdown",
   "id": "bddf9e2c-1f76-413a-9401-544290bab18b",
   "metadata": {},
   "source": [
    "Die Zählung / Indizierung fängt mit der 0 an. Letztes Element eines Objekts c hat also die Nummer len(c)-1"
   ]
  },
  {
   "cell_type": "code",
   "execution_count": 112,
   "id": "dff47289-d51f-4694-9a21-33c5b8c411d3",
   "metadata": {},
   "outputs": [
    {
     "data": {
      "text/plain": [
       "'!'"
      ]
     },
     "execution_count": 112,
     "metadata": {},
     "output_type": "execute_result"
    }
   ],
   "source": [
    "c[len(c)-1]"
   ]
  },
  {
   "cell_type": "markdown",
   "id": "394f16ad-eb29-4e74-8b97-a82096bd02af",
   "metadata": {},
   "source": [
    "Den Zugriff auf das letzte Element kann man einfacher schreiben durch negative Indizies:"
   ]
  },
  {
   "cell_type": "code",
   "execution_count": 114,
   "id": "3fde22d8-ee27-45ba-91c6-6abeac79b23c",
   "metadata": {},
   "outputs": [
    {
     "data": {
      "text/plain": [
       "'!'"
      ]
     },
     "execution_count": 114,
     "metadata": {},
     "output_type": "execute_result"
    }
   ],
   "source": [
    "c[-1] #das letzte Zeichen"
   ]
  },
  {
   "cell_type": "code",
   "execution_count": 115,
   "id": "57346595-22e3-4e68-a288-d4c2a3ff3131",
   "metadata": {},
   "outputs": [
    {
     "data": {
      "text/plain": [
       "'.'"
      ]
     },
     "execution_count": 115,
     "metadata": {},
     "output_type": "execute_result"
    }
   ],
   "source": [
    "c[-2] #das vorletzte Zeichen"
   ]
  },
  {
   "cell_type": "code",
   "execution_count": 116,
   "id": "24df5a41-1b0c-4c8f-b7a6-99e0d020e844",
   "metadata": {},
   "outputs": [
    {
     "data": {
      "text/plain": [
       "'H'"
      ]
     },
     "execution_count": 116,
     "metadata": {},
     "output_type": "execute_result"
    }
   ],
   "source": [
    "c[-len(c)]"
   ]
  },
  {
   "cell_type": "markdown",
   "id": "bb986450-aa49-4783-a32c-29c85d54032c",
   "metadata": {},
   "source": [
    "### B. Slicing"
   ]
  },
  {
   "cell_type": "code",
   "execution_count": 117,
   "id": "e4990a5d-6f45-4513-858d-a823b0c3c9fc",
   "metadata": {},
   "outputs": [
    {
     "data": {
      "text/plain": [
       "'Hallo welt hier bin ich und tippe und tippe ...!'"
      ]
     },
     "execution_count": 117,
     "metadata": {},
     "output_type": "execute_result"
    }
   ],
   "source": [
    "c"
   ]
  },
  {
   "cell_type": "code",
   "execution_count": 118,
   "id": "77f8a515-b32f-47ed-8ffe-3ac35e4ab8f6",
   "metadata": {},
   "outputs": [
    {
     "data": {
      "text/plain": [
       "'llo'"
      ]
     },
     "execution_count": 118,
     "metadata": {},
     "output_type": "execute_result"
    }
   ],
   "source": [
    "c[2:5]"
   ]
  },
  {
   "cell_type": "code",
   "execution_count": 119,
   "id": "600449e4-2d29-4b14-92e7-bddb50edbcfa",
   "metadata": {},
   "outputs": [
    {
     "data": {
      "text/plain": [
       "'Ha'"
      ]
     },
     "execution_count": 119,
     "metadata": {},
     "output_type": "execute_result"
    }
   ],
   "source": [
    "c[0:2]"
   ]
  },
  {
   "cell_type": "markdown",
   "id": "b19de79f-096d-421b-a0ac-33edb4a6d271",
   "metadata": {},
   "source": [
    "#### Die rechte Grenze wird nicht mitgenommen beim Slicing."
   ]
  },
  {
   "cell_type": "code",
   "execution_count": 120,
   "id": "ba961745-1f0a-49e0-88da-be1c305d96f2",
   "metadata": {},
   "outputs": [
    {
     "data": {
      "text/plain": [
       "'Hallo'"
      ]
     },
     "execution_count": 120,
     "metadata": {},
     "output_type": "execute_result"
    }
   ],
   "source": [
    "c[:5]"
   ]
  },
  {
   "cell_type": "code",
   "execution_count": 123,
   "id": "98d2aae9-8ab7-48fd-be87-0114a5b2a61f",
   "metadata": {},
   "outputs": [
    {
     "data": {
      "text/plain": [
       "' ...!'"
      ]
     },
     "execution_count": 123,
     "metadata": {},
     "output_type": "execute_result"
    }
   ],
   "source": [
    "c[-5:]"
   ]
  },
  {
   "cell_type": "code",
   "execution_count": 124,
   "id": "9e31b018-a393-414c-a638-13db9265e9a4",
   "metadata": {},
   "outputs": [
    {
     "data": {
      "text/plain": [
       "' ...'"
      ]
     },
     "execution_count": 124,
     "metadata": {},
     "output_type": "execute_result"
    }
   ],
   "source": [
    "c[-5:-1]"
   ]
  },
  {
   "cell_type": "markdown",
   "id": "f73b7e10-fb25-4a40-8a54-5c7df6071e77",
   "metadata": {},
   "source": [
    "### C. Extended Slicing"
   ]
  },
  {
   "cell_type": "markdown",
   "id": "911d7be1-eed2-417a-8b56-ee81db7f0377",
   "metadata": {},
   "source": [
    "Man kann noch ein drittes Argument anfügen, wieder mit `:` getrennt, und dieses Argument bezeichnet die Schrittweite."
   ]
  },
  {
   "cell_type": "code",
   "execution_count": 125,
   "id": "762304a0-6eb0-4814-bd19-c91a2e55e67a",
   "metadata": {},
   "outputs": [
    {
     "data": {
      "text/plain": [
       "'Hallo welt hier bin ich und tippe und tippe ...!'"
      ]
     },
     "execution_count": 125,
     "metadata": {},
     "output_type": "execute_result"
    }
   ],
   "source": [
    "c"
   ]
  },
  {
   "cell_type": "code",
   "execution_count": 126,
   "id": "d6f32fab-4c49-4dac-8415-72b91d45edd1",
   "metadata": {},
   "outputs": [
    {
     "data": {
      "text/plain": [
       "'Hlowl'"
      ]
     },
     "execution_count": 126,
     "metadata": {},
     "output_type": "execute_result"
    }
   ],
   "source": [
    "c[0:10:2]"
   ]
  },
  {
   "cell_type": "markdown",
   "id": "a0229dc4-fc1e-40cf-a93f-fdd050043d38",
   "metadata": {},
   "source": [
    "Die Schrittweite darf negativ sein:"
   ]
  },
  {
   "cell_type": "code",
   "execution_count": 131,
   "id": "547f8374-8c60-4a0a-afbc-4754d4c004c1",
   "metadata": {},
   "outputs": [
    {
     "data": {
      "text/plain": [
       "'!... eppi'"
      ]
     },
     "execution_count": 131,
     "metadata": {},
     "output_type": "execute_result"
    }
   ],
   "source": [
    "c[-1:-10:-1]"
   ]
  },
  {
   "cell_type": "markdown",
   "id": "12ce2498-6a02-4266-ae0b-bffe6254af90",
   "metadata": {},
   "source": [
    "So kann man eine Sequenz auch umdrehen"
   ]
  },
  {
   "cell_type": "code",
   "execution_count": 132,
   "id": "1249c102-96a5-49ae-9c7c-e216432fa12f",
   "metadata": {},
   "outputs": [
    {
     "data": {
      "text/plain": [
       "'!... eppit dnu eppit dnu hci nib reih tlew ollaH'"
      ]
     },
     "execution_count": 132,
     "metadata": {},
     "output_type": "execute_result"
    }
   ],
   "source": [
    "c[::-1]"
   ]
  },
  {
   "cell_type": "markdown",
   "id": "27a8c7dd-8789-4d47-82a8-267adefabbfe",
   "metadata": {},
   "source": [
    "# Kontrollflusssteuerung"
   ]
  },
  {
   "cell_type": "markdown",
   "id": "e64a25c1-09ab-4034-a726-457e01831c3d",
   "metadata": {},
   "source": [
    "## `if` -Kommando"
   ]
  },
  {
   "cell_type": "markdown",
   "id": "f3db33cd-975d-46cf-a2b2-6327046dfd3b",
   "metadata": {
    "tags": []
   },
   "source": [
    "Hat die folgende Syntax;"
   ]
  },
  {
   "cell_type": "markdown",
   "id": "a31f5421-1af3-43a1-b81f-b24a2b95a574",
   "metadata": {},
   "source": [
    "```python\n",
    "if <boolescher Ausdruck>: \n",
    "    <kommando1>\n",
    "    <kommando2>\n",
    "    ...\n",
    "[elif <boolescher Ausdruck>:\n",
    "    <kommando>\n",
    "    ...]*\n",
    "[else: \n",
    "    <kommando>\n",
    "    ...]\n",
    "``` "
   ]
  },
  {
   "cell_type": "markdown",
   "id": "a7f23cc9-3611-4b4a-82aa-a7e00abfce6e",
   "metadata": {},
   "source": [
    "## `for` -Kommando"
   ]
  },
  {
   "cell_type": "markdown",
   "id": "56d2a1b8-9edd-428c-9fbb-289c45caf613",
   "metadata": {},
   "source": [
    "Hat die folgende Syntax:"
   ]
  },
  {
   "cell_type": "markdown",
   "id": "271dc524-1cbb-4df7-afed-3b2a66f00940",
   "metadata": {},
   "source": [
    "```python\n",
    "for <identifier> in <sequence>: \n",
    "    <kommando1>\n",
    "    <kommando2>\n",
    "    ...\n",
    "```"
   ]
  },
  {
   "cell_type": "markdown",
   "id": "7574df6f-57a3-4fe7-b7b7-217853668ce5",
   "metadata": {},
   "source": [
    "## `while`-Schleife"
   ]
  },
  {
   "cell_type": "markdown",
   "id": "dbc9672c-344f-45ef-8a5b-a614cef8848f",
   "metadata": {},
   "source": [
    "... verwendet man immer dann, wenn man nicht genau weiß, wie oft man iterieren muss. "
   ]
  },
  {
   "cell_type": "markdown",
   "id": "f7c7b20c-63b2-4c34-8965-5b2002789c43",
   "metadata": {},
   "source": [
    "Syntax:"
   ]
  },
  {
   "cell_type": "markdown",
   "id": "619dccb1-3a09-4d22-aa7c-076f763cef14",
   "metadata": {},
   "source": [
    "```python\n",
    "while <boolescher Ausdruck>: \n",
    "    <kommando1>\n",
    "    <kommando2>\n",
    "    ...\n",
    "```"
   ]
  },
  {
   "cell_type": "code",
   "execution_count": 136,
   "id": "067d784a-09ad-4cc5-886b-4e4222e9a6a0",
   "metadata": {},
   "outputs": [],
   "source": [
    "i = 0\n",
    "while False: \n",
    "    print(i)\n",
    "    i = i +1"
   ]
  },
  {
   "cell_type": "code",
   "execution_count": 135,
   "id": "b3a2b941-a01c-4eac-8190-38606b7b5f06",
   "metadata": {},
   "outputs": [
    {
     "name": "stdin",
     "output_type": "stream",
     "text": [
      "Bitte Zahl eingeben:  0\n"
     ]
    }
   ],
   "source": [
    "i = 0\n",
    "while input(\"Bitte Zahl eingeben: \")!=\"0\":\n",
    "    print(\"Und nochmal\")\n",
    "    "
   ]
  },
  {
   "cell_type": "markdown",
   "id": "f3c0ff41-5111-4a16-a1cb-5faa85c28cd7",
   "metadata": {},
   "source": [
    "## Funktionen"
   ]
  },
  {
   "cell_type": "markdown",
   "id": "41a3c109-7e76-4902-8587-b58eb5c64167",
   "metadata": {},
   "source": [
    "Funktionen definiert man dann, wenn man bestimmte Kommando-Folgen immer wieder / wiederholt abarbeiten möchte; diesen Anweisungsfolgen kann man dann (in einer Funktionsdefinition) einen Namen geben.\n",
    "\n",
    "Syntax einer Funktionsdefinition:"
   ]
  },
  {
   "cell_type": "markdown",
   "id": "41f0b15c-d6c9-435b-9e69-8822ca276236",
   "metadata": {},
   "source": [
    "```python\n",
    "def <identifier>([par1, par2, ...]): \n",
    "    <kommando1>\n",
    "    <kommando2>\n",
    "    ...\n",
    "```"
   ]
  },
  {
   "cell_type": "markdown",
   "id": "2f3e101a-a01d-4f83-8ec3-63cc89a153ac",
   "metadata": {},
   "source": [
    " **Beispiel 1:**"
   ]
  },
  {
   "cell_type": "code",
   "execution_count": 137,
   "id": "b692b697-ee97-4e07-a102-32a2a54f4e17",
   "metadata": {},
   "outputs": [],
   "source": [
    "def f():\n",
    "    print(\"Guten Morgen\")\n",
    "    print(\"Hoffe Du hast gut geschlafen\")\n",
    "def g(): \n",
    "    print(\"Guten Abend\")\n",
    "    print(\"Hoffe du hattest einen schönen Tag\")"
   ]
  },
  {
   "cell_type": "code",
   "execution_count": 138,
   "id": "06153392-0134-47e7-9db0-a9d9ac7c85a6",
   "metadata": {},
   "outputs": [
    {
     "data": {
      "text/plain": [
       "function"
      ]
     },
     "execution_count": 138,
     "metadata": {},
     "output_type": "execute_result"
    }
   ],
   "source": [
    "type(f)"
   ]
  },
  {
   "cell_type": "code",
   "execution_count": 139,
   "id": "a1e432b7-4d2b-47d1-90f6-50d982cc7bf0",
   "metadata": {},
   "outputs": [
    {
     "name": "stdout",
     "output_type": "stream",
     "text": [
      "Guten Morgen\n",
      "Hoffe Du hast gut geschlafen\n"
     ]
    }
   ],
   "source": [
    "f()"
   ]
  },
  {
   "cell_type": "markdown",
   "id": "d6a502f8-4da1-4b69-8471-f7a667143bb4",
   "metadata": {},
   "source": [
    "**Beispiel 2**"
   ]
  },
  {
   "cell_type": "markdown",
   "id": "40df40fb-f7be-4dde-865d-1c0b0addf6d7",
   "metadata": {},
   "source": [
    "Schauen wir uns mal eine Funktion an, die parametriert ist."
   ]
  },
  {
   "cell_type": "code",
   "execution_count": 140,
   "id": "48660526-60ad-4454-b368-ca6f544900ef",
   "metadata": {},
   "outputs": [],
   "source": [
    "def gutenMorgen(n): # Fkt hat einen Parameter n \n",
    "    print(\"Guten Morgen \", n, \"!\")\n",
    "    print(\"Hast du gut geschlafen?\")"
   ]
  },
  {
   "cell_type": "code",
   "execution_count": 141,
   "id": "49b2352d-f60c-4f7e-906e-bfbdea8408be",
   "metadata": {},
   "outputs": [
    {
     "ename": "TypeError",
     "evalue": "gutenMorgen() missing 1 required positional argument: 'n'",
     "output_type": "error",
     "traceback": [
      "\u001b[1;31m---------------------------------------------------------------------------\u001b[0m",
      "\u001b[1;31mTypeError\u001b[0m                                 Traceback (most recent call last)",
      "\u001b[1;32m<ipython-input-141-b76afa6f2c18>\u001b[0m in \u001b[0;36m<module>\u001b[1;34m\u001b[0m\n\u001b[1;32m----> 1\u001b[1;33m \u001b[0mgutenMorgen\u001b[0m\u001b[1;33m(\u001b[0m\u001b[1;33m)\u001b[0m\u001b[1;33m\u001b[0m\u001b[1;33m\u001b[0m\u001b[0m\n\u001b[0m",
      "\u001b[1;31mTypeError\u001b[0m: gutenMorgen() missing 1 required positional argument: 'n'"
     ]
    }
   ],
   "source": [
    "gutenMorgen()"
   ]
  },
  {
   "cell_type": "code",
   "execution_count": 142,
   "id": "be607c90-3801-4783-a47c-20db35b05fd4",
   "metadata": {},
   "outputs": [
    {
     "name": "stdout",
     "output_type": "stream",
     "text": [
      "Guten Morgen  Hannah !\n",
      "Hast du gut geschlafen?\n"
     ]
    }
   ],
   "source": [
    "gutenMorgen(\"Hannah\") # Der Wert \"Hannah\" hier heißt auch Argument"
   ]
  },
  {
   "cell_type": "markdown",
   "id": "3317cbd1-2712-4188-93f9-3af28fff54d8",
   "metadata": {},
   "source": [
    "Zur Nomenklatur: \n",
    "- Den / die Platzhalter bei der Definition der Funktion nennt man auch (formale) **Parameter**\n",
    "- Der beim Aufruf übergebene Wert heißt auch **Argument**"
   ]
  },
  {
   "cell_type": "markdown",
   "id": "cccc1fa5-739a-4a6f-8131-7062905bde1a",
   "metadata": {},
   "source": [
    "Frage: Funktioniert es dann auch so: gutenMorgen(input())"
   ]
  },
  {
   "cell_type": "code",
   "execution_count": 146,
   "id": "592f47ca-1e04-4b98-8e6f-0cf32f35d4ca",
   "metadata": {},
   "outputs": [
    {
     "name": "stdin",
     "output_type": "stream",
     "text": [
      "Wie heißt du?  Max\n"
     ]
    },
    {
     "name": "stdout",
     "output_type": "stream",
     "text": [
      "Guten Morgen  Max !\n",
      "Hast du gut geschlafen?\n"
     ]
    }
   ],
   "source": [
    "gutenMorgen(input(\"Wie heißt du? \"))"
   ]
  },
  {
   "cell_type": "markdown",
   "id": "a5eb33e2-5c29-49a0-96b4-b18e125adb92",
   "metadata": {},
   "source": [
    "Auswertung von \"innen\" nach \"außen\""
   ]
  },
  {
   "cell_type": "markdown",
   "id": "9a2b42d2-c44c-41b0-93fa-194fb6068b80",
   "metadata": {},
   "source": [
    "Die bisherigen Funktionen standen allesamt für keinen Wert.## Rückgabewerte"
   ]
  },
  {
   "cell_type": "markdown",
   "id": "7ce71587-eab4-4514-8094-ecba2fcc1ee1",
   "metadata": {},
   "source": [
    "Die bisherigen Funktionen standen allesamt für keinen Wert."
   ]
  },
  {
   "cell_type": "code",
   "execution_count": 148,
   "id": "5e150df4-295c-43c9-a287-94ee58019e95",
   "metadata": {},
   "outputs": [
    {
     "name": "stdout",
     "output_type": "stream",
     "text": [
      "Guten Morgen  Michel !\n",
      "Hast du gut geschlafen?\n"
     ]
    }
   ],
   "source": [
    "x = gutenMorgen(\"Michel\")"
   ]
  },
  {
   "cell_type": "code",
   "execution_count": 149,
   "id": "83b21718-3dc8-43b0-ac84-042bcec4b642",
   "metadata": {},
   "outputs": [
    {
     "name": "stdout",
     "output_type": "stream",
     "text": [
      "None\n"
     ]
    }
   ],
   "source": [
    "print(x)"
   ]
  },
  {
   "cell_type": "markdown",
   "id": "c82fc012-38a9-4088-a5af-103a205b9dfa",
   "metadata": {},
   "source": [
    "Man kann eine Funktion dazu bringen für einen Wert zu stehen, indem man über return einen Rückgabewert erzeugt."
   ]
  },
  {
   "cell_type": "code",
   "execution_count": 150,
   "id": "9470c09b-9ffc-44b0-8089-1cc43e78ca9d",
   "metadata": {},
   "outputs": [],
   "source": [
    "def gutenMorgen(n): # Fkt hat einen Parameter n \n",
    "    print(\"Guten Morgen \", n, \"!\")\n",
    "    print(\"Hast du gut geschlafen?\")\n",
    "    return 10 # macht zwar nicht wirklich Sinn, aber es wird ein Rückgabewert erzeugt."
   ]
  },
  {
   "cell_type": "code",
   "execution_count": 151,
   "id": "5d938007-1354-45f8-b25f-5de1c9839923",
   "metadata": {},
   "outputs": [
    {
     "name": "stdout",
     "output_type": "stream",
     "text": [
      "Guten Morgen  Michel !\n",
      "Hast du gut geschlafen?\n"
     ]
    }
   ],
   "source": [
    "x = gutenMorgen(\"Michel\")"
   ]
  },
  {
   "cell_type": "code",
   "execution_count": 152,
   "id": "ac84539f-ee2e-40bc-9ea1-40dd523e8f8c",
   "metadata": {},
   "outputs": [
    {
     "data": {
      "text/plain": [
       "10"
      ]
     },
     "execution_count": 152,
     "metadata": {},
     "output_type": "execute_result"
    }
   ],
   "source": [
    "x"
   ]
  },
  {
   "cell_type": "code",
   "execution_count": 153,
   "id": "7a9bfb51-4fb7-47f7-beb4-47f3c548699d",
   "metadata": {},
   "outputs": [
    {
     "name": "stdout",
     "output_type": "stream",
     "text": [
      "Guten Morgen  Max !\n",
      "Hast du gut geschlafen?\n"
     ]
    },
    {
     "data": {
      "text/plain": [
       "7"
      ]
     },
     "execution_count": 153,
     "metadata": {},
     "output_type": "execute_result"
    }
   ],
   "source": [
    "gutenMorgen(\"Max\") - 3"
   ]
  },
  {
   "cell_type": "markdown",
   "id": "819fec57-e19f-494d-a3e6-f7970ba15de1",
   "metadata": {},
   "source": [
    "Das `return`-Kommando bewirkt eigentlich zwei Dinge: \n",
    "1. Der Funktionsaufruf erhält einen (Rückgabe-)Wert\n",
    "2. Die Funktion wird sofort verlassen."
   ]
  },
  {
   "cell_type": "code",
   "execution_count": 155,
   "id": "a63cce38-b7a9-4271-92ee-2c413ee22b59",
   "metadata": {},
   "outputs": [],
   "source": [
    "def gutenMorgen(n): # Fkt hat einen Parameter n \n",
    "    print(\"Guten Morgen \", n, \"!\")\n",
    "    print(\"Hast du gut geschlafen?\")\n",
    "    return 10 # macht zwar nicht wirklich Sinn, aber es wird ein Rückgabewert erzeugt.\n",
    "    print(\"Hier kommt nochmals ein Kommando\")"
   ]
  },
  {
   "cell_type": "code",
   "execution_count": 156,
   "id": "92f98689-b261-4b42-bbd3-b857a9bf292e",
   "metadata": {},
   "outputs": [
    {
     "name": "stdout",
     "output_type": "stream",
     "text": [
      "Guten Morgen  Simone !\n",
      "Hast du gut geschlafen?\n"
     ]
    },
    {
     "data": {
      "text/plain": [
       "10"
      ]
     },
     "execution_count": 156,
     "metadata": {},
     "output_type": "execute_result"
    }
   ],
   "source": [
    "gutenMorgen(\"Simone\")"
   ]
  },
  {
   "cell_type": "markdown",
   "id": "1d5b3e63-09de-4b13-9d26-c4d04e3e2237",
   "metadata": {},
   "source": [
    "Oder hier: "
   ]
  },
  {
   "cell_type": "code",
   "execution_count": 157,
   "id": "6ec5de12-fb0f-4648-85f0-a978744fab1a",
   "metadata": {},
   "outputs": [],
   "source": [
    "def g(n): \n",
    "    erg = 0\n",
    "    for i in range(n): \n",
    "        erg = erg+i\n",
    "        return erg # vorsicht: das steht in der Schleife, d.h. beim ersten Schleifendurchlauf wird Funktion verlassen"
   ]
  },
  {
   "cell_type": "code",
   "execution_count": 158,
   "id": "55859574-ff75-45ca-b420-440a8653f6ad",
   "metadata": {},
   "outputs": [
    {
     "data": {
      "text/plain": [
       "0"
      ]
     },
     "execution_count": 158,
     "metadata": {},
     "output_type": "execute_result"
    }
   ],
   "source": [
    "g(3)"
   ]
  },
  {
   "cell_type": "code",
   "execution_count": 159,
   "id": "debcd5ae-56f9-42c9-bfc4-3e891dc94dda",
   "metadata": {},
   "outputs": [],
   "source": [
    "def g(n): \n",
    "    erg = 0\n",
    "    for i in range(n): \n",
    "        erg = erg+i\n",
    "    return erg "
   ]
  },
  {
   "cell_type": "code",
   "execution_count": 160,
   "id": "b61fb44e-aa2d-47e9-9f73-6d4bb66bc3c5",
   "metadata": {},
   "outputs": [
    {
     "data": {
      "text/plain": [
       "3"
      ]
     },
     "execution_count": 160,
     "metadata": {},
     "output_type": "execute_result"
    }
   ],
   "source": [
    "g(3)"
   ]
  },
  {
   "cell_type": "markdown",
   "id": "97cfe2ec-8061-49f8-b437-4f64cf383ca4",
   "metadata": {},
   "source": [
    "## Plan für die nächste Stunde: Functionen / Scoping / `set`-Typ / `dict`-Typ / OOP"
   ]
  }
 ],
 "metadata": {
  "kernelspec": {
   "display_name": "Python 3",
   "language": "python",
   "name": "python3"
  },
  "language_info": {
   "codemirror_mode": {
    "name": "ipython",
    "version": 3
   },
   "file_extension": ".py",
   "mimetype": "text/x-python",
   "name": "python",
   "nbconvert_exporter": "python",
   "pygments_lexer": "ipython3",
   "version": "3.8.8"
  }
 },
 "nbformat": 4,
 "nbformat_minor": 5
}
