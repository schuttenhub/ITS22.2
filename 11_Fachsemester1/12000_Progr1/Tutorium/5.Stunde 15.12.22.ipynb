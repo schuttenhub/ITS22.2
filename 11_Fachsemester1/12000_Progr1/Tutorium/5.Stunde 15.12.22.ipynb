{
 "cells": [
  {
   "cell_type": "code",
   "execution_count": 1,
   "metadata": {},
   "outputs": [
    {
     "data": {
      "text/plain": [
       "[1, 1, 1, 0, 1, 0]"
      ]
     },
     "execution_count": 1,
     "metadata": {},
     "output_type": "execute_result"
    }
   ],
   "source": [
    "[1 if x in \"hallowelt\" else 0 for x in \"hloqwn\"]"
   ]
  },
  {
   "cell_type": "code",
   "execution_count": 2,
   "metadata": {},
   "outputs": [
    {
     "data": {
      "text/plain": [
       "False"
      ]
     },
     "execution_count": 2,
     "metadata": {},
     "output_type": "execute_result"
    }
   ],
   "source": [
    "all([1 if x in \"hallowelt\" else 0 for x in \"hloqwn\"])"
   ]
  },
  {
   "cell_type": "code",
   "execution_count": 3,
   "metadata": {},
   "outputs": [
    {
     "data": {
      "text/plain": [
       "True"
      ]
     },
     "execution_count": 3,
     "metadata": {},
     "output_type": "execute_result"
    }
   ],
   "source": [
    "any([1 if x in \"hallowelt\" else 0 for x in \"hloqwn\"])"
   ]
  },
  {
   "cell_type": "code",
   "execution_count": 4,
   "metadata": {},
   "outputs": [
    {
     "data": {
      "text/plain": [
       "[1, 1, 1, 1, 1, 1, 1, 1, 1, 1]"
      ]
     },
     "execution_count": 4,
     "metadata": {},
     "output_type": "execute_result"
    }
   ],
   "source": [
    "[1 if x in range(10) else 0 for x in range(10)]"
   ]
  },
  {
   "cell_type": "code",
   "execution_count": 5,
   "metadata": {},
   "outputs": [
    {
     "data": {
      "text/plain": [
       "[('H', True),\n",
       " ('H', False),\n",
       " ('a', True),\n",
       " ('a', False),\n",
       " ('l', True),\n",
       " ('l', False),\n",
       " ('l', True),\n",
       " ('l', False),\n",
       " ('o', True),\n",
       " ('o', False)]"
      ]
     },
     "execution_count": 5,
     "metadata": {},
     "output_type": "execute_result"
    }
   ],
   "source": [
    "[(x,y) for x in \"Hallo\" for y in [True,False]]"
   ]
  },
  {
   "cell_type": "code",
   "execution_count": 6,
   "metadata": {},
   "outputs": [
    {
     "data": {
      "text/plain": [
       "[1, 1, 1]"
      ]
     },
     "execution_count": 6,
     "metadata": {},
     "output_type": "execute_result"
    }
   ],
   "source": [
    "listTup = [(\"a\",\"a\"),(\"b\",\"b\"),(\"c\",\"c\")]\n",
    "seq = \"abc\"\n",
    "l=[1 if (x,x) in listTup else 0 for x in seq]\n",
    "l"
   ]
  },
  {
   "cell_type": "code",
   "execution_count": 7,
   "metadata": {},
   "outputs": [
    {
     "data": {
      "text/plain": [
       "[68, 238, 408, 578, 748, 918]"
      ]
     },
     "execution_count": 7,
     "metadata": {},
     "output_type": "execute_result"
    }
   ],
   "source": [
    "[x for x in range(1,1001) if x%17==0 and x%10==8]"
   ]
  },
  {
   "cell_type": "code",
   "execution_count": 8,
   "metadata": {},
   "outputs": [
    {
     "data": {
      "text/plain": [
       "200"
      ]
     },
     "execution_count": 8,
     "metadata": {},
     "output_type": "execute_result"
    }
   ],
   "source": [
    "len([(x,y,z) for x in range(10)\n",
    "     for y in \"Hallo\"\n",
    "     for z in \"Welt\"])\n"
   ]
  },
  {
   "cell_type": "code",
   "execution_count": 9,
   "metadata": {},
   "outputs": [
    {
     "data": {
      "text/plain": [
       "5050"
      ]
     },
     "execution_count": 9,
     "metadata": {},
     "output_type": "execute_result"
    }
   ],
   "source": [
    "sum([x for x in range(101)])"
   ]
  },
  {
   "cell_type": "code",
   "execution_count": 10,
   "metadata": {},
   "outputs": [
    {
     "data": {
      "text/plain": [
       "167"
      ]
     },
     "execution_count": 10,
     "metadata": {},
     "output_type": "execute_result"
    }
   ],
   "source": [
    "len([x for x in range(1001) if x%6==0])"
   ]
  },
  {
   "cell_type": "code",
   "execution_count": 11,
   "metadata": {},
   "outputs": [],
   "source": [
    "seq=[\"Hallo\",\"\",\"welt\",\"!\",\"!\"]\n"
   ]
  },
  {
   "cell_type": "code",
   "execution_count": 12,
   "metadata": {},
   "outputs": [
    {
     "data": {
      "text/plain": [
       "11"
      ]
     },
     "execution_count": 12,
     "metadata": {},
     "output_type": "execute_result"
    }
   ],
   "source": [
    "sum([len(x) for x in seq])"
   ]
  },
  {
   "cell_type": "code",
   "execution_count": 13,
   "metadata": {},
   "outputs": [],
   "source": [
    "b = open(\"Datei.txt\").read()\n",
    "l = open(\"Datei.txt\").readlines()\n",
    "s = open(\"Datei.txt\").read().split()"
   ]
  },
  {
   "cell_type": "code",
   "execution_count": 14,
   "metadata": {},
   "outputs": [
    {
     "data": {
      "text/plain": [
       "[54,\n",
       " 22,\n",
       " 34,\n",
       " 39,\n",
       " 29,\n",
       " 21,\n",
       " 13,\n",
       " 17,\n",
       " 28,\n",
       " 45,\n",
       " 11,\n",
       " 21,\n",
       " 85,\n",
       " 52,\n",
       " 3,\n",
       " 1,\n",
       " 9,\n",
       " 55,\n",
       " 46,\n",
       " 34,\n",
       " 53,\n",
       " 44,\n",
       " 60,\n",
       " 47,\n",
       " 48,\n",
       " 31,\n",
       " 57,\n",
       " 50,\n",
       " 41,\n",
       " 44,\n",
       " 44,\n",
       " 33,\n",
       " 57,\n",
       " 1,\n",
       " 20,\n",
       " 37,\n",
       " 9,\n",
       " 18,\n",
       " 5,\n",
       " 11,\n",
       " 5,\n",
       " 1,\n",
       " 7,\n",
       " 50,\n",
       " 40,\n",
       " 17,\n",
       " 17,\n",
       " 47,\n",
       " 55,\n",
       " 17,\n",
       " 17,\n",
       " 1,\n",
       " 9,\n",
       " 49,\n",
       " 43,\n",
       " 38,\n",
       " 55,\n",
       " 45,\n",
       " 39,\n",
       " 43,\n",
       " 52,\n",
       " 39,\n",
       " 63,\n",
       " 32,\n",
       " 47,\n",
       " 48,\n",
       " 48,\n",
       " 45,\n",
       " 53]"
      ]
     },
     "execution_count": 14,
     "metadata": {},
     "output_type": "execute_result"
    }
   ],
   "source": [
    "[len(i) for i in l]"
   ]
  },
  {
   "cell_type": "code",
   "execution_count": 15,
   "metadata": {},
   "outputs": [
    {
     "data": {
      "text/plain": [
       "['E',\n",
       " 'I',\n",
       " 'D',\n",
       " 'D',\n",
       " 'W',\n",
       " 'A',\n",
       " 'N',\n",
       " 'J',\n",
       " 'J',\n",
       " 'A',\n",
       " 'N',\n",
       " 'S',\n",
       " 'A',\n",
       " 'N',\n",
       " 'J',\n",
       " '\\n',\n",
       " '[',\n",
       " 'N',\n",
       " 'E',\n",
       " 'R',\n",
       " 'M',\n",
       " 'S',\n",
       " 'D',\n",
       " 'P',\n",
       " 'I',\n",
       " 'W',\n",
       " 'B',\n",
       " 'H',\n",
       " 'B',\n",
       " 'F',\n",
       " 'P',\n",
       " 'I',\n",
       " 'U',\n",
       " '\\n',\n",
       " 'Y',\n",
       " 'W',\n",
       " 'S',\n",
       " 'D',\n",
       " 'S',\n",
       " 'N',\n",
       " 'S',\n",
       " '\\n',\n",
       " '[',\n",
       " 'I',\n",
       " 'A',\n",
       " '0',\n",
       " '0',\n",
       " 'I',\n",
       " 'I',\n",
       " '0',\n",
       " '0',\n",
       " '\\n',\n",
       " '[',\n",
       " 'T',\n",
       " 'G',\n",
       " 'V',\n",
       " 'S',\n",
       " 'N',\n",
       " 'W',\n",
       " 'P',\n",
       " 'D',\n",
       " 'D',\n",
       " 'S',\n",
       " 'B',\n",
       " 'D',\n",
       " 'U',\n",
       " 'W',\n",
       " 'D',\n",
       " 'E']"
      ]
     },
     "execution_count": 15,
     "metadata": {},
     "output_type": "execute_result"
    }
   ],
   "source": [
    "[x[0] for x in l]"
   ]
  },
  {
   "cell_type": "code",
   "execution_count": 16,
   "metadata": {},
   "outputs": [
    {
     "data": {
      "text/plain": [
       "['Es fehlt nur noch ein Wort, dann ist das Album fertig\\n',\n",
       " \"Ich komm' nicht drauf\\n\",\n",
       " 'Da fehlt die, da fehlt die Pointe\\n',\n",
       " 'Da fehlt, da fehlt der Sinn des Lebens\\n',\n",
       " 'Warte! Schlampe, Hure, MÃ¶se\\n',\n",
       " \"Ah, warte, ich hab's\\n\",\n",
       " 'Nutte, Nutte\\n',\n",
       " 'Ja, genau, Nutte\\n',\n",
       " \"Ja, ich hab's! Nutte, Nutte\\n\",\n",
       " 'Amina koyim, ich muss das anders aussprechen\\n',\n",
       " 'NuttÃ¶Ã¶Ã¶\\n',\n",
       " \"So, genau, ich hab's\\n\",\n",
       " \"Also, ich bin fertâ€”, warte noch, warte mal, ich glaub', ich muss kotzen (Wart ma')\\n\",\n",
       " \"Nein, nein, doch nicht, okay, wir kÃ¶nnen aufnehm'n\\n\",\n",
       " 'Nutte, ich bin der erste Rapper mit Inhalt und Message\\n',\n",
       " \"Es geht um Drogen, Huren und immer um Macca's\\n\",\n",
       " 'Rapper machen Ansagen und Absagen\\n',\n",
       " 'Mit Tracks, die klingen wie schwanzblasende Balladen\\n',\n",
       " 'Stoff ticken ist die Basis fÃ¼r Rap-Singles\\n',\n",
       " 'Du kommst mit Punchlines, ich aus Maastricht mit Stecklinge\\n',\n",
       " 'PlastiktÃ¼ten mit Hanfblatt und Zip-Verschluss\\n',\n",
       " 'Irgendwie macht man durch Straftaten immer Plus\\n',\n",
       " 'Wen juckt deine Meinung, Hure?\\n',\n",
       " 'Beschwerst dich wegen Style und Coolness, Reimstrukturen\\n',\n",
       " \"Hab' zerknÃ¼llte Batzen statt goldener Mastercard\\n\",\n",
       " 'Bums deine Mami, weil heute ist Vatertag\\n',\n",
       " \"Fress' mich voll mit Aioli und Tapasschalen\\n\",\n",
       " \"Pflanz' mit Ragga-Paten ganze Grasplantagen\\n\",\n",
       " \"Ich hau' auf deine New-Era-Cappy\\n\",\n",
       " \"Und du sagst: â€žIch find' dein'n FuÃŸ lecker, Daddy!â€œ\\n\",\n",
       " 'You might also like\\n',\n",
       " 'Weihnachtsmann & Co. KG (Intro Song)\\n',\n",
       " 'Der Kanalreiniger\\n',\n",
       " 'NuttÃ¶Ã¶Ã¶\\n',\n",
       " \"Ich piss' auf das Mic und die Mucke klingt fetter\\n\",\n",
       " 'Als neunzig Prozent der Hurensohnrapper\\n',\n",
       " '0,9 (S), 0,9 (S)\\n',\n",
       " '0,9 (I), 0,9 (O)\\n',\n",
       " \"Ich piss' auf das Mic und bin trotzdem im Takt\\n\",\n",
       " 'Ihr Strichfotzen in Chucks mit Lipgloss fÃ¼r den Glanz\\n',\n",
       " '0,9 (S), 0,9 (S)\\n',\n",
       " '0,9 (I), 0,9 (O)\\n',\n",
       " 'Tannenbusch, NuttÃ¶Ã¶Ã¶! Kochende Crack-Betriebe\\n',\n",
       " 'Goldene Kettenliebe, polnische Felgendiebe\\n',\n",
       " 'V12-Maschinen auf Backsteinen geparkt\\n',\n",
       " 'Stehst geschockt morgens auf mit Kackstreifen im Arsch\\n',\n",
       " 'Nuttensohn! Wo sind deine Tiefbettschlappen?\\n',\n",
       " 'Weed-Packs handeln aus Eastpak-Taschen\\n',\n",
       " 'Postfach immer voll, viele BriefumschlÃ¤ge\\n',\n",
       " 'Du brauchst schon fÃ¼r 5er-Gras FinanzierungsplÃ¤ne\\n',\n",
       " 'Dumme Huren wollen seelischen Beistand\\n',\n",
       " \"Schon nach paar Takten putzen sie die ZÃ¤hne mit mei'm Schwanz\\n\",\n",
       " 'Bomben Ivory da, Erdbeerknollen\\n',\n",
       " 'Dessen Wirkung dir locker den Nerv zertrommeln\\n',\n",
       " 'Um zwei Uhr nachts hÃ¶rst du Haftschadenschreie\\n',\n",
       " 'Wo du schon am trÃ¤umen bist von Mangagezeichne\\n',\n",
       " 'Doch PokÃ©mon ist im Vergleich zu Deutschrap\\n',\n",
       " 'Ein Gangsterfilm, in dem man perlweiÃŸes Zeug streckt']"
      ]
     },
     "execution_count": 16,
     "metadata": {},
     "output_type": "execute_result"
    }
   ],
   "source": [
    "[line for line in l if len(line)>=10]"
   ]
  },
  {
   "cell_type": "code",
   "execution_count": 17,
   "metadata": {},
   "outputs": [
    {
     "data": {
      "text/plain": [
       "130"
      ]
     },
     "execution_count": 17,
     "metadata": {},
     "output_type": "execute_result"
    }
   ],
   "source": [
    "len([zeichen for zeichen in b if zeichen==\"a\"])"
   ]
  },
  {
   "cell_type": "code",
   "execution_count": 18,
   "metadata": {},
   "outputs": [
    {
     "data": {
      "text/plain": [
       "['nicht']"
      ]
     },
     "execution_count": 18,
     "metadata": {},
     "output_type": "execute_result"
    }
   ],
   "source": [
    "[nicht for nicht in s if nicht==\"nicht\"]"
   ]
  },
  {
   "cell_type": "code",
   "execution_count": 19,
   "metadata": {},
   "outputs": [
    {
     "data": {
      "text/plain": [
       "(15,\n",
       " \"Also, ich bin fertâ€”, warte noch, warte mal, ich glaub', ich muss kotzen (Wart ma')\\n\",\n",
       " enumerate)"
      ]
     },
     "execution_count": 19,
     "metadata": {},
     "output_type": "execute_result"
    }
   ],
   "source": [
    "max([(len(line.split()),line, enumerate) for line in l])"
   ]
  },
  {
   "cell_type": "code",
   "execution_count": 20,
   "metadata": {},
   "outputs": [
    {
     "data": {
      "text/plain": [
       "(15,\n",
       " \"Also, ich bin fertâ€”, warte noch, warte mal, ich glaub', ich muss kotzen (Wart ma')\\n\",\n",
       " <enumerate at 0x18402b34980>)"
      ]
     },
     "execution_count": 20,
     "metadata": {},
     "output_type": "execute_result"
    }
   ],
   "source": [
    "max([(len(line.split()),line, enumerate(line)) for line in l])"
   ]
  },
  {
   "cell_type": "code",
   "execution_count": 21,
   "metadata": {},
   "outputs": [
    {
     "data": {
      "text/plain": [
       "12"
      ]
     },
     "execution_count": 21,
     "metadata": {},
     "output_type": "execute_result"
    }
   ],
   "source": [
    "max([(len(line.split()),i,line) for i,line in enumerate(l)])[1]"
   ]
  },
  {
   "cell_type": "code",
   "execution_count": 22,
   "metadata": {},
   "outputs": [
    {
     "data": {
      "text/plain": [
       "9"
      ]
     },
     "execution_count": 22,
     "metadata": {},
     "output_type": "execute_result"
    }
   ],
   "source": [
    "len([wort for wort in s if wort[0]==\"A\"])"
   ]
  },
  {
   "cell_type": "code",
   "execution_count": 23,
   "metadata": {},
   "outputs": [
    {
     "data": {
      "text/plain": [
       "['Es fehlt nur noch ein Wort, dann ist das Album fertig\\n',\n",
       " \"Ich komm' nicht drauf\\n\",\n",
       " 'Da fehlt die, da fehlt die Pointe\\n',\n",
       " 'Da fehlt, da fehlt der Sinn des Lebens\\n',\n",
       " 'Warte! Schlampe, Hure, MÃ¶se\\n',\n",
       " \"Ah, warte, ich hab's\\n\",\n",
       " \"Ja, ich hab's! Nutte, Nutte\\n\",\n",
       " 'Amina koyim, ich muss das anders aussprechen\\n',\n",
       " \"So, genau, ich hab's\\n\",\n",
       " \"Also, ich bin fertâ€”, warte noch, warte mal, ich glaub', ich muss kotzen (Wart ma')\\n\",\n",
       " \"Nein, nein, doch nicht, okay, wir kÃ¶nnen aufnehm'n\\n\",\n",
       " 'Nutte, ich bin der erste Rapper mit Inhalt und Message\\n',\n",
       " \"Es geht um Drogen, Huren und immer um Macca's\\n\",\n",
       " 'Rapper machen Ansagen und Absagen\\n']"
      ]
     },
     "execution_count": 23,
     "metadata": {},
     "output_type": "execute_result"
    }
   ],
   "source": [
    "[line for line in l[:20] if len(line)>=20]"
   ]
  },
  {
   "cell_type": "code",
   "execution_count": 24,
   "metadata": {},
   "outputs": [
    {
     "data": {
      "text/plain": [
       "['\\ngitref mublA sad tsi nnad ,troW nie hcon run tlhef sE',\n",
       " \"\\nfuard thcin 'mmok hcI\",\n",
       " '\\netnioP eid tlhef ad ,eid tlhef aD',\n",
       " '\\nsnebeL sed nniS red tlhef ad ,tlhef aD',\n",
       " '\\nes¶ÃM ,eruH ,epmalhcS !etraW',\n",
       " \"\\ns'bah hci ,etraw ,hA\",\n",
       " '\\nettuN ,ettuN',\n",
       " '\\nettuN ,uaneg ,aJ',\n",
       " \"\\nettuN ,ettuN !s'bah hci ,aJ\",\n",
       " '\\nnehcerpssua sredna sad ssum hci ,miyok animA']"
      ]
     },
     "execution_count": 24,
     "metadata": {},
     "output_type": "execute_result"
    }
   ],
   "source": [
    "[line[::-1] for line in l[:10]]"
   ]
  }
 ],
 "metadata": {
  "kernelspec": {
   "display_name": "Python 3",
   "language": "python",
   "name": "python3"
  },
  "language_info": {
   "codemirror_mode": {
    "name": "ipython",
    "version": 3
   },
   "file_extension": ".py",
   "mimetype": "text/x-python",
   "name": "python",
   "nbconvert_exporter": "python",
   "pygments_lexer": "ipython3",
   "version": "3.10.3 (tags/v3.10.3:a342a49, Mar 16 2022, 13:07:40) [MSC v.1929 64 bit (AMD64)]"
  },
  "orig_nbformat": 4,
  "vscode": {
   "interpreter": {
    "hash": "26de051ba29f2982a8de78e945f0abaf191376122a1563185a90213a26c5da77"
   }
  }
 },
 "nbformat": 4,
 "nbformat_minor": 2
}
