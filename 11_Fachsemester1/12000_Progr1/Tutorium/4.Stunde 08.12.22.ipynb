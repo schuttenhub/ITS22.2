{
 "cells": [
  {
   "cell_type": "markdown",
   "id": "5b1e1577-771c-47c6-880f-6aba95e48b41",
   "metadata": {},
   "source": [
    "# Tutorium 4.Stunde (08.12.2022)"
   ]
  },
  {
   "cell_type": "code",
   "execution_count": 7,
   "id": "bb4f2704-c55b-4bc5-ace9-55d4029b59f9",
   "metadata": {},
   "outputs": [],
   "source": [
    "l=[[\"hello\",\"welt\",1],2,3,{4:5}]"
   ]
  },
  {
   "cell_type": "code",
   "execution_count": 11,
   "id": "5602bcc4-3c3c-4cf9-83b4-b138f96a4f07",
   "metadata": {},
   "outputs": [
    {
     "data": {
      "text/plain": [
       "1"
      ]
     },
     "execution_count": 11,
     "metadata": {},
     "output_type": "execute_result"
    }
   ],
   "source": [
    "l[0][-1]"
   ]
  },
  {
   "cell_type": "code",
   "execution_count": 14,
   "id": "00f9ac0c-26c6-4179-bcff-ea71edce169d",
   "metadata": {},
   "outputs": [
    {
     "data": {
      "text/plain": [
       "5"
      ]
     },
     "execution_count": 14,
     "metadata": {},
     "output_type": "execute_result"
    }
   ],
   "source": [
    "l[-1][4]"
   ]
  },
  {
   "cell_type": "code",
   "execution_count": 15,
   "id": "0e7fb749-530e-4baf-ae1f-2de0902d357a",
   "metadata": {},
   "outputs": [
    {
     "data": {
      "text/plain": [
       "3"
      ]
     },
     "execution_count": 15,
     "metadata": {},
     "output_type": "execute_result"
    }
   ],
   "source": [
    "l[-2]"
   ]
  },
  {
   "cell_type": "code",
   "execution_count": null,
   "id": "2624e866-57fd-43a9-ad32-22d277806568",
   "metadata": {},
   "outputs": [],
   "source": [
    "l=[[\"hello\",\"welt\",1],2,3,{4:5}]"
   ]
  },
  {
   "cell_type": "code",
   "execution_count": 16,
   "id": "9058afa0-32f1-49d7-aaa6-0ebf769932f4",
   "metadata": {},
   "outputs": [
    {
     "data": {
      "text/plain": [
       "2"
      ]
     },
     "execution_count": 16,
     "metadata": {},
     "output_type": "execute_result"
    }
   ],
   "source": [
    "l[1]"
   ]
  },
  {
   "cell_type": "code",
   "execution_count": 17,
   "id": "150759b5-6d8f-45dd-a2d3-085533b2a589",
   "metadata": {},
   "outputs": [
    {
     "data": {
      "text/plain": [
       "'l'"
      ]
     },
     "execution_count": 17,
     "metadata": {},
     "output_type": "execute_result"
    }
   ],
   "source": [
    "l[0][1][2]"
   ]
  },
  {
   "cell_type": "code",
   "execution_count": 18,
   "id": "a5e2d74e-addb-4cab-817c-36bf188c5a7b",
   "metadata": {},
   "outputs": [
    {
     "data": {
      "text/plain": [
       "'olleh'"
      ]
     },
     "execution_count": 18,
     "metadata": {},
     "output_type": "execute_result"
    }
   ],
   "source": [
    "l[0][0][::-1]"
   ]
  },
  {
   "cell_type": "code",
   "execution_count": 19,
   "id": "13dfdb06-60cb-4609-8c1a-89c6dd66998f",
   "metadata": {},
   "outputs": [
    {
     "ename": "IndexError",
     "evalue": "list index out of range",
     "output_type": "error",
     "traceback": [
      "\u001b[1;31m---------------------------------------------------------------------------\u001b[0m",
      "\u001b[1;31mIndexError\u001b[0m                                Traceback (most recent call last)",
      "\u001b[1;32m<ipython-input-19-0058ab5213da>\u001b[0m in \u001b[0;36m<module>\u001b[1;34m\u001b[0m\n\u001b[1;32m----> 1\u001b[1;33m \u001b[0ml\u001b[0m\u001b[1;33m[\u001b[0m\u001b[1;36m0\u001b[0m\u001b[1;33m]\u001b[0m\u001b[1;33m[\u001b[0m\u001b[1;36m4\u001b[0m\u001b[1;33m]\u001b[0m\u001b[1;33m\u001b[0m\u001b[1;33m\u001b[0m\u001b[0m\n\u001b[0m",
      "\u001b[1;31mIndexError\u001b[0m: list index out of range"
     ]
    }
   ],
   "source": [
    "l[0][4]"
   ]
  },
  {
   "cell_type": "code",
   "execution_count": 24,
   "id": "de900b1e-bf30-4a92-a128-3f43c9a709c4",
   "metadata": {},
   "outputs": [
    {
     "data": {
      "text/plain": [
       "5"
      ]
     },
     "execution_count": 24,
     "metadata": {},
     "output_type": "execute_result"
    }
   ],
   "source": [
    "len(\"hallo\")"
   ]
  },
  {
   "cell_type": "code",
   "execution_count": 27,
   "id": "1c83e082-cb76-4e67-9525-67319605216e",
   "metadata": {},
   "outputs": [
    {
     "data": {
      "text/plain": [
       "2"
      ]
     },
     "execution_count": 27,
     "metadata": {},
     "output_type": "execute_result"
    }
   ],
   "source": [
    "len([12345])"
   ]
  },
  {
   "cell_type": "code",
   "execution_count": 26,
   "id": "7feb4121-dca8-4f4e-957b-587bfafdebca",
   "metadata": {},
   "outputs": [
    {
     "data": {
      "text/plain": [
       "'l'"
      ]
     },
     "execution_count": 26,
     "metadata": {},
     "output_type": "execute_result"
    }
   ],
   "source": [
    "[\"hallo\",\"welt\",\"!\"][1][2]"
   ]
  },
  {
   "cell_type": "code",
   "execution_count": 28,
   "id": "9f96c85c-1f8f-4a6a-9874-49b76794dda5",
   "metadata": {},
   "outputs": [
    {
     "data": {
      "text/plain": [
       "'hall'"
      ]
     },
     "execution_count": 28,
     "metadata": {},
     "output_type": "execute_result"
    }
   ],
   "source": [
    "\"hallo\"[:-1] #[0:-1]"
   ]
  },
  {
   "cell_type": "code",
   "execution_count": 29,
   "id": "5df1250d-1e81-4fd3-959d-0b7df312dbd5",
   "metadata": {},
   "outputs": [
    {
     "data": {
      "text/plain": [
       "'ollah'"
      ]
     },
     "execution_count": 29,
     "metadata": {},
     "output_type": "execute_result"
    }
   ],
   "source": [
    "\"hallo\"[::-1]"
   ]
  },
  {
   "cell_type": "code",
   "execution_count": 31,
   "id": "9a24087e-52ba-4393-a04e-a5c872978e12",
   "metadata": {},
   "outputs": [
    {
     "data": {
      "text/plain": [
       "'123'"
      ]
     },
     "execution_count": 31,
     "metadata": {},
     "output_type": "execute_result"
    }
   ],
   "source": [
    "\"1\"+\"2\"+\"3\""
   ]
  },
  {
   "cell_type": "code",
   "execution_count": 32,
   "id": "d713c69a-9431-470c-8ab8-62cdc1ca83d5",
   "metadata": {},
   "outputs": [
    {
     "data": {
      "text/plain": [
       "6"
      ]
     },
     "execution_count": 32,
     "metadata": {},
     "output_type": "execute_result"
    }
   ],
   "source": [
    "1+2+3"
   ]
  },
  {
   "cell_type": "code",
   "execution_count": 30,
   "id": "2e45c7e0-6d4c-45ca-bce3-ce7b3641da22",
   "metadata": {},
   "outputs": [
    {
     "data": {
      "text/plain": [
       "'Hallo Welt'"
      ]
     },
     "execution_count": 30,
     "metadata": {},
     "output_type": "execute_result"
    }
   ],
   "source": [
    "\"Hallo \"+\"Welt\""
   ]
  },
  {
   "cell_type": "code",
   "execution_count": 33,
   "id": "a456f32b-5bdc-4a6c-8cda-79c9c1011302",
   "metadata": {},
   "outputs": [
    {
     "data": {
      "text/plain": [
       "'2222222222'"
      ]
     },
     "execution_count": 33,
     "metadata": {},
     "output_type": "execute_result"
    }
   ],
   "source": [
    "\"2\"*10"
   ]
  },
  {
   "cell_type": "code",
   "execution_count": 37,
   "id": "07f52714-3233-4ce5-91ab-a43d6336b162",
   "metadata": {},
   "outputs": [
    {
     "data": {
      "text/plain": [
       "'Hallo,Hallo,Hallo,Hallo,Hallo,'"
      ]
     },
     "execution_count": 37,
     "metadata": {},
     "output_type": "execute_result"
    }
   ],
   "source": [
    "\"Hallo,\"*5"
   ]
  },
  {
   "cell_type": "code",
   "execution_count": 54,
   "id": "a15255da-9a8f-4d17-97fa-834aaa0ad4d8",
   "metadata": {},
   "outputs": [
    {
     "data": {
      "text/plain": [
       "2"
      ]
     },
     "execution_count": 54,
     "metadata": {},
     "output_type": "execute_result"
    }
   ],
   "source": [
    "len(\"2\"+\"1\")"
   ]
  },
  {
   "cell_type": "code",
   "execution_count": 56,
   "id": "39fb2cf9-9681-4190-8427-77e11ae785fb",
   "metadata": {},
   "outputs": [
    {
     "data": {
      "text/plain": [
       "4"
      ]
     },
     "execution_count": 56,
     "metadata": {},
     "output_type": "execute_result"
    }
   ],
   "source": [
    "len([1+2,5+4 , 2-2,3 ])"
   ]
  },
  {
   "cell_type": "code",
   "execution_count": 58,
   "id": "8b9596d8-6333-44c3-8f3c-86082a582b1e",
   "metadata": {},
   "outputs": [
    {
     "data": {
      "text/plain": [
       "(3, 4, [5, 6])"
      ]
     },
     "execution_count": 58,
     "metadata": {},
     "output_type": "execute_result"
    }
   ],
   "source": [
    "(1,2,(3,4,[5,6]))[2]"
   ]
  },
  {
   "cell_type": "code",
   "execution_count": 59,
   "id": "edae5dab-9c19-4f18-825a-0a3599e25992",
   "metadata": {},
   "outputs": [
    {
     "data": {
      "text/plain": [
       "[5, 6]"
      ]
     },
     "execution_count": 59,
     "metadata": {},
     "output_type": "execute_result"
    }
   ],
   "source": [
    "(1,2,(3,4,[5,6]))[2][2]"
   ]
  },
  {
   "cell_type": "code",
   "execution_count": 60,
   "id": "573d02ae-88f5-4d01-851f-66c440f18162",
   "metadata": {},
   "outputs": [
    {
     "data": {
      "text/plain": [
       "4"
      ]
     },
     "execution_count": 60,
     "metadata": {},
     "output_type": "execute_result"
    }
   ],
   "source": [
    "len([1,2,3,4])"
   ]
  },
  {
   "cell_type": "code",
   "execution_count": 62,
   "id": "cb400ccc-ae85-4cb2-b61f-5245177f2b9b",
   "metadata": {},
   "outputs": [
    {
     "data": {
      "text/plain": [
       "12"
      ]
     },
     "execution_count": 62,
     "metadata": {},
     "output_type": "execute_result"
    }
   ],
   "source": [
    "len(str([1,2,3,4]))"
   ]
  },
  {
   "cell_type": "code",
   "execution_count": 64,
   "id": "792f6484-30ed-42cd-9bc8-7bc7e57bdebf",
   "metadata": {},
   "outputs": [
    {
     "data": {
      "text/plain": [
       "']'"
      ]
     },
     "execution_count": 64,
     "metadata": {},
     "output_type": "execute_result"
    }
   ],
   "source": [
    "str([1,2,3,4])[-1]"
   ]
  },
  {
   "cell_type": "code",
   "execution_count": 70,
   "id": "e9ec46f6-6b6e-4d27-93fa-6a7e4be376ba",
   "metadata": {},
   "outputs": [
    {
     "data": {
      "text/plain": [
       "[2, 3, 4, 5, 6, 7]"
      ]
     },
     "execution_count": 70,
     "metadata": {},
     "output_type": "execute_result"
    }
   ],
   "source": [
    "list(range(10))[2:-2]"
   ]
  },
  {
   "cell_type": "code",
   "execution_count": 75,
   "id": "b4674c7c-6fab-4ba7-8273-677dd3136c5a",
   "metadata": {},
   "outputs": [
    {
     "data": {
      "text/plain": [
       "[0, 1, 2, 2, 1, 0]"
      ]
     },
     "execution_count": 75,
     "metadata": {},
     "output_type": "execute_result"
    }
   ],
   "source": [
    "list(range(3))+list(range(3))[::-1]"
   ]
  },
  {
   "cell_type": "code",
   "execution_count": 71,
   "id": "74d43ca1-4ced-4eab-83aa-2709cb3f5b5b",
   "metadata": {},
   "outputs": [
    {
     "data": {
      "text/plain": [
       "[2, 4, 5, 4, 5, 6]"
      ]
     },
     "execution_count": 71,
     "metadata": {},
     "output_type": "execute_result"
    }
   ],
   "source": [
    "[2,4,5]+[4,5,6]"
   ]
  },
  {
   "cell_type": "code",
   "execution_count": 76,
   "id": "bad32773-fe66-4444-80e2-7948ad2f9286",
   "metadata": {},
   "outputs": [
    {
     "data": {
      "text/plain": [
       "'python'"
      ]
     },
     "execution_count": 76,
     "metadata": {},
     "output_type": "execute_result"
    }
   ],
   "source": [
    "{\"py\":\"python\",\"Hs\":\"haskell\"}[\"py\"]"
   ]
  },
  {
   "cell_type": "code",
   "execution_count": 79,
   "id": "cdb92354-bdd7-4b87-b0a9-3825ad1172cd",
   "metadata": {},
   "outputs": [
    {
     "data": {
      "text/plain": [
       "[10, 8, 6, 4, 2]"
      ]
     },
     "execution_count": 79,
     "metadata": {},
     "output_type": "execute_result"
    }
   ],
   "source": [
    "list(range(10,0,-2))"
   ]
  },
  {
   "cell_type": "code",
   "execution_count": 61,
   "id": "35d4d286-91a7-4260-b633-192d2301d35e",
   "metadata": {},
   "outputs": [
    {
     "data": {
      "text/plain": [
       "3"
      ]
     },
     "execution_count": 61,
     "metadata": {},
     "output_type": "execute_result"
    }
   ],
   "source": [
    "len(\"   \")"
   ]
  }
 ],
 "metadata": {
  "kernelspec": {
   "display_name": "Python 3",
   "language": "python",
   "name": "python3"
  },
  "language_info": {
   "codemirror_mode": {
    "name": "ipython",
    "version": 3
   },
   "file_extension": ".py",
   "mimetype": "text/x-python",
   "name": "python",
   "nbconvert_exporter": "python",
   "pygments_lexer": "ipython3",
   "version": "3.8.8"
  }
 },
 "nbformat": 4,
 "nbformat_minor": 5
}
