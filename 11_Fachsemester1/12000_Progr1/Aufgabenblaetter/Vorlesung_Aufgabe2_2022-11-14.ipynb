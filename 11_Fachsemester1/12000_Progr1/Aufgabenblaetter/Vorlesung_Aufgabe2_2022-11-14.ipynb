{
 "cells": [
  {
   "cell_type": "code",
   "execution_count": 16,
   "metadata": {},
   "outputs": [],
   "source": [
    "#Aufgabe 2 a)\n",
    "class Mensch:\n",
    "    def __init__(self, name, alter, groesse):\n",
    "        self.name = name\n",
    "        self.alter = alter\n",
    "        self.groesse = groesse\n",
    "\n",
    "    def __repr__(self):                 #__repr__ / __str__ Methoden erwarten einen String als Rückgabewert\n",
    "        return (f\"Ich bin {self.name}\")\n",
    "    \n",
    "\n",
    "    Person1 = Mensch('Martin', 28, 190)\n",
    "\n",
    "    Person1"
   ]
  },
  {
   "cell_type": "code",
   "execution_count": 23,
   "metadata": {},
   "outputs": [],
   "source": [
    "#Aufgabe 2 b)\n",
    "\n",
    "class Trainer(Mensch):\n",
    "    def __init__(self, name, alter, groesse, pokebaelle=3, orden=0, pokemon=[]):\n",
    "        super().__init__(name, alter, groesse)\n",
    "        self.pokebaelle = pokebaelle\n",
    "        self.orden = orden\n",
    "        self.pokemon = pokemon\n",
    "\n",
    "    def __repr__(self):\n",
    "        return f\"Hallo ich bin der Pokemontrainer {self.name}\"\n"
   ]
  },
  {
   "cell_type": "code",
   "execution_count": 22,
   "metadata": {},
   "outputs": [
    {
     "data": {
      "text/plain": [
       "Hallo ich bin der Pokemontrainer Kevin"
      ]
     },
     "execution_count": 22,
     "metadata": {},
     "output_type": "execute_result"
    }
   ],
   "source": [
    "trainer1 = Trainer('Kevin', 44, 190)\n",
    "\n",
    "trainer1"
   ]
  }
 ],
 "metadata": {
  "kernelspec": {
   "display_name": "Python 3.10.7 64-bit",
   "language": "python",
   "name": "python3"
  },
  "language_info": {
   "codemirror_mode": {
    "name": "ipython",
    "version": 3
   },
   "file_extension": ".py",
   "mimetype": "text/x-python",
   "name": "python",
   "nbconvert_exporter": "python",
   "pygments_lexer": "ipython3",
   "version": "3.10.7"
  },
  "orig_nbformat": 4,
  "vscode": {
   "interpreter": {
    "hash": "26de051ba29f2982a8de78e945f0abaf191376122a1563185a90213a26c5da77"
   }
  }
 },
 "nbformat": 4,
 "nbformat_minor": 2
}
