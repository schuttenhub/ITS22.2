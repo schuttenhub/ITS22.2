{
 "cells": [
  {
   "cell_type": "code",
   "execution_count": 60,
   "metadata": {},
   "outputs": [],
   "source": [
    "class Cntr:\n",
    "    def __init__(self, sequence):\n",
    "        self.counter_dict = {}\n",
    "        if type(sequence) == str:\n",
    "            for letter in sequence:\n",
    "                if letter not in self.counter_dict:\n",
    "                    self.counter_dict[letter] = 0\n",
    "                self.counter_dict[letter] += 1\n",
    "        elif type(sequence) == list:\n",
    "            for item in sequence:\n",
    "                if item not in self.counter_dict:\n",
    "                    self.counter_dict[item] = 0\n",
    "                self.counter_dict[item] += 1\n",
    "        #elif type(sequence) == tuple:\n",
    "        else:\n",
    "            return \"Invalid Sequence Type given\"\n",
    "    def getDictItems(self):\n",
    "        return_dict = {}\n",
    "        for letter in self.counter_dict:\n",
    "                if letter not in return_dict:\n",
    "                    return_dict[letter] = 0\n",
    "                return_dict[letter] += 1\n",
    "        return return_dict\n",
    "            \n",
    "    def __repr__(self):\n",
    "        for letter,count in self.counter_dict.items():\n",
    "            print(f\"{letter} --> {count}\")\n",
    "        return \"\"\n",
    "    \n",
    "    def most(self):\n",
    "        return max([(count,word) for word,count in self.counter_dict.items()])[1]\n",
    "    \n",
    "    def __add__(self, cntr_to_add):\n",
    "        pass\n",
    "    \n",
    "    def __mul__(self, cntr_to_mul):\n",
    "        pass\n",
    "            \n",
    "                \n",
    "        \n",
    "    \n",
    "c = Cntr(\"Bruder, muss los\")\n",
    "c2 = Cntr(\"Bruder, laber nicht, als ob du los musst...\")"
   ]
  },
  {
   "cell_type": "code",
   "execution_count": 61,
   "metadata": {},
   "outputs": [
    {
     "name": "stdout",
     "output_type": "stream",
     "text": [
      "B --> 1\n",
      "r --> 2\n",
      "u --> 2\n",
      "d --> 1\n",
      "e --> 1\n",
      ", --> 1\n",
      "  --> 2\n",
      "m --> 1\n",
      "s --> 3\n",
      "l --> 1\n",
      "o --> 1\n"
     ]
    },
    {
     "data": {
      "text/plain": []
     },
     "execution_count": 61,
     "metadata": {},
     "output_type": "execute_result"
    }
   ],
   "source": [
    "c"
   ]
  },
  {
   "cell_type": "code",
   "execution_count": 62,
   "metadata": {},
   "outputs": [
    {
     "data": {
      "text/plain": [
       "'s'"
      ]
     },
     "execution_count": 62,
     "metadata": {},
     "output_type": "execute_result"
    }
   ],
   "source": [
    "c.most()"
   ]
  },
  {
   "cell_type": "code",
   "execution_count": 63,
   "metadata": {},
   "outputs": [
    {
     "name": "stdout",
     "output_type": "stream",
     "text": [
      "Help on wrapper_descriptor:\n",
      "\n",
      "__mul__(self, value, /)\n",
      "    Return self*value.\n",
      "\n"
     ]
    }
   ],
   "source": [
    "help(str.__mul__)"
   ]
  }
 ],
 "metadata": {
  "kernelspec": {
   "display_name": "Python 3",
   "language": "python",
   "name": "python3"
  },
  "language_info": {
   "codemirror_mode": {
    "name": "ipython",
    "version": 3
   },
   "file_extension": ".py",
   "mimetype": "text/x-python",
   "name": "python",
   "nbconvert_exporter": "python",
   "pygments_lexer": "ipython3",
   "version": "3.10.7"
  },
  "orig_nbformat": 4,
  "vscode": {
   "interpreter": {
    "hash": "26de051ba29f2982a8de78e945f0abaf191376122a1563185a90213a26c5da77"
   }
  }
 },
 "nbformat": 4,
 "nbformat_minor": 2
}
