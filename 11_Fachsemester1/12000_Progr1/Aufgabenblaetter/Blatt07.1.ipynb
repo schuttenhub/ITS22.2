{
 "cells": [
  {
   "cell_type": "code",
   "execution_count": null,
   "metadata": {},
   "outputs": [],
   "source": [
    "#7.1 a, b)\n",
    "class Cntr:\n",
    "    \n",
    "\n",
    "    def __init__(self, sequence):\n",
    "        self.counter_dict = {}\n",
    "        if (type(sequence) == list) or (type(sequence) == str):\n",
    "            for letter in sequence:\n",
    "                if letter not in self.counter_dict:\n",
    "                    self.counter_dict[letter] = 0\n",
    "                self.counter_dict[letter] += 1\n",
    "        else:\n",
    "            return \"Invalid type given\"\n",
    "\n",
    "    def getDict(self):\n",
    "        return self.counter_dict\n",
    "    \n",
    "    def __repr__(self):\n",
    "        for letter,count in self.counter_dict.items():\n",
    "            print(f\"{letter} --> {count}\")\n",
    "        return \"\"\n",
    "\n",
    "    def most(self):\n",
    "        return max([(count,word) for word,count in self.counter_dict.items()])[1]\n",
    "\n",
    "    def __add__(self, dict_to_add):\n",
    "        second_dict = dict_to_add.getDict()\n",
    "        return_dict = {}\n",
    "        for key,value in self.counter_dict.items():\n",
    "            if key in second_dict.keys():\n",
    "                add_values = second_dict[key] + self.counter_dict[key]\n",
    "                return_dict[key] = add_values\n",
    "            else:\n",
    "                return_dict.update[key:value]\n",
    "        \n",
    "        # Kopie von __repr__ Methode. Keine bessere Lösung gefunden :(\n",
    "        for letter,count in return_dict.items():\n",
    "            print(f\"{letter} --> {count}\")\n",
    "        return\n",
    "\n",
    "    def __mul__(self, cntr_to_mul):\n",
    "        second_dict = cntr_to_mul.getDict()\n",
    "        return_dict = {}\n",
    "        for key,value in self.counter_dict.items():\n",
    "            if key in second_dict.keys():\n",
    "                add_values = second_dict[key] * self.counter_dict[key]\n",
    "                return_dict[key] = add_values\n",
    "            else:\n",
    "                return_dict.update[key:value]\n",
    "        \n",
    "        # Kopie von __repr__ Methode. Keine bessere Lösung gefunden :(\n",
    "        for letter,count in return_dict.items():\n",
    "            print(f\"{letter} --> {count}\")\n",
    "        return\n",
    "\n",
    "\n",
    "\n",
    "\n",
    "c = Cntr(\"laba\")\n",
    "c2 = Cntr(\"labababa\")\n",
    "print(c)\n",
    "print(c2)\n"
   ]
  },
  {
   "cell_type": "code",
   "execution_count": null,
   "metadata": {},
   "outputs": [],
   "source": [
    "#7.1 c)\n",
    "c.most()"
   ]
  },
  {
   "cell_type": "code",
   "execution_count": null,
   "metadata": {},
   "outputs": [],
   "source": [
    "c + c2"
   ]
  },
  {
   "cell_type": "code",
   "execution_count": null,
   "metadata": {},
   "outputs": [],
   "source": [
    "c * c2"
   ]
  }
 ],
 "metadata": {
  "kernelspec": {
   "display_name": "Python 3",
   "language": "python",
   "name": "python3"
  },
  "language_info": {
   "codemirror_mode": {
    "name": "ipython",
    "version": 3
   },
   "file_extension": ".py",
   "mimetype": "text/x-python",
   "name": "python",
   "nbconvert_exporter": "python",
   "pygments_lexer": "ipython3",
   "version": "3.10.3 (tags/v3.10.3:a342a49, Mar 16 2022, 13:07:40) [MSC v.1929 64 bit (AMD64)]"
  },
  "orig_nbformat": 4,
  "vscode": {
   "interpreter": {
    "hash": "26de051ba29f2982a8de78e945f0abaf191376122a1563185a90213a26c5da77"
   }
  }
 },
 "nbformat": 4,
 "nbformat_minor": 2
}
