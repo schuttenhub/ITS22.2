{
 "cells": [
  {
   "cell_type": "code",
   "execution_count": null,
   "metadata": {},
   "outputs": [],
   "source": [
    "import os\n",
    "cwd = fr'{os.getcwd()}\\Aufgabe11'"
   ]
  },
  {
   "cell_type": "code",
   "execution_count": null,
   "metadata": {},
   "outputs": [],
   "source": [
    "#11.0 a)\n",
    "[file for dirpath,dirname,filename in os.walk(cwd)\n",
    "    for file in filename\n",
    "        if '.tex' in file\n",
    "            if 'aufg' in file\n",
    "]"
   ]
  },
  {
   "cell_type": "code",
   "execution_count": null,
   "metadata": {},
   "outputs": [],
   "source": [
    "#11.0 b)\n",
    "[file for dirpath,dirname,filename in os.walk(cwd)\n",
    "    for file in filename\n",
    "        if '.tex' in file\n",
    "            if (len(\n",
    "                    [True for lines in open(fr'Aufgabe11\\{file}').readlines()\n",
    "                        if len(lines)<=2\n",
    "                    ] \n",
    "                ) >=100 \n",
    "            )\n",
    "]"
   ]
  },
  {
   "cell_type": "code",
   "execution_count": null,
   "metadata": {},
   "outputs": [],
   "source": [
    "#11.0 c)\n",
    "[file for dirpath,dirname,filename in os.walk(cwd)\n",
    "    for file in filename\n",
    "        if '.tex' in file\n",
    "            if (\n",
    "                len([\n",
    "                    True for text in open(fr\"Aufgabe11\\{file}\").read()\n",
    "                        for word in text\n",
    "                            if word[0] in 'aeiou'\n",
    "                ]) >=3000\n",
    "            )\n",
    "]"
   ]
  },
  {
   "cell_type": "code",
   "execution_count": null,
   "metadata": {},
   "outputs": [],
   "source": [
    "#11.0 d)\n",
    "[\n",
    "    file for dirpath,dirname,filename in os.walk(cwd)\n",
    "        for file in filename\n",
    "            if '.tex' in file\n",
    "                if (\n",
    "                    any(\n",
    "                        [\n",
    "                            True if len(line)>=30 else False\n",
    "                            for line in open(fr\"Aufgabe11\\{file}\").readlines()\n",
    "                        ]\n",
    "                    )\n",
    "                )\n",
    "]"
   ]
  },
  {
   "cell_type": "code",
   "execution_count": null,
   "metadata": {},
   "outputs": [],
   "source": [
    "#11.0 e)\n",
    "max([\n",
    "    max([(len(word),word) for line in open(fr\"Aufgabe11\\{file}\").readlines() for word in line.split()])\n",
    "    for dirpath,dirname,filename in os.walk(cwd)\n",
    "        for file in filename\n",
    "])[:10]\n",
    "#Läuft nicht, weil:\n",
    "#UnicodeDecodeError: 'charmap' codec can't decode byte 0x9d in position 132: character maps to <undefined>"
   ]
  },
  {
   "cell_type": "code",
   "execution_count": null,
   "metadata": {},
   "outputs": [],
   "source": [
    "#11.1 a)\n",
    "import numpy as np\n",
    "np_array = np.arange(0,101)**2\n",
    "print(np_array)"
   ]
  },
  {
   "cell_type": "code",
   "execution_count": null,
   "metadata": {},
   "outputs": [],
   "source": [
    "#11.1 b)\n",
    "np_array = np.arange(1,1001,1)\n",
    "print(np_array[(np_array % 13 != 0) & (np_array % 11 != 0)])"
   ]
  },
  {
   "cell_type": "code",
   "execution_count": null,
   "metadata": {},
   "outputs": [],
   "source": [
    "#11.1 c)\n",
    "np_array = np.arange(0,101)%2\n",
    "print(np_array)\n"
   ]
  },
  {
   "cell_type": "code",
   "execution_count": null,
   "metadata": {},
   "outputs": [],
   "source": [
    "#11.2\n",
    "#puh... keine Ahnung"
   ]
  },
  {
   "cell_type": "code",
   "execution_count": null,
   "metadata": {},
   "outputs": [],
   "source": [
    "#11.3\n",
    "#max: 65535\n",
    "n = 65535\n",
    "#n = 10000\n",
    "np.sqrt(sum(  1/(np.arange(1,n+1)**2)  ) *6)\n",
    "\n",
    "#Das Ergebnis nähert sich immer weiter der Zahl Pi an.\n",
    "#Eine ähnliche Berechnungsmethode wurde bereits auf Blatt 03 vorgestellt. dort mit der Summe aus 1/k^3\n",
    "#   sqrt( SUM k=0 -> INF: 1/(k^2)*6 )\n"
   ]
  }
 ],
 "metadata": {
  "kernelspec": {
   "display_name": "Python 3",
   "language": "python",
   "name": "python3"
  },
  "language_info": {
   "codemirror_mode": {
    "name": "ipython",
    "version": 3
   },
   "file_extension": ".py",
   "mimetype": "text/x-python",
   "name": "python",
   "nbconvert_exporter": "python",
   "pygments_lexer": "ipython3",
   "version": "3.10.3"
  },
  "orig_nbformat": 4,
  "vscode": {
   "interpreter": {
    "hash": "26de051ba29f2982a8de78e945f0abaf191376122a1563185a90213a26c5da77"
   }
  }
 },
 "nbformat": 4,
 "nbformat_minor": 2
}
