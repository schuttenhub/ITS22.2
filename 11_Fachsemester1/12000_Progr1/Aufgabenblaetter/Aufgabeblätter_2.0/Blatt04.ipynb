{
 "cells": [
  {
   "cell_type": "code",
   "execution_count": null,
   "metadata": {},
   "outputs": [],
   "source": [
    "#4.0\n",
    "def prim(maybe_prim):\n",
    "    prim_counter = 0\n",
    "    for i in range(1,int(maybe_prim+1**0.5)):\n",
    "        if maybe_prim%i==0:\n",
    "            prim_counter +=1\n",
    "    if prim_counter<=2:\n",
    "        return True\n",
    "    else:\n",
    "        return False\n",
    "\n",
    "prim(9991)\n"
   ]
  },
  {
   "cell_type": "code",
   "execution_count": null,
   "metadata": {},
   "outputs": [],
   "source": [
    "#4.1\n",
    "zwillings_liste = []\n",
    "for i in range(2,10_001):\n",
    "    if prim(i) == True:\n",
    "        if prim(i+2) == True:\n",
    "            zwillings_liste.append(i)\n",
    "print(zwillings_liste)"
   ]
  },
  {
   "cell_type": "code",
   "execution_count": null,
   "metadata": {},
   "outputs": [],
   "source": [
    "#4.2\n",
    "import matplotlib.pyplot as plt"
   ]
  },
  {
   "cell_type": "code",
   "execution_count": null,
   "metadata": {},
   "outputs": [],
   "source": [
    "#a)\n",
    "x = [i for i in range(1,11)]\n",
    "plt.scatter(x, x)"
   ]
  },
  {
   "cell_type": "code",
   "execution_count": null,
   "metadata": {},
   "outputs": [],
   "source": [
    "#b)\n",
    "x = [i for i in range(11,1,-1)]\n",
    "y = [i for i in range(1,11)]\n",
    "plt.scatter(x, y)"
   ]
  },
  {
   "cell_type": "code",
   "execution_count": null,
   "metadata": {},
   "outputs": [],
   "source": [
    "#c)\n",
    "x1 = [i for i in range(-10,10)]\n",
    "y1 = [5 for i in range(-10,10)]\n",
    "\n",
    "x2 = [i for i in range(-10,10)]\n",
    "y2 = [-5 for i in range(-10,10)]\n",
    "\n",
    "x3 = [10 for i in range(-5,6)]\n",
    "y3 = [i for i in range(-5,6)]\n",
    "\n",
    "x4 = [-10 for i in range(-5,5)]\n",
    "y4 = [i for i in range(-5,5)]\n",
    "\n",
    "\n",
    "plt.scatter(x1,y1, c='blue')\n",
    "plt.scatter(x2,y2, c='blue')\n",
    "plt.scatter(x3,y3, c='blue')\n",
    "plt.scatter(x4,y4, c='blue')"
   ]
  },
  {
   "cell_type": "code",
   "execution_count": null,
   "metadata": {},
   "outputs": [],
   "source": [
    "#d)\n",
    "import math\n",
    "to1=20\n",
    "from1=(-1)*to1\n",
    "multiplier=1\n",
    "\n",
    "x1= [math.sin(x)*multiplier for x in range(from1,to1)]\n",
    "y1= [math.cos(y)*multiplier for y in range(from1,to1)]\n",
    "\n",
    "plt.scatter(x1,y1)\n"
   ]
  }
 ],
 "metadata": {
  "kernelspec": {
   "display_name": "Python 3",
   "language": "python",
   "name": "python3"
  },
  "language_info": {
   "codemirror_mode": {
    "name": "ipython",
    "version": 3
   },
   "file_extension": ".py",
   "mimetype": "text/x-python",
   "name": "python",
   "nbconvert_exporter": "python",
   "pygments_lexer": "ipython3",
   "version": "3.10.3"
  },
  "orig_nbformat": 4,
  "vscode": {
   "interpreter": {
    "hash": "26de051ba29f2982a8de78e945f0abaf191376122a1563185a90213a26c5da77"
   }
  }
 },
 "nbformat": 4,
 "nbformat_minor": 2
}
