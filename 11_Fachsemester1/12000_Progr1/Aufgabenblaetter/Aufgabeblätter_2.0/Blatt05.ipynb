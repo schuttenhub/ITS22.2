{
 "cells": [
  {
   "cell_type": "code",
   "execution_count": null,
   "metadata": {},
   "outputs": [],
   "source": [
    "class Person:\n",
    "    def __init__(self, nachname, vorname, alter, groesse, freund_liste):\n",
    "        self.nachname = nachname\n",
    "        self.vorname = vorname\n",
    "        self.alter = alter\n",
    "        self.alters_counter = 0\n",
    "        self.groesse = groesse\n",
    "        self.freund_liste = []\n",
    "        pass\n",
    "    def __str__(self):\n",
    "        return f'Person: {self.nachname}, {self.vorname}: {self.alter}, {self.groesse}, {self.freund_liste}'\n",
    "    def __repr__(self):\n",
    "        return f'{self.vorname} {self.nachname}'\n",
    "    def werdeAelter(self):\n",
    "        self.alter +=1\n",
    "        self.alters_counter+=1\n",
    "        if self.alters_counter == 10:\n",
    "            self.groesse -= 1\n",
    "            self.alters_counter = 0\n",
    "        return f'{self.vorname} ist ein Jahr aelter geworden'\n",
    "    def isBaby(self):\n",
    "        if self.alter <=1:\n",
    "            return True\n",
    "        return False\n",
    "    def neuerFreund(self, neuer_freund):\n",
    "        self.freund_liste.append(neuer_freund)\n",
    "        return f'{neuer_freund} wurde zur Freundesliste hinzugefügt'\n",
    "    def freunde(self):\n",
    "        return self.freund_liste\n",
    "    def aeltesterFreund(self):\n",
    "        return max([freund.alter for freund in self.freund_liste])\n",
    "\n",
    "\n"
   ]
  },
  {
   "cell_type": "code",
   "execution_count": null,
   "metadata": {},
   "outputs": [],
   "source": [
    "p1 = Person('schaefer', 'corey', 40, 179, [])\n",
    "p2 = Person('schaefer', 'asd', 20, 168, [])\n",
    "p3 = Person('schaefer', 'dfg', 26, 195, [])\n",
    "p4 = Person('schaefer', 'dfg', 1, 195, [])\n",
    "p10 = Person('mitch', 'asdf', 60, 179, [])\n",
    "\n",
    "p4.neuerFreund(p1)\n",
    "p4.neuerFreund(p2)\n",
    "p4.neuerFreund(p10)\n",
    "\n",
    "for freund in p4.freund_liste:\n",
    "    print(freund)\n",
    "\n",
    "p4.freunde()\n",
    "p4.aeltesterFreund()\n",
    "\n",
    "for i in range(22):\n",
    "    p1.werdeAelter()\n",
    "\n",
    "print(p4.aeltesterFreund())\n",
    "print(p1)"
   ]
  },
  {
   "cell_type": "code",
   "execution_count": 48,
   "metadata": {},
   "outputs": [
    {
     "ename": "TypeError",
     "evalue": "Professor.__init__() missing 1 required positional argument: 'eingruppierung'",
     "output_type": "error",
     "traceback": [
      "\u001b[1;31m---------------------------------------------------------------------------\u001b[0m",
      "\u001b[1;31mTypeError\u001b[0m                                 Traceback (most recent call last)",
      "Cell \u001b[1;32mIn [48], line 37\u001b[0m\n\u001b[0;32m     33\u001b[0m         \u001b[39mreturn\u001b[39;00m \u001b[39msuper\u001b[39m()\u001b[39m.\u001b[39m\u001b[39m__str__\u001b[39m()\n\u001b[0;32m     36\u001b[0m pers1 \u001b[39m=\u001b[39m Person(\u001b[39m'\u001b[39m\u001b[39meinstein\u001b[39m\u001b[39m'\u001b[39m, \u001b[39m'\u001b[39m\u001b[39malbert\u001b[39m\u001b[39m'\u001b[39m, \u001b[39m55\u001b[39m, \u001b[39m'\u001b[39m\u001b[39m08.01.1914\u001b[39m\u001b[39m'\u001b[39m)\n\u001b[1;32m---> 37\u001b[0m prof1 \u001b[39m=\u001b[39m Professor(\u001b[39m'\u001b[39;49m\u001b[39mtesla\u001b[39;49m\u001b[39m'\u001b[39;49m, \u001b[39m'\u001b[39;49m\u001b[39mnicola\u001b[39;49m\u001b[39m'\u001b[39;49m, \u001b[39m66\u001b[39;49m, \u001b[39m'\u001b[39;49m\u001b[39m11.11.1911\u001b[39;49m\u001b[39m'\u001b[39;49m, \u001b[39m'\u001b[39;49m\u001b[39mMathematik\u001b[39;49m\u001b[39m'\u001b[39;49m, \u001b[39m'\u001b[39;49m\u001b[39mMaschinenbau\u001b[39;49m\u001b[39m'\u001b[39;49m)\n\u001b[0;32m     38\u001b[0m s1 \u001b[39m=\u001b[39m Student(\u001b[39m'\u001b[39m\u001b[39mkeine\u001b[39m\u001b[39m'\u001b[39m, \u001b[39m'\u001b[39m\u001b[39mahnung\u001b[39m\u001b[39m'\u001b[39m, \u001b[39m22\u001b[39m, \u001b[39m'\u001b[39m\u001b[39m01.01.2001\u001b[39m\u001b[39m'\u001b[39m, \u001b[39m'\u001b[39m\u001b[39mAlbsig\u001b[39m\u001b[39m'\u001b[39m, \u001b[39m182384\u001b[39m, \u001b[39m1\u001b[39m, \u001b[39m0\u001b[39m)\n",
      "\u001b[1;31mTypeError\u001b[0m: Professor.__init__() missing 1 required positional argument: 'eingruppierung'"
     ]
    }
   ],
   "source": [
    "#5.1 \n",
    "class Person:\n",
    "    def __init__(self, nachname, vorname, alter, bday):\n",
    "        self.nachname = nachname\n",
    "        self.vorname = vorname\n",
    "        self.alter = alter\n",
    "        self.bday = bday\n",
    "        self.uni = ''\n",
    "    def __repr__(self):\n",
    "        return f'{self.vorname} {self.nachname}'\n",
    "    def __str__(self):\n",
    "        return f'{self.nachname}, {self.vorname}, {self.alter}, {self.bday}'\n",
    "\n",
    "class Professor(Person):\n",
    "    def __init__(self, nachname, vorname, alter, bday, uni, berufsgebiet, eingruppierung):\n",
    "        super().__init__(nachname, vorname, alter, bday, uni)\n",
    "        self.berufsgebiet = berufsgebiet\n",
    "        self.eingruppierung = eingruppierung\n",
    "    def __repr__(self):\n",
    "        return f'{super().__repr__()} {self.berufsgebiet} {self.eingruppierung}'\n",
    "    def __str__(self):\n",
    "        return super().__str__()\n",
    "\n",
    "class Student(Person):\n",
    "    def __init__(self, nachname, vorname, alter, bday, uni, matrikelNr, semester, ects):\n",
    "        super().__init__(nachname, vorname, alter, bday, uni)\n",
    "        self.matrikelNr = matrikelNr\n",
    "        self.semester = semester\n",
    "        self.ects = ects\n",
    "    def __repr__(self):\n",
    "        return f'{super().__repr__()} {self.matrikelNr} {self.semester} {self.ects}'\n",
    "    def __str__(self):\n",
    "        return super().__str__()\n",
    "\n",
    "\n",
    "pers1 = Person('einstein', 'albert', 55, '08.01.1914')\n",
    "prof1 = Professor('tesla', 'nicola', 66, '11.11.1911', 'Mathematik', 'Maschinenbau')\n",
    "s1 = Student('keine', 'ahnung', 22, '01.01.2001', 'Albsig', 182384, 1, 0)"
   ]
  }
 ],
 "metadata": {
  "kernelspec": {
   "display_name": "Python 3",
   "language": "python",
   "name": "python3"
  },
  "language_info": {
   "codemirror_mode": {
    "name": "ipython",
    "version": 3
   },
   "file_extension": ".py",
   "mimetype": "text/x-python",
   "name": "python",
   "nbconvert_exporter": "python",
   "pygments_lexer": "ipython3",
   "version": "3.10.3"
  },
  "orig_nbformat": 4,
  "vscode": {
   "interpreter": {
    "hash": "26de051ba29f2982a8de78e945f0abaf191376122a1563185a90213a26c5da77"
   }
  }
 },
 "nbformat": 4,
 "nbformat_minor": 2
}
