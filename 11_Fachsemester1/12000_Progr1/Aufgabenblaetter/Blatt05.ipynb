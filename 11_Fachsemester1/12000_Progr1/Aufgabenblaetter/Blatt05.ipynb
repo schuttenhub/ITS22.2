{
 "cells": [
  {
   "cell_type": "markdown",
   "metadata": {},
   "source": [
    "Aufgabe 5"
   ]
  },
  {
   "cell_type": "code",
   "execution_count": 20,
   "metadata": {},
   "outputs": [],
   "source": [
    "#Aufgabe 5.0\n",
    "\n",
    "class Person:\n",
    "    def __init__(self, vorname, nachname, alter, groesse):\n",
    "        self.vorname = vorname\n",
    "        self.nachname = nachname\n",
    "        self.alter = alter\n",
    "        self.groesse = groesse\n",
    "        self.freunde = []\n",
    "        self.alterscounter = 0\n",
    "    def __repr__(self):\n",
    "        return f\"{self.vorname} {self.nachname}\"\n",
    "    def WerdeAelter(self):\n",
    "        self.alter += 1\n",
    "        self.alterscounter += 1\n",
    "        print(f\"{self.vorname}, {self.nachname} ist ein Jahr gealtert und ist jetzt {self.alter}\")\n",
    "        if self.alterscounter >= 10:\n",
    "            self.groesse -= 1\n",
    "            print(f\"{self.vorname} ist außerdem einen Zentimeter geschrumpft auf {self.groesse}cm\")\n",
    "            self.alterscounter = 0\n",
    "    def IsBaby(self):\n",
    "        if self.alter <= 1:\n",
    "            return f\"{self.vorname} {self.nachname} ist ein Baby\"\n",
    "        return f\"{self.vorname} {self.nachname} ist kein Baby\"\n",
    "    def NeuerFreund(self, neuer_freund):\n",
    "        self.freunde.append(neuer_freund)\n",
    "        print(f\"{self.vorname}, {self.nachname} hat jetzt einen neuen Freund und damit insgesamt {len(self.freunde)} Freunde\" )\n",
    "    def GetAge(self):\n",
    "        return self.alter\n",
    "    def AeltesterFreund(self):\n",
    "        aeltester_freund = 0\n",
    "        for i in (self.freunde):\n",
    "            if aeltester_freund <= i.GetAge():\n",
    "                aeltester_freund = i.GetAge()\n",
    "        return aeltester_freund\n",
    "\n",
    "Person1 = Person('John', 'Dorian', 26, 174)\n",
    "Person2 = Person('Dieter', 'Bohlen', 1, 40)\n",
    "Person3 = Person('Felix', 'Blume', 35, 189)\n",
    "Person4 = Person('Reiner', 'Winkler', 31, 176)\n",
    "Person5 = Person('Bruce', 'Willis', 65, 178)\n",
    "Person6 = Person('Alexandra', 'Peters', 40, 164)\n",
    "Person7 = Person('Jennifer', 'Martinez', 12, 120)\n",
    "Person8 = Person('Dennis', 'Dannecker', 26, 180)\n"
   ]
  },
  {
   "cell_type": "code",
   "execution_count": 23,
   "metadata": {},
   "outputs": [
    {
     "data": {
      "text/plain": [
       "[Jennifer Martinez, Bruce Willis]"
      ]
     },
     "execution_count": 23,
     "metadata": {},
     "output_type": "execute_result"
    }
   ],
   "source": [
    "#Person1.NeuerFreund(Person5)\n",
    "#Person1.AeltesterFreund()\n",
    "Person1.freunde"
   ]
  },
  {
   "cell_type": "code",
   "execution_count": null,
   "metadata": {},
   "outputs": [],
   "source": [
    "#Aufgabe 5.1\n",
    "class Person:\n",
    "    def __init__(self, typ, fname, lname, age, birthday):\n",
    "        self.typ = None\n",
    "        self.fname = fname\n",
    "        self.lname = lname\n",
    "        self.age = age\n",
    "        self.birthday = birthday\n",
    "    def __repr__(self):\n",
    "        return f\"{self.fname} {self.lname}, {self.typ}\"\n",
    "    \n",
    "    pass\n",
    "\n",
    "class Student(Person):\n",
    "    def __init__(self, fname, lname, age, birthday, matrikelnr, semester, ects):\n",
    "        super().__init__('Student', fname, lname, age, birthday)\n",
    "        self.matrikelnr = matrikelnr\n",
    "        self.semester = semester\n",
    "        self.ects = ects\n",
    "    def __repr__(self):\n",
    "        return f\"{self.fname} {self.lname}, {self.typ}\"\n",
    "    \n",
    "    pass\n",
    "\n",
    "class Professor(Person):\n",
    "    def __init__(self, fname, lname, age, birthday, fachgebiet, eingruppierung):\n",
    "        super().__init__('Professor', fname, lname, age, birthday)\n",
    "        self.fachgebiet = fachgebiet\n",
    "        self.eingruppierung = eingruppierung\n",
    "\n",
    "\n",
    "class Universitaet:\n",
    "    def __init__(self, name, location)\n",
    "        self.name = name\n",
    "        self.location = location\n",
    "\n",
    "class \n"
   ]
  }
 ],
 "metadata": {
  "kernelspec": {
   "display_name": "Python 3.10.7 64-bit",
   "language": "python",
   "name": "python3"
  },
  "language_info": {
   "codemirror_mode": {
    "name": "ipython",
    "version": 3
   },
   "file_extension": ".py",
   "mimetype": "text/x-python",
   "name": "python",
   "nbconvert_exporter": "python",
   "pygments_lexer": "ipython3",
   "version": "3.10.7"
  },
  "orig_nbformat": 4,
  "vscode": {
   "interpreter": {
    "hash": "26de051ba29f2982a8de78e945f0abaf191376122a1563185a90213a26c5da77"
   }
  }
 },
 "nbformat": 4,
 "nbformat_minor": 2
}
