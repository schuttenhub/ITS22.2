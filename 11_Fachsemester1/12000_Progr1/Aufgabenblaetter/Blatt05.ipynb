{
 "cells": [
  {
   "cell_type": "markdown",
   "metadata": {},
   "source": [
    "Aufgabe 5"
   ]
  },
  {
   "cell_type": "code",
   "execution_count": 119,
   "metadata": {},
   "outputs": [],
   "source": [
    "#Aufgabe 5.0\n",
    "\n",
    "class Person:\n",
    "    def __init__(self, vorname, nachname, alter, groesse, freunde):\n",
    "        self.vorname = vorname\n",
    "        self.nachname = nachname\n",
    "        self.alter = alter\n",
    "        self.groesse = groesse\n",
    "        self.freunde = freunde\n",
    "        self.alterscounter = 0\n",
    "    def __prepr__(self):\n",
    "        return self.vorname\n",
    "    def WerdeAelter(self):\n",
    "        self.alter += 1\n",
    "        self.alterscounter += 1\n",
    "        print(f\"{self.vorname}, {self.nachname} ist ein Jahr gealtert und ist jetzt {self.alter}\")\n",
    "        if self.alterscounter >= 10:\n",
    "            self.groesse -= 1\n",
    "            print(f\"{self.vorname} ist außerdem einen Zentimeter geschrumpft auf {self.groesse}cm\")\n",
    "            self.alterscounter = 0\n",
    "    def IsBaby(self):\n",
    "        if self.alter <= 1:\n",
    "            return f\"{self.vorname} {self.nachname} ist ein Baby\"\n",
    "        return f\"{self.vorname} {self.nachname} ist kein Baby\"\n",
    "    def NeuerFreund(self):\n",
    "        self.freunde.append(str(input(\"Wie heißt der neue Freund?\")))\n",
    "        print(f\"{self.vorname}, {self.nachname} hat jetzt einen neuen Freund und damit insgesamt {len(self.freunde)} Freunde\" )\n",
    "    def Freunde(self):\n",
    "        return self.freunde(self.freunde)\n",
    "\n",
    "\n",
    "\n",
    "\n",
    "Person1 = Person('John', 'Dorian', 26, 174, [])\n",
    "Person2 = Person('Dieter', 'Bohlen', 1, 40, [])\n",
    "Person3 = Person('Felix', 'Blume', 35, 189, [])\n",
    "Person4 = Person('Reiner', 'Winkler', 31, 176, [])\n",
    "Person5 = Person('Bruce', 'Willis', 65, 178, Person1)\n",
    "Person6 = Person('Alexandra', 'Peters', 40, 164, [])\n",
    "Person7 = Person('Jennifer', 'Martinez', 12, 120, [])\n",
    "Person8 = Person('Dennis', 'Dannecker', 26, 180, [])\n"
   ]
  },
  {
   "cell_type": "code",
   "execution_count": 120,
   "metadata": {},
   "outputs": [
    {
     "data": {
      "text/plain": [
       "<__main__.Person at 0x1ed9d53f850>"
      ]
     },
     "execution_count": 120,
     "metadata": {},
     "output_type": "execute_result"
    }
   ],
   "source": [
    "Person5.freunde\n"
   ]
  }
 ],
 "metadata": {
  "kernelspec": {
   "display_name": "Python 3.10.7 64-bit",
   "language": "python",
   "name": "python3"
  },
  "language_info": {
   "codemirror_mode": {
    "name": "ipython",
    "version": 3
   },
   "file_extension": ".py",
   "mimetype": "text/x-python",
   "name": "python",
   "nbconvert_exporter": "python",
   "pygments_lexer": "ipython3",
   "version": "3.10.7"
  },
  "orig_nbformat": 4,
  "vscode": {
   "interpreter": {
    "hash": "26de051ba29f2982a8de78e945f0abaf191376122a1563185a90213a26c5da77"
   }
  }
 },
 "nbformat": 4,
 "nbformat_minor": 2
}
