{
 "cells": [
  {
   "cell_type": "markdown",
   "metadata": {},
   "source": [
    "Blatt 04"
   ]
  },
  {
   "cell_type": "code",
   "execution_count": null,
   "metadata": {},
   "outputs": [],
   "source": [
    "#Aufgabe 4.0\n",
    "maybe_prim = int(input('Bitte Zahl eingeben '))\n",
    "\n",
    "\n",
    "def prim(maybe_prim):\n",
    "    prim_index = 0\n",
    "    if maybe_prim == 0: return False\n",
    "    if maybe_prim == 1: return False\n",
    "    for i in range(maybe_prim):       \n",
    "        rest = maybe_prim % (i+1)\n",
    "        if rest == 0:\n",
    "            prim_index += 1\n",
    "        if prim_index > 2:\n",
    "            return False\n",
    "    return True\n",
    "\n",
    "print(prim(maybe_prim))\n"
   ]
  },
  {
   "cell_type": "code",
   "execution_count": null,
   "metadata": {},
   "outputs": [],
   "source": [
    "#Aufgabe 4.1 Verwenden Sie die Funktion prim aus der vorhergehenden Aufgabe, um eine Liste aller Zwillings-\n",
    "#primzahlen zwischen 2 und 10 000 zu erzeugen.\n",
    "prim_calc_limit = 10_000\n",
    "\n",
    "def prim(maybe_prim):\n",
    "    prim_index = 0\n",
    "    if maybe_prim == 0: return False\n",
    "    if maybe_prim == 1: return False\n",
    "    for i in range(maybe_prim):       \n",
    "        rest = maybe_prim % (i+1)\n",
    "        if rest == 0:\n",
    "            prim_index += 1\n",
    "        if prim_index > 2:\n",
    "            return False\n",
    "    return maybe_prim  \n",
    "\n",
    "for i in range(prim_calc_limit):\n",
    "    prim_zahl = prim(i)\n",
    "    prim_zwilling = prim(i+2)\n",
    "    if type(prim_zahl) == int:\n",
    "        if type(prim_zwilling) == int:\n",
    "            print(f\"{prim_zahl} Primzahl, {prim_zwilling} Zugehöriger Primzwilling\")\n"
   ]
  },
  {
   "cell_type": "code",
   "execution_count": 1,
   "metadata": {},
   "outputs": [
    {
     "data": {
      "image/png": "[encoded data removed]",
      "text/plain": [
       "<Figure size 640x480 with 1 Axes>"
      ]
     },
     "metadata": {},
     "output_type": "display_data"
    }
   ],
   "source": [
    "#Aufgabe 4.2 a)\n",
    "import matplotlib.pyplot as plt\n",
    "import math\n",
    "for i in range(10):\n",
    "    plt.scatter(i, i, c = 'blue')"
   ]
  },
  {
   "cell_type": "code",
   "execution_count": null,
   "metadata": {},
   "outputs": [],
   "source": [
    "#Aufgabe 4.2 b)\n",
    "import matplotlib.pyplot as plt\n",
    "import math\n",
    "y = 10\n",
    "for x in range(10):\n",
    "    plt.scatter(x, y, c = 'blue')\n",
    "    y -= 1"
   ]
  },
  {
   "cell_type": "code",
   "execution_count": 3,
   "metadata": {},
   "outputs": [
    {
     "data": {
      "image/png": "[encoded data removed]",
      "text/plain": [
       "<Figure size 640x480 with 1 Axes>"
      ]
     },
     "metadata": {},
     "output_type": "display_data"
    }
   ],
   "source": [
    "#Aufgabe 4.2 c)\n",
    "import matplotlib.pyplot as plt\n",
    "import math\n",
    "y = 0\n",
    "for y in range(-5,5):\n",
    "    plt.scatter(-10, y, c='blue')\n",
    "for x in range(-10,10):\n",
    "    plt.scatter(x, -5, c='blue')\n",
    "for y in range(-5,5):\n",
    "    plt.scatter(10, y, c='blue')\n",
    "for x in range(-10,11):\n",
    "    plt.scatter(x, 5, c='blue')         #12 Zeilen        "
   ]
  },
  {
   "cell_type": "code",
   "execution_count": null,
   "metadata": {},
   "outputs": [],
   "source": [
    "#Aufgabe 4.2 d)\n",
    "import matplotlib.pyplot as plt\n",
    "import math\n",
    "\n",
    "for z in range(-10,10):\n",
    "    plt.scatter( math.sin(2 * math.pi * z/36) * 10 , math.cos(2 * math.pi * z/36) * 10, c = 'blue')\n",
    "for z in range(-10,10):\n",
    "    plt.scatter(-math.sin(2 * math.pi * z/36) * 10, -math.cos(2 * math.pi * z/36) * 10, c = 'blue')\n"
   ]
  }
 ],
 "metadata": {
  "kernelspec": {
   "display_name": "Python 3.10.7 64-bit",
   "language": "python",
   "name": "python3"
  },
  "language_info": {
   "codemirror_mode": {
    "name": "ipython",
    "version": 3
   },
   "file_extension": ".py",
   "mimetype": "text/x-python",
   "name": "python",
   "nbconvert_exporter": "python",
   "pygments_lexer": "ipython3",
   "version": "3.10.7"
  },
  "orig_nbformat": 4,
  "vscode": {
   "interpreter": {
    "hash": "26de051ba29f2982a8de78e945f0abaf191376122a1563185a90213a26c5da77"
   }
  }
 },
 "nbformat": 4,
 "nbformat_minor": 2
}
