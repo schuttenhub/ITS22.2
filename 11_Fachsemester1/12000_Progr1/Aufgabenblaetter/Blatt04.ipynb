{
 "cells": [
  {
   "cell_type": "markdown",
   "metadata": {},
   "source": [
    "Blatt 04"
   ]
  },
  {
   "cell_type": "code",
   "execution_count": null,
   "metadata": {},
   "outputs": [],
   "source": [
    "#Aufgabe 4.0\n",
    "maybe_prim = int(input('Bitte Zahl eingeben '))\n",
    "\n",
    "\n",
    "def prim(maybe_prim):\n",
    "    prim_index = 0\n",
    "    if maybe_prim == 0: return False\n",
    "    if maybe_prim == 1: return False\n",
    "    for i in range(maybe_prim):       \n",
    "        rest = maybe_prim % (i+1)\n",
    "        if rest == 0:\n",
    "            prim_index += 1\n",
    "        if prim_index > 2:\n",
    "            return False\n",
    "    return True\n",
    "\n",
    "print(prim(maybe_prim))\n"
   ]
  },
  {
   "cell_type": "code",
   "execution_count": null,
   "metadata": {},
   "outputs": [],
   "source": [
    "#Aufgabe 4.1 Verwenden Sie die Funktion prim aus der vorhergehenden Aufgabe, um eine Liste aller Zwillings-\n",
    "#primzahlen zwischen 2 und 10 000 zu erzeugen.\n",
    "prim_calc_limit = 10_000\n",
    "\n",
    "def prim(maybe_prim):\n",
    "    prim_index = 0\n",
    "    if maybe_prim == 0: return False\n",
    "    if maybe_prim == 1: return False\n",
    "    for i in range(maybe_prim):       \n",
    "        rest = maybe_prim % (i+1)\n",
    "        if rest == 0:\n",
    "            prim_index += 1\n",
    "        if prim_index > 2:\n",
    "            return False\n",
    "    return maybe_prim  \n",
    "\n",
    "for i in range(prim_calc_limit):\n",
    "    prim_zahl = prim(i)\n",
    "    prim_zwilling = prim(i+2)\n",
    "    if type(prim_zahl) == int:\n",
    "        if type(prim_zwilling) == int:\n",
    "            print(f\"{prim_zahl} Primzahl, {prim_zwilling} Zugehöriger Primzwilling\")\n"
   ]
  },
  {
   "cell_type": "code",
   "execution_count": null,
   "metadata": {},
   "outputs": [],
   "source": [
    "#Aufgabe 4.2 a)\n",
    "import matplotlib.pyplot as plt\n",
    "import math\n",
    "for i in range(10):\n",
    "    plt.scatter(i, i, c = 'blue')"
   ]
  },
  {
   "cell_type": "code",
   "execution_count": 76,
   "metadata": {},
   "outputs": [
    {
     "data": {
      "image/png": "[encoded data removed]",
      "text/plain": [
       "<Figure size 640x480 with 1 Axes>"
      ]
     },
     "metadata": {},
     "output_type": "display_data"
    }
   ],
   "source": [
    "#Aufgabe 4.2 b)\n",
    "import matplotlib.pyplot as plt\n",
    "import math\n",
    "y = 10\n",
    "for x in range(10):\n",
    "    plt.scatter(x, y, c = 'blue')\n",
    "    y -= 1"
   ]
  },
  {
   "cell_type": "code",
   "execution_count": null,
   "metadata": {},
   "outputs": [],
   "source": [
    "#Aufgabe 4.2 c)\n",
    "import matplotlib.pyplot as plt\n",
    "import math\n",
    "y = 0\n",
    "for y in range(-5,5):\n",
    "    plt.scatter(-10, y, c='blue')\n",
    "for x in range(-10,10):\n",
    "    plt.scatter(x, -5, c='blue')\n",
    "for y in range(-5,5):\n",
    "    plt.scatter(10, y, c='blue')\n",
    "for x in range(-10,11):\n",
    "    plt.scatter(x, 5, c='blue')         #12 Zeilen        "
   ]
  },
  {
   "cell_type": "code",
   "execution_count": 85,
   "metadata": {},
   "outputs": [
    {
     "data": {
      "image/png": "[encoded data removed]",
      "text/plain": [
       "<Figure size 640x480 with 1 Axes>"
      ]
     },
     "metadata": {},
     "output_type": "display_data"
    }
   ],
   "source": [
    "#Aufgabe 4.2 d)\n",
    "import matplotlib.pyplot as plt\n",
    "import math\n",
    "\n",
    "for z in range(-10,10):\n",
    "    plt.scatter( math.sin(2 * math.pi * z/36) * 10 , math.cos(2 * math.pi * z/36) * 10, c = 'blue')\n",
    "for z in range(-10,10):\n",
    "    plt.scatter(-math.sin(2 * math.pi * z/36) * 10, -math.cos(2 * math.pi * z/36) * 10, c = 'blue')\n"
   ]
  },
  {
   "cell_type": "code",
   "execution_count": 47,
   "metadata": {},
   "outputs": [
    {
     "name": "stdout",
     "output_type": "stream",
     "text": [
      "Help on class range in module builtins:\n",
      "\n",
      "class range(object)\n",
      " |  range(stop) -> range object\n",
      " |  range(start, stop[, step]) -> range object\n",
      " |  \n",
      " |  Return an object that produces a sequence of integers from start (inclusive)\n",
      " |  to stop (exclusive) by step.  range(i, j) produces i, i+1, i+2, ..., j-1.\n",
      " |  start defaults to 0, and stop is omitted!  range(4) produces 0, 1, 2, 3.\n",
      " |  These are exactly the valid indices for a list of 4 elements.\n",
      " |  When step is given, it specifies the increment (or decrement).\n",
      " |  \n",
      " |  Methods defined here:\n",
      " |  \n",
      " |  __bool__(self, /)\n",
      " |      True if self else False\n",
      " |  \n",
      " |  __contains__(self, key, /)\n",
      " |      Return key in self.\n",
      " |  \n",
      " |  __eq__(self, value, /)\n",
      " |      Return self==value.\n",
      " |  \n",
      " |  __ge__(self, value, /)\n",
      " |      Return self>=value.\n",
      " |  \n",
      " |  __getattribute__(self, name, /)\n",
      " |      Return getattr(self, name).\n",
      " |  \n",
      " |  __getitem__(self, key, /)\n",
      " |      Return self[key].\n",
      " |  \n",
      " |  __gt__(self, value, /)\n",
      " |      Return self>value.\n",
      " |  \n",
      " |  __hash__(self, /)\n",
      " |      Return hash(self).\n",
      " |  \n",
      " |  __iter__(self, /)\n",
      " |      Implement iter(self).\n",
      " |  \n",
      " |  __le__(self, value, /)\n",
      " |      Return self<=value.\n",
      " |  \n",
      " |  __len__(self, /)\n",
      " |      Return len(self).\n",
      " |  \n",
      " |  __lt__(self, value, /)\n",
      " |      Return self<value.\n",
      " |  \n",
      " |  __ne__(self, value, /)\n",
      " |      Return self!=value.\n",
      " |  \n",
      " |  __reduce__(...)\n",
      " |      Helper for pickle.\n",
      " |  \n",
      " |  __repr__(self, /)\n",
      " |      Return repr(self).\n",
      " |  \n",
      " |  __reversed__(...)\n",
      " |      Return a reverse iterator.\n",
      " |  \n",
      " |  count(...)\n",
      " |      rangeobject.count(value) -> integer -- return number of occurrences of value\n",
      " |  \n",
      " |  index(...)\n",
      " |      rangeobject.index(value) -> integer -- return index of value.\n",
      " |      Raise ValueError if the value is not present.\n",
      " |  \n",
      " |  ----------------------------------------------------------------------\n",
      " |  Static methods defined here:\n",
      " |  \n",
      " |  __new__(*args, **kwargs) from builtins.type\n",
      " |      Create and return a new object.  See help(type) for accurate signature.\n",
      " |  \n",
      " |  ----------------------------------------------------------------------\n",
      " |  Data descriptors defined here:\n",
      " |  \n",
      " |  start\n",
      " |  \n",
      " |  step\n",
      " |  \n",
      " |  stop\n",
      "\n"
     ]
    }
   ],
   "source": [
    "help(range)"
   ]
  }
 ],
 "metadata": {
  "kernelspec": {
   "display_name": "Python 3.10.7 64-bit",
   "language": "python",
   "name": "python3"
  },
  "language_info": {
   "codemirror_mode": {
    "name": "ipython",
    "version": 3
   },
   "file_extension": ".py",
   "mimetype": "text/x-python",
   "name": "python",
   "nbconvert_exporter": "python",
   "pygments_lexer": "ipython3",
   "version": "3.10.7"
  },
  "orig_nbformat": 4,
  "vscode": {
   "interpreter": {
    "hash": "26de051ba29f2982a8de78e945f0abaf191376122a1563185a90213a26c5da77"
   }
  }
 },
 "nbformat": 4,
 "nbformat_minor": 2
}
