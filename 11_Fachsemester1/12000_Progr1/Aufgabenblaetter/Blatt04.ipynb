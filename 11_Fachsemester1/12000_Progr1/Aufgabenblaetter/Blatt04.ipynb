{
 "cells": [
  {
   "cell_type": "markdown",
   "metadata": {},
   "source": [
    "Blatt 04"
   ]
  },
  {
   "cell_type": "code",
   "execution_count": null,
   "metadata": {},
   "outputs": [],
   "source": [
    "#Aufgabe 4.0\n",
    "maybe_prim = int(input('Bitte Zahl eingeben '))\n",
    "\n",
    "def prim(maybe_prim):\n",
    "    prim_index = 0\n",
    "    if maybe_prim == 0: return False\n",
    "    if maybe_prim == 1: return False\n",
    "    for i in range(maybe_prim):       \n",
    "        rest = maybe_prim % (i+1)\n",
    "        if rest == 0:\n",
    "            prim_index += 1\n",
    "        if prim_index > 2:\n",
    "            return False\n",
    "    return True\n",
    "\n",
    "print(prim(maybe_prim))\n"
   ]
  },
  {
   "cell_type": "code",
   "execution_count": 1,
   "metadata": {},
   "outputs": [
    {
     "name": "stdout",
     "output_type": "stream",
     "text": [
      "3 Primzahl, 5 Zugehöriger Primzwilling\n",
      "5 Primzahl, 7 Zugehöriger Primzwilling\n",
      "11 Primzahl, 13 Zugehöriger Primzwilling\n",
      "17 Primzahl, 19 Zugehöriger Primzwilling\n",
      "29 Primzahl, 31 Zugehöriger Primzwilling\n",
      "41 Primzahl, 43 Zugehöriger Primzwilling\n",
      "59 Primzahl, 61 Zugehöriger Primzwilling\n",
      "71 Primzahl, 73 Zugehöriger Primzwilling\n",
      "101 Primzahl, 103 Zugehöriger Primzwilling\n",
      "107 Primzahl, 109 Zugehöriger Primzwilling\n",
      "137 Primzahl, 139 Zugehöriger Primzwilling\n",
      "149 Primzahl, 151 Zugehöriger Primzwilling\n",
      "179 Primzahl, 181 Zugehöriger Primzwilling\n",
      "191 Primzahl, 193 Zugehöriger Primzwilling\n",
      "197 Primzahl, 199 Zugehöriger Primzwilling\n",
      "227 Primzahl, 229 Zugehöriger Primzwilling\n",
      "239 Primzahl, 241 Zugehöriger Primzwilling\n",
      "269 Primzahl, 271 Zugehöriger Primzwilling\n",
      "281 Primzahl, 283 Zugehöriger Primzwilling\n",
      "311 Primzahl, 313 Zugehöriger Primzwilling\n",
      "347 Primzahl, 349 Zugehöriger Primzwilling\n",
      "419 Primzahl, 421 Zugehöriger Primzwilling\n",
      "431 Primzahl, 433 Zugehöriger Primzwilling\n",
      "461 Primzahl, 463 Zugehöriger Primzwilling\n",
      "521 Primzahl, 523 Zugehöriger Primzwilling\n",
      "569 Primzahl, 571 Zugehöriger Primzwilling\n",
      "599 Primzahl, 601 Zugehöriger Primzwilling\n",
      "617 Primzahl, 619 Zugehöriger Primzwilling\n",
      "641 Primzahl, 643 Zugehöriger Primzwilling\n",
      "659 Primzahl, 661 Zugehöriger Primzwilling\n",
      "809 Primzahl, 811 Zugehöriger Primzwilling\n",
      "821 Primzahl, 823 Zugehöriger Primzwilling\n",
      "827 Primzahl, 829 Zugehöriger Primzwilling\n",
      "857 Primzahl, 859 Zugehöriger Primzwilling\n",
      "881 Primzahl, 883 Zugehöriger Primzwilling\n",
      "1019 Primzahl, 1021 Zugehöriger Primzwilling\n",
      "1031 Primzahl, 1033 Zugehöriger Primzwilling\n",
      "1049 Primzahl, 1051 Zugehöriger Primzwilling\n",
      "1061 Primzahl, 1063 Zugehöriger Primzwilling\n",
      "1091 Primzahl, 1093 Zugehöriger Primzwilling\n",
      "1151 Primzahl, 1153 Zugehöriger Primzwilling\n",
      "1229 Primzahl, 1231 Zugehöriger Primzwilling\n",
      "1277 Primzahl, 1279 Zugehöriger Primzwilling\n",
      "1289 Primzahl, 1291 Zugehöriger Primzwilling\n",
      "1301 Primzahl, 1303 Zugehöriger Primzwilling\n",
      "1319 Primzahl, 1321 Zugehöriger Primzwilling\n",
      "1427 Primzahl, 1429 Zugehöriger Primzwilling\n",
      "1451 Primzahl, 1453 Zugehöriger Primzwilling\n",
      "1481 Primzahl, 1483 Zugehöriger Primzwilling\n",
      "1487 Primzahl, 1489 Zugehöriger Primzwilling\n",
      "1607 Primzahl, 1609 Zugehöriger Primzwilling\n",
      "1619 Primzahl, 1621 Zugehöriger Primzwilling\n",
      "1667 Primzahl, 1669 Zugehöriger Primzwilling\n",
      "1697 Primzahl, 1699 Zugehöriger Primzwilling\n",
      "1721 Primzahl, 1723 Zugehöriger Primzwilling\n",
      "1787 Primzahl, 1789 Zugehöriger Primzwilling\n",
      "1871 Primzahl, 1873 Zugehöriger Primzwilling\n",
      "1877 Primzahl, 1879 Zugehöriger Primzwilling\n",
      "1931 Primzahl, 1933 Zugehöriger Primzwilling\n",
      "1949 Primzahl, 1951 Zugehöriger Primzwilling\n",
      "1997 Primzahl, 1999 Zugehöriger Primzwilling\n",
      "2027 Primzahl, 2029 Zugehöriger Primzwilling\n",
      "2081 Primzahl, 2083 Zugehöriger Primzwilling\n",
      "2087 Primzahl, 2089 Zugehöriger Primzwilling\n",
      "2111 Primzahl, 2113 Zugehöriger Primzwilling\n",
      "2129 Primzahl, 2131 Zugehöriger Primzwilling\n",
      "2141 Primzahl, 2143 Zugehöriger Primzwilling\n",
      "2237 Primzahl, 2239 Zugehöriger Primzwilling\n",
      "2267 Primzahl, 2269 Zugehöriger Primzwilling\n",
      "2309 Primzahl, 2311 Zugehöriger Primzwilling\n",
      "2339 Primzahl, 2341 Zugehöriger Primzwilling\n",
      "2381 Primzahl, 2383 Zugehöriger Primzwilling\n",
      "2549 Primzahl, 2551 Zugehöriger Primzwilling\n",
      "2591 Primzahl, 2593 Zugehöriger Primzwilling\n",
      "2657 Primzahl, 2659 Zugehöriger Primzwilling\n",
      "2687 Primzahl, 2689 Zugehöriger Primzwilling\n",
      "2711 Primzahl, 2713 Zugehöriger Primzwilling\n",
      "2729 Primzahl, 2731 Zugehöriger Primzwilling\n",
      "2789 Primzahl, 2791 Zugehöriger Primzwilling\n",
      "2801 Primzahl, 2803 Zugehöriger Primzwilling\n",
      "2969 Primzahl, 2971 Zugehöriger Primzwilling\n",
      "2999 Primzahl, 3001 Zugehöriger Primzwilling\n",
      "3119 Primzahl, 3121 Zugehöriger Primzwilling\n",
      "3167 Primzahl, 3169 Zugehöriger Primzwilling\n",
      "3251 Primzahl, 3253 Zugehöriger Primzwilling\n",
      "3257 Primzahl, 3259 Zugehöriger Primzwilling\n",
      "3299 Primzahl, 3301 Zugehöriger Primzwilling\n",
      "3329 Primzahl, 3331 Zugehöriger Primzwilling\n",
      "3359 Primzahl, 3361 Zugehöriger Primzwilling\n",
      "3371 Primzahl, 3373 Zugehöriger Primzwilling\n",
      "3389 Primzahl, 3391 Zugehöriger Primzwilling\n",
      "3461 Primzahl, 3463 Zugehöriger Primzwilling\n",
      "3467 Primzahl, 3469 Zugehöriger Primzwilling\n",
      "3527 Primzahl, 3529 Zugehöriger Primzwilling\n",
      "3539 Primzahl, 3541 Zugehöriger Primzwilling\n",
      "3557 Primzahl, 3559 Zugehöriger Primzwilling\n",
      "3581 Primzahl, 3583 Zugehöriger Primzwilling\n",
      "3671 Primzahl, 3673 Zugehöriger Primzwilling\n",
      "3767 Primzahl, 3769 Zugehöriger Primzwilling\n",
      "3821 Primzahl, 3823 Zugehöriger Primzwilling\n",
      "3851 Primzahl, 3853 Zugehöriger Primzwilling\n",
      "3917 Primzahl, 3919 Zugehöriger Primzwilling\n",
      "3929 Primzahl, 3931 Zugehöriger Primzwilling\n",
      "4001 Primzahl, 4003 Zugehöriger Primzwilling\n",
      "4019 Primzahl, 4021 Zugehöriger Primzwilling\n",
      "4049 Primzahl, 4051 Zugehöriger Primzwilling\n",
      "4091 Primzahl, 4093 Zugehöriger Primzwilling\n",
      "4127 Primzahl, 4129 Zugehöriger Primzwilling\n",
      "4157 Primzahl, 4159 Zugehöriger Primzwilling\n",
      "4217 Primzahl, 4219 Zugehöriger Primzwilling\n",
      "4229 Primzahl, 4231 Zugehöriger Primzwilling\n",
      "4241 Primzahl, 4243 Zugehöriger Primzwilling\n",
      "4259 Primzahl, 4261 Zugehöriger Primzwilling\n",
      "4271 Primzahl, 4273 Zugehöriger Primzwilling\n",
      "4337 Primzahl, 4339 Zugehöriger Primzwilling\n",
      "4421 Primzahl, 4423 Zugehöriger Primzwilling\n",
      "4481 Primzahl, 4483 Zugehöriger Primzwilling\n",
      "4517 Primzahl, 4519 Zugehöriger Primzwilling\n",
      "4547 Primzahl, 4549 Zugehöriger Primzwilling\n",
      "4637 Primzahl, 4639 Zugehöriger Primzwilling\n",
      "4649 Primzahl, 4651 Zugehöriger Primzwilling\n",
      "4721 Primzahl, 4723 Zugehöriger Primzwilling\n",
      "4787 Primzahl, 4789 Zugehöriger Primzwilling\n",
      "4799 Primzahl, 4801 Zugehöriger Primzwilling\n",
      "4931 Primzahl, 4933 Zugehöriger Primzwilling\n",
      "4967 Primzahl, 4969 Zugehöriger Primzwilling\n",
      "5009 Primzahl, 5011 Zugehöriger Primzwilling\n",
      "5021 Primzahl, 5023 Zugehöriger Primzwilling\n",
      "5099 Primzahl, 5101 Zugehöriger Primzwilling\n",
      "5231 Primzahl, 5233 Zugehöriger Primzwilling\n",
      "5279 Primzahl, 5281 Zugehöriger Primzwilling\n",
      "5417 Primzahl, 5419 Zugehöriger Primzwilling\n",
      "5441 Primzahl, 5443 Zugehöriger Primzwilling\n",
      "5477 Primzahl, 5479 Zugehöriger Primzwilling\n",
      "5501 Primzahl, 5503 Zugehöriger Primzwilling\n",
      "5519 Primzahl, 5521 Zugehöriger Primzwilling\n",
      "5639 Primzahl, 5641 Zugehöriger Primzwilling\n",
      "5651 Primzahl, 5653 Zugehöriger Primzwilling\n",
      "5657 Primzahl, 5659 Zugehöriger Primzwilling\n",
      "5741 Primzahl, 5743 Zugehöriger Primzwilling\n",
      "5849 Primzahl, 5851 Zugehöriger Primzwilling\n",
      "5867 Primzahl, 5869 Zugehöriger Primzwilling\n",
      "5879 Primzahl, 5881 Zugehöriger Primzwilling\n",
      "6089 Primzahl, 6091 Zugehöriger Primzwilling\n",
      "6131 Primzahl, 6133 Zugehöriger Primzwilling\n",
      "6197 Primzahl, 6199 Zugehöriger Primzwilling\n",
      "6269 Primzahl, 6271 Zugehöriger Primzwilling\n",
      "6299 Primzahl, 6301 Zugehöriger Primzwilling\n",
      "6359 Primzahl, 6361 Zugehöriger Primzwilling\n",
      "6449 Primzahl, 6451 Zugehöriger Primzwilling\n",
      "6551 Primzahl, 6553 Zugehöriger Primzwilling\n",
      "6569 Primzahl, 6571 Zugehöriger Primzwilling\n",
      "6659 Primzahl, 6661 Zugehöriger Primzwilling\n",
      "6689 Primzahl, 6691 Zugehöriger Primzwilling\n",
      "6701 Primzahl, 6703 Zugehöriger Primzwilling\n",
      "6761 Primzahl, 6763 Zugehöriger Primzwilling\n",
      "6779 Primzahl, 6781 Zugehöriger Primzwilling\n",
      "6791 Primzahl, 6793 Zugehöriger Primzwilling\n",
      "6827 Primzahl, 6829 Zugehöriger Primzwilling\n",
      "6869 Primzahl, 6871 Zugehöriger Primzwilling\n",
      "6947 Primzahl, 6949 Zugehöriger Primzwilling\n",
      "6959 Primzahl, 6961 Zugehöriger Primzwilling\n",
      "7127 Primzahl, 7129 Zugehöriger Primzwilling\n",
      "7211 Primzahl, 7213 Zugehöriger Primzwilling\n",
      "7307 Primzahl, 7309 Zugehöriger Primzwilling\n",
      "7331 Primzahl, 7333 Zugehöriger Primzwilling\n",
      "7349 Primzahl, 7351 Zugehöriger Primzwilling\n",
      "7457 Primzahl, 7459 Zugehöriger Primzwilling\n",
      "7487 Primzahl, 7489 Zugehöriger Primzwilling\n",
      "7547 Primzahl, 7549 Zugehöriger Primzwilling\n",
      "7559 Primzahl, 7561 Zugehöriger Primzwilling\n",
      "7589 Primzahl, 7591 Zugehöriger Primzwilling\n",
      "7757 Primzahl, 7759 Zugehöriger Primzwilling\n",
      "7877 Primzahl, 7879 Zugehöriger Primzwilling\n",
      "7949 Primzahl, 7951 Zugehöriger Primzwilling\n",
      "8009 Primzahl, 8011 Zugehöriger Primzwilling\n",
      "8087 Primzahl, 8089 Zugehöriger Primzwilling\n",
      "8219 Primzahl, 8221 Zugehöriger Primzwilling\n",
      "8231 Primzahl, 8233 Zugehöriger Primzwilling\n",
      "8291 Primzahl, 8293 Zugehöriger Primzwilling\n",
      "8387 Primzahl, 8389 Zugehöriger Primzwilling\n",
      "8429 Primzahl, 8431 Zugehöriger Primzwilling\n",
      "8537 Primzahl, 8539 Zugehöriger Primzwilling\n",
      "8597 Primzahl, 8599 Zugehöriger Primzwilling\n",
      "8627 Primzahl, 8629 Zugehöriger Primzwilling\n",
      "8819 Primzahl, 8821 Zugehöriger Primzwilling\n",
      "8837 Primzahl, 8839 Zugehöriger Primzwilling\n",
      "8861 Primzahl, 8863 Zugehöriger Primzwilling\n",
      "8969 Primzahl, 8971 Zugehöriger Primzwilling\n",
      "8999 Primzahl, 9001 Zugehöriger Primzwilling\n",
      "9011 Primzahl, 9013 Zugehöriger Primzwilling\n",
      "9041 Primzahl, 9043 Zugehöriger Primzwilling\n",
      "9239 Primzahl, 9241 Zugehöriger Primzwilling\n",
      "9281 Primzahl, 9283 Zugehöriger Primzwilling\n",
      "9341 Primzahl, 9343 Zugehöriger Primzwilling\n",
      "9419 Primzahl, 9421 Zugehöriger Primzwilling\n",
      "9431 Primzahl, 9433 Zugehöriger Primzwilling\n",
      "9437 Primzahl, 9439 Zugehöriger Primzwilling\n",
      "9461 Primzahl, 9463 Zugehöriger Primzwilling\n",
      "9629 Primzahl, 9631 Zugehöriger Primzwilling\n",
      "9677 Primzahl, 9679 Zugehöriger Primzwilling\n",
      "9719 Primzahl, 9721 Zugehöriger Primzwilling\n",
      "9767 Primzahl, 9769 Zugehöriger Primzwilling\n",
      "9857 Primzahl, 9859 Zugehöriger Primzwilling\n",
      "9929 Primzahl, 9931 Zugehöriger Primzwilling\n"
     ]
    }
   ],
   "source": [
    "#Aufgabe 4.1 Verwenden Sie die Funktion prim aus der vorhergehenden Aufgabe, um eine Liste aller Zwillings-\n",
    "#primzahlen zwischen 2 und 10 000 zu erzeugen.\n",
    "prim_calc_limit = 10_000\n",
    "\n",
    "def prim(maybe_prim):\n",
    "    prim_index = 0\n",
    "    if maybe_prim == 0: return False\n",
    "    if maybe_prim == 1: return False\n",
    "    for i in range(maybe_prim):       \n",
    "        rest = maybe_prim % (i+1)\n",
    "        if rest == 0:\n",
    "            prim_index += 1\n",
    "        if prim_index > 2:\n",
    "            return False\n",
    "    return maybe_prim  \n",
    "\n",
    "for i in range(prim_calc_limit):\n",
    "    prim_zahl = prim(i)\n",
    "    prim_zwilling = prim(i+2)\n",
    "    if type(prim_zahl) == int:\n",
    "        if type(prim_zwilling) == int:\n",
    "            print(f\"{prim_zahl} Primzahl, {prim_zwilling} Zugehöriger Primzwilling\")\n"
   ]
  },
  {
   "cell_type": "code",
   "execution_count": 4,
   "metadata": {},
   "outputs": [
    {
     "data": {
      "text/plain": [
       "<matplotlib.collections.PathCollection at 0x2196a3317e0>"
      ]
     },
     "execution_count": 4,
     "metadata": {},
     "output_type": "execute_result"
    },
    {
     "data": {
      "image/png": "[encoded data removed]",
      "text/plain": [
       "<Figure size 640x480 with 1 Axes>"
      ]
     },
     "metadata": {},
     "output_type": "display_data"
    }
   ],
   "source": [
    "#Aufgabe 4.2 a)\n",
    "import matplotlib.pyplot as plt\n",
    "import math\n",
    "#for i in range(10):\n",
    "\n",
    "plt.scatter(range(10), range(10), c = 'blue')"
   ]
  },
  {
   "cell_type": "code",
   "execution_count": 3,
   "metadata": {},
   "outputs": [
    {
     "data": {
      "image/png": "[encoded data removed]",
      "text/plain": [
       "<Figure size 640x480 with 1 Axes>"
      ]
     },
     "metadata": {},
     "output_type": "display_data"
    }
   ],
   "source": [
    "#Aufgabe 4.2 b)\n",
    "import matplotlib.pyplot as plt\n",
    "import math\n",
    "y = 10\n",
    "for x in range(10):\n",
    "    plt.scatter(x, y, c = 'blue')\n",
    "    y -= 1"
   ]
  },
  {
   "cell_type": "code",
   "execution_count": 3,
   "metadata": {},
   "outputs": [
    {
     "data": {
      "image/png": "[encoded data removed]",
      "text/plain": [
       "<Figure size 640x480 with 1 Axes>"
      ]
     },
     "metadata": {},
     "output_type": "display_data"
    }
   ],
   "source": [
    "#Aufgabe 4.2 c)\n",
    "import matplotlib.pyplot as plt\n",
    "import math\n",
    "y = 0\n",
    "for y in range(-5,5):\n",
    "    plt.scatter(-10, y, c='blue')\n",
    "for x in range(-10,10):\n",
    "    plt.scatter(x, -5, c='blue')\n",
    "for y in range(-5,5):\n",
    "    plt.scatter(10, y, c='blue')\n",
    "for x in range(-10,11):\n",
    "    plt.scatter(x, 5, c='blue')         #12 Zeilen        "
   ]
  },
  {
   "cell_type": "code",
   "execution_count": 11,
   "metadata": {},
   "outputs": [
    {
     "data": {
      "image/png": "[encoded data removed]",
      "text/plain": [
       "<Figure size 640x480 with 1 Axes>"
      ]
     },
     "metadata": {},
     "output_type": "display_data"
    }
   ],
   "source": [
    "#Aufgabe 4.2 d)\n",
    "import matplotlib.pyplot as plt\n",
    "import math\n",
    "\n",
    "for z in range(0,360,10):\n",
    "    plt.scatter( math.sin(2 * math.pi * z/360) * 10 , math.cos(2 * math.pi * z/360) * 10, c = 'blue')\n"
   ]
  }
 ],
 "metadata": {
  "kernelspec": {
   "display_name": "Python 3.10.7 64-bit",
   "language": "python",
   "name": "python3"
  },
  "language_info": {
   "codemirror_mode": {
    "name": "ipython",
    "version": 3
   },
   "file_extension": ".py",
   "mimetype": "text/x-python",
   "name": "python",
   "nbconvert_exporter": "python",
   "pygments_lexer": "ipython3",
   "version": "3.10.7"
  },
  "orig_nbformat": 4,
  "vscode": {
   "interpreter": {
    "hash": "26de051ba29f2982a8de78e945f0abaf191376122a1563185a90213a26c5da77"
   }
  }
 },
 "nbformat": 4,
 "nbformat_minor": 2
}
