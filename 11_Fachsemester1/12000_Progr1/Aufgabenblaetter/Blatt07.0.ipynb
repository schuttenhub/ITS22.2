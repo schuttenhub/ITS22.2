{
 "cells": [
  {
   "cell_type": "code",
   "execution_count": 182,
   "metadata": {},
   "outputs": [],
   "source": [
    "class Graph:\n",
    "    def __init__(self):\n",
    "        self.node_dict = {}\n",
    "    def __repr__(self):\n",
    "        return str(self.node_dict.keys())\n",
    "    \n",
    "    def add_node(self, nodename):\n",
    "        self.node_dict[nodename] = []\n",
    "        \n",
    "    def add_edge(self, source_node, dest_node):\n",
    "        if dest_node in self.node_dict.keys():           \n",
    "            d_node_list = self.node_dict.get(source_node)\n",
    "            d_node_list.append(dest_node)\n",
    "            self.node_dict.update({source_node: d_node_list})\n",
    "    \n",
    "    def V(self):\n",
    "        return list(self.node_dict.keys())\n",
    "    \n",
    "    def E(self):\n",
    "        edge_list = []\n",
    "        single_edge = []\n",
    "        for key in self.node_dict.keys():\n",
    "            for value in self.node_dict.get(key):\n",
    "                single_edge = [key, value]\n",
    "                edge_list.append(single_edge)\n",
    "        return edge_list\n",
    "        \n",
    "    def all_singles(self):\n",
    "        return [key for key in self.node_dict.keys() if self.node_dict.get(key) == []]\n",
    "    \n",
    "    def most_edges(self):\n",
    "        key_length_pair = []\n",
    "        for nodeKey in self.node_dict.keys():\n",
    "            key_length_pair.append([len(self.node_dict.get(nodeKey)), nodeKey])\n",
    "        return max(key_length_pair)[1]\n",
    "\n",
    "\n",
    "    def neighbors(self, node_name):\n",
    "        pass\n",
    "\n",
    "#Graph: Das ganze (Klasse)\n",
    "#Knoten: Dictionary mit Name(key) und Liste mit Knoten(value)\n",
    "#add_node()\n",
    "#add_edge()\n",
    "#V()\n"
   ]
  },
  {
   "cell_type": "code",
   "execution_count": 183,
   "metadata": {},
   "outputs": [],
   "source": [
    "g = Graph()\n",
    "for i in range(10): g.add_node(i)\n",
    "for i,j in [(1,2),(2,2),(1,3),(2,3),(3,4),(1,4),(4,5),(5,1)]:\n",
    "    g.add_edge(i,j)\n"
   ]
  },
  {
   "cell_type": "code",
   "execution_count": 184,
   "metadata": {},
   "outputs": [
    {
     "data": {
      "text/plain": [
       "dict_keys([0, 1, 2, 3, 4, 5, 6, 7, 8, 9])"
      ]
     },
     "execution_count": 184,
     "metadata": {},
     "output_type": "execute_result"
    }
   ],
   "source": [
    "g"
   ]
  },
  {
   "cell_type": "code",
   "execution_count": 185,
   "metadata": {},
   "outputs": [
    {
     "data": {
      "text/plain": [
       "[[1, 2], [1, 3], [1, 4], [2, 2], [2, 3], [3, 4], [4, 5], [5, 1]]"
      ]
     },
     "execution_count": 185,
     "metadata": {},
     "output_type": "execute_result"
    }
   ],
   "source": [
    "g.E()"
   ]
  },
  {
   "cell_type": "code",
   "execution_count": 186,
   "metadata": {},
   "outputs": [
    {
     "data": {
      "text/plain": [
       "[0, 6, 7, 8, 9]"
      ]
     },
     "execution_count": 186,
     "metadata": {},
     "output_type": "execute_result"
    }
   ],
   "source": [
    "g.all_singles()"
   ]
  },
  {
   "cell_type": "code",
   "execution_count": 187,
   "metadata": {},
   "outputs": [
    {
     "data": {
      "text/plain": [
       "1"
      ]
     },
     "execution_count": 187,
     "metadata": {},
     "output_type": "execute_result"
    }
   ],
   "source": [
    "g.most_edges()"
   ]
  },
  {
   "cell_type": "code",
   "execution_count": null,
   "metadata": {},
   "outputs": [],
   "source": [
    "help(dict)"
   ]
  }
 ],
 "metadata": {
  "kernelspec": {
   "display_name": "Python 3.10.7 64-bit",
   "language": "python",
   "name": "python3"
  },
  "language_info": {
   "codemirror_mode": {
    "name": "ipython",
    "version": 3
   },
   "file_extension": ".py",
   "mimetype": "text/x-python",
   "name": "python",
   "nbconvert_exporter": "python",
   "pygments_lexer": "ipython3",
   "version": "3.10.5"
  },
  "orig_nbformat": 4,
  "vscode": {
   "interpreter": {
    "hash": "26de051ba29f2982a8de78e945f0abaf191376122a1563185a90213a26c5da77"
   }
  }
 },
 "nbformat": 4,
 "nbformat_minor": 2
}
