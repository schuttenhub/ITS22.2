{
 "cells": [
  {
   "attachments": {},
   "cell_type": "markdown",
   "metadata": {},
   "source": [
    "Aufgabe 8.0\n",
    "Verwenden Sie zur Programmierung der Funktionen isReflexive, isSymmetricund isTransitive\n",
    "ausschließlich Pythons List Comprehension und die all oder any-Funktion."
   ]
  },
  {
   "attachments": {},
   "cell_type": "markdown",
   "metadata": {},
   "source": [
    "(a) Schreiben Sie eine Python-Funktion isReflexive, die als erstes Argument eine Grundmenge (in Form einer Liste) und als zweites Argument eine Relation über dieser Grundmenge erhält und testet, ob die gegebene Relation reflexiv ist."
   ]
  },
  {
   "cell_type": "code",
   "execution_count": null,
   "metadata": {},
   "outputs": [],
   "source": [
    "def isReflexive(grundmenge, relation):\n",
    "    #for counter in grundmenge:\n",
    "    #    if (counter,counter) not in relation:\n",
    "    #        return False\n",
    "    #return True\n",
    "    []\n",
    "    \n",
    "    \n",
    "def isSymmetric(grundmenge, relation):\n",
    "    for counter,position in enumerate(grundmenge):\n",
    "        if (counter,grundmenge[position+1]) \n",
    "def isTransitive(grundmenge, relation):\n",
    "    pass\n",
    "\n",
    "\n",
    "#test\n",
    "\n",
    "isReflexive([1,2,3],[(1,2),(1,1),(2,2),(2,1)])"
   ]
  }
 ],
 "metadata": {
  "kernelspec": {
   "display_name": "Python 3",
   "language": "python",
   "name": "python3"
  },
  "language_info": {
   "name": "python",
   "version": "3.10.3 (tags/v3.10.3:a342a49, Mar 16 2022, 13:07:40) [MSC v.1929 64 bit (AMD64)]"
  },
  "orig_nbformat": 4,
  "vscode": {
   "interpreter": {
    "hash": "26de051ba29f2982a8de78e945f0abaf191376122a1563185a90213a26c5da77"
   }
  }
 },
 "nbformat": 4,
 "nbformat_minor": 2
}
