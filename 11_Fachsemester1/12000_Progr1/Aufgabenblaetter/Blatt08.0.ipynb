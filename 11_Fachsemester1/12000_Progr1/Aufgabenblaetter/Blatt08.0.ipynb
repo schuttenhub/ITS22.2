{
 "cells": [
  {
   "attachments": {},
   "cell_type": "markdown",
   "metadata": {},
   "source": [
    "Aufgabe 8.0\n",
    "Verwenden Sie zur Programmierung der Funktionen isReflexive, isSymmetricund isTransitive\n",
    "ausschließlich Pythons List Comprehension und die all oder any-Funktion."
   ]
  },
  {
   "attachments": {},
   "cell_type": "markdown",
   "metadata": {},
   "source": [
    "(a) Schreiben Sie eine Python-Funktion isReflexive, die als erstes Argument eine Grundmenge (in Form einer Liste) und als zweites Argument eine Relation über dieser Grundmenge erhält und testet, ob die gegebene Relation reflexiv ist."
   ]
  },
  {
   "cell_type": "code",
   "execution_count": null,
   "metadata": {},
   "outputs": [],
   "source": [
    "def isReflexive(grundmenge, relation):\n",
    "    return all([True if (counter,counter) in relation else False for counter in grundmenge])\n",
    "def isSymmetric(grundmenge, relation):\n",
    "    return all([False if (element[1],element[0]) not in relation else True for element in relation])\n",
    "def isTransitive(grundmenge, relation):\n",
    "    #for element in relation:\n",
    "    pass\n",
    "\n",
    "#isReflexive([1,2,3], [(1,2),(1,1),(2,2),(2,1),(3,3)])\n",
    "isSymmetric([1,2,3], [(1,2),(2,1),(1,1)(2,3),(3,2)])\n",
    "#isTransitive([1,2,3,4],[(1,2),(2,1),(2,2),(2,3),(1,3),(3,1),(1,1),(3,3),(3,2)])"
   ]
  },
  {
   "cell_type": "code",
   "execution_count": null,
   "metadata": {},
   "outputs": [],
   "source": [
    "help(tuple)"
   ]
  }
 ],
 "metadata": {
  "kernelspec": {
   "display_name": "Python 3",
   "language": "python",
   "name": "python3"
  },
  "language_info": {
   "codemirror_mode": {
    "name": "ipython",
    "version": 3
   },
   "file_extension": ".py",
   "mimetype": "text/x-python",
   "name": "python",
   "nbconvert_exporter": "python",
   "pygments_lexer": "ipython3",
   "version": "3.10.3 (tags/v3.10.3:a342a49, Mar 16 2022, 13:07:40) [MSC v.1929 64 bit (AMD64)]"
  },
  "orig_nbformat": 4,
  "vscode": {
   "interpreter": {
    "hash": "26de051ba29f2982a8de78e945f0abaf191376122a1563185a90213a26c5da77"
   }
  }
 },
 "nbformat": 4,
 "nbformat_minor": 2
}
