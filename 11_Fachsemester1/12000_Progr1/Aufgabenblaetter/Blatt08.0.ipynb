{
 "cells": [
  {
   "attachments": {},
   "cell_type": "markdown",
   "metadata": {},
   "source": [
    "Aufgabe 8.0\n",
    "Verwenden Sie zur Programmierung der Funktionen isReflexive, isSymmetricund isTransitive\n",
    "ausschließlich Pythons List Comprehension und die all oder any-Funktion."
   ]
  },
  {
   "attachments": {},
   "cell_type": "markdown",
   "metadata": {},
   "source": [
    "(a) Schreiben Sie eine Python-Funktion isReflexive, die als erstes Argument eine Grundmenge (in Form einer Liste) und als zweites Argument eine Relation über dieser Grundmenge erhält und testet, ob die gegebene Relation reflexiv ist."
   ]
  },
  {
   "cell_type": "code",
   "execution_count": null,
   "metadata": {},
   "outputs": [],
   "source": [
    "def isReflexive(grundmenge, relation):\n",
    "    pass\n",
    "def isSymmetric(grundmenge, relation):\n",
    "    pass\n",
    "def isTransitive(grundmenge, relation):\n",
    "    pass\n"
   ]
  }
 ],
 "metadata": {
  "kernelspec": {
   "display_name": "Python 3",
   "language": "python",
   "name": "python3"
  },
  "language_info": {
   "name": "python",
   "version": "3.10.5 (tags/v3.10.5:f377153, Jun  6 2022, 16:14:13) [MSC v.1929 64 bit (AMD64)]"
  },
  "orig_nbformat": 4,
  "vscode": {
   "interpreter": {
    "hash": "26de051ba29f2982a8de78e945f0abaf191376122a1563185a90213a26c5da77"
   }
  }
 },
 "nbformat": 4,
 "nbformat_minor": 2
}
