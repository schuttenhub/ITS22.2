{
 "cells": [
  {
   "cell_type": "markdown",
   "metadata": {},
   "source": [
    "Aufgabe 2.0\n",
    "Schreiben Sie eine Funktion, die keine Argumente ubergeben bekommt, aber einen String vom\n",
    "Benutzer einliest. Immer dann, wenn dieser String mit dem Buchstaben ’A’ beginnt, soll die\n",
    "Benutzereingabe so zurueckgeliefert werden, dass dieser mit einem ’a’ ersetzt wird. In allen\n",
    "anderen F¨allen, soll die Benutzereingabe unver¨andert zurueckgeliefert werden."
   ]
  },
  {
   "cell_type": "code",
   "execution_count": 19,
   "metadata": {},
   "outputs": [
    {
     "name": "stdout",
     "output_type": "stream",
     "text": [
      "abAer\n"
     ]
    }
   ],
   "source": [
    "#Aufgabe 2.0\n",
    "def the_caps_finder():\n",
    "    '''replaces the first letter if upper A, to lower a'''\n",
    "    eingabe = str(input(\"Bitte Text eingeben: \"))\n",
    "    if (eingabe[0] == 'A'):\n",
    "        eingabe = eingabe.replace('A', 'a', 1)\n",
    "        return eingabe\n",
    "    return eingabe\n",
    "\n",
    "print(the_caps_finder())"
   ]
  },
  {
   "cell_type": "markdown",
   "metadata": {},
   "source": [
    "Aufgabe 2.1\n",
    "Für die Implementierung der folgenden Spiele müssen sie vermutlich die Funktion randint der Klasse random verwenden, die sie etwa über \"from random import randint\" einbinden können."
   ]
  },
  {
   "cell_type": "markdown",
   "metadata": {},
   "source": [
    "(a) Schreiben sie eine Funktion ratespiel(n), die eine zufällige Zahl zwischen 0 und n erzeugt und den Benutzer so oft interaktiv raten lässt, bis er die Zahl erraten hat. Nach jedem Rateversuch, den der Benutzer über die Tastatur eingeben soll, muss die Funktion als Rückmeldung entweder ’zu gross’, ’zu klein’ oder ’richtig’ auf dem Bildschirm ausgeben. Sobald der Benutzer die Zahl richtig erraten hat, soll die Funktion beendet werden und die Anzahl der Rateversuche als Integer-Zahl zurückliefern."
   ]
  },
  {
   "cell_type": "code",
   "execution_count": null,
   "metadata": {},
   "outputs": [],
   "source": [
    "#Aufgabe 2.1 a)\n",
    "from random import randint\n",
    "from parso import parse\n",
    "\n",
    "n = randint(0,9)\n",
    "\n",
    "def ratespiel(n):\n",
    "    print(\"Willkommen zum Zahlenratespiel. Errate die Zahl, die sich der Computer ausgedacht hat.\\n\")\n",
    "    tries = 1\n",
    "    zahl = int(input(\"Rate die gesuchte Zahl: \"))\n",
    "    while zahl != n:\n",
    "\n",
    "        if zahl < n:\n",
    "            print(zahl,\"war zu klein\")\n",
    "        elif zahl > n:\n",
    "            print(zahl,\" war zu gross\")\n",
    "        tries += 1\n",
    "\n",
    "        try:\n",
    "            zahl = int(input(\"Versuchs nochmal ;) \"))\n",
    "        except: parse\n",
    "\n",
    "    if zahl == n:\n",
    "        print(\"Herzlichen Glückwunsch! Du hast die Zahl erraten!!!\")\n",
    "        return tries\n",
    "\n",
    "tries = ratespiel(n)\n",
    "print(\"Du hast\",tries,\" Versuche gebraucht\")\n",
    "\n"
   ]
  },
  {
   "cell_type": "markdown",
   "metadata": {},
   "source": [
    "(b) Nun drehen wir den Spieß um und schreiben eine Funktion rate(n), die eine von uns zufällig gewählte Zahl zwischen 0 und n errät. Jedesmal, wenn die Funktion eine Zahl rät, müssen sie entweder ’zu gross’, ’zu klein’ oder ’richtig’ tippen; anschließend soll die Funktion erneut raten usw. bis die richtige Lösung gefunden ist. Versuchen Sie die Funktion möglichst optimal arbeiten zu lassen, so dass sie möglichst wenig Schritte benötigt (das heißt insbesondere: nicht ”wild“ raten, sondern systematisch und das ganze in möglichst wenig Schritten)."
   ]
  },
  {
   "cell_type": "code",
   "execution_count": null,
   "metadata": {},
   "outputs": [],
   "source": [
    "from random import randint\n",
    "limit = int(input(\"Bitte gib einen Zahlenbereich an indem nach der Zahl gesucht werden soll: \"))\n",
    "n = int(input(\"Gib eine beliebige Zahl zwischen 0 und deinem Limit ein, die der Computer erraten muss: \"))\n",
    "\n",
    "def rate(n,limit):\n",
    "    '''Input: number to search, limit, ->  Output: searched number, number of tries'''\n",
    "    tries = 1\n",
    "    guess = randint(0,limit)\n",
    "    min_guess = 0\n",
    "    max_guess = limit\n",
    "    while guess != n:\n",
    "        if guess < n:\n",
    "            print(guess, \" zu klein\")\n",
    "            min_guess = guess\n",
    "            diff = (int((max_guess - min_guess) / 2))\n",
    "            guess = guess + diff\n",
    "        elif guess > n:\n",
    "            print(guess, \" zu groß\")\n",
    "            max_guess = guess\n",
    "            guess = guess - (int((max_guess - min_guess) / 2))\n",
    "        tries = tries + 1\n",
    "    if guess == n:\n",
    "        print(f\"{guess} ist richtig\")\n",
    "        return guess, tries\n",
    "\n",
    "guess, tries = rate(n,limit)\n",
    "print(\"Zahl ist: \",guess, \" in \",tries, \" Versuchen\")"
   ]
  }
 ],
 "metadata": {
  "kernelspec": {
   "display_name": "Python 3.10.7 64-bit",
   "language": "python",
   "name": "python3"
  },
  "language_info": {
   "codemirror_mode": {
    "name": "ipython",
    "version": 3
   },
   "file_extension": ".py",
   "mimetype": "text/x-python",
   "name": "python",
   "nbconvert_exporter": "python",
   "pygments_lexer": "ipython3",
   "version": "3.10.7"
  },
  "orig_nbformat": 4,
  "vscode": {
   "interpreter": {
    "hash": "26de051ba29f2982a8de78e945f0abaf191376122a1563185a90213a26c5da77"
   }
  }
 },
 "nbformat": 4,
 "nbformat_minor": 2
}
