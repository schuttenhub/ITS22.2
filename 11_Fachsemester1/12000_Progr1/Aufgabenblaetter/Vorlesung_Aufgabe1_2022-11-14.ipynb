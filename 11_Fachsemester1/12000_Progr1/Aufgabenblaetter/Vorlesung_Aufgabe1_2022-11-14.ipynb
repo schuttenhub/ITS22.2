{
 "cells": [
  {
   "cell_type": "code",
   "execution_count": 32,
   "metadata": {},
   "outputs": [],
   "source": [
    "class Auto:\n",
    "    def __init__(self):\n",
    "        self.fahren_counter = 0\n",
    "        pass\n",
    "\n",
    "    def faehrt(self):\n",
    "        self.fahren_counter += 1\n",
    "        if self.fahren_counter <=3:\n",
    "            return \"Auto faehrt\"\n",
    "        return \"Auto ist kaputt\"\n",
    "\n",
    "    def reparieren(self):\n",
    "        self.fahren = 0\n",
    "        return \"Auto ist repariert\"\n",
    "\n",
    "    def kaputt(self):\n",
    "        return True if self.fahren_counter > 3 else False"
   ]
  },
  {
   "cell_type": "code",
   "execution_count": 14,
   "metadata": {},
   "outputs": [],
   "source": [
    "auto = Auto()\n"
   ]
  },
  {
   "cell_type": "code",
   "execution_count": 37,
   "metadata": {},
   "outputs": [],
   "source": [
    "auto.kaputt()"
   ]
  }
 ],
 "metadata": {
  "kernelspec": {
   "display_name": "Python 3.10.7 64-bit",
   "language": "python",
   "name": "python3"
  },
  "language_info": {
   "codemirror_mode": {
    "name": "ipython",
    "version": 3
   },
   "file_extension": ".py",
   "mimetype": "text/x-python",
   "name": "python",
   "nbconvert_exporter": "python",
   "pygments_lexer": "ipython3",
   "version": "3.10.7"
  },
  "orig_nbformat": 4,
  "vscode": {
   "interpreter": {
    "hash": "26de051ba29f2982a8de78e945f0abaf191376122a1563185a90213a26c5da77"
   }
  }
 },
 "nbformat": 4,
 "nbformat_minor": 2
}
