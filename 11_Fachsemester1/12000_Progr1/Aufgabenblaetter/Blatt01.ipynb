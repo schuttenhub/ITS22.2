{
 "cells": [
  {
   "cell_type": "markdown",
   "metadata": {},
   "source": [
    "Aufgabe 1 a)"
   ]
  },
  {
   "cell_type": "code",
   "execution_count": null,
   "metadata": {},
   "outputs": [],
   "source": [
    "1000 * 12"
   ]
  },
  {
   "cell_type": "markdown",
   "metadata": {},
   "source": [
    "Aufgabe 1 b)"
   ]
  },
  {
   "cell_type": "code",
   "execution_count": null,
   "metadata": {},
   "outputs": [],
   "source": [
    "2 * (8921 - 2348 + 123) - 400"
   ]
  },
  {
   "cell_type": "markdown",
   "metadata": {},
   "source": [
    "Aufgabe 1 c)"
   ]
  },
  {
   "cell_type": "code",
   "execution_count": null,
   "metadata": {},
   "outputs": [],
   "source": [
    "123**456"
   ]
  },
  {
   "cell_type": "markdown",
   "metadata": {},
   "source": [
    "Aufgabe 1 d)"
   ]
  },
  {
   "cell_type": "code",
   "execution_count": null,
   "metadata": {},
   "outputs": [],
   "source": [
    "((12**3+13**4)**(1/2)) / ((2)**(1/2))"
   ]
  },
  {
   "cell_type": "markdown",
   "metadata": {},
   "source": [
    "Aufgabe 1 e)"
   ]
  },
  {
   "cell_type": "code",
   "execution_count": null,
   "metadata": {},
   "outputs": [],
   "source": [
    "2**(2**17)\n",
    "#Exceeds the limit (4300) for integer string conversion"
   ]
  },
  {
   "cell_type": "markdown",
   "metadata": {},
   "source": [
    "Aufgabe 1 f)"
   ]
  },
  {
   "cell_type": "code",
   "execution_count": null,
   "metadata": {},
   "outputs": [],
   "source": [
    "len(str(2**(2**17)))\n",
    "\n",
    "#ValueError: Exceeds the limit (4300) for integer string conversion\n",
    "#Hat auch schonmal funktioniert... weiß nicht, was sich geändert hat"
   ]
  },
  {
   "cell_type": "markdown",
   "metadata": {},
   "source": [
    "Aufgabe 1 g)"
   ]
  },
  {
   "cell_type": "code",
   "execution_count": null,
   "metadata": {},
   "outputs": [],
   "source": [
    "str(2**10000)[41]"
   ]
  },
  {
   "cell_type": "markdown",
   "metadata": {},
   "source": [
    "Aufgabe 1 h)"
   ]
  },
  {
   "cell_type": "code",
   "execution_count": null,
   "metadata": {},
   "outputs": [],
   "source": [
    "str(2**10000).count(\"4\")\n"
   ]
  },
  {
   "cell_type": "markdown",
   "metadata": {},
   "source": [
    "Aufgabe 1 i) ... ob die 1000-te Ziffer der Zahl 2^10000 eine 1 oder eine 3 ist."
   ]
  },
  {
   "cell_type": "code",
   "execution_count": null,
   "metadata": {},
   "outputs": [],
   "source": [
    "(str(2**10000)[999] == '1') or (str(2**10000)[999] == '3')\n",
    "\n",
    "#var = str(2**10000)[999]\n",
    "#if var == \"1\" or var == \"3\": \n",
    "#    print(var)\n",
    "#    print(\"Ist eine 1 oder eine 3\")\n",
    "#else:\n",
    "#    print(var)\n",
    "#    print(\"Ist keine 1 oder eine 3\") "
   ]
  },
  {
   "cell_type": "markdown",
   "metadata": {},
   "source": [
    "Aufgabe 1 j) ... ob die 1000-te Ziffer und die 2000-te Ziffer der Zahl 210 000 eine 1 oder eine 3 ist."
   ]
  },
  {
   "cell_type": "code",
   "execution_count": null,
   "metadata": {},
   "outputs": [],
   "source": [
    "var1000 = str(2**10000)[999]\n",
    "var2000 = str(2**10000)[1999]\n",
    "(var1000 == 1) or (var1000 == 3) and (var2000 == 1) or (var2000 == 3)\n",
    "\n",
    "#var1000 = str(2**10000)[999]\n",
    "#var2000 = str(2**10000)[1999]\n",
    "#\n",
    "#if (var1000 == 1) or (var1000 == 3) and (var2000 == 1) or (var2000 == 3):\n",
    "#    print(var1000, var2000)\n",
    "#    print(\"Ist eine 1 oder eine 3\")\n",
    "#else:\n",
    "#    print(var1000, var2000)\n",
    "#    print(\"Ist keine 1 oder eine 3\") "
   ]
  },
  {
   "cell_type": "markdown",
   "metadata": {},
   "source": [
    "Aufgabe 1 k)"
   ]
  },
  {
   "cell_type": "code",
   "execution_count": null,
   "metadata": {},
   "outputs": [],
   "source": [
    "(2+5j)**((-1)+2j)\n"
   ]
  },
  {
   "cell_type": "markdown",
   "metadata": {},
   "source": [
    "Aufgabe 1 l)"
   ]
  },
  {
   "cell_type": "code",
   "execution_count": null,
   "metadata": {},
   "outputs": [],
   "source": [
    "(0+1j)**(0+1j)"
   ]
  },
  {
   "cell_type": "markdown",
   "metadata": {},
   "source": [
    "Aufgabe 1 m)"
   ]
  },
  {
   "cell_type": "code",
   "execution_count": null,
   "metadata": {},
   "outputs": [],
   "source": [
    "from math import sqrt\n",
    "var1 = sqrt(int(input(\"Bitte Zahl eingeben: \")))\n",
    "var2 = int(var1)\n",
    "if var1 == var2: print (\"Ist eine Quadratzahl\")\n",
    "else: print (\"Ist keine Quadratzahl\")\n",
    "\n",
    "#Alternativ der Einzeiler:\n",
    "#if( (345744**(1/2)) == int(345744**(1/2))  ): print(\"Ist eine Quadratzahl\")"
   ]
  },
  {
   "cell_type": "markdown",
   "metadata": {},
   "source": [
    "Aufgabe 1.1"
   ]
  },
  {
   "cell_type": "code",
   "execution_count": null,
   "metadata": {},
   "outputs": [],
   "source": [
    "def sortierer(liste):                   # Definition der Funktion \"sortierer\"\n",
    "    '''Input: int(Liste) -> Output: Summe der beiden größen Zahlen'''\n",
    "    liste = sorted(liste)[::-1]   \n",
    "    ergebnis = liste[0] + liste[1]\n",
    "    return ergebnis\n",
    "\n",
    "# Zuweisung der Variablen\n",
    "x = int(input(\"Zahl 1 eingeben: \"))\n",
    "y = int(input(\"Zahl 2 eingeben: \"))\n",
    "z = int(input(\"Zahl 3 eingeben: \"))\n",
    "liste = [x, y, z]                       # Variablen in Liste packen\n",
    "\n",
    "print(sortierer(liste))                 # Funktion aufrufen"
   ]
  }
 ],
 "metadata": {
  "kernelspec": {
   "display_name": "Python 3.10.7 64-bit",
   "language": "python",
   "name": "python3"
  },
  "language_info": {
   "codemirror_mode": {
    "name": "ipython",
    "version": 3
   },
   "file_extension": ".py",
   "mimetype": "text/x-python",
   "name": "python",
   "nbconvert_exporter": "python",
   "pygments_lexer": "ipython3",
   "version": "3.10.3 (tags/v3.10.3:a342a49, Mar 16 2022, 13:07:40) [MSC v.1929 64 bit (AMD64)]"
  },
  "orig_nbformat": 4,
  "vscode": {
   "interpreter": {
    "hash": "26de051ba29f2982a8de78e945f0abaf191376122a1563185a90213a26c5da77"
   }
  }
 },
 "nbformat": 4,
 "nbformat_minor": 2
}
