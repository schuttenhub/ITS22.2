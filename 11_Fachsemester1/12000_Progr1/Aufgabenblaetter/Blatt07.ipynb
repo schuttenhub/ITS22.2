{
 "cells": [
  {
   "cell_type": "code",
   "execution_count": 129,
   "metadata": {},
   "outputs": [],
   "source": [
    "class Graph:\n",
    "    def __init__(self):\n",
    "        self.node_dict = {}\n",
    "    def __repr__(self):\n",
    "        return str(self.node_dict)\n",
    "    \n",
    "    def add_node(self, nodename):\n",
    "        self.node_dict[nodename] = []\n",
    "        \n",
    "    def add_edge(self, source_node, dest_node):\n",
    "        if dest_node in self.node_dict.keys():           \n",
    "            d_node_list = self.node_dict.get(source_node)\n",
    "            d_node_list.append(dest_node)\n",
    "            self.node_dict.update({source_node: d_node_list})\n",
    "    \n",
    "    def V(self):\n",
    "        return list(self.node_dict.keys())\n",
    "    \n",
    "    \n",
    "        \n",
    "\n",
    "g = Graph()\n",
    "\n",
    "\n",
    "\n",
    "#Graph: Das ganze (Klasse)\n",
    "#Knoten: Dictionary mit Name(key) und Liste mit Knoten(value)\n",
    "#add_node()\n",
    "#add_edge()\n",
    "#V()\n"
   ]
  },
  {
   "cell_type": "code",
   "execution_count": 131,
   "metadata": {},
   "outputs": [],
   "source": [
    "g.add_node(\"node1\")\n",
    "g.add_node(\"node2\")\n",
    "g.add_node(\"node3\")\n",
    "g.add_edge(\"node1\", \"node3\")\n",
    "g.add_edge(\"node1\", \"node2\")\n",
    "g.add_edge(\"node2\", \"node1\")\n",
    "g.add_edge(\"node2\", \"node3\")\n",
    "g.add_edge(\"node2\", \"node2\")\n",
    "g.add_edge(\"node1\", \"SSIO\")"
   ]
  },
  {
   "cell_type": "code",
   "execution_count": 125,
   "metadata": {},
   "outputs": [
    {
     "data": {
      "text/plain": [
       "{'node1': ['node3', 'node2'], 'node2': ['node1', 'node3', 'node2'], 'node3': []}"
      ]
     },
     "execution_count": 125,
     "metadata": {},
     "output_type": "execute_result"
    }
   ],
   "source": [
    "g"
   ]
  },
  {
   "cell_type": "code",
   "execution_count": 132,
   "metadata": {},
   "outputs": [
    {
     "data": {
      "text/plain": [
       "['node1', 'node2', 'node3']"
      ]
     },
     "execution_count": 132,
     "metadata": {},
     "output_type": "execute_result"
    }
   ],
   "source": [
    "g.V()"
   ]
  },
  {
   "cell_type": "code",
   "execution_count": null,
   "metadata": {},
   "outputs": [],
   "source": [
    "help(dict.get)"
   ]
  }
 ],
 "metadata": {
  "kernelspec": {
   "display_name": "Python 3.10.7 64-bit",
   "language": "python",
   "name": "python3"
  },
  "language_info": {
   "codemirror_mode": {
    "name": "ipython",
    "version": 3
   },
   "file_extension": ".py",
   "mimetype": "text/x-python",
   "name": "python",
   "nbconvert_exporter": "python",
   "pygments_lexer": "ipython3",
   "version": "3.10.7"
  },
  "orig_nbformat": 4,
  "vscode": {
   "interpreter": {
    "hash": "26de051ba29f2982a8de78e945f0abaf191376122a1563185a90213a26c5da77"
   }
  }
 },
 "nbformat": 4,
 "nbformat_minor": 2
}
