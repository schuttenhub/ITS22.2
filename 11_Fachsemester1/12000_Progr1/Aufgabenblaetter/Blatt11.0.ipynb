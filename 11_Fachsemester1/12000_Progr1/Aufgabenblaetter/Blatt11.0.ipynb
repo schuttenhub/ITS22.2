{
 "cells": [
  {
   "cell_type": "code",
   "execution_count": 108,
   "metadata": {},
   "outputs": [],
   "source": [
    "import os\n",
    "cwd = fr'{os.getcwd()}\\Aufgabe11'"
   ]
  },
  {
   "cell_type": "code",
   "execution_count": 109,
   "metadata": {},
   "outputs": [
    {
     "data": {
      "text/plain": [
       "['aufg.tex']"
      ]
     },
     "execution_count": 109,
     "metadata": {},
     "output_type": "execute_result"
    }
   ],
   "source": [
    "#11.0 a)\n",
    "[file for dirpath,dirname,filename in os.walk(cwd)\n",
    "    for file in filename\n",
    "        if '.tex' in file\n",
    "            if 'aufg' in file\n",
    "]"
   ]
  },
  {
   "cell_type": "code",
   "execution_count": 110,
   "metadata": {},
   "outputs": [
    {
     "data": {
      "text/plain": [
       "['a-11-0-b.tex']"
      ]
     },
     "execution_count": 110,
     "metadata": {},
     "output_type": "execute_result"
    }
   ],
   "source": [
    "#11.0 b)\n",
    "[file for dirpath,dirname,filename in os.walk(cwd)\n",
    "    for file in filename\n",
    "        if '.tex' in file\n",
    "            if (len(\n",
    "                    [True for lines in open(fr'Aufgabe11\\{file}').readlines()\n",
    "                        if len(lines)<=2\n",
    "                    ] \n",
    "                ) >=100 \n",
    "            )\n",
    "]"
   ]
  },
  {
   "cell_type": "code",
   "execution_count": 111,
   "metadata": {},
   "outputs": [
    {
     "data": {
      "text/plain": [
       "['a11-0-c.tex', 'a11-0-d.tex']"
      ]
     },
     "execution_count": 111,
     "metadata": {},
     "output_type": "execute_result"
    }
   ],
   "source": [
    "#11.0 c)\n",
    "[file for dirpath,dirname,filename in os.walk(cwd)\n",
    "    for file in filename\n",
    "        if '.tex' in file\n",
    "            if (\n",
    "                len([\n",
    "                    True for text in open(fr\"Aufgabe11\\{file}\").read()\n",
    "                        for word in text\n",
    "                            if word[0] in 'aeiou'\n",
    "                ]) >=3000\n",
    "            )\n",
    "]"
   ]
  },
  {
   "cell_type": "code",
   "execution_count": 112,
   "metadata": {},
   "outputs": [
    {
     "data": {
      "text/plain": [
       "['a11-0-c.tex', 'a11-0-d.tex']"
      ]
     },
     "execution_count": 112,
     "metadata": {},
     "output_type": "execute_result"
    }
   ],
   "source": [
    "#11.0 d)\n",
    "[\n",
    "    file for dirpath,dirname,filename in os.walk(cwd)\n",
    "        for file in filename\n",
    "            if '.tex' in file\n",
    "                if (\n",
    "                    any(\n",
    "                        [\n",
    "                            True if len(line)>=30 else False\n",
    "                            for line in open(fr\"Aufgabe11\\{file}\").readlines()\n",
    "                        ]\n",
    "                    )\n",
    "                )\n",
    "]"
   ]
  },
  {
   "cell_type": "code",
   "execution_count": 113,
   "metadata": {},
   "outputs": [
    {
     "ename": "UnicodeDecodeError",
     "evalue": "'charmap' codec can't decode byte 0x9d in position 132: character maps to <undefined>",
     "output_type": "error",
     "traceback": [
      "\u001b[1;31m---------------------------------------------------------------------------\u001b[0m",
      "\u001b[1;31mUnicodeDecodeError\u001b[0m                        Traceback (most recent call last)",
      "Cell \u001b[1;32mIn [113], line 2\u001b[0m\n\u001b[0;32m      1\u001b[0m \u001b[39m#11.0 e)\u001b[39;00m\n\u001b[1;32m----> 2\u001b[0m \u001b[39mmax\u001b[39m([\n\u001b[0;32m      3\u001b[0m     \u001b[39mmax\u001b[39m([(\u001b[39mlen\u001b[39m(word),word) \u001b[39mfor\u001b[39;00m line \u001b[39min\u001b[39;00m \u001b[39mopen\u001b[39m(\u001b[39mfr\u001b[39m\u001b[39m\"\u001b[39m\u001b[39mAufgabe11\u001b[39m\u001b[39m\\\u001b[39m\u001b[39m{\u001b[39;00mfile\u001b[39m}\u001b[39;00m\u001b[39m\"\u001b[39m)\u001b[39m.\u001b[39mreadlines() \u001b[39mfor\u001b[39;00m word \u001b[39min\u001b[39;00m line\u001b[39m.\u001b[39msplit()])\n\u001b[0;32m      4\u001b[0m     \u001b[39mfor\u001b[39;00m dirpath,dirname,filename \u001b[39min\u001b[39;00m os\u001b[39m.\u001b[39mwalk(cwd)\n\u001b[0;32m      5\u001b[0m         \u001b[39mfor\u001b[39;00m file \u001b[39min\u001b[39;00m filename\n\u001b[0;32m      6\u001b[0m ])[:\u001b[39m10\u001b[39m]\n\u001b[0;32m      7\u001b[0m \u001b[39m#Läuft nicht, weil:\u001b[39;00m\n\u001b[0;32m      8\u001b[0m \u001b[39m#UnicodeDecodeError: 'charmap' codec can't decode byte 0x9d in position 132: character maps to <undefined>\u001b[39;00m\n",
      "Cell \u001b[1;32mIn [113], line 3\u001b[0m, in \u001b[0;36m<listcomp>\u001b[1;34m(.0)\u001b[0m\n\u001b[0;32m      1\u001b[0m \u001b[39m#11.0 e)\u001b[39;00m\n\u001b[0;32m      2\u001b[0m \u001b[39mmax\u001b[39m([\n\u001b[1;32m----> 3\u001b[0m     \u001b[39mmax\u001b[39m([(\u001b[39mlen\u001b[39m(word),word) \u001b[39mfor\u001b[39;00m line \u001b[39min\u001b[39;00m \u001b[39mopen\u001b[39;49m(\u001b[39mfr\u001b[39;49m\u001b[39m\"\u001b[39;49m\u001b[39mAufgabe11\u001b[39;49m\u001b[39m\\\u001b[39;49m\u001b[39m{\u001b[39;49;00mfile\u001b[39m}\u001b[39;49;00m\u001b[39m\"\u001b[39;49m)\u001b[39m.\u001b[39;49mreadlines() \u001b[39mfor\u001b[39;00m word \u001b[39min\u001b[39;00m line\u001b[39m.\u001b[39msplit()])\n\u001b[0;32m      4\u001b[0m     \u001b[39mfor\u001b[39;00m dirpath,dirname,filename \u001b[39min\u001b[39;00m os\u001b[39m.\u001b[39mwalk(cwd)\n\u001b[0;32m      5\u001b[0m         \u001b[39mfor\u001b[39;00m file \u001b[39min\u001b[39;00m filename\n\u001b[0;32m      6\u001b[0m ])[:\u001b[39m10\u001b[39m]\n\u001b[0;32m      7\u001b[0m \u001b[39m#Läuft nicht, weil:\u001b[39;00m\n\u001b[0;32m      8\u001b[0m \u001b[39m#UnicodeDecodeError: 'charmap' codec can't decode byte 0x9d in position 132: character maps to <undefined>\u001b[39;00m\n",
      "File \u001b[1;32mc:\\Program Files\\Python310\\lib\\encodings\\cp1252.py:23\u001b[0m, in \u001b[0;36mIncrementalDecoder.decode\u001b[1;34m(self, input, final)\u001b[0m\n\u001b[0;32m     22\u001b[0m \u001b[39mdef\u001b[39;00m \u001b[39mdecode\u001b[39m(\u001b[39mself\u001b[39m, \u001b[39minput\u001b[39m, final\u001b[39m=\u001b[39m\u001b[39mFalse\u001b[39;00m):\n\u001b[1;32m---> 23\u001b[0m     \u001b[39mreturn\u001b[39;00m codecs\u001b[39m.\u001b[39;49mcharmap_decode(\u001b[39minput\u001b[39;49m,\u001b[39mself\u001b[39;49m\u001b[39m.\u001b[39;49merrors,decoding_table)[\u001b[39m0\u001b[39m]\n",
      "\u001b[1;31mUnicodeDecodeError\u001b[0m: 'charmap' codec can't decode byte 0x9d in position 132: character maps to <undefined>"
     ]
    }
   ],
   "source": [
    "#11.0 e)\n",
    "max([\n",
    "    max([(len(word),word) for line in open(fr\"Aufgabe11\\{file}\").readlines() for word in line.split()])\n",
    "    for dirpath,dirname,filename in os.walk(cwd)\n",
    "        for file in filename\n",
    "])[:10]\n",
    "#Läuft nicht, weil:\n",
    "#UnicodeDecodeError: 'charmap' codec can't decode byte 0x9d in position 132: character maps to <undefined>"
   ]
  }
 ],
 "metadata": {
  "kernelspec": {
   "display_name": "Python 3",
   "language": "python",
   "name": "python3"
  },
  "language_info": {
   "codemirror_mode": {
    "name": "ipython",
    "version": 3
   },
   "file_extension": ".py",
   "mimetype": "text/x-python",
   "name": "python",
   "nbconvert_exporter": "python",
   "pygments_lexer": "ipython3",
   "version": "3.10.3"
  },
  "orig_nbformat": 4,
  "vscode": {
   "interpreter": {
    "hash": "26de051ba29f2982a8de78e945f0abaf191376122a1563185a90213a26c5da77"
   }
  }
 },
 "nbformat": 4,
 "nbformat_minor": 2
}
