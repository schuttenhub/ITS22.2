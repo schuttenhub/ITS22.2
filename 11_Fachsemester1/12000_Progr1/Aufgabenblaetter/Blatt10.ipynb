{
 "cells": [
  {
   "cell_type": "code",
   "execution_count": 25,
   "metadata": {},
   "outputs": [
    {
     "ename": "AttributeError",
     "evalue": "'list' object has no attribute 'iter'",
     "output_type": "error",
     "traceback": [
      "\u001b[1;31m---------------------------------------------------------------------------\u001b[0m",
      "\u001b[1;31mAttributeError\u001b[0m                            Traceback (most recent call last)",
      "Cell \u001b[1;32mIn [25], line 4\u001b[0m\n\u001b[0;32m      1\u001b[0m \u001b[39mfrom\u001b[39;00m \u001b[39mfunctools\u001b[39;00m \u001b[39mimport\u001b[39;00m reduce\n\u001b[0;32m      2\u001b[0m liste \u001b[39m=\u001b[39m [(\u001b[39m1\u001b[39m,\u001b[39m10\u001b[39m),(\u001b[39m'\u001b[39m\u001b[39ma\u001b[39m\u001b[39m'\u001b[39m,\u001b[39m'\u001b[39m\u001b[39mb\u001b[39m\u001b[39m'\u001b[39m,\u001b[39m'\u001b[39m\u001b[39mc\u001b[39m\u001b[39m'\u001b[39m),([\u001b[39m1\u001b[39m],[\u001b[39m2\u001b[39m])]\n\u001b[1;32m----> 4\u001b[0m reduce(liste\u001b[39m.\u001b[39;49m \u001b[39miter\u001b[39;49m(liste))\n",
      "\u001b[1;31mAttributeError\u001b[0m: 'list' object has no attribute 'iter'"
     ]
    }
   ],
   "source": [
    "from functools import reduce\n",
    "liste = [(1,10),('a','b'),([1],[2])]\n",
    "\n",
    "def liste_flach(val_1,val_2):\n",
    "    return [(x,y) for x,y in  ]\n",
    "\n",
    "reduce(liste. iter(liste))"
   ]
  },
  {
   "cell_type": "code",
   "execution_count": null,
   "metadata": {},
   "outputs": [],
   "source": [
    "help(iter)"
   ]
  },
  {
   "cell_type": "code",
   "execution_count": 23,
   "metadata": {},
   "outputs": [
    {
     "name": "stdout",
     "output_type": "stream",
     "text": [
      "hello world <str_iterator object at 0x0000020615086CB0>\n"
     ]
    }
   ],
   "source": [
    "test_string=\"hello world\"\n",
    "print(test_string, iter(test_string))"
   ]
  }
 ],
 "metadata": {
  "kernelspec": {
   "display_name": "Python 3",
   "language": "python",
   "name": "python3"
  },
  "language_info": {
   "codemirror_mode": {
    "name": "ipython",
    "version": 3
   },
   "file_extension": ".py",
   "mimetype": "text/x-python",
   "name": "python",
   "nbconvert_exporter": "python",
   "pygments_lexer": "ipython3",
   "version": "3.10.3 (tags/v3.10.3:a342a49, Mar 16 2022, 13:07:40) [MSC v.1929 64 bit (AMD64)]"
  },
  "orig_nbformat": 4,
  "vscode": {
   "interpreter": {
    "hash": "26de051ba29f2982a8de78e945f0abaf191376122a1563185a90213a26c5da77"
   }
  }
 },
 "nbformat": 4,
 "nbformat_minor": 2
}
