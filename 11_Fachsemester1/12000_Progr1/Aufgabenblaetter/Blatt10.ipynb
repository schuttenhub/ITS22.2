{
 "cells": [
  {
   "cell_type": "code",
   "execution_count": null,
   "metadata": {},
   "outputs": [],
   "source": [
    "#Aufgabe 10.0 a)\n",
    "from functools import reduce\n",
    "from os import listdir\n",
    "liste = [(1,10),('a','b'),([1],[2])]\n",
    "list(reduce(lambda x,y:x+y,liste))"
   ]
  },
  {
   "cell_type": "code",
   "execution_count": null,
   "metadata": {},
   "outputs": [],
   "source": [
    "#Aufgabe 10.0 b)\n",
    "liste = [1,2,3,4,3,4567,4123,3456,123,5,90,35467,45,67,456,7,23,45,2345,23,45]\n",
    "def maxElement(liste):\n",
    "    return reduce(lambda x,y: max(x,y), liste)\n",
    "\n",
    "maxElement(liste)"
   ]
  },
  {
   "cell_type": "code",
   "execution_count": null,
   "metadata": {},
   "outputs": [],
   "source": [
    "#Aufgabe 10.0 c)\n",
    "tri_zahl = 1201\n",
    "reduce(lambda x,y: int(x)*3 + int(y) ,str(tri_zahl))"
   ]
  },
  {
   "cell_type": "code",
   "execution_count": null,
   "metadata": {},
   "outputs": [],
   "source": [
    "#Aufgabe 10.1 a)\n",
    "[len(zeile) for zeile in open(\"Test.txt\").readlines()]"
   ]
  },
  {
   "cell_type": "code",
   "execution_count": null,
   "metadata": {},
   "outputs": [],
   "source": [
    "#Aufgabe 10.1 b)\n",
    "[zeile for index,zeile in enumerate(open(\"Test.txt\").readlines()) if index<3]"
   ]
  },
  {
   "cell_type": "code",
   "execution_count": null,
   "metadata": {},
   "outputs": [],
   "source": [
    "#Aufgabe 10.1 c)\n",
    "[zeile[::-1] for index,zeile in enumerate(open(\"Test.txt\").readlines()) if index<1]"
   ]
  },
  {
   "cell_type": "code",
   "execution_count": null,
   "metadata": {},
   "outputs": [],
   "source": [
    "#Aufgabe 10.1 d)\n",
    "[len(zeile.split()[0]) if zeile.split() != [] else 0 for zeile in open(\"Test.txt\").readlines()]"
   ]
  },
  {
   "cell_type": "code",
   "execution_count": null,
   "metadata": {},
   "outputs": [],
   "source": [
    "#Aufgabe 10.1 e)\n",
    "[zeile for zeile in open(\"Test.txt\").readlines() if zeile[0] == 'A']"
   ]
  },
  {
   "cell_type": "code",
   "execution_count": null,
   "metadata": {},
   "outputs": [],
   "source": [
    "#Aufgabe 10.1 f)\n",
    "[zeile for zeile in open(\"Test.txt\").readlines() for word in zeile.split() if word[0] == 'A' ]\n",
    "#???????????????????????????=?=??"
   ]
  },
  {
   "cell_type": "code",
   "execution_count": null,
   "metadata": {},
   "outputs": [],
   "source": [
    "#Aufgabe 10.1 g)\n",
    "#???"
   ]
  },
  {
   "cell_type": "code",
   "execution_count": null,
   "metadata": {},
   "outputs": [],
   "source": [
    "#Aufgabe 10.1 h)\n",
    "[index for index,zeile in enumerate(open(\"Test.txt\").readlines()) if ' ' not in zeile]"
   ]
  },
  {
   "cell_type": "code",
   "execution_count": null,
   "metadata": {},
   "outputs": [],
   "source": [
    "#Aufgabe 10.1 i)\n",
    "max([(zeile.count('a') + \n",
    "zeile.count('e') + \n",
    "zeile.count('i') +\n",
    "zeile.count('o') +\n",
    "zeile.count('u'), index, zeile) for index,zeile in enumerate(open(\"Test.txt\").readlines())])[2]"
   ]
  },
  {
   "cell_type": "code",
   "execution_count": null,
   "metadata": {},
   "outputs": [],
   "source": [
    "#Aufgabe 10.1 j)\n"
   ]
  },
  {
   "cell_type": "code",
   "execution_count": null,
   "metadata": {},
   "outputs": [],
   "source": [
    "#Aufgabe 10.1 k)\n",
    "[zeile[:2] for zeile in open(\"Test.txt\").readlines()]"
   ]
  },
  {
   "cell_type": "code",
   "execution_count": null,
   "metadata": {},
   "outputs": [],
   "source": [
    "#Aufgabe 10.1 l)\n",
    "len([word for zeile in open(\"Test.txt\").readlines() for word in zeile.split() if len(word)>10])"
   ]
  },
  {
   "cell_type": "code",
   "execution_count": null,
   "metadata": {},
   "outputs": [],
   "source": [
    "#Aufgabe 10.1 m)\n",
    "[filename for filename in listdir() if filename.endswith('.py')]"
   ]
  },
  {
   "cell_type": "code",
   "execution_count": null,
   "metadata": {},
   "outputs": [],
   "source": [
    "#Aufgabe 10.1 n)\n",
    "[filename for filename in listdir() for text in open(filename).readline() if len(text) >= 10]"
   ]
  }
 ],
 "metadata": {
  "kernelspec": {
   "display_name": "Python 3",
   "language": "python",
   "name": "python3"
  },
  "language_info": {
   "codemirror_mode": {
    "name": "ipython",
    "version": 3
   },
   "file_extension": ".py",
   "mimetype": "text/x-python",
   "name": "python",
   "nbconvert_exporter": "python",
   "pygments_lexer": "ipython3",
   "version": "3.10.3 (tags/v3.10.3:a342a49, Mar 16 2022, 13:07:40) [MSC v.1929 64 bit (AMD64)]"
  },
  "orig_nbformat": 4,
  "vscode": {
   "interpreter": {
    "hash": "26de051ba29f2982a8de78e945f0abaf191376122a1563185a90213a26c5da77"
   }
  }
 },
 "nbformat": 4,
 "nbformat_minor": 2
}
