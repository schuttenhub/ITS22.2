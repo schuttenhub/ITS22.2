{
 "cells": [
  {
   "cell_type": "markdown",
   "id": "7da84dda-8b6f-435f-9de3-9bebfc94da9a",
   "metadata": {},
   "source": [
    "# Tutorium 3.Stunde (01.12.2022)"
   ]
  },
  {
   "cell_type": "markdown",
   "id": "7920e9c5-051a-45fb-8771-796ad33011a0",
   "metadata": {},
   "source": [
    "# OOP"
   ]
  },
  {
   "cell_type": "markdown",
   "id": "efc5fe06-10ec-4bb7-b2f2-5d98791f80a3",
   "metadata": {},
   "source": [
    "```python\n",
    "class <id>[(<cls>)]:\n",
    "    <kommando1>\n",
    "    <kommando2>\n",
    "    ...\n",
    "```"
   ]
  },
  {
   "cell_type": "markdown",
   "id": "62021c2b-9fb0-41a0-8d65-95481a2ddbfe",
   "metadata": {},
   "source": [
    "Häufig ist es so, dass sie festlegen / sicherstellen wollen, dass alle Objekte einer bestimmten Klasse bestimmte Attribute haben. Das geht, indem man die \"Spezial\"-Methode `__init__` definiert; diese Methode wird immer automatisch nach Erzeugung eines Objekts ausgeführt."
   ]
  },
  {
   "cell_type": "code",
   "execution_count": 126,
   "id": "1e2da7b6-66a4-4a02-8265-f1534c8792b2",
   "metadata": {},
   "outputs": [],
   "source": [
    "class Bruch: \n",
    "    def __init__(self): \n",
    "        self.zaehler = 1\n",
    "        self.nenner = 1"
   ]
  },
  {
   "cell_type": "code",
   "execution_count": 127,
   "id": "df464805-650f-417c-887d-bba73e1e5b89",
   "metadata": {},
   "outputs": [],
   "source": [
    "b = Bruch()"
   ]
  },
  {
   "cell_type": "code",
   "execution_count": 128,
   "id": "f1898d3f-404a-4700-b0fb-016eed2481d2",
   "metadata": {},
   "outputs": [
    {
     "data": {
      "text/plain": [
       "(1, 1)"
      ]
     },
     "execution_count": 128,
     "metadata": {},
     "output_type": "execute_result"
    }
   ],
   "source": [
    "b.zaehler, b.nenner"
   ]
  },
  {
   "cell_type": "markdown",
   "id": "5c8a37d5-65bc-4bf7-aa64-f5526b9f40ae",
   "metadata": {},
   "source": [
    "### `__init__` mit Parametern"
   ]
  },
  {
   "cell_type": "code",
   "execution_count": 129,
   "id": "ffdf446a-de0c-43b3-93d8-a1d0033c98cc",
   "metadata": {},
   "outputs": [],
   "source": [
    "class Bruch: \n",
    "    def __init__(self, z, n): \n",
    "        self.zaehler = z\n",
    "        self.nenner = n"
   ]
  },
  {
   "cell_type": "code",
   "execution_count": 130,
   "id": "c6686496-8025-4d48-9815-08220b266c5e",
   "metadata": {},
   "outputs": [],
   "source": [
    "b = Bruch(1,3)"
   ]
  },
  {
   "cell_type": "markdown",
   "id": "3254e24a-c2e8-41db-a591-7ec50ba53cb4",
   "metadata": {},
   "source": [
    "## Zusätzliche Methoden"
   ]
  },
  {
   "cell_type": "markdown",
   "id": "6d6db54e-376e-4966-80fa-9168e0e9d1ed",
   "metadata": {},
   "source": [
    "Nun schreiben wir eine Methode `isInt`, die prüft, ob ein Bruch eine natürliche Zahl ist."
   ]
  },
  {
   "cell_type": "code",
   "execution_count": 132,
   "id": "b661adfa-5405-4915-a434-b41fc362f4a5",
   "metadata": {},
   "outputs": [],
   "source": [
    "class Bruch: \n",
    "    def __init__(self, z, n): \n",
    "        self.zaehler = z\n",
    "        self.nenner = n\n",
    "    def isInt(self):\n",
    "        return self.zaehler%self.nenner == 0"
   ]
  },
  {
   "cell_type": "code",
   "execution_count": 133,
   "id": "cc390330-1f36-4d27-a699-9d0f0fe60065",
   "metadata": {},
   "outputs": [],
   "source": [
    "b = Bruch(10,5)"
   ]
  },
  {
   "cell_type": "code",
   "execution_count": 135,
   "id": "e7cac07e-337c-4355-be13-b597d66f8672",
   "metadata": {},
   "outputs": [
    {
     "data": {
      "text/plain": [
       "True"
      ]
     },
     "execution_count": 135,
     "metadata": {},
     "output_type": "execute_result"
    }
   ],
   "source": [
    "b.isInt()"
   ]
  },
  {
   "cell_type": "markdown",
   "id": "fd0c3f3e-64e7-4743-9384-ca3efaefb4e4",
   "metadata": {},
   "source": [
    "Nun wollen wir eine Methode `kehrwert` programmieren, die Zähler und Nenner umdrehen."
   ]
  },
  {
   "cell_type": "code",
   "execution_count": 136,
   "id": "7108c300-4baf-43a1-a2ec-f20af7ceea80",
   "metadata": {},
   "outputs": [],
   "source": [
    "class Bruch: \n",
    "    def __init__(self, z, n): \n",
    "        self.zaehler = z\n",
    "        self.nenner = n\n",
    "        \n",
    "    def kehrwert(self):\n",
    "        self.zaehler , self.nenner = self.nenner , self.zaehler # tauschen\n",
    "        \n",
    "    def isInt(self):\n",
    "        return self.zaehler%self.nenner == 0"
   ]
  },
  {
   "cell_type": "code",
   "execution_count": 137,
   "id": "2e3e1921-464c-4bf7-bcae-a3bf915b8d77",
   "metadata": {},
   "outputs": [],
   "source": [
    "b = Bruch(10,5)\n",
    "b.kehrwert()"
   ]
  },
  {
   "cell_type": "code",
   "execution_count": 138,
   "id": "3d30edb6-22bb-4279-a2c9-37f68524bb7d",
   "metadata": {},
   "outputs": [
    {
     "data": {
      "text/plain": [
       "(5, 10)"
      ]
     },
     "execution_count": 138,
     "metadata": {},
     "output_type": "execute_result"
    }
   ],
   "source": [
    "b.zaehler, b.nenner"
   ]
  },
  {
   "cell_type": "markdown",
   "id": "f899c131-12cf-426b-a08a-05f3e548f5c4",
   "metadata": {},
   "source": [
    "Das war die Variante, dass das Bruch-Objekt selbst verändert wurde; denkbar wäre auch, dass das Objket nicht verändert wird, sondern neues Objekt zurückgeliefert werden."
   ]
  },
  {
   "cell_type": "code",
   "execution_count": 139,
   "id": "20a0cc4d-398e-414b-9551-59562dd297fe",
   "metadata": {},
   "outputs": [],
   "source": [
    "class Bruch: \n",
    "    def __init__(self, z, n): \n",
    "        self.zaehler = z\n",
    "        self.nenner = n\n",
    "        \n",
    "    def kehrwert(self):\n",
    "        return Bruch(self.nenner, self.zaehler)\n",
    "        \n",
    "    def isInt(self):\n",
    "        return self.zaehler%self.nenner == 0"
   ]
  },
  {
   "cell_type": "code",
   "execution_count": 140,
   "id": "76ab33e8-e579-430a-8f14-e598ab8f10a9",
   "metadata": {},
   "outputs": [],
   "source": [
    "b = Bruch(10,5)"
   ]
  },
  {
   "cell_type": "code",
   "execution_count": 141,
   "id": "25975b3d-a134-4560-a058-c4b8428ace2a",
   "metadata": {},
   "outputs": [
    {
     "data": {
      "text/plain": [
       "<__main__.Bruch at 0x1aac2b72d30>"
      ]
     },
     "execution_count": 141,
     "metadata": {},
     "output_type": "execute_result"
    }
   ],
   "source": [
    "b.kehrwert()"
   ]
  },
  {
   "cell_type": "markdown",
   "id": "9075ad34-9106-4e85-bc69-26a03344cc6c",
   "metadata": {},
   "source": [
    "dazu müssen wir die eine der beiden Methoden `__repr__` oder `__str__` programmierne"
   ]
  },
  {
   "cell_type": "code",
   "execution_count": 142,
   "id": "736e53f6-9535-4788-98ac-3bd0a4e517ce",
   "metadata": {},
   "outputs": [],
   "source": [
    "class Bruch: \n",
    "    def __init__(self, z, n): \n",
    "        self.zaehler = z\n",
    "        self.nenner = n\n",
    "    \n",
    "    def __repr__(self): \n",
    "        return str(self.zaehler) + \"/\" + str(self.nenner)\n",
    "        \n",
    "    def kehrwert(self):\n",
    "        \"\"\" Typ des Rückgabewerts: Bruch\"\"\"\n",
    "        return Bruch(self.nenner, self.zaehler)\n",
    "\n",
    "    def isInt(self):\n",
    "        return self.zaehler%self.nenner == 0"
   ]
  },
  {
   "cell_type": "code",
   "execution_count": 143,
   "id": "622d53fa-a3be-4e7f-9f92-112661ffe808",
   "metadata": {},
   "outputs": [],
   "source": [
    "b = Bruch(10,5)"
   ]
  },
  {
   "cell_type": "code",
   "execution_count": 144,
   "id": "7b39c374-8c73-46da-ad40-aa305e3990b1",
   "metadata": {
    "tags": []
   },
   "outputs": [
    {
     "data": {
      "text/plain": [
       "10/5"
      ]
     },
     "execution_count": 144,
     "metadata": {},
     "output_type": "execute_result"
    }
   ],
   "source": [
    "b"
   ]
  },
  {
   "cell_type": "code",
   "execution_count": 148,
   "id": "21f79ba4-559c-4b1b-aead-dc2f1a0961c5",
   "metadata": {},
   "outputs": [
    {
     "data": {
      "text/plain": [
       "5/10"
      ]
     },
     "execution_count": 148,
     "metadata": {},
     "output_type": "execute_result"
    }
   ],
   "source": [
    "b.kehrwert()"
   ]
  },
  {
   "cell_type": "markdown",
   "id": "7cb9cda5-6ebd-4f1f-af8e-51b8e8e7736d",
   "metadata": {},
   "source": [
    "## Multiplikation Brüchen"
   ]
  },
  {
   "cell_type": "markdown",
   "id": "843545bf-aaff-4a9b-a3fb-1581c2baf4eb",
   "metadata": {},
   "source": [
    "Beispiel: \n",
    "```python\n",
    ">>> b = Bruch(2,3)\n",
    ">>> b2 = Bruch(1,5)\n",
    ">>> b * b2\n",
    "2/15\n",
    "```"
   ]
  },
  {
   "cell_type": "code",
   "execution_count": 149,
   "id": "61ea0d8a-19de-445c-a68a-3a9de9c5ae20",
   "metadata": {},
   "outputs": [],
   "source": [
    "class Bruch: \n",
    "    def __init__(self, z, n): \n",
    "        self.zaehler = z\n",
    "        self.nenner = n\n",
    "    \n",
    "    def __repr__(self): \n",
    "        return str(self.zaehler) + \"/\" + str(self.nenner)\n",
    "        \n",
    "    def __mul__(self, b):\n",
    "        return Bruch(self.zaehler*b.zaehler, self.nenner*b.nenner)\n",
    "    \n",
    "    def __add__(self,b):\n",
    "        pass\n",
    "    def __sub__(self,b):\n",
    "        pass\n",
    "    def __div__(self,b):\n",
    "        pass\n",
    "        \n",
    "    def kehrwert(self):\n",
    "        return Bruch(self.nenner, self.zaehler)\n",
    "        \n",
    "    def isInt(self):\n",
    "        return self.zaehler%self.nenner == 0"
   ]
  },
  {
   "cell_type": "code",
   "execution_count": 150,
   "id": "5338742c-2a60-48b1-9b3b-926f6940c29c",
   "metadata": {},
   "outputs": [],
   "source": [
    "b1 = Bruch(1,2)\n",
    "b2 = Bruch(2,3)\n",
    "b3 = Bruch(3,4)"
   ]
  },
  {
   "cell_type": "code",
   "execution_count": 151,
   "id": "df9738a0-48f5-41a7-92bc-b10fae79d794",
   "metadata": {},
   "outputs": [
    {
     "data": {
      "text/plain": [
       "8/18"
      ]
     },
     "execution_count": 151,
     "metadata": {},
     "output_type": "execute_result"
    }
   ],
   "source": [
    "b1 * b2 * b3.kehrwert()"
   ]
  },
  {
   "cell_type": "markdown",
   "id": "8b8720a5-75b8-4bf4-9c12-2e7e3ac5e930",
   "metadata": {},
   "source": [
    "## Beispiel 2: Eine Klasse `Auto`"
   ]
  },
  {
   "cell_type": "code",
   "execution_count": 11,
   "id": "3c261d8b-129b-4df7-a868-5c7013441667",
   "metadata": {},
   "outputs": [],
   "source": [
    "class Auto: \n",
    "    def __init__(self, marke, farbe, ps, modell, preis): \n",
    "        self.marke = marke\n",
    "        self.farbe = farbe\n",
    "        self.ps = ps\n",
    "        self.modell = modell\n",
    "        self.pr = preis\n",
    "        \n",
    "    def __repr__(self): # __repr__ ist eher für den Programmierer gedacht\n",
    "        return str((self.marke, self.farbe, self.ps, self.modell, self.pr))\n",
    "        \n",
    "    def __str__(self): # __str__ ist für den Anwender\n",
    "        return \"Ein \"+ self.farbe + \"er \" + self.marke + \" \"  + self.modell"
   ]
  },
  {
   "cell_type": "code",
   "execution_count": 12,
   "id": "51b900ae-a83b-4990-a779-d7070267ccb9",
   "metadata": {},
   "outputs": [],
   "source": [
    "a = Auto(\"Audi\", \"blau\", 65, \"A7\", 5000)"
   ]
  },
  {
   "cell_type": "code",
   "execution_count": 156,
   "id": "aca29f18-1c7e-4848-b5c3-758c6f3a8b8f",
   "metadata": {},
   "outputs": [
    {
     "name": "stdout",
     "output_type": "stream",
     "text": [
      "Ein blauer Audi A7\n"
     ]
    }
   ],
   "source": [
    "print(a)"
   ]
  },
  {
   "cell_type": "markdown",
   "id": "3d3eb57d-6aac-4a93-862a-d21eb485783d",
   "metadata": {},
   "source": [
    "### Zusätzliche Methode"
   ]
  },
  {
   "cell_type": "code",
   "execution_count": 29,
   "id": "9fe6370a-7e14-4427-b00e-4cab7f1d5914",
   "metadata": {},
   "outputs": [],
   "source": [
    "class Auto: \n",
    "    def __init__(self, marke, farbe, ps, modell, preis): \n",
    "        self.marke = marke\n",
    "        self.farbe = farbe\n",
    "        self.ps = ps\n",
    "        self.modell = modell\n",
    "        self.pr = preis\n",
    "        self.tuned = False\n",
    "        \n",
    "    def chip_tune(self): \n",
    "        \"\"\" Steigert Leistung um 20%\"\"\"\n",
    "        if not self.tuned: # self.tuned == False\n",
    "            self.ps = self.ps * 1.2\n",
    "            self.tuned = True\n",
    "            print(\"Upgrade erfolgreich auf \", self.ps, \" erhöht\")\n",
    "        else: \n",
    "            print(\"DU hast schon am Motor rumgemacht, Schluss jetzt\")\n",
    "    \n",
    "    def __repr__(self): # __repr__ ist eher für den Programmierer gedacht\n",
    "        return str((self.marke, self.farbe, self.ps, self.modell, self.pr, self.km))\n",
    "        \n",
    "    def __str__(self): # __str__ ist für den Anwender\n",
    "        return \"Ein \"+ self.farbe + \"er \" + self.marke + \" \"  + self.modell"
   ]
  },
  {
   "cell_type": "code",
   "execution_count": 30,
   "id": "e3546f43-8c26-4f0c-a99f-a0abade72ec2",
   "metadata": {},
   "outputs": [],
   "source": [
    "a = Auto(\"Audi\", \"blau\", 65, \"A7\", 5000, 150000)"
   ]
  },
  {
   "cell_type": "code",
   "execution_count": 31,
   "id": "559e0faf-3a58-457d-9d4f-862a8f0988d1",
   "metadata": {},
   "outputs": [
    {
     "name": "stdout",
     "output_type": "stream",
     "text": [
      "Upgrade erfolgreich auf  78.0  erhöht\n"
     ]
    }
   ],
   "source": [
    "a.chip_tune()"
   ]
  },
  {
   "cell_type": "code",
   "execution_count": 32,
   "id": "fad529af-e32a-41c7-b4e6-eb9f6c3f4f25",
   "metadata": {},
   "outputs": [
    {
     "name": "stdout",
     "output_type": "stream",
     "text": [
      "DU hast schon am Motor rumgemacht, Schluss jetzt\n"
     ]
    }
   ],
   "source": [
    "a.chip_tune()"
   ]
  },
  {
   "cell_type": "markdown",
   "id": "c9aaf58d-cdab-4e14-a32e-12342fc21468",
   "metadata": {},
   "source": [
    "## Beispiel 3: Eine Klasse `Student`"
   ]
  },
  {
   "cell_type": "code",
   "execution_count": null,
   "id": "976361c9-9b2f-473c-bc3d-77d5daafd2d7",
   "metadata": {},
   "outputs": [],
   "source": [
    "class Student:\n",
    "    def __init__(self, firstname, lastname):\n",
    "        self.firstname=firstname\n",
    "        self.lastname=lastname\n",
    "        self.__term=1 #kein Zugriff auf die Variable von außen\n",
    "    \n",
    "    def get_term(self):\n",
    "        return self.__term\n",
    "    \n",
    "    def name(self):\n",
    "        print((self.firstname,+\" \"+ self.lastname))\n",
    "    \n",
    "    def __do_something(self): #diese Methode kann nur in der Klasse verwendet werden\n",
    "        print(\"do something\")"
   ]
  },
  {
   "cell_type": "markdown",
   "id": "be3f3372-ebda-4e28-aa3a-683fb29ea580",
   "metadata": {},
   "source": [
    "# Vererbung"
   ]
  },
  {
   "cell_type": "code",
   "execution_count": 178,
   "id": "0f216550-e2ef-40a4-90db-d8d62c0b3376",
   "metadata": {},
   "outputs": [
    {
     "name": "stdout",
     "output_type": "stream",
     "text": [
      "Max Müller\n"
     ]
    }
   ],
   "source": [
    "class Student:\n",
    "    def __init__(self, firstname, lastname):\n",
    "        self.firstname=firstname\n",
    "        self.lastname=lastname\n",
    "    \n",
    "    def name(self):\n",
    "        return self.firstname + \" \" + self.lastname\n",
    "\n",
    "class WorkingStudent(Student): #man vererbt alle Methoden der Klasse (Student)\n",
    "    def __init__(self,firstname, lastname, company):\n",
    "        super().__init__(firstname,lastname) #mann muss deutlich schreiben was man von\n",
    "                                             #__init__ vererben will, sonst wird alles vererbt\n",
    "        self.company=company\n",
    "\n",
    "student= WorkingStudent(\"Max\",\"Müller\",\"ABC GmbH\")\n",
    "print(student.name())"
   ]
  },
  {
   "cell_type": "markdown",
   "id": "d09faeab-7132-4c97-a033-86a3b5ca562e",
   "metadata": {},
   "source": [
    "### man kann eine vererbte Methode überschreiben"
   ]
  },
  {
   "cell_type": "code",
   "execution_count": 179,
   "id": "d08d855e-8114-4c39-b4e3-43d7e6926e24",
   "metadata": {},
   "outputs": [
    {
     "name": "stdout",
     "output_type": "stream",
     "text": [
      "Max Müller(ABC GmbH)\n"
     ]
    }
   ],
   "source": [
    "class Student:\n",
    "    def __init__(self, firstname, lastname):\n",
    "        self.firstname=firstname\n",
    "        self.lastname=lastname\n",
    "    \n",
    "    def name(self):\n",
    "        return self.firstname + \" \" + self.lastname\n",
    "\n",
    "class WorkingStudent(Student): #man vererbt alle Methoden der Klasse (Student)\n",
    "    def __init__(self,firstname, lastname, company):\n",
    "        super().__init__(firstname,lastname)\n",
    "        self.company=company\n",
    "    def name(self):\n",
    "        return super().name() + \"(\" + self.company + \")\"\n",
    "\n",
    "student= WorkingStudent(\"Max\",\"Müller\",\"ABC GmbH\")\n",
    "print(student.name())"
   ]
  }
 ],
 "metadata": {
  "kernelspec": {
   "display_name": "Python 3",
   "language": "python",
   "name": "python3"
  },
  "language_info": {
   "codemirror_mode": {
    "name": "ipython",
    "version": 3
   },
   "file_extension": ".py",
   "mimetype": "text/x-python",
   "name": "python",
   "nbconvert_exporter": "python",
   "pygments_lexer": "ipython3",
   "version": "3.8.8"
  }
 },
 "nbformat": 4,
 "nbformat_minor": 5
}
