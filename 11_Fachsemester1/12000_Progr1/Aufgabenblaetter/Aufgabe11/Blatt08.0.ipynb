{
 "cells": [
  {
   "cell_type": "code",
   "execution_count": null,
   "metadata": {},
   "outputs": [],
   "source": [
    "def isReflexive(grundmenge, relation):\n",
    "    return all([True if (element,element) in relation else False for element in grundmenge])\n",
    "\n",
    "def isSymmetric(grundmenge, relation):\n",
    "    return all([True if (element2,element) in relation else False for element in grundmenge for element2 in grundmenge if (element,element2) in relation])\n",
    "\n",
    "def isTransitive(grundmenge, relation):\n",
    "    return all([True if (element,element3) in relation else False for element in grundmenge for element2 in grundmenge for element3 in grundmenge if (element,element2) in relation if (element2,element3) in relation])\n",
    "    pass\n",
    "\n",
    "\n"
   ]
  },
  {
   "cell_type": "code",
   "execution_count": null,
   "metadata": {},
   "outputs": [],
   "source": [
    "#8.0 a)\n",
    "print(isReflexive([1,2,3], [(1,2),(1,1),(2,2),(2,1),(3,3)]))\n",
    "print(isReflexive([1,2,3], [(1,1),(2,2)]))"
   ]
  },
  {
   "cell_type": "code",
   "execution_count": null,
   "metadata": {},
   "outputs": [],
   "source": [
    "#8.0 b)\n",
    "print(isSymmetric([1,2,3], [(1,2),(2,1),(2,2),(1,3),(3,1)]))\n",
    "print(isSymmetric([1,2,3], [(1,1),(2,2),(2,2),(1,3)]))"
   ]
  },
  {
   "cell_type": "code",
   "execution_count": null,
   "metadata": {},
   "outputs": [],
   "source": [
    "#8.0 c)\n",
    "print(isTransitive([1,2,3,4],[(1,2),(2,1),(2,2),(2,3),(1,3),(3,1),(1,1),(3,3),(3,2)]))\n",
    "print(isTransitive([1,2,3],[(1,2),(2,3)]))"
   ]
  }
 ],
 "metadata": {
  "kernelspec": {
   "display_name": "Python 3",
   "language": "python",
   "name": "python3"
  },
  "language_info": {
   "codemirror_mode": {
    "name": "ipython",
    "version": 3
   },
   "file_extension": ".py",
   "mimetype": "text/x-python",
   "name": "python",
   "nbconvert_exporter": "python",
   "pygments_lexer": "ipython3",
   "version": "3.10.3"
  },
  "orig_nbformat": 4,
  "vscode": {
   "interpreter": {
    "hash": "26de051ba29f2982a8de78e945f0abaf191376122a1563185a90213a26c5da77"
   }
  }
 },
 "nbformat": 4,
 "nbformat_minor": 2
}
