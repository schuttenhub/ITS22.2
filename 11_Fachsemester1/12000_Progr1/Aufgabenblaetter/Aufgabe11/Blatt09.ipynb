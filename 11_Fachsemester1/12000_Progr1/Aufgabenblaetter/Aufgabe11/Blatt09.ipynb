{
 "cells": [
  {
   "cell_type": "code",
   "execution_count": null,
   "metadata": {},
   "outputs": [],
   "source": [
    "#9.0 a)\n",
    "from random import randint\n",
    "[randint(1,6) for i in range(10)]\n"
   ]
  },
  {
   "cell_type": "code",
   "execution_count": null,
   "metadata": {},
   "outputs": [],
   "source": [
    "#9.0 b)\n",
    "sum([1 if 1 not in [randint(1,6) for i in range(10)] else 0 for j in range(100000)])/100000"
   ]
  },
  {
   "cell_type": "code",
   "execution_count": null,
   "metadata": {},
   "outputs": [],
   "source": [
    "#9.0 c)\n",
    "sum([1 if (sum([1 for i in [randint(1,6) for i in range(10)] if i == 1])) == 3 else 0 for j in range(100000)])/100000"
   ]
  },
  {
   "cell_type": "code",
   "execution_count": null,
   "metadata": {},
   "outputs": [],
   "source": [
    "#9.1 a)\n",
    "def teiler(n):\n",
    "    return [zahl for zahl in range(1,n+1) if n%zahl==0]\n",
    "teiler(840)"
   ]
  },
  {
   "cell_type": "code",
   "execution_count": null,
   "metadata": {},
   "outputs": [],
   "source": [
    "#9.1 b)\n",
    "[zahl for zahl in range(1,1001) if len(teiler(zahl)) == 8 ]"
   ]
  },
  {
   "cell_type": "code",
   "execution_count": null,
   "metadata": {},
   "outputs": [],
   "source": [
    "#9.1 c)\n",
    "max([(len(teiler(zahl)),zahl) for zahl in range(1,1001)])[1]"
   ]
  },
  {
   "cell_type": "code",
   "execution_count": null,
   "metadata": {},
   "outputs": [],
   "source": [
    "#9.1 d)\n",
    "from matplotlib import pyplot as plt\n",
    "y = [(len(teiler(x))) for x in range(1,1001)]\n",
    "plt.show(plt.plot(y))\n"
   ]
  },
  {
   "cell_type": "code",
   "execution_count": null,
   "metadata": {},
   "outputs": [],
   "source": [
    "#9.1 e)\n",
    "from collections import Counter\n",
    "from matplotlib import pyplot as plt\n",
    "\n",
    "y = [(len(teiler(x))) for x in range(1,1001)]\n",
    "\n",
    "plt.bar(Counter(y).keys(), Counter(y).values())"
   ]
  }
 ],
 "metadata": {
  "kernelspec": {
   "display_name": "Python 3",
   "language": "python",
   "name": "python3"
  },
  "language_info": {
   "codemirror_mode": {
    "name": "ipython",
    "version": 3
   },
   "file_extension": ".py",
   "mimetype": "text/x-python",
   "name": "python",
   "nbconvert_exporter": "python",
   "pygments_lexer": "ipython3",
   "version": "3.10.3 (tags/v3.10.3:a342a49, Mar 16 2022, 13:07:40) [MSC v.1929 64 bit (AMD64)]"
  },
  "orig_nbformat": 4,
  "vscode": {
   "interpreter": {
    "hash": "26de051ba29f2982a8de78e945f0abaf191376122a1563185a90213a26c5da77"
   }
  }
 },
 "nbformat": 4,
 "nbformat_minor": 2
}
