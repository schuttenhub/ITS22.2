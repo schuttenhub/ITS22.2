{
 "cells": [
  {
   "cell_type": "code",
   "execution_count": 248,
   "metadata": {},
   "outputs": [],
   "source": [
    "#Aufgabe 6.0\n",
    "class Stack:\n",
    "    def __init__(self):\n",
    "        self.st = []\n",
    "    def __repr__(self):\n",
    "        for item in self.st:\n",
    "            print(item)\n",
    "    def push(self, push_content):\n",
    "        self.st.append(push_content)\n",
    "    def pop(self, index):\n",
    "        return self.st.pop(index)\n",
    "    def __len__(self):\n",
    "        return len(self.st)\n",
    "    def toList(self):\n",
    "        return_item = []\n",
    "        for item in self.st:\n",
    "            return_item.append(item)\n",
    "        return return_item\n",
    "    def multPop(self, pop_number):\n",
    "        pop_liste = []\n",
    "        for i in range(pop_number):\n",
    "            pop_liste.append(self.pop(0))\n",
    "        return pop_liste\n"
   ]
  },
  {
   "cell_type": "code",
   "execution_count": 249,
   "metadata": {},
   "outputs": [],
   "source": [
    "s = Stack()\n",
    "s.push('Hall0')\n",
    "s.push(123)\n",
    "s.push(456)\n",
    "s.push(True)\n",
    "s.push(False)\n",
    "s.push(999)"
   ]
  },
  {
   "cell_type": "code",
   "execution_count": 256,
   "metadata": {},
   "outputs": [
    {
     "data": {
      "text/plain": [
       "[]"
      ]
     },
     "execution_count": 256,
     "metadata": {},
     "output_type": "execute_result"
    }
   ],
   "source": [
    "s.toList()"
   ]
  },
  {
   "cell_type": "code",
   "execution_count": null,
   "metadata": {},
   "outputs": [],
   "source": [
    "s.multPop(2)"
   ]
  },
  {
   "cell_type": "code",
   "execution_count": null,
   "metadata": {},
   "outputs": [],
   "source": [
    "#Aufgabe 6.1\n",
    "class AufgabenManager:\n",
    "    def __init__(self, ):\n",
    "        self.aufgaben = {}"
   ]
  },
  {
   "cell_type": "code",
   "execution_count": null,
   "metadata": {},
   "outputs": [],
   "source": [
    "dir(dict.update)"
   ]
  }
 ],
 "metadata": {
  "kernelspec": {
   "display_name": "Python 3.10.7 64-bit",
   "language": "python",
   "name": "python3"
  },
  "language_info": {
   "codemirror_mode": {
    "name": "ipython",
    "version": 3
   },
   "file_extension": ".py",
   "mimetype": "text/x-python",
   "name": "python",
   "nbconvert_exporter": "python",
   "pygments_lexer": "ipython3",
   "version": "3.10.7"
  },
  "orig_nbformat": 4,
  "vscode": {
   "interpreter": {
    "hash": "26de051ba29f2982a8de78e945f0abaf191376122a1563185a90213a26c5da77"
   }
  }
 },
 "nbformat": 4,
 "nbformat_minor": 2
}
