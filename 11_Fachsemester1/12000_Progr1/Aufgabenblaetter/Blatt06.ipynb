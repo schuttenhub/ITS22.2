{
 "cells": [
  {
   "cell_type": "code",
   "execution_count": 248,
   "metadata": {},
   "outputs": [],
   "source": [
    "#Aufgabe 6.0\n",
    "class Stack:\n",
    "    def __init__(self):\n",
    "        self.st = []\n",
    "    def __repr__(self):\n",
    "        for item in self.st:\n",
    "            print(item)\n",
    "    def push(self, push_content):\n",
    "        self.st.append(push_content)\n",
    "    def pop(self, index):\n",
    "        return self.st.pop(index)\n",
    "    def __len__(self):\n",
    "        return len(self.st)\n",
    "    def toList(self):\n",
    "        return_item = []\n",
    "        for item in self.st:\n",
    "            return_item.append(item)\n",
    "        return return_item\n",
    "    def multPop(self, pop_number):\n",
    "        pop_liste = []\n",
    "        for i in range(pop_number):\n",
    "            pop_liste.append(self.pop(0))\n",
    "        return pop_liste\n"
   ]
  },
  {
   "cell_type": "code",
   "execution_count": 249,
   "metadata": {},
   "outputs": [],
   "source": [
    "s = Stack()\n",
    "s.push('Hall0')\n",
    "s.push(123)\n",
    "s.push(456)\n",
    "s.push(True)\n",
    "s.push(False)\n",
    "s.push(999)"
   ]
  },
  {
   "cell_type": "code",
   "execution_count": null,
   "metadata": {},
   "outputs": [],
   "source": [
    "s.toList()"
   ]
  },
  {
   "cell_type": "code",
   "execution_count": null,
   "metadata": {},
   "outputs": [],
   "source": [
    "s.multPop(2)"
   ]
  },
  {
   "cell_type": "code",
   "execution_count": 84,
   "metadata": {},
   "outputs": [
    {
     "name": "stdout",
     "output_type": "stream",
     "text": [
      "Aufgabe hinzugefügt\n",
      "Aufgabe hinzugefügt\n",
      "Aufgabe hinzugefügt\n",
      "Aufgabe hinzugefügt\n",
      "Aufgabe hinzugefügt\n"
     ]
    },
    {
     "data": {
      "text/plain": [
       "2"
      ]
     },
     "execution_count": 84,
     "metadata": {},
     "output_type": "execute_result"
    }
   ],
   "source": [
    "#Aufgabe 6.1\n",
    "class AufgabenManager:\n",
    "    def __init__(self):\n",
    "        self.aufgaben = {}\n",
    "    def __str__(self):\n",
    "        aufgaben_keys = [keys for keys in self.aufgaben.keys()]\n",
    "        aufgaben_values = [values for values in self.aufgaben.values()]\n",
    "        for i in range(5):\n",
    "            print (f\"{aufgaben_values[i]}\\t{aufgaben_keys[i]}\")\n",
    "        return None\n",
    "    def neueAufgabe(self, beschreibung, prio):\n",
    "        self.aufgaben.update({beschreibung:prio})\n",
    "        print(\"Aufgabe hinzugefügt\")\n",
    "    def hoechsteprio(self):\n",
    "        hoechste_prio = [value for value in self.aufgaben.values()]\n",
    "        return min(hoechste_prio)\n",
    "    def erledigeNaechsteAufgabe(self):\n",
    "        pass\n",
    "    def alleAufgabenMitPrio(self):\n",
    "        pass\n",
    "    def allePrios(self):\n",
    "        pass\n",
    "    def anzahlAufgabenPrio(self):\n",
    "        pass\n",
    "    def anzahlAufgabe(self):\n",
    "        \n",
    "        \n",
    "        \n",
    "\n",
    "aufgs = AufgabenManager()\n",
    "aufgs.neueAufgabe(\"Kueche putzen\", 10)\n",
    "aufgs.neueAufgabe(\"Progr 1 lernen\", 7)\n",
    "aufgs.neueAufgabe(\"Oma besuchen\", 2)\n",
    "aufgs.neueAufgabe(\"Mathe 1 lernen\", 3)\n",
    "aufgs.neueAufgabe(\"WG aufraeumen\", 5)\n",
    "\n",
    "aufgs.hoechsteprio()\n",
    "\n"
   ]
  },
  {
   "cell_type": "code",
   "execution_count": 78,
   "metadata": {},
   "outputs": [
    {
     "name": "stdout",
     "output_type": "stream",
     "text": [
      "10\tKueche putzen\n",
      "1\tProgr 1 lernen\n",
      "2\tOma besuchen\n",
      "1\tMathe 1 lernen\n",
      "5\tWG aufraeumen\n"
     ]
    },
    {
     "ename": "TypeError",
     "evalue": "__str__ returned non-string (type NoneType)",
     "output_type": "error",
     "traceback": [
      "\u001b[1;31m---------------------------------------------------------------------------\u001b[0m",
      "\u001b[1;31mTypeError\u001b[0m                                 Traceback (most recent call last)",
      "Cell \u001b[1;32mIn [78], line 1\u001b[0m\n\u001b[1;32m----> 1\u001b[0m \u001b[39mprint\u001b[39;49m(aufgs)\n",
      "\u001b[1;31mTypeError\u001b[0m: __str__ returned non-string (type NoneType)"
     ]
    }
   ],
   "source": [
    "print(aufgs)"
   ]
  },
  {
   "cell_type": "code",
   "execution_count": 41,
   "metadata": {},
   "outputs": [
    {
     "name": "stdout",
     "output_type": "stream",
     "text": [
      "['key1']\n"
     ]
    }
   ],
   "source": [
    "ein_dict = {\"key1\":123, \"key2\":234, \"key3\":345}\n",
    "\n",
    "keys = [k for k, v in ein_dict.items() if v == 123]\n",
    "print(keys)"
   ]
  }
 ],
 "metadata": {
  "kernelspec": {
   "display_name": "Python 3.10.7 64-bit",
   "language": "python",
   "name": "python3"
  },
  "language_info": {
   "codemirror_mode": {
    "name": "ipython",
    "version": 3
   },
   "file_extension": ".py",
   "mimetype": "text/x-python",
   "name": "python",
   "nbconvert_exporter": "python",
   "pygments_lexer": "ipython3",
   "version": "3.10.7"
  },
  "orig_nbformat": 4,
  "vscode": {
   "interpreter": {
    "hash": "26de051ba29f2982a8de78e945f0abaf191376122a1563185a90213a26c5da77"
   }
  }
 },
 "nbformat": 4,
 "nbformat_minor": 2
}
